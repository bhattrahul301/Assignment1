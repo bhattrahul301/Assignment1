{
 "cells": [
  {
   "cell_type": "code",
   "execution_count": 10,
   "id": "30281592",
   "metadata": {},
   "outputs": [],
   "source": [
    "def print_pairs(arr,n,sum):\n",
    "    for i in range(0,n):\n",
    "        for j in range(i+1,n):\n",
    "            if (arr[i] + arr[j] == sum):\n",
    "                print(\"(\", arr[i],\n",
    "                      \", \", arr[j],\n",
    "                      \")\", sep = \"\")\n"
   ]
  },
  {
   "cell_type": "code",
   "execution_count": 15,
   "id": "c358cb77",
   "metadata": {},
   "outputs": [
    {
     "name": "stdout",
     "output_type": "stream",
     "text": [
      "(1, 5)\n",
      "(1, 5)\n",
      "(7, -1)\n"
     ]
    }
   ],
   "source": [
    "arr = [1, 5, 7, -1, 5]\n",
    "n = len(arr)\n",
    "# sum = 6\n",
    "print_pairs(arr, n, sum)"
   ]
  },
  {
   "cell_type": "code",
   "execution_count": null,
   "id": "cdca2162",
   "metadata": {},
   "outputs": [],
   "source": []
  },
  {
   "cell_type": "code",
   "execution_count": null,
   "id": "e3a6e6ad",
   "metadata": {},
   "outputs": [],
   "source": []
  }
 ],
 "metadata": {
  "kernelspec": {
   "display_name": "Python 3 (ipykernel)",
   "language": "python",
   "name": "python3"
  },
  "language_info": {
   "codemirror_mode": {
    "name": "ipython",
    "version": 3
   },
   "file_extension": ".py",
   "mimetype": "text/x-python",
   "name": "python",
   "nbconvert_exporter": "python",
   "pygments_lexer": "ipython3",
   "version": "3.10.4"
  }
 },
 "nbformat": 4,
 "nbformat_minor": 5
}

{
 "cells": [
  {
   "cell_type": "code",
   "execution_count": 11,
   "id": "234a6a64",
   "metadata": {},
   "outputs": [],
   "source": [
    "def isOperator(x):\n",
    " \n",
    "    if x == \"+\":\n",
    "        return True\n",
    "    if x == \"-\":\n",
    "        return True\n",
    "    if x == \"/\":\n",
    "        return True\n",
    "    if x == \"*\":\n",
    "        return True\n",
    "    return False \n",
    " \n",
    "def postToPre(post_exp):\n",
    " \n",
    "    s = []\n",
    "    length = len(post_exp)\n",
    " \n",
    "    for i in range(length):\n",
    "        if (isOperator(post_exp[i])):\n",
    "            op1 = s[-1]\n",
    "            s.pop()\n",
    "            op2 = s[-1]\n",
    "            s.pop()\n",
    "            \n",
    "            temp = post_exp[i] + op2 + op1\n",
    "            s.append(temp)\n",
    "            \n",
    "        else:\n",
    "            s.append(post_exp[i])\n",
    " \n",
    "    ans = \"\"\n",
    "    for i in s:\n",
    "        ans += i\n",
    "    return ans"
   ]
  },
  {
   "cell_type": "code",
   "execution_count": 13,
   "id": "0093c65a",
   "metadata": {},
   "outputs": [
    {
     "name": "stdout",
     "output_type": "stream",
     "text": [
      "Prefix :  -AB*CD\n"
     ]
    }
   ],
   "source": [
    "if __name__ == \"__main__\":\n",
    "    post_exp = \"AB-CD*\"\n",
    "    print(\"Prefix : \",postToPre(post_exp))\n"
   ]
  },
  {
   "cell_type": "code",
   "execution_count": null,
   "id": "4816cefa",
   "metadata": {},
   "outputs": [],
   "source": []
  }
 ],
 "metadata": {
  "kernelspec": {
   "display_name": "Python 3 (ipykernel)",
   "language": "python",
   "name": "python3"
  },
  "language_info": {
   "codemirror_mode": {
    "name": "ipython",
    "version": 3
   },
   "file_extension": ".py",
   "mimetype": "text/x-python",
   "name": "python",
   "nbconvert_exporter": "python",
   "pygments_lexer": "ipython3",
   "version": "3.10.4"
  }
 },
 "nbformat": 4,
 "nbformat_minor": 5
}

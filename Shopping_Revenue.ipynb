{
  "cells": [
    {
      "cell_type": "markdown",
      "metadata": {
        "id": "view-in-github",
        "colab_type": "text"
      },
      "source": [
        "<a href=\"https://colab.research.google.com/github/bhattrahul301/Assignment1/blob/DS-certification/Shopping_Revenue.ipynb\" target=\"_parent\"><img src=\"https://colab.research.google.com/assets/colab-badge.svg\" alt=\"Open In Colab\"/></a>"
      ]
    },
    {
      "cell_type": "code",
      "execution_count": null,
      "id": "788426e2",
      "metadata": {
        "id": "788426e2"
      },
      "outputs": [],
      "source": [
        "import pandas as pd\n",
        "import numpy as np\n",
        "import seaborn as sns\n",
        "import matplotlib.pyplot as plt"
      ]
    },
    {
      "cell_type": "code",
      "execution_count": null,
      "id": "04de52b0",
      "metadata": {
        "id": "04de52b0",
        "outputId": "d62c2db2-a2e2-4f63-cccf-e4cf65c49f26"
      },
      "outputs": [
        {
          "data": {
            "text/html": [
              "<div>\n",
              "<style scoped>\n",
              "    .dataframe tbody tr th:only-of-type {\n",
              "        vertical-align: middle;\n",
              "    }\n",
              "\n",
              "    .dataframe tbody tr th {\n",
              "        vertical-align: top;\n",
              "    }\n",
              "\n",
              "    .dataframe thead th {\n",
              "        text-align: right;\n",
              "    }\n",
              "</style>\n",
              "<table border=\"1\" class=\"dataframe\">\n",
              "  <thead>\n",
              "    <tr style=\"text-align: right;\">\n",
              "      <th></th>\n",
              "      <th>Id</th>\n",
              "      <th>Open Date</th>\n",
              "      <th>City</th>\n",
              "      <th>City Group</th>\n",
              "      <th>Type</th>\n",
              "      <th>P1</th>\n",
              "      <th>P2</th>\n",
              "      <th>P3</th>\n",
              "      <th>P4</th>\n",
              "      <th>P5</th>\n",
              "      <th>...</th>\n",
              "      <th>P29</th>\n",
              "      <th>P30</th>\n",
              "      <th>P31</th>\n",
              "      <th>P32</th>\n",
              "      <th>P33</th>\n",
              "      <th>P34</th>\n",
              "      <th>P35</th>\n",
              "      <th>P36</th>\n",
              "      <th>P37</th>\n",
              "      <th>revenue</th>\n",
              "    </tr>\n",
              "  </thead>\n",
              "  <tbody>\n",
              "    <tr>\n",
              "      <th>0</th>\n",
              "      <td>0</td>\n",
              "      <td>7/17/1999</td>\n",
              "      <td>İstanbul</td>\n",
              "      <td>Big Cities</td>\n",
              "      <td>IL</td>\n",
              "      <td>4</td>\n",
              "      <td>5.0</td>\n",
              "      <td>4.0</td>\n",
              "      <td>4.0</td>\n",
              "      <td>2</td>\n",
              "      <td>...</td>\n",
              "      <td>3.0</td>\n",
              "      <td>5</td>\n",
              "      <td>3</td>\n",
              "      <td>4</td>\n",
              "      <td>5</td>\n",
              "      <td>5</td>\n",
              "      <td>4</td>\n",
              "      <td>3</td>\n",
              "      <td>4</td>\n",
              "      <td>5653753</td>\n",
              "    </tr>\n",
              "    <tr>\n",
              "      <th>1</th>\n",
              "      <td>1</td>\n",
              "      <td>2/14/2008</td>\n",
              "      <td>Ankara</td>\n",
              "      <td>Big Cities</td>\n",
              "      <td>FC</td>\n",
              "      <td>4</td>\n",
              "      <td>5.0</td>\n",
              "      <td>4.0</td>\n",
              "      <td>4.0</td>\n",
              "      <td>1</td>\n",
              "      <td>...</td>\n",
              "      <td>3.0</td>\n",
              "      <td>0</td>\n",
              "      <td>0</td>\n",
              "      <td>0</td>\n",
              "      <td>0</td>\n",
              "      <td>0</td>\n",
              "      <td>0</td>\n",
              "      <td>0</td>\n",
              "      <td>0</td>\n",
              "      <td>6923131</td>\n",
              "    </tr>\n",
              "    <tr>\n",
              "      <th>2</th>\n",
              "      <td>2</td>\n",
              "      <td>3/9/2013</td>\n",
              "      <td>Diyarbakır</td>\n",
              "      <td>Other</td>\n",
              "      <td>IL</td>\n",
              "      <td>2</td>\n",
              "      <td>4.0</td>\n",
              "      <td>2.0</td>\n",
              "      <td>5.0</td>\n",
              "      <td>2</td>\n",
              "      <td>...</td>\n",
              "      <td>3.0</td>\n",
              "      <td>0</td>\n",
              "      <td>0</td>\n",
              "      <td>0</td>\n",
              "      <td>0</td>\n",
              "      <td>0</td>\n",
              "      <td>0</td>\n",
              "      <td>0</td>\n",
              "      <td>0</td>\n",
              "      <td>2055379</td>\n",
              "    </tr>\n",
              "    <tr>\n",
              "      <th>3</th>\n",
              "      <td>3</td>\n",
              "      <td>2/2/2012</td>\n",
              "      <td>Tokat</td>\n",
              "      <td>Other</td>\n",
              "      <td>IL</td>\n",
              "      <td>6</td>\n",
              "      <td>4.5</td>\n",
              "      <td>6.0</td>\n",
              "      <td>6.0</td>\n",
              "      <td>4</td>\n",
              "      <td>...</td>\n",
              "      <td>7.5</td>\n",
              "      <td>25</td>\n",
              "      <td>12</td>\n",
              "      <td>10</td>\n",
              "      <td>6</td>\n",
              "      <td>18</td>\n",
              "      <td>12</td>\n",
              "      <td>12</td>\n",
              "      <td>6</td>\n",
              "      <td>2675511</td>\n",
              "    </tr>\n",
              "    <tr>\n",
              "      <th>4</th>\n",
              "      <td>4</td>\n",
              "      <td>5/9/2009</td>\n",
              "      <td>Gaziantep</td>\n",
              "      <td>Other</td>\n",
              "      <td>IL</td>\n",
              "      <td>3</td>\n",
              "      <td>4.0</td>\n",
              "      <td>3.0</td>\n",
              "      <td>4.0</td>\n",
              "      <td>2</td>\n",
              "      <td>...</td>\n",
              "      <td>3.0</td>\n",
              "      <td>5</td>\n",
              "      <td>1</td>\n",
              "      <td>3</td>\n",
              "      <td>2</td>\n",
              "      <td>3</td>\n",
              "      <td>4</td>\n",
              "      <td>3</td>\n",
              "      <td>3</td>\n",
              "      <td>4316715</td>\n",
              "    </tr>\n",
              "  </tbody>\n",
              "</table>\n",
              "<p>5 rows × 43 columns</p>\n",
              "</div>"
            ],
            "text/plain": [
              "   Id  Open Date        City  City Group Type  P1   P2   P3   P4  P5  ...  \\\n",
              "0   0  7/17/1999    İstanbul  Big Cities   IL   4  5.0  4.0  4.0   2  ...   \n",
              "1   1  2/14/2008      Ankara  Big Cities   FC   4  5.0  4.0  4.0   1  ...   \n",
              "2   2   3/9/2013  Diyarbakır       Other   IL   2  4.0  2.0  5.0   2  ...   \n",
              "3   3   2/2/2012       Tokat       Other   IL   6  4.5  6.0  6.0   4  ...   \n",
              "4   4   5/9/2009   Gaziantep       Other   IL   3  4.0  3.0  4.0   2  ...   \n",
              "\n",
              "   P29  P30  P31  P32  P33  P34  P35  P36  P37  revenue  \n",
              "0  3.0    5    3    4    5    5    4    3    4  5653753  \n",
              "1  3.0    0    0    0    0    0    0    0    0  6923131  \n",
              "2  3.0    0    0    0    0    0    0    0    0  2055379  \n",
              "3  7.5   25   12   10    6   18   12   12    6  2675511  \n",
              "4  3.0    5    1    3    2    3    4    3    3  4316715  \n",
              "\n",
              "[5 rows x 43 columns]"
            ]
          },
          "execution_count": 2,
          "metadata": {},
          "output_type": "execute_result"
        }
      ],
      "source": [
        "rawdata = pd.read_csv(r'D:\\others\\Edyoda\\final exm\\shopping_revenue.csv')\n",
        "rawdata.head()"
      ]
    },
    {
      "cell_type": "code",
      "execution_count": null,
      "id": "f0d4404b",
      "metadata": {
        "id": "f0d4404b",
        "outputId": "e326b182-1ffb-4034-b3ac-ce9d5a2b22f8"
      },
      "outputs": [
        {
          "name": "stdout",
          "output_type": "stream",
          "text": [
            "<class 'pandas.core.frame.DataFrame'>\n",
            "RangeIndex: 137 entries, 0 to 136\n",
            "Data columns (total 43 columns):\n",
            " #   Column      Non-Null Count  Dtype  \n",
            "---  ------      --------------  -----  \n",
            " 0   Id          137 non-null    int64  \n",
            " 1   Open Date   137 non-null    object \n",
            " 2   City        137 non-null    object \n",
            " 3   City Group  137 non-null    object \n",
            " 4   Type        137 non-null    object \n",
            " 5   P1          137 non-null    int64  \n",
            " 6   P2          137 non-null    float64\n",
            " 7   P3          137 non-null    float64\n",
            " 8   P4          137 non-null    float64\n",
            " 9   P5          137 non-null    int64  \n",
            " 10  P6          133 non-null    float64\n",
            " 11  P7          133 non-null    float64\n",
            " 12  P8          137 non-null    int64  \n",
            " 13  P9          137 non-null    int64  \n",
            " 14  P10         137 non-null    int64  \n",
            " 15  P11         137 non-null    int64  \n",
            " 16  P12         137 non-null    int64  \n",
            " 17  P13         137 non-null    float64\n",
            " 18  P14         137 non-null    int64  \n",
            " 19  P15         137 non-null    int64  \n",
            " 20  P16         137 non-null    int64  \n",
            " 21  P17         137 non-null    int64  \n",
            " 22  P18         137 non-null    int64  \n",
            " 23  P19         137 non-null    int64  \n",
            " 24  P20         137 non-null    int64  \n",
            " 25  P21         137 non-null    int64  \n",
            " 26  P22         137 non-null    int64  \n",
            " 27  P23         137 non-null    int64  \n",
            " 28  P24         137 non-null    int64  \n",
            " 29  P25         137 non-null    int64  \n",
            " 30  P26         137 non-null    float64\n",
            " 31  P27         137 non-null    float64\n",
            " 32  P28         137 non-null    float64\n",
            " 33  P29         137 non-null    float64\n",
            " 34  P30         137 non-null    int64  \n",
            " 35  P31         137 non-null    int64  \n",
            " 36  P32         137 non-null    int64  \n",
            " 37  P33         137 non-null    int64  \n",
            " 38  P34         137 non-null    int64  \n",
            " 39  P35         137 non-null    int64  \n",
            " 40  P36         137 non-null    int64  \n",
            " 41  P37         137 non-null    int64  \n",
            " 42  revenue     137 non-null    int64  \n",
            "dtypes: float64(10), int64(29), object(4)\n",
            "memory usage: 46.1+ KB\n"
          ]
        }
      ],
      "source": [
        "rawdata.info()"
      ]
    },
    {
      "cell_type": "code",
      "execution_count": null,
      "id": "6b174466",
      "metadata": {
        "id": "6b174466",
        "outputId": "46a2a7b5-c5b3-4c5e-b66b-c61a4b71b1f2"
      },
      "outputs": [
        {
          "data": {
            "text/html": [
              "<div>\n",
              "<style scoped>\n",
              "    .dataframe tbody tr th:only-of-type {\n",
              "        vertical-align: middle;\n",
              "    }\n",
              "\n",
              "    .dataframe tbody tr th {\n",
              "        vertical-align: top;\n",
              "    }\n",
              "\n",
              "    .dataframe thead th {\n",
              "        text-align: right;\n",
              "    }\n",
              "</style>\n",
              "<table border=\"1\" class=\"dataframe\">\n",
              "  <thead>\n",
              "    <tr style=\"text-align: right;\">\n",
              "      <th></th>\n",
              "      <th>Id</th>\n",
              "      <th>P1</th>\n",
              "      <th>P2</th>\n",
              "      <th>P3</th>\n",
              "      <th>P4</th>\n",
              "      <th>P5</th>\n",
              "      <th>P6</th>\n",
              "      <th>P7</th>\n",
              "      <th>P8</th>\n",
              "      <th>P9</th>\n",
              "      <th>...</th>\n",
              "      <th>P29</th>\n",
              "      <th>P30</th>\n",
              "      <th>P31</th>\n",
              "      <th>P32</th>\n",
              "      <th>P33</th>\n",
              "      <th>P34</th>\n",
              "      <th>P35</th>\n",
              "      <th>P36</th>\n",
              "      <th>P37</th>\n",
              "      <th>revenue</th>\n",
              "    </tr>\n",
              "  </thead>\n",
              "  <tbody>\n",
              "    <tr>\n",
              "      <th>count</th>\n",
              "      <td>137.000000</td>\n",
              "      <td>137.000000</td>\n",
              "      <td>137.000000</td>\n",
              "      <td>137.000000</td>\n",
              "      <td>137.000000</td>\n",
              "      <td>137.000000</td>\n",
              "      <td>133.000000</td>\n",
              "      <td>133.000000</td>\n",
              "      <td>137.000000</td>\n",
              "      <td>137.000000</td>\n",
              "      <td>...</td>\n",
              "      <td>137.000000</td>\n",
              "      <td>137.000000</td>\n",
              "      <td>137.000000</td>\n",
              "      <td>137.000000</td>\n",
              "      <td>137.000000</td>\n",
              "      <td>137.000000</td>\n",
              "      <td>137.000000</td>\n",
              "      <td>137.000000</td>\n",
              "      <td>137.000000</td>\n",
              "      <td>1.370000e+02</td>\n",
              "    </tr>\n",
              "    <tr>\n",
              "      <th>mean</th>\n",
              "      <td>68.000000</td>\n",
              "      <td>4.014599</td>\n",
              "      <td>4.408759</td>\n",
              "      <td>4.317518</td>\n",
              "      <td>4.372263</td>\n",
              "      <td>2.007299</td>\n",
              "      <td>3.323308</td>\n",
              "      <td>5.398496</td>\n",
              "      <td>5.153285</td>\n",
              "      <td>5.445255</td>\n",
              "      <td>...</td>\n",
              "      <td>3.135036</td>\n",
              "      <td>2.729927</td>\n",
              "      <td>1.941606</td>\n",
              "      <td>2.525547</td>\n",
              "      <td>1.138686</td>\n",
              "      <td>2.489051</td>\n",
              "      <td>2.029197</td>\n",
              "      <td>2.211679</td>\n",
              "      <td>1.116788</td>\n",
              "      <td>4.453533e+06</td>\n",
              "    </tr>\n",
              "    <tr>\n",
              "      <th>std</th>\n",
              "      <td>39.692569</td>\n",
              "      <td>2.910391</td>\n",
              "      <td>1.514900</td>\n",
              "      <td>1.032337</td>\n",
              "      <td>1.016462</td>\n",
              "      <td>1.209620</td>\n",
              "      <td>2.080024</td>\n",
              "      <td>2.296044</td>\n",
              "      <td>1.858567</td>\n",
              "      <td>1.834793</td>\n",
              "      <td>...</td>\n",
              "      <td>1.680887</td>\n",
              "      <td>5.536647</td>\n",
              "      <td>3.512093</td>\n",
              "      <td>5.230117</td>\n",
              "      <td>1.698540</td>\n",
              "      <td>5.165093</td>\n",
              "      <td>3.436272</td>\n",
              "      <td>4.168211</td>\n",
              "      <td>1.790768</td>\n",
              "      <td>2.576072e+06</td>\n",
              "    </tr>\n",
              "    <tr>\n",
              "      <th>min</th>\n",
              "      <td>0.000000</td>\n",
              "      <td>1.000000</td>\n",
              "      <td>1.000000</td>\n",
              "      <td>0.000000</td>\n",
              "      <td>3.000000</td>\n",
              "      <td>1.000000</td>\n",
              "      <td>1.000000</td>\n",
              "      <td>1.000000</td>\n",
              "      <td>1.000000</td>\n",
              "      <td>4.000000</td>\n",
              "      <td>...</td>\n",
              "      <td>0.000000</td>\n",
              "      <td>0.000000</td>\n",
              "      <td>0.000000</td>\n",
              "      <td>0.000000</td>\n",
              "      <td>0.000000</td>\n",
              "      <td>0.000000</td>\n",
              "      <td>0.000000</td>\n",
              "      <td>0.000000</td>\n",
              "      <td>0.000000</td>\n",
              "      <td>1.149870e+06</td>\n",
              "    </tr>\n",
              "    <tr>\n",
              "      <th>25%</th>\n",
              "      <td>34.000000</td>\n",
              "      <td>2.000000</td>\n",
              "      <td>4.000000</td>\n",
              "      <td>4.000000</td>\n",
              "      <td>4.000000</td>\n",
              "      <td>1.000000</td>\n",
              "      <td>2.000000</td>\n",
              "      <td>5.000000</td>\n",
              "      <td>4.000000</td>\n",
              "      <td>4.000000</td>\n",
              "      <td>...</td>\n",
              "      <td>2.500000</td>\n",
              "      <td>0.000000</td>\n",
              "      <td>0.000000</td>\n",
              "      <td>0.000000</td>\n",
              "      <td>0.000000</td>\n",
              "      <td>0.000000</td>\n",
              "      <td>0.000000</td>\n",
              "      <td>0.000000</td>\n",
              "      <td>0.000000</td>\n",
              "      <td>2.999068e+06</td>\n",
              "    </tr>\n",
              "    <tr>\n",
              "      <th>50%</th>\n",
              "      <td>68.000000</td>\n",
              "      <td>3.000000</td>\n",
              "      <td>5.000000</td>\n",
              "      <td>4.000000</td>\n",
              "      <td>4.000000</td>\n",
              "      <td>2.000000</td>\n",
              "      <td>3.000000</td>\n",
              "      <td>5.000000</td>\n",
              "      <td>5.000000</td>\n",
              "      <td>5.000000</td>\n",
              "      <td>...</td>\n",
              "      <td>3.000000</td>\n",
              "      <td>0.000000</td>\n",
              "      <td>0.000000</td>\n",
              "      <td>0.000000</td>\n",
              "      <td>0.000000</td>\n",
              "      <td>0.000000</td>\n",
              "      <td>0.000000</td>\n",
              "      <td>0.000000</td>\n",
              "      <td>0.000000</td>\n",
              "      <td>3.939804e+06</td>\n",
              "    </tr>\n",
              "    <tr>\n",
              "      <th>75%</th>\n",
              "      <td>102.000000</td>\n",
              "      <td>4.000000</td>\n",
              "      <td>5.000000</td>\n",
              "      <td>5.000000</td>\n",
              "      <td>5.000000</td>\n",
              "      <td>2.000000</td>\n",
              "      <td>4.000000</td>\n",
              "      <td>5.000000</td>\n",
              "      <td>5.000000</td>\n",
              "      <td>5.000000</td>\n",
              "      <td>...</td>\n",
              "      <td>3.000000</td>\n",
              "      <td>4.000000</td>\n",
              "      <td>3.000000</td>\n",
              "      <td>3.000000</td>\n",
              "      <td>2.000000</td>\n",
              "      <td>3.000000</td>\n",
              "      <td>4.000000</td>\n",
              "      <td>3.000000</td>\n",
              "      <td>2.000000</td>\n",
              "      <td>5.166635e+06</td>\n",
              "    </tr>\n",
              "    <tr>\n",
              "      <th>max</th>\n",
              "      <td>136.000000</td>\n",
              "      <td>12.000000</td>\n",
              "      <td>7.500000</td>\n",
              "      <td>7.500000</td>\n",
              "      <td>7.500000</td>\n",
              "      <td>8.000000</td>\n",
              "      <td>10.000000</td>\n",
              "      <td>10.000000</td>\n",
              "      <td>10.000000</td>\n",
              "      <td>10.000000</td>\n",
              "      <td>...</td>\n",
              "      <td>7.500000</td>\n",
              "      <td>25.000000</td>\n",
              "      <td>15.000000</td>\n",
              "      <td>25.000000</td>\n",
              "      <td>6.000000</td>\n",
              "      <td>24.000000</td>\n",
              "      <td>15.000000</td>\n",
              "      <td>20.000000</td>\n",
              "      <td>8.000000</td>\n",
              "      <td>1.969694e+07</td>\n",
              "    </tr>\n",
              "  </tbody>\n",
              "</table>\n",
              "<p>8 rows × 39 columns</p>\n",
              "</div>"
            ],
            "text/plain": [
              "               Id          P1          P2          P3          P4          P5  \\\n",
              "count  137.000000  137.000000  137.000000  137.000000  137.000000  137.000000   \n",
              "mean    68.000000    4.014599    4.408759    4.317518    4.372263    2.007299   \n",
              "std     39.692569    2.910391    1.514900    1.032337    1.016462    1.209620   \n",
              "min      0.000000    1.000000    1.000000    0.000000    3.000000    1.000000   \n",
              "25%     34.000000    2.000000    4.000000    4.000000    4.000000    1.000000   \n",
              "50%     68.000000    3.000000    5.000000    4.000000    4.000000    2.000000   \n",
              "75%    102.000000    4.000000    5.000000    5.000000    5.000000    2.000000   \n",
              "max    136.000000   12.000000    7.500000    7.500000    7.500000    8.000000   \n",
              "\n",
              "               P6          P7          P8          P9  ...         P29  \\\n",
              "count  133.000000  133.000000  137.000000  137.000000  ...  137.000000   \n",
              "mean     3.323308    5.398496    5.153285    5.445255  ...    3.135036   \n",
              "std      2.080024    2.296044    1.858567    1.834793  ...    1.680887   \n",
              "min      1.000000    1.000000    1.000000    4.000000  ...    0.000000   \n",
              "25%      2.000000    5.000000    4.000000    4.000000  ...    2.500000   \n",
              "50%      3.000000    5.000000    5.000000    5.000000  ...    3.000000   \n",
              "75%      4.000000    5.000000    5.000000    5.000000  ...    3.000000   \n",
              "max     10.000000   10.000000   10.000000   10.000000  ...    7.500000   \n",
              "\n",
              "              P30         P31         P32         P33         P34         P35  \\\n",
              "count  137.000000  137.000000  137.000000  137.000000  137.000000  137.000000   \n",
              "mean     2.729927    1.941606    2.525547    1.138686    2.489051    2.029197   \n",
              "std      5.536647    3.512093    5.230117    1.698540    5.165093    3.436272   \n",
              "min      0.000000    0.000000    0.000000    0.000000    0.000000    0.000000   \n",
              "25%      0.000000    0.000000    0.000000    0.000000    0.000000    0.000000   \n",
              "50%      0.000000    0.000000    0.000000    0.000000    0.000000    0.000000   \n",
              "75%      4.000000    3.000000    3.000000    2.000000    3.000000    4.000000   \n",
              "max     25.000000   15.000000   25.000000    6.000000   24.000000   15.000000   \n",
              "\n",
              "              P36         P37       revenue  \n",
              "count  137.000000  137.000000  1.370000e+02  \n",
              "mean     2.211679    1.116788  4.453533e+06  \n",
              "std      4.168211    1.790768  2.576072e+06  \n",
              "min      0.000000    0.000000  1.149870e+06  \n",
              "25%      0.000000    0.000000  2.999068e+06  \n",
              "50%      0.000000    0.000000  3.939804e+06  \n",
              "75%      3.000000    2.000000  5.166635e+06  \n",
              "max     20.000000    8.000000  1.969694e+07  \n",
              "\n",
              "[8 rows x 39 columns]"
            ]
          },
          "execution_count": 4,
          "metadata": {},
          "output_type": "execute_result"
        }
      ],
      "source": [
        "rawdata.describe()"
      ]
    },
    {
      "cell_type": "code",
      "execution_count": null,
      "id": "fed06d2c",
      "metadata": {
        "id": "fed06d2c"
      },
      "outputs": [],
      "source": [
        "rawdata.drop_duplicates(inplace=True)"
      ]
    },
    {
      "cell_type": "code",
      "execution_count": null,
      "id": "4ac52135",
      "metadata": {
        "id": "4ac52135",
        "outputId": "3a3aac0b-7e02-4aa9-90e7-9511dfb8881a"
      },
      "outputs": [
        {
          "data": {
            "text/html": [
              "<div>\n",
              "<style scoped>\n",
              "    .dataframe tbody tr th:only-of-type {\n",
              "        vertical-align: middle;\n",
              "    }\n",
              "\n",
              "    .dataframe tbody tr th {\n",
              "        vertical-align: top;\n",
              "    }\n",
              "\n",
              "    .dataframe thead th {\n",
              "        text-align: right;\n",
              "    }\n",
              "</style>\n",
              "<table border=\"1\" class=\"dataframe\">\n",
              "  <thead>\n",
              "    <tr style=\"text-align: right;\">\n",
              "      <th></th>\n",
              "      <th>Id</th>\n",
              "      <th>Open Date</th>\n",
              "      <th>City</th>\n",
              "      <th>City Group</th>\n",
              "      <th>Type</th>\n",
              "      <th>P1</th>\n",
              "      <th>P2</th>\n",
              "      <th>P3</th>\n",
              "      <th>P4</th>\n",
              "      <th>P5</th>\n",
              "      <th>...</th>\n",
              "      <th>P29</th>\n",
              "      <th>P30</th>\n",
              "      <th>P31</th>\n",
              "      <th>P32</th>\n",
              "      <th>P33</th>\n",
              "      <th>P34</th>\n",
              "      <th>P35</th>\n",
              "      <th>P36</th>\n",
              "      <th>P37</th>\n",
              "      <th>revenue</th>\n",
              "    </tr>\n",
              "  </thead>\n",
              "  <tbody>\n",
              "    <tr>\n",
              "      <th>15</th>\n",
              "      <td>15</td>\n",
              "      <td>2/7/2012</td>\n",
              "      <td>İstanbul</td>\n",
              "      <td>Big Cities</td>\n",
              "      <td>IL</td>\n",
              "      <td>12</td>\n",
              "      <td>7.5</td>\n",
              "      <td>6.0</td>\n",
              "      <td>6.0</td>\n",
              "      <td>2</td>\n",
              "      <td>...</td>\n",
              "      <td>7.5</td>\n",
              "      <td>5</td>\n",
              "      <td>15</td>\n",
              "      <td>20</td>\n",
              "      <td>2</td>\n",
              "      <td>12</td>\n",
              "      <td>3</td>\n",
              "      <td>16</td>\n",
              "      <td>4</td>\n",
              "      <td>3218918</td>\n",
              "    </tr>\n",
              "    <tr>\n",
              "      <th>20</th>\n",
              "      <td>20</td>\n",
              "      <td>8/25/2010</td>\n",
              "      <td>Elazığ</td>\n",
              "      <td>Other</td>\n",
              "      <td>IL</td>\n",
              "      <td>3</td>\n",
              "      <td>4.0</td>\n",
              "      <td>4.0</td>\n",
              "      <td>4.0</td>\n",
              "      <td>2</td>\n",
              "      <td>...</td>\n",
              "      <td>3.0</td>\n",
              "      <td>5</td>\n",
              "      <td>1</td>\n",
              "      <td>2</td>\n",
              "      <td>2</td>\n",
              "      <td>4</td>\n",
              "      <td>5</td>\n",
              "      <td>5</td>\n",
              "      <td>4</td>\n",
              "      <td>5525735</td>\n",
              "    </tr>\n",
              "    <tr>\n",
              "      <th>32</th>\n",
              "      <td>32</td>\n",
              "      <td>1/17/2009</td>\n",
              "      <td>Şanlıurfa</td>\n",
              "      <td>Other</td>\n",
              "      <td>FC</td>\n",
              "      <td>3</td>\n",
              "      <td>4.0</td>\n",
              "      <td>3.0</td>\n",
              "      <td>4.0</td>\n",
              "      <td>3</td>\n",
              "      <td>...</td>\n",
              "      <td>3.0</td>\n",
              "      <td>0</td>\n",
              "      <td>0</td>\n",
              "      <td>0</td>\n",
              "      <td>0</td>\n",
              "      <td>0</td>\n",
              "      <td>0</td>\n",
              "      <td>0</td>\n",
              "      <td>0</td>\n",
              "      <td>3261924</td>\n",
              "    </tr>\n",
              "    <tr>\n",
              "      <th>42</th>\n",
              "      <td>42</td>\n",
              "      <td>9/27/2011</td>\n",
              "      <td>İstanbul</td>\n",
              "      <td>Big Cities</td>\n",
              "      <td>IL</td>\n",
              "      <td>12</td>\n",
              "      <td>7.5</td>\n",
              "      <td>6.0</td>\n",
              "      <td>6.0</td>\n",
              "      <td>4</td>\n",
              "      <td>...</td>\n",
              "      <td>5.0</td>\n",
              "      <td>0</td>\n",
              "      <td>0</td>\n",
              "      <td>0</td>\n",
              "      <td>0</td>\n",
              "      <td>0</td>\n",
              "      <td>0</td>\n",
              "      <td>0</td>\n",
              "      <td>0</td>\n",
              "      <td>4952255</td>\n",
              "    </tr>\n",
              "    <tr>\n",
              "      <th>57</th>\n",
              "      <td>57</td>\n",
              "      <td>6/21/2008</td>\n",
              "      <td>Antalya</td>\n",
              "      <td>Other</td>\n",
              "      <td>FC</td>\n",
              "      <td>2</td>\n",
              "      <td>3.0</td>\n",
              "      <td>4.0</td>\n",
              "      <td>3.0</td>\n",
              "      <td>1</td>\n",
              "      <td>...</td>\n",
              "      <td>2.0</td>\n",
              "      <td>0</td>\n",
              "      <td>0</td>\n",
              "      <td>0</td>\n",
              "      <td>0</td>\n",
              "      <td>0</td>\n",
              "      <td>0</td>\n",
              "      <td>0</td>\n",
              "      <td>0</td>\n",
              "      <td>3258837</td>\n",
              "    </tr>\n",
              "    <tr>\n",
              "      <th>82</th>\n",
              "      <td>82</td>\n",
              "      <td>2/23/2010</td>\n",
              "      <td>Karabük</td>\n",
              "      <td>Other</td>\n",
              "      <td>FC</td>\n",
              "      <td>2</td>\n",
              "      <td>2.0</td>\n",
              "      <td>4.0</td>\n",
              "      <td>3.0</td>\n",
              "      <td>2</td>\n",
              "      <td>...</td>\n",
              "      <td>3.0</td>\n",
              "      <td>0</td>\n",
              "      <td>0</td>\n",
              "      <td>0</td>\n",
              "      <td>0</td>\n",
              "      <td>0</td>\n",
              "      <td>0</td>\n",
              "      <td>0</td>\n",
              "      <td>0</td>\n",
              "      <td>3807496</td>\n",
              "    </tr>\n",
              "    <tr>\n",
              "      <th>86</th>\n",
              "      <td>86</td>\n",
              "      <td>7/26/2011</td>\n",
              "      <td>Bursa</td>\n",
              "      <td>Other</td>\n",
              "      <td>FC</td>\n",
              "      <td>3</td>\n",
              "      <td>3.0</td>\n",
              "      <td>4.0</td>\n",
              "      <td>4.0</td>\n",
              "      <td>2</td>\n",
              "      <td>...</td>\n",
              "      <td>3.0</td>\n",
              "      <td>0</td>\n",
              "      <td>0</td>\n",
              "      <td>0</td>\n",
              "      <td>0</td>\n",
              "      <td>0</td>\n",
              "      <td>0</td>\n",
              "      <td>0</td>\n",
              "      <td>0</td>\n",
              "      <td>3351383</td>\n",
              "    </tr>\n",
              "  </tbody>\n",
              "</table>\n",
              "<p>7 rows × 43 columns</p>\n",
              "</div>"
            ],
            "text/plain": [
              "    Id  Open Date       City  City Group Type  P1   P2   P3   P4  P5  ...  \\\n",
              "15  15   2/7/2012   İstanbul  Big Cities   IL  12  7.5  6.0  6.0   2  ...   \n",
              "20  20  8/25/2010     Elazığ       Other   IL   3  4.0  4.0  4.0   2  ...   \n",
              "32  32  1/17/2009  Şanlıurfa       Other   FC   3  4.0  3.0  4.0   3  ...   \n",
              "42  42  9/27/2011   İstanbul  Big Cities   IL  12  7.5  6.0  6.0   4  ...   \n",
              "57  57  6/21/2008    Antalya       Other   FC   2  3.0  4.0  3.0   1  ...   \n",
              "82  82  2/23/2010    Karabük       Other   FC   2  2.0  4.0  3.0   2  ...   \n",
              "86  86  7/26/2011      Bursa       Other   FC   3  3.0  4.0  4.0   2  ...   \n",
              "\n",
              "    P29  P30  P31  P32  P33  P34  P35  P36  P37  revenue  \n",
              "15  7.5    5   15   20    2   12    3   16    4  3218918  \n",
              "20  3.0    5    1    2    2    4    5    5    4  5525735  \n",
              "32  3.0    0    0    0    0    0    0    0    0  3261924  \n",
              "42  5.0    0    0    0    0    0    0    0    0  4952255  \n",
              "57  2.0    0    0    0    0    0    0    0    0  3258837  \n",
              "82  3.0    0    0    0    0    0    0    0    0  3807496  \n",
              "86  3.0    0    0    0    0    0    0    0    0  3351383  \n",
              "\n",
              "[7 rows x 43 columns]"
            ]
          },
          "execution_count": 6,
          "metadata": {},
          "output_type": "execute_result"
        }
      ],
      "source": [
        "rawdata[rawdata.isnull().any(axis=1)]"
      ]
    },
    {
      "cell_type": "code",
      "execution_count": null,
      "id": "1cff6b2a",
      "metadata": {
        "id": "1cff6b2a"
      },
      "outputs": [],
      "source": [
        "rawdata['P6'].fillna(rawdata['P6'].mean(), inplace=True)\n",
        "rawdata['P7'].fillna(rawdata['P7'].mean(), inplace=True)"
      ]
    },
    {
      "cell_type": "code",
      "execution_count": null,
      "id": "5a231b80",
      "metadata": {
        "id": "5a231b80",
        "outputId": "7d643c24-392c-40aa-fc1f-91db33577236"
      },
      "outputs": [
        {
          "data": {
            "text/html": [
              "<div>\n",
              "<style scoped>\n",
              "    .dataframe tbody tr th:only-of-type {\n",
              "        vertical-align: middle;\n",
              "    }\n",
              "\n",
              "    .dataframe tbody tr th {\n",
              "        vertical-align: top;\n",
              "    }\n",
              "\n",
              "    .dataframe thead th {\n",
              "        text-align: right;\n",
              "    }\n",
              "</style>\n",
              "<table border=\"1\" class=\"dataframe\">\n",
              "  <thead>\n",
              "    <tr style=\"text-align: right;\">\n",
              "      <th></th>\n",
              "      <th>Id</th>\n",
              "      <th>Open Date</th>\n",
              "      <th>City</th>\n",
              "      <th>City Group</th>\n",
              "      <th>Type</th>\n",
              "      <th>P1</th>\n",
              "      <th>P2</th>\n",
              "      <th>P3</th>\n",
              "      <th>P4</th>\n",
              "      <th>P5</th>\n",
              "      <th>...</th>\n",
              "      <th>P29</th>\n",
              "      <th>P30</th>\n",
              "      <th>P31</th>\n",
              "      <th>P32</th>\n",
              "      <th>P33</th>\n",
              "      <th>P34</th>\n",
              "      <th>P35</th>\n",
              "      <th>P36</th>\n",
              "      <th>P37</th>\n",
              "      <th>revenue</th>\n",
              "    </tr>\n",
              "  </thead>\n",
              "  <tbody>\n",
              "  </tbody>\n",
              "</table>\n",
              "<p>0 rows × 43 columns</p>\n",
              "</div>"
            ],
            "text/plain": [
              "Empty DataFrame\n",
              "Columns: [Id, Open Date, City, City Group, Type, P1, P2, P3, P4, P5, P6, P7, P8, P9, P10, P11, P12, P13, P14, P15, P16, P17, P18, P19, P20, P21, P22, P23, P24, P25, P26, P27, P28, P29, P30, P31, P32, P33, P34, P35, P36, P37, revenue]\n",
              "Index: []\n",
              "\n",
              "[0 rows x 43 columns]"
            ]
          },
          "execution_count": 8,
          "metadata": {},
          "output_type": "execute_result"
        }
      ],
      "source": [
        "rawdata[rawdata.isnull().any(axis=1)]"
      ]
    },
    {
      "cell_type": "code",
      "execution_count": null,
      "id": "3504b5bc",
      "metadata": {
        "id": "3504b5bc"
      },
      "outputs": [],
      "source": [
        "rawdata.drop(labels='Id',axis = 1,inplace=True)"
      ]
    },
    {
      "cell_type": "code",
      "execution_count": null,
      "id": "aa7950df",
      "metadata": {
        "id": "aa7950df",
        "outputId": "fb0e256d-a9d8-45a7-d65a-1915c938dacb"
      },
      "outputs": [
        {
          "data": {
            "text/plain": [
              "Index(['Open Date', 'City', 'City Group', 'Type', 'P1', 'P2', 'P3', 'P4', 'P5',\n",
              "       'P6', 'P7', 'P8', 'P9', 'P10', 'P11', 'P12', 'P13', 'P14', 'P15', 'P16',\n",
              "       'P17', 'P18', 'P19', 'P20', 'P21', 'P22', 'P23', 'P24', 'P25', 'P26',\n",
              "       'P27', 'P28', 'P29', 'P30', 'P31', 'P32', 'P33', 'P34', 'P35', 'P36',\n",
              "       'P37', 'revenue'],\n",
              "      dtype='object')"
            ]
          },
          "execution_count": 10,
          "metadata": {},
          "output_type": "execute_result"
        }
      ],
      "source": [
        "rawdata.columns"
      ]
    },
    {
      "cell_type": "code",
      "execution_count": null,
      "id": "9f03fbc1",
      "metadata": {
        "id": "9f03fbc1",
        "outputId": "5d32d8f6-b96d-4cff-d4ae-0feed8e3558f"
      },
      "outputs": [
        {
          "data": {
            "text/plain": [
              "2/23/2010    2\n",
              "1/7/2000     2\n",
              "2/2/2012     2\n",
              "7/17/1999    1\n",
              "6/20/2007    1\n",
              "            ..\n",
              "6/1/2009     1\n",
              "2/9/2011     1\n",
              "3/28/2009    1\n",
              "1/18/2011    1\n",
              "9/1/2009     1\n",
              "Name: Open Date, Length: 134, dtype: int64"
            ]
          },
          "execution_count": 11,
          "metadata": {},
          "output_type": "execute_result"
        }
      ],
      "source": [
        "rawdata['Open Date'].value_counts()"
      ]
    },
    {
      "cell_type": "code",
      "execution_count": null,
      "id": "b3e4c02e",
      "metadata": {
        "id": "b3e4c02e",
        "outputId": "ce889038-75b5-456a-ee71-da52962e09db"
      },
      "outputs": [
        {
          "data": {
            "text/plain": [
              "İstanbul          50\n",
              "Ankara            19\n",
              "İzmir              9\n",
              "Bursa              5\n",
              "Samsun             5\n",
              "Sakarya            4\n",
              "Antalya            4\n",
              "Kayseri            3\n",
              "Eskişehir          3\n",
              "Adana              3\n",
              "Diyarbakır         3\n",
              "Tekirdağ           3\n",
              "Muğla              2\n",
              "Trabzon            2\n",
              "Aydın              2\n",
              "Konya              2\n",
              "Karabük            1\n",
              "Isparta            1\n",
              "Bolu               1\n",
              "Kütahya            1\n",
              "Amasya             1\n",
              "Balıkesir          1\n",
              "Denizli            1\n",
              "Kocaeli            1\n",
              "Kırklareli         1\n",
              "Edirne             1\n",
              "Uşak               1\n",
              "Kastamonu          1\n",
              "Tokat              1\n",
              "Şanlıurfa          1\n",
              "Elazığ             1\n",
              "Gaziantep          1\n",
              "Afyonkarahisar     1\n",
              "Osmaniye           1\n",
              "Name: City, dtype: int64"
            ]
          },
          "execution_count": 12,
          "metadata": {},
          "output_type": "execute_result"
        }
      ],
      "source": [
        "rawdata['City'].value_counts()"
      ]
    },
    {
      "cell_type": "code",
      "execution_count": null,
      "id": "6708bcd3",
      "metadata": {
        "id": "6708bcd3",
        "outputId": "f7991801-bd8e-4df5-b9a8-5f4e46973921"
      },
      "outputs": [
        {
          "data": {
            "text/plain": [
              "Big Cities    78\n",
              "Other         59\n",
              "Name: City Group, dtype: int64"
            ]
          },
          "execution_count": 13,
          "metadata": {},
          "output_type": "execute_result"
        }
      ],
      "source": [
        "rawdata['City Group'].value_counts()"
      ]
    },
    {
      "cell_type": "code",
      "execution_count": null,
      "id": "3819fbed",
      "metadata": {
        "id": "3819fbed",
        "outputId": "9d686ee0-24d4-4b8b-eef2-6967fe7abfde"
      },
      "outputs": [
        {
          "data": {
            "text/plain": [
              "FC    76\n",
              "IL    60\n",
              "DT     1\n",
              "Name: Type, dtype: int64"
            ]
          },
          "execution_count": 14,
          "metadata": {},
          "output_type": "execute_result"
        }
      ],
      "source": [
        "rawdata['Type'].value_counts()"
      ]
    },
    {
      "cell_type": "code",
      "execution_count": null,
      "id": "cde0390c",
      "metadata": {
        "id": "cde0390c",
        "outputId": "c6fe0514-a055-49cd-ce02-9d3d4187c7ef"
      },
      "outputs": [
        {
          "data": {
            "text/html": [
              "<div>\n",
              "<style scoped>\n",
              "    .dataframe tbody tr th:only-of-type {\n",
              "        vertical-align: middle;\n",
              "    }\n",
              "\n",
              "    .dataframe tbody tr th {\n",
              "        vertical-align: top;\n",
              "    }\n",
              "\n",
              "    .dataframe thead th {\n",
              "        text-align: right;\n",
              "    }\n",
              "</style>\n",
              "<table border=\"1\" class=\"dataframe\">\n",
              "  <thead>\n",
              "    <tr style=\"text-align: right;\">\n",
              "      <th></th>\n",
              "      <th>Open Date</th>\n",
              "      <th>City</th>\n",
              "      <th>City Group</th>\n",
              "      <th>Type</th>\n",
              "      <th>P1</th>\n",
              "      <th>P2</th>\n",
              "      <th>P3</th>\n",
              "      <th>P4</th>\n",
              "      <th>P5</th>\n",
              "      <th>P6</th>\n",
              "      <th>...</th>\n",
              "      <th>P29</th>\n",
              "      <th>P30</th>\n",
              "      <th>P31</th>\n",
              "      <th>P32</th>\n",
              "      <th>P33</th>\n",
              "      <th>P34</th>\n",
              "      <th>P35</th>\n",
              "      <th>P36</th>\n",
              "      <th>P37</th>\n",
              "      <th>revenue</th>\n",
              "    </tr>\n",
              "  </thead>\n",
              "  <tbody>\n",
              "    <tr>\n",
              "      <th>124</th>\n",
              "      <td>8/18/2005</td>\n",
              "      <td>Ankara</td>\n",
              "      <td>Big Cities</td>\n",
              "      <td>DT</td>\n",
              "      <td>1</td>\n",
              "      <td>3.0</td>\n",
              "      <td>0.0</td>\n",
              "      <td>5.0</td>\n",
              "      <td>5</td>\n",
              "      <td>5.0</td>\n",
              "      <td>...</td>\n",
              "      <td>3.0</td>\n",
              "      <td>0</td>\n",
              "      <td>0</td>\n",
              "      <td>0</td>\n",
              "      <td>0</td>\n",
              "      <td>0</td>\n",
              "      <td>0</td>\n",
              "      <td>0</td>\n",
              "      <td>0</td>\n",
              "      <td>3810007</td>\n",
              "    </tr>\n",
              "  </tbody>\n",
              "</table>\n",
              "<p>1 rows × 42 columns</p>\n",
              "</div>"
            ],
            "text/plain": [
              "     Open Date    City  City Group Type  P1   P2   P3   P4  P5   P6  ...  P29  \\\n",
              "124  8/18/2005  Ankara  Big Cities   DT   1  3.0  0.0  5.0   5  5.0  ...  3.0   \n",
              "\n",
              "     P30  P31  P32  P33  P34  P35  P36  P37  revenue  \n",
              "124    0    0    0    0    0    0    0    0  3810007  \n",
              "\n",
              "[1 rows x 42 columns]"
            ]
          },
          "execution_count": 15,
          "metadata": {},
          "output_type": "execute_result"
        }
      ],
      "source": [
        "rawdata[rawdata['Type'] == 'DT']"
      ]
    },
    {
      "cell_type": "code",
      "execution_count": null,
      "id": "457066cc",
      "metadata": {
        "id": "457066cc"
      },
      "outputs": [],
      "source": [
        "#date column as 134 unique values out of 137 rows, its better to ignore the column\n",
        "rawdata.drop(labels='Open Date',axis=1,inplace=True)"
      ]
    },
    {
      "cell_type": "code",
      "execution_count": null,
      "id": "6b18b81c",
      "metadata": {
        "id": "6b18b81c"
      },
      "outputs": [],
      "source": [
        "from sklearn.preprocessing import LabelEncoder\n",
        "from sklearn.decomposition import PCA \n",
        "from sklearn.preprocessing import StandardScaler\n",
        "from sklearn.model_selection import train_test_split\n",
        "from sklearn.metrics import mean_squared_error\n",
        "\n",
        "from sklearn.neighbors import KNeighborsRegressor\n",
        "from sklearn.svm import SVR\n",
        "from sklearn.linear_model import LinearRegression,Lasso,Ridge\n",
        "from sklearn.tree import DecisionTreeRegressor\n",
        "from sklearn.ensemble import RandomForestRegressor"
      ]
    },
    {
      "cell_type": "code",
      "execution_count": null,
      "id": "95f4b777",
      "metadata": {
        "id": "95f4b777",
        "outputId": "be320f3c-008e-43d4-cbb3-6f7ecc7de509"
      },
      "outputs": [
        {
          "data": {
            "text/html": [
              "<div>\n",
              "<style scoped>\n",
              "    .dataframe tbody tr th:only-of-type {\n",
              "        vertical-align: middle;\n",
              "    }\n",
              "\n",
              "    .dataframe tbody tr th {\n",
              "        vertical-align: top;\n",
              "    }\n",
              "\n",
              "    .dataframe thead th {\n",
              "        text-align: right;\n",
              "    }\n",
              "</style>\n",
              "<table border=\"1\" class=\"dataframe\">\n",
              "  <thead>\n",
              "    <tr style=\"text-align: right;\">\n",
              "      <th></th>\n",
              "      <th>City</th>\n",
              "      <th>City Group</th>\n",
              "      <th>Type</th>\n",
              "      <th>P1</th>\n",
              "      <th>P2</th>\n",
              "      <th>P3</th>\n",
              "      <th>P4</th>\n",
              "      <th>P5</th>\n",
              "      <th>P6</th>\n",
              "      <th>P7</th>\n",
              "      <th>...</th>\n",
              "      <th>P29</th>\n",
              "      <th>P30</th>\n",
              "      <th>P31</th>\n",
              "      <th>P32</th>\n",
              "      <th>P33</th>\n",
              "      <th>P34</th>\n",
              "      <th>P35</th>\n",
              "      <th>P36</th>\n",
              "      <th>P37</th>\n",
              "      <th>revenue</th>\n",
              "    </tr>\n",
              "  </thead>\n",
              "  <tbody>\n",
              "    <tr>\n",
              "      <th>0</th>\n",
              "      <td>31</td>\n",
              "      <td>0</td>\n",
              "      <td>2</td>\n",
              "      <td>4</td>\n",
              "      <td>5.0</td>\n",
              "      <td>4.0</td>\n",
              "      <td>4.0</td>\n",
              "      <td>2</td>\n",
              "      <td>2.0</td>\n",
              "      <td>5.0</td>\n",
              "      <td>...</td>\n",
              "      <td>3.0</td>\n",
              "      <td>5</td>\n",
              "      <td>3</td>\n",
              "      <td>4</td>\n",
              "      <td>5</td>\n",
              "      <td>5</td>\n",
              "      <td>4</td>\n",
              "      <td>3</td>\n",
              "      <td>4</td>\n",
              "      <td>5653753</td>\n",
              "    </tr>\n",
              "    <tr>\n",
              "      <th>1</th>\n",
              "      <td>3</td>\n",
              "      <td>0</td>\n",
              "      <td>1</td>\n",
              "      <td>4</td>\n",
              "      <td>5.0</td>\n",
              "      <td>4.0</td>\n",
              "      <td>4.0</td>\n",
              "      <td>1</td>\n",
              "      <td>2.0</td>\n",
              "      <td>5.0</td>\n",
              "      <td>...</td>\n",
              "      <td>3.0</td>\n",
              "      <td>0</td>\n",
              "      <td>0</td>\n",
              "      <td>0</td>\n",
              "      <td>0</td>\n",
              "      <td>0</td>\n",
              "      <td>0</td>\n",
              "      <td>0</td>\n",
              "      <td>0</td>\n",
              "      <td>6923131</td>\n",
              "    </tr>\n",
              "    <tr>\n",
              "      <th>2</th>\n",
              "      <td>10</td>\n",
              "      <td>1</td>\n",
              "      <td>2</td>\n",
              "      <td>2</td>\n",
              "      <td>4.0</td>\n",
              "      <td>2.0</td>\n",
              "      <td>5.0</td>\n",
              "      <td>2</td>\n",
              "      <td>3.0</td>\n",
              "      <td>5.0</td>\n",
              "      <td>...</td>\n",
              "      <td>3.0</td>\n",
              "      <td>0</td>\n",
              "      <td>0</td>\n",
              "      <td>0</td>\n",
              "      <td>0</td>\n",
              "      <td>0</td>\n",
              "      <td>0</td>\n",
              "      <td>0</td>\n",
              "      <td>0</td>\n",
              "      <td>2055379</td>\n",
              "    </tr>\n",
              "    <tr>\n",
              "      <th>3</th>\n",
              "      <td>28</td>\n",
              "      <td>1</td>\n",
              "      <td>2</td>\n",
              "      <td>6</td>\n",
              "      <td>4.5</td>\n",
              "      <td>6.0</td>\n",
              "      <td>6.0</td>\n",
              "      <td>4</td>\n",
              "      <td>4.0</td>\n",
              "      <td>10.0</td>\n",
              "      <td>...</td>\n",
              "      <td>7.5</td>\n",
              "      <td>25</td>\n",
              "      <td>12</td>\n",
              "      <td>10</td>\n",
              "      <td>6</td>\n",
              "      <td>18</td>\n",
              "      <td>12</td>\n",
              "      <td>12</td>\n",
              "      <td>6</td>\n",
              "      <td>2675511</td>\n",
              "    </tr>\n",
              "    <tr>\n",
              "      <th>4</th>\n",
              "      <td>14</td>\n",
              "      <td>1</td>\n",
              "      <td>2</td>\n",
              "      <td>3</td>\n",
              "      <td>4.0</td>\n",
              "      <td>3.0</td>\n",
              "      <td>4.0</td>\n",
              "      <td>2</td>\n",
              "      <td>2.0</td>\n",
              "      <td>5.0</td>\n",
              "      <td>...</td>\n",
              "      <td>3.0</td>\n",
              "      <td>5</td>\n",
              "      <td>1</td>\n",
              "      <td>3</td>\n",
              "      <td>2</td>\n",
              "      <td>3</td>\n",
              "      <td>4</td>\n",
              "      <td>3</td>\n",
              "      <td>3</td>\n",
              "      <td>4316715</td>\n",
              "    </tr>\n",
              "  </tbody>\n",
              "</table>\n",
              "<p>5 rows × 41 columns</p>\n",
              "</div>"
            ],
            "text/plain": [
              "   City  City Group  Type  P1   P2   P3   P4  P5   P6    P7  ...  P29  P30  \\\n",
              "0    31           0     2   4  5.0  4.0  4.0   2  2.0   5.0  ...  3.0    5   \n",
              "1     3           0     1   4  5.0  4.0  4.0   1  2.0   5.0  ...  3.0    0   \n",
              "2    10           1     2   2  4.0  2.0  5.0   2  3.0   5.0  ...  3.0    0   \n",
              "3    28           1     2   6  4.5  6.0  6.0   4  4.0  10.0  ...  7.5   25   \n",
              "4    14           1     2   3  4.0  3.0  4.0   2  2.0   5.0  ...  3.0    5   \n",
              "\n",
              "   P31  P32  P33  P34  P35  P36  P37  revenue  \n",
              "0    3    4    5    5    4    3    4  5653753  \n",
              "1    0    0    0    0    0    0    0  6923131  \n",
              "2    0    0    0    0    0    0    0  2055379  \n",
              "3   12   10    6   18   12   12    6  2675511  \n",
              "4    1    3    2    3    4    3    3  4316715  \n",
              "\n",
              "[5 rows x 41 columns]"
            ]
          },
          "execution_count": 18,
          "metadata": {},
          "output_type": "execute_result"
        }
      ],
      "source": [
        "le = LabelEncoder()\n",
        "for col in ['City','City Group','Type']:\n",
        "    rawdata[col] = le.fit_transform(rawdata[col])\n",
        "rawdata.head()  "
      ]
    },
    {
      "cell_type": "code",
      "execution_count": null,
      "id": "cfe18189",
      "metadata": {
        "id": "cfe18189",
        "outputId": "b5e323ca-4913-4be2-fe05-81458077680a"
      },
      "outputs": [
        {
          "data": {
            "text/plain": [
              "<AxesSubplot:xlabel='City', ylabel='revenue'>"
            ]
          },
          "execution_count": 30,
          "metadata": {},
          "output_type": "execute_result"
        },
        {
          "data": {
            "image/png": "[encoded data removed]",
            "text/plain": [
              "<Figure size 432x288 with 1 Axes>"
            ]
          },
          "metadata": {
            "needs_background": "light"
          },
          "output_type": "display_data"
        }
      ],
      "source": [
        "sns.scatterplot(x=rawdata['City'], y=rawdata['revenue'])"
      ]
    },
    {
      "cell_type": "code",
      "execution_count": null,
      "id": "5183a9b8",
      "metadata": {
        "id": "5183a9b8",
        "outputId": "1bcd4797-cf53-4d3b-a3df-c54597ed363d"
      },
      "outputs": [
        {
          "data": {
            "text/plain": [
              "<AxesSubplot:xlabel='City', ylabel='P1'>"
            ]
          },
          "execution_count": 62,
          "metadata": {},
          "output_type": "execute_result"
        },
        {
          "data": {
            "image/png": "[encoded data removed]",
            "text/plain": [
              "<Figure size 432x288 with 1 Axes>"
            ]
          },
          "metadata": {
            "needs_background": "light"
          },
          "output_type": "display_data"
        }
      ],
      "source": [
        "sns.scatterplot(x=rawdata['City'], y=rawdata['P1'])"
      ]
    },
    {
      "cell_type": "code",
      "execution_count": null,
      "id": "1c2608d3",
      "metadata": {
        "id": "1c2608d3",
        "outputId": "4c26689f-e81d-4ed2-83a3-67baac23ffc2"
      },
      "outputs": [
        {
          "data": {
            "text/plain": [
              "<AxesSubplot:xlabel='P1', ylabel='P2'>"
            ]
          },
          "execution_count": 63,
          "metadata": {},
          "output_type": "execute_result"
        },
        {
          "data": {
            "image/png": "[encoded data removed]",
            "text/plain": [
              "<Figure size 432x288 with 1 Axes>"
            ]
          },
          "metadata": {
            "needs_background": "light"
          },
          "output_type": "display_data"
        }
      ],
      "source": [
        "sns.scatterplot(x=rawdata['P1'], y=rawdata['P2'])"
      ]
    },
    {
      "cell_type": "code",
      "execution_count": null,
      "id": "fb9131fd",
      "metadata": {
        "id": "fb9131fd",
        "outputId": "15ae1d68-04ef-4bda-dec6-ba178d95a751"
      },
      "outputs": [
        {
          "data": {
            "text/plain": [
              "<AxesSubplot:xlabel='P1', ylabel='P3'>"
            ]
          },
          "execution_count": 64,
          "metadata": {},
          "output_type": "execute_result"
        },
        {
          "data": {
            "image/png": "[encoded data removed]",
            "text/plain": [
              "<Figure size 432x288 with 1 Axes>"
            ]
          },
          "metadata": {
            "needs_background": "light"
          },
          "output_type": "display_data"
        }
      ],
      "source": [
        "sns.scatterplot(x=rawdata['P1'], y=rawdata['P3'])"
      ]
    },
    {
      "cell_type": "code",
      "execution_count": null,
      "id": "caa2f179",
      "metadata": {
        "id": "caa2f179",
        "outputId": "616bf7e4-829a-4386-f933-6e14210c7d1f"
      },
      "outputs": [
        {
          "data": {
            "text/plain": [
              "<AxesSubplot:xlabel='P12', ylabel='P3'>"
            ]
          },
          "execution_count": 65,
          "metadata": {},
          "output_type": "execute_result"
        },
        {
          "data": {
            "image/png": "[encoded data removed]",
            "text/plain": [
              "<Figure size 432x288 with 1 Axes>"
            ]
          },
          "metadata": {
            "needs_background": "light"
          },
          "output_type": "display_data"
        }
      ],
      "source": [
        "sns.scatterplot(x=rawdata['P12'], y=rawdata['P3'])"
      ]
    },
    {
      "cell_type": "code",
      "execution_count": null,
      "id": "177d7d01",
      "metadata": {
        "id": "177d7d01",
        "outputId": "79715ae5-52ed-4f27-916a-78656db7d343"
      },
      "outputs": [
        {
          "data": {
            "text/plain": [
              "<AxesSubplot:xlabel='City', ylabel='revenue'>"
            ]
          },
          "execution_count": 31,
          "metadata": {},
          "output_type": "execute_result"
        },
        {
          "data": {
            "image/png": "[encoded data removed]",
            "text/plain": [
              "<Figure size 432x288 with 1 Axes>"
            ]
          },
          "metadata": {
            "needs_background": "light"
          },
          "output_type": "display_data"
        }
      ],
      "source": [
        "sns.boxplot(x=\"City\", y=\"revenue\", data=rawdata)"
      ]
    },
    {
      "cell_type": "code",
      "execution_count": null,
      "id": "2e3b68db",
      "metadata": {
        "id": "2e3b68db"
      },
      "outputs": [],
      "source": [
        "sns.boxplot(x=\"P1\", y=\"revenue\", data=rawdata)"
      ]
    },
    {
      "cell_type": "code",
      "execution_count": null,
      "id": "98981726",
      "metadata": {
        "id": "98981726",
        "outputId": "a27bf1f6-573a-46dc-9c8c-6a0ea6fc50ee"
      },
      "outputs": [
        {
          "data": {
            "text/html": [
              "<div>\n",
              "<style scoped>\n",
              "    .dataframe tbody tr th:only-of-type {\n",
              "        vertical-align: middle;\n",
              "    }\n",
              "\n",
              "    .dataframe tbody tr th {\n",
              "        vertical-align: top;\n",
              "    }\n",
              "\n",
              "    .dataframe thead th {\n",
              "        text-align: right;\n",
              "    }\n",
              "</style>\n",
              "<table border=\"1\" class=\"dataframe\">\n",
              "  <thead>\n",
              "    <tr style=\"text-align: right;\">\n",
              "      <th></th>\n",
              "      <th>City</th>\n",
              "      <th>City Group</th>\n",
              "      <th>Type</th>\n",
              "      <th>P1</th>\n",
              "      <th>P2</th>\n",
              "      <th>P3</th>\n",
              "      <th>P4</th>\n",
              "      <th>P5</th>\n",
              "      <th>P6</th>\n",
              "      <th>P7</th>\n",
              "      <th>...</th>\n",
              "      <th>P29</th>\n",
              "      <th>P30</th>\n",
              "      <th>P31</th>\n",
              "      <th>P32</th>\n",
              "      <th>P33</th>\n",
              "      <th>P34</th>\n",
              "      <th>P35</th>\n",
              "      <th>P36</th>\n",
              "      <th>P37</th>\n",
              "      <th>revenue</th>\n",
              "    </tr>\n",
              "  </thead>\n",
              "  <tbody>\n",
              "    <tr>\n",
              "      <th>City</th>\n",
              "      <td>1.000000</td>\n",
              "      <td>-0.358040</td>\n",
              "      <td>0.061974</td>\n",
              "      <td>0.211984</td>\n",
              "      <td>0.267885</td>\n",
              "      <td>0.092918</td>\n",
              "      <td>0.020494</td>\n",
              "      <td>-0.171066</td>\n",
              "      <td>0.128383</td>\n",
              "      <td>0.129683</td>\n",
              "      <td>...</td>\n",
              "      <td>0.022719</td>\n",
              "      <td>0.096654</td>\n",
              "      <td>0.099550</td>\n",
              "      <td>0.061590</td>\n",
              "      <td>0.053133</td>\n",
              "      <td>0.078641</td>\n",
              "      <td>0.052951</td>\n",
              "      <td>0.098472</td>\n",
              "      <td>0.091000</td>\n",
              "      <td>0.266076</td>\n",
              "    </tr>\n",
              "    <tr>\n",
              "      <th>City Group</th>\n",
              "      <td>-0.358040</td>\n",
              "      <td>1.000000</td>\n",
              "      <td>-0.098585</td>\n",
              "      <td>-0.258556</td>\n",
              "      <td>-0.421095</td>\n",
              "      <td>-0.082172</td>\n",
              "      <td>-0.174134</td>\n",
              "      <td>0.019195</td>\n",
              "      <td>-0.405075</td>\n",
              "      <td>-0.178663</td>\n",
              "      <td>...</td>\n",
              "      <td>0.035497</td>\n",
              "      <td>-0.123097</td>\n",
              "      <td>-0.204542</td>\n",
              "      <td>-0.169750</td>\n",
              "      <td>-0.106115</td>\n",
              "      <td>-0.117024</td>\n",
              "      <td>-0.127973</td>\n",
              "      <td>-0.136617</td>\n",
              "      <td>-0.089976</td>\n",
              "      <td>-0.237403</td>\n",
              "    </tr>\n",
              "    <tr>\n",
              "      <th>Type</th>\n",
              "      <td>0.061974</td>\n",
              "      <td>-0.098585</td>\n",
              "      <td>1.000000</td>\n",
              "      <td>0.198231</td>\n",
              "      <td>0.150700</td>\n",
              "      <td>0.247365</td>\n",
              "      <td>0.057078</td>\n",
              "      <td>0.006765</td>\n",
              "      <td>0.099938</td>\n",
              "      <td>0.198796</td>\n",
              "      <td>...</td>\n",
              "      <td>0.094343</td>\n",
              "      <td>0.539807</td>\n",
              "      <td>0.599333</td>\n",
              "      <td>0.524885</td>\n",
              "      <td>0.700818</td>\n",
              "      <td>0.520788</td>\n",
              "      <td>0.641135</td>\n",
              "      <td>0.574185</td>\n",
              "      <td>0.634963</td>\n",
              "      <td>-0.090532</td>\n",
              "    </tr>\n",
              "    <tr>\n",
              "      <th>P1</th>\n",
              "      <td>0.211984</td>\n",
              "      <td>-0.258556</td>\n",
              "      <td>0.198231</td>\n",
              "      <td>1.000000</td>\n",
              "      <td>0.836671</td>\n",
              "      <td>0.695928</td>\n",
              "      <td>0.677941</td>\n",
              "      <td>0.302820</td>\n",
              "      <td>0.710941</td>\n",
              "      <td>0.824041</td>\n",
              "      <td>...</td>\n",
              "      <td>0.586532</td>\n",
              "      <td>0.487589</td>\n",
              "      <td>0.479175</td>\n",
              "      <td>0.552593</td>\n",
              "      <td>0.329795</td>\n",
              "      <td>0.570835</td>\n",
              "      <td>0.449182</td>\n",
              "      <td>0.554951</td>\n",
              "      <td>0.277601</td>\n",
              "      <td>0.070217</td>\n",
              "    </tr>\n",
              "    <tr>\n",
              "      <th>P2</th>\n",
              "      <td>0.267885</td>\n",
              "      <td>-0.421095</td>\n",
              "      <td>0.150700</td>\n",
              "      <td>0.836671</td>\n",
              "      <td>1.000000</td>\n",
              "      <td>0.473551</td>\n",
              "      <td>0.540322</td>\n",
              "      <td>0.203003</td>\n",
              "      <td>0.648711</td>\n",
              "      <td>0.747544</td>\n",
              "      <td>...</td>\n",
              "      <td>0.322511</td>\n",
              "      <td>0.342005</td>\n",
              "      <td>0.353477</td>\n",
              "      <td>0.389376</td>\n",
              "      <td>0.234991</td>\n",
              "      <td>0.394319</td>\n",
              "      <td>0.314798</td>\n",
              "      <td>0.387938</td>\n",
              "      <td>0.161162</td>\n",
              "      <td>0.191518</td>\n",
              "    </tr>\n",
              "    <tr>\n",
              "      <th>P3</th>\n",
              "      <td>0.092918</td>\n",
              "      <td>-0.082172</td>\n",
              "      <td>0.247365</td>\n",
              "      <td>0.695928</td>\n",
              "      <td>0.473551</td>\n",
              "      <td>1.000000</td>\n",
              "      <td>0.443606</td>\n",
              "      <td>0.168891</td>\n",
              "      <td>0.548339</td>\n",
              "      <td>0.635934</td>\n",
              "      <td>...</td>\n",
              "      <td>0.571525</td>\n",
              "      <td>0.473089</td>\n",
              "      <td>0.406701</td>\n",
              "      <td>0.463217</td>\n",
              "      <td>0.312269</td>\n",
              "      <td>0.501575</td>\n",
              "      <td>0.428504</td>\n",
              "      <td>0.484942</td>\n",
              "      <td>0.284065</td>\n",
              "      <td>-0.024613</td>\n",
              "    </tr>\n",
              "    <tr>\n",
              "      <th>P4</th>\n",
              "      <td>0.020494</td>\n",
              "      <td>-0.174134</td>\n",
              "      <td>0.057078</td>\n",
              "      <td>0.677941</td>\n",
              "      <td>0.540322</td>\n",
              "      <td>0.443606</td>\n",
              "      <td>1.000000</td>\n",
              "      <td>0.715406</td>\n",
              "      <td>0.581879</td>\n",
              "      <td>0.684603</td>\n",
              "      <td>...</td>\n",
              "      <td>0.452364</td>\n",
              "      <td>0.387747</td>\n",
              "      <td>0.333626</td>\n",
              "      <td>0.440795</td>\n",
              "      <td>0.182820</td>\n",
              "      <td>0.434245</td>\n",
              "      <td>0.277902</td>\n",
              "      <td>0.411664</td>\n",
              "      <td>0.177916</td>\n",
              "      <td>0.035685</td>\n",
              "    </tr>\n",
              "    <tr>\n",
              "      <th>P5</th>\n",
              "      <td>-0.171066</td>\n",
              "      <td>0.019195</td>\n",
              "      <td>0.006765</td>\n",
              "      <td>0.302820</td>\n",
              "      <td>0.203003</td>\n",
              "      <td>0.168891</td>\n",
              "      <td>0.715406</td>\n",
              "      <td>1.000000</td>\n",
              "      <td>0.346107</td>\n",
              "      <td>0.428350</td>\n",
              "      <td>...</td>\n",
              "      <td>0.306904</td>\n",
              "      <td>0.244032</td>\n",
              "      <td>0.112603</td>\n",
              "      <td>0.215568</td>\n",
              "      <td>0.071079</td>\n",
              "      <td>0.243040</td>\n",
              "      <td>0.173309</td>\n",
              "      <td>0.193652</td>\n",
              "      <td>0.033548</td>\n",
              "      <td>-0.028191</td>\n",
              "    </tr>\n",
              "    <tr>\n",
              "      <th>P6</th>\n",
              "      <td>0.128383</td>\n",
              "      <td>-0.405075</td>\n",
              "      <td>0.099938</td>\n",
              "      <td>0.710941</td>\n",
              "      <td>0.648711</td>\n",
              "      <td>0.548339</td>\n",
              "      <td>0.581879</td>\n",
              "      <td>0.346107</td>\n",
              "      <td>1.000000</td>\n",
              "      <td>0.723812</td>\n",
              "      <td>...</td>\n",
              "      <td>0.525457</td>\n",
              "      <td>0.466423</td>\n",
              "      <td>0.404426</td>\n",
              "      <td>0.457331</td>\n",
              "      <td>0.296197</td>\n",
              "      <td>0.493676</td>\n",
              "      <td>0.419867</td>\n",
              "      <td>0.463317</td>\n",
              "      <td>0.298207</td>\n",
              "      <td>0.153246</td>\n",
              "    </tr>\n",
              "    <tr>\n",
              "      <th>P7</th>\n",
              "      <td>0.129683</td>\n",
              "      <td>-0.178663</td>\n",
              "      <td>0.198796</td>\n",
              "      <td>0.824041</td>\n",
              "      <td>0.747544</td>\n",
              "      <td>0.635934</td>\n",
              "      <td>0.684603</td>\n",
              "      <td>0.428350</td>\n",
              "      <td>0.723812</td>\n",
              "      <td>1.000000</td>\n",
              "      <td>...</td>\n",
              "      <td>0.576145</td>\n",
              "      <td>0.523672</td>\n",
              "      <td>0.465918</td>\n",
              "      <td>0.545018</td>\n",
              "      <td>0.353341</td>\n",
              "      <td>0.577550</td>\n",
              "      <td>0.473183</td>\n",
              "      <td>0.559349</td>\n",
              "      <td>0.324238</td>\n",
              "      <td>0.048716</td>\n",
              "    </tr>\n",
              "    <tr>\n",
              "      <th>P8</th>\n",
              "      <td>0.046464</td>\n",
              "      <td>-0.071993</td>\n",
              "      <td>0.123399</td>\n",
              "      <td>0.760820</td>\n",
              "      <td>0.505116</td>\n",
              "      <td>0.689173</td>\n",
              "      <td>0.654594</td>\n",
              "      <td>0.447577</td>\n",
              "      <td>0.681858</td>\n",
              "      <td>0.737426</td>\n",
              "      <td>...</td>\n",
              "      <td>0.754736</td>\n",
              "      <td>0.454937</td>\n",
              "      <td>0.420425</td>\n",
              "      <td>0.516617</td>\n",
              "      <td>0.256416</td>\n",
              "      <td>0.524474</td>\n",
              "      <td>0.405709</td>\n",
              "      <td>0.499777</td>\n",
              "      <td>0.308294</td>\n",
              "      <td>-0.084215</td>\n",
              "    </tr>\n",
              "    <tr>\n",
              "      <th>P9</th>\n",
              "      <td>0.007021</td>\n",
              "      <td>-0.018305</td>\n",
              "      <td>0.162394</td>\n",
              "      <td>0.765743</td>\n",
              "      <td>0.481635</td>\n",
              "      <td>0.741967</td>\n",
              "      <td>0.675336</td>\n",
              "      <td>0.465662</td>\n",
              "      <td>0.640611</td>\n",
              "      <td>0.748846</td>\n",
              "      <td>...</td>\n",
              "      <td>0.789784</td>\n",
              "      <td>0.502670</td>\n",
              "      <td>0.467334</td>\n",
              "      <td>0.544749</td>\n",
              "      <td>0.326869</td>\n",
              "      <td>0.582042</td>\n",
              "      <td>0.467916</td>\n",
              "      <td>0.551953</td>\n",
              "      <td>0.330927</td>\n",
              "      <td>-0.050352</td>\n",
              "    </tr>\n",
              "    <tr>\n",
              "      <th>P10</th>\n",
              "      <td>0.006378</td>\n",
              "      <td>0.001169</td>\n",
              "      <td>0.164508</td>\n",
              "      <td>0.795885</td>\n",
              "      <td>0.498135</td>\n",
              "      <td>0.764191</td>\n",
              "      <td>0.685416</td>\n",
              "      <td>0.462299</td>\n",
              "      <td>0.618821</td>\n",
              "      <td>0.750020</td>\n",
              "      <td>...</td>\n",
              "      <td>0.789510</td>\n",
              "      <td>0.514738</td>\n",
              "      <td>0.462235</td>\n",
              "      <td>0.549238</td>\n",
              "      <td>0.320317</td>\n",
              "      <td>0.601956</td>\n",
              "      <td>0.483010</td>\n",
              "      <td>0.565068</td>\n",
              "      <td>0.313748</td>\n",
              "      <td>-0.073220</td>\n",
              "    </tr>\n",
              "    <tr>\n",
              "      <th>P11</th>\n",
              "      <td>0.006642</td>\n",
              "      <td>-0.120045</td>\n",
              "      <td>0.101524</td>\n",
              "      <td>0.542735</td>\n",
              "      <td>0.442719</td>\n",
              "      <td>0.417752</td>\n",
              "      <td>0.585285</td>\n",
              "      <td>0.435002</td>\n",
              "      <td>0.441979</td>\n",
              "      <td>0.491046</td>\n",
              "      <td>...</td>\n",
              "      <td>0.292211</td>\n",
              "      <td>0.410573</td>\n",
              "      <td>0.300331</td>\n",
              "      <td>0.358379</td>\n",
              "      <td>0.244698</td>\n",
              "      <td>0.401866</td>\n",
              "      <td>0.291108</td>\n",
              "      <td>0.383485</td>\n",
              "      <td>0.158579</td>\n",
              "      <td>0.084247</td>\n",
              "    </tr>\n",
              "    <tr>\n",
              "      <th>P12</th>\n",
              "      <td>0.001045</td>\n",
              "      <td>0.025473</td>\n",
              "      <td>0.106176</td>\n",
              "      <td>0.708360</td>\n",
              "      <td>0.428065</td>\n",
              "      <td>0.684071</td>\n",
              "      <td>0.595115</td>\n",
              "      <td>0.409181</td>\n",
              "      <td>0.602515</td>\n",
              "      <td>0.707577</td>\n",
              "      <td>...</td>\n",
              "      <td>0.797455</td>\n",
              "      <td>0.433005</td>\n",
              "      <td>0.403691</td>\n",
              "      <td>0.471691</td>\n",
              "      <td>0.281619</td>\n",
              "      <td>0.519051</td>\n",
              "      <td>0.426274</td>\n",
              "      <td>0.491803</td>\n",
              "      <td>0.304963</td>\n",
              "      <td>-0.062193</td>\n",
              "    </tr>\n",
              "    <tr>\n",
              "      <th>P13</th>\n",
              "      <td>-0.026951</td>\n",
              "      <td>0.039435</td>\n",
              "      <td>0.149246</td>\n",
              "      <td>0.708896</td>\n",
              "      <td>0.410924</td>\n",
              "      <td>0.697519</td>\n",
              "      <td>0.571611</td>\n",
              "      <td>0.380722</td>\n",
              "      <td>0.520745</td>\n",
              "      <td>0.677740</td>\n",
              "      <td>...</td>\n",
              "      <td>0.740722</td>\n",
              "      <td>0.466337</td>\n",
              "      <td>0.425461</td>\n",
              "      <td>0.499431</td>\n",
              "      <td>0.302684</td>\n",
              "      <td>0.555712</td>\n",
              "      <td>0.457633</td>\n",
              "      <td>0.520219</td>\n",
              "      <td>0.295972</td>\n",
              "      <td>-0.105085</td>\n",
              "    </tr>\n",
              "    <tr>\n",
              "      <th>P14</th>\n",
              "      <td>0.168017</td>\n",
              "      <td>-0.133054</td>\n",
              "      <td>0.544758</td>\n",
              "      <td>0.491638</td>\n",
              "      <td>0.365777</td>\n",
              "      <td>0.393765</td>\n",
              "      <td>0.347917</td>\n",
              "      <td>0.079245</td>\n",
              "      <td>0.422299</td>\n",
              "      <td>0.471453</td>\n",
              "      <td>...</td>\n",
              "      <td>0.304980</td>\n",
              "      <td>0.812712</td>\n",
              "      <td>0.795637</td>\n",
              "      <td>0.840592</td>\n",
              "      <td>0.801055</td>\n",
              "      <td>0.853824</td>\n",
              "      <td>0.815550</td>\n",
              "      <td>0.892459</td>\n",
              "      <td>0.776719</td>\n",
              "      <td>0.006441</td>\n",
              "    </tr>\n",
              "    <tr>\n",
              "      <th>P15</th>\n",
              "      <td>0.163319</td>\n",
              "      <td>-0.128448</td>\n",
              "      <td>0.630232</td>\n",
              "      <td>0.473155</td>\n",
              "      <td>0.358841</td>\n",
              "      <td>0.379107</td>\n",
              "      <td>0.287313</td>\n",
              "      <td>0.044635</td>\n",
              "      <td>0.354237</td>\n",
              "      <td>0.444871</td>\n",
              "      <td>...</td>\n",
              "      <td>0.299711</td>\n",
              "      <td>0.743738</td>\n",
              "      <td>0.798711</td>\n",
              "      <td>0.797193</td>\n",
              "      <td>0.806085</td>\n",
              "      <td>0.813125</td>\n",
              "      <td>0.819329</td>\n",
              "      <td>0.890441</td>\n",
              "      <td>0.768268</td>\n",
              "      <td>0.000742</td>\n",
              "    </tr>\n",
              "    <tr>\n",
              "      <th>P16</th>\n",
              "      <td>0.117828</td>\n",
              "      <td>-0.141607</td>\n",
              "      <td>0.596308</td>\n",
              "      <td>0.544892</td>\n",
              "      <td>0.396337</td>\n",
              "      <td>0.471427</td>\n",
              "      <td>0.379619</td>\n",
              "      <td>0.164822</td>\n",
              "      <td>0.449162</td>\n",
              "      <td>0.546116</td>\n",
              "      <td>...</td>\n",
              "      <td>0.425590</td>\n",
              "      <td>0.869697</td>\n",
              "      <td>0.899675</td>\n",
              "      <td>0.928434</td>\n",
              "      <td>0.823748</td>\n",
              "      <td>0.941628</td>\n",
              "      <td>0.899202</td>\n",
              "      <td>0.981550</td>\n",
              "      <td>0.801029</td>\n",
              "      <td>-0.037997</td>\n",
              "    </tr>\n",
              "    <tr>\n",
              "      <th>P17</th>\n",
              "      <td>0.177945</td>\n",
              "      <td>-0.183261</td>\n",
              "      <td>0.551008</td>\n",
              "      <td>0.412963</td>\n",
              "      <td>0.332134</td>\n",
              "      <td>0.327644</td>\n",
              "      <td>0.235605</td>\n",
              "      <td>0.038805</td>\n",
              "      <td>0.369407</td>\n",
              "      <td>0.379389</td>\n",
              "      <td>...</td>\n",
              "      <td>0.224734</td>\n",
              "      <td>0.739895</td>\n",
              "      <td>0.770449</td>\n",
              "      <td>0.772197</td>\n",
              "      <td>0.716934</td>\n",
              "      <td>0.735778</td>\n",
              "      <td>0.781719</td>\n",
              "      <td>0.812184</td>\n",
              "      <td>0.726738</td>\n",
              "      <td>0.067137</td>\n",
              "    </tr>\n",
              "    <tr>\n",
              "      <th>P18</th>\n",
              "      <td>0.061072</td>\n",
              "      <td>-0.132483</td>\n",
              "      <td>0.629037</td>\n",
              "      <td>0.478503</td>\n",
              "      <td>0.348191</td>\n",
              "      <td>0.425214</td>\n",
              "      <td>0.359393</td>\n",
              "      <td>0.193489</td>\n",
              "      <td>0.395592</td>\n",
              "      <td>0.512715</td>\n",
              "      <td>...</td>\n",
              "      <td>0.420248</td>\n",
              "      <td>0.836870</td>\n",
              "      <td>0.900439</td>\n",
              "      <td>0.915038</td>\n",
              "      <td>0.861861</td>\n",
              "      <td>0.926000</td>\n",
              "      <td>0.916872</td>\n",
              "      <td>0.952266</td>\n",
              "      <td>0.833428</td>\n",
              "      <td>-0.034537</td>\n",
              "    </tr>\n",
              "    <tr>\n",
              "      <th>P19</th>\n",
              "      <td>0.078272</td>\n",
              "      <td>-0.053857</td>\n",
              "      <td>0.201576</td>\n",
              "      <td>0.802494</td>\n",
              "      <td>0.595681</td>\n",
              "      <td>0.648948</td>\n",
              "      <td>0.725829</td>\n",
              "      <td>0.509874</td>\n",
              "      <td>0.530680</td>\n",
              "      <td>0.715927</td>\n",
              "      <td>...</td>\n",
              "      <td>0.417782</td>\n",
              "      <td>0.466695</td>\n",
              "      <td>0.369915</td>\n",
              "      <td>0.437442</td>\n",
              "      <td>0.298000</td>\n",
              "      <td>0.453496</td>\n",
              "      <td>0.346822</td>\n",
              "      <td>0.425475</td>\n",
              "      <td>0.226764</td>\n",
              "      <td>0.027984</td>\n",
              "    </tr>\n",
              "    <tr>\n",
              "      <th>P20</th>\n",
              "      <td>0.076153</td>\n",
              "      <td>-0.164784</td>\n",
              "      <td>0.258550</td>\n",
              "      <td>0.820953</td>\n",
              "      <td>0.668683</td>\n",
              "      <td>0.682262</td>\n",
              "      <td>0.579561</td>\n",
              "      <td>0.343363</td>\n",
              "      <td>0.660997</td>\n",
              "      <td>0.763806</td>\n",
              "      <td>...</td>\n",
              "      <td>0.505358</td>\n",
              "      <td>0.593911</td>\n",
              "      <td>0.505542</td>\n",
              "      <td>0.567801</td>\n",
              "      <td>0.420983</td>\n",
              "      <td>0.610553</td>\n",
              "      <td>0.529064</td>\n",
              "      <td>0.587118</td>\n",
              "      <td>0.326929</td>\n",
              "      <td>0.014147</td>\n",
              "    </tr>\n",
              "    <tr>\n",
              "      <th>P21</th>\n",
              "      <td>0.052059</td>\n",
              "      <td>-0.049982</td>\n",
              "      <td>0.224538</td>\n",
              "      <td>0.654138</td>\n",
              "      <td>0.522294</td>\n",
              "      <td>0.559543</td>\n",
              "      <td>0.545285</td>\n",
              "      <td>0.342726</td>\n",
              "      <td>0.432463</td>\n",
              "      <td>0.584442</td>\n",
              "      <td>...</td>\n",
              "      <td>0.267466</td>\n",
              "      <td>0.482010</td>\n",
              "      <td>0.429568</td>\n",
              "      <td>0.481878</td>\n",
              "      <td>0.373014</td>\n",
              "      <td>0.525638</td>\n",
              "      <td>0.437753</td>\n",
              "      <td>0.501181</td>\n",
              "      <td>0.273409</td>\n",
              "      <td>0.097411</td>\n",
              "    </tr>\n",
              "    <tr>\n",
              "      <th>P22</th>\n",
              "      <td>0.080139</td>\n",
              "      <td>-0.256669</td>\n",
              "      <td>0.147737</td>\n",
              "      <td>0.389116</td>\n",
              "      <td>0.476538</td>\n",
              "      <td>0.243983</td>\n",
              "      <td>0.076177</td>\n",
              "      <td>-0.198689</td>\n",
              "      <td>0.220576</td>\n",
              "      <td>0.252093</td>\n",
              "      <td>...</td>\n",
              "      <td>-0.148172</td>\n",
              "      <td>0.170901</td>\n",
              "      <td>0.181702</td>\n",
              "      <td>0.169877</td>\n",
              "      <td>0.178341</td>\n",
              "      <td>0.143249</td>\n",
              "      <td>0.156648</td>\n",
              "      <td>0.165467</td>\n",
              "      <td>0.108030</td>\n",
              "      <td>0.083562</td>\n",
              "    </tr>\n",
              "    <tr>\n",
              "      <th>P23</th>\n",
              "      <td>0.029278</td>\n",
              "      <td>-0.006419</td>\n",
              "      <td>0.214427</td>\n",
              "      <td>0.702120</td>\n",
              "      <td>0.513936</td>\n",
              "      <td>0.602325</td>\n",
              "      <td>0.559099</td>\n",
              "      <td>0.354058</td>\n",
              "      <td>0.495211</td>\n",
              "      <td>0.607160</td>\n",
              "      <td>...</td>\n",
              "      <td>0.393031</td>\n",
              "      <td>0.475536</td>\n",
              "      <td>0.367508</td>\n",
              "      <td>0.433061</td>\n",
              "      <td>0.316115</td>\n",
              "      <td>0.470396</td>\n",
              "      <td>0.399514</td>\n",
              "      <td>0.448681</td>\n",
              "      <td>0.216329</td>\n",
              "      <td>0.045507</td>\n",
              "    </tr>\n",
              "    <tr>\n",
              "      <th>P24</th>\n",
              "      <td>0.236239</td>\n",
              "      <td>-0.237349</td>\n",
              "      <td>0.617804</td>\n",
              "      <td>0.425720</td>\n",
              "      <td>0.354225</td>\n",
              "      <td>0.337895</td>\n",
              "      <td>0.213535</td>\n",
              "      <td>0.020124</td>\n",
              "      <td>0.407708</td>\n",
              "      <td>0.389206</td>\n",
              "      <td>...</td>\n",
              "      <td>0.247974</td>\n",
              "      <td>0.732452</td>\n",
              "      <td>0.823207</td>\n",
              "      <td>0.787841</td>\n",
              "      <td>0.770173</td>\n",
              "      <td>0.763692</td>\n",
              "      <td>0.813077</td>\n",
              "      <td>0.830078</td>\n",
              "      <td>0.787741</td>\n",
              "      <td>0.014222</td>\n",
              "    </tr>\n",
              "    <tr>\n",
              "      <th>P25</th>\n",
              "      <td>0.177832</td>\n",
              "      <td>-0.211463</td>\n",
              "      <td>0.609864</td>\n",
              "      <td>0.472057</td>\n",
              "      <td>0.378042</td>\n",
              "      <td>0.358244</td>\n",
              "      <td>0.285547</td>\n",
              "      <td>0.042141</td>\n",
              "      <td>0.425429</td>\n",
              "      <td>0.419729</td>\n",
              "      <td>...</td>\n",
              "      <td>0.269835</td>\n",
              "      <td>0.760051</td>\n",
              "      <td>0.850616</td>\n",
              "      <td>0.849365</td>\n",
              "      <td>0.765023</td>\n",
              "      <td>0.792694</td>\n",
              "      <td>0.781572</td>\n",
              "      <td>0.870674</td>\n",
              "      <td>0.809613</td>\n",
              "      <td>0.036365</td>\n",
              "    </tr>\n",
              "    <tr>\n",
              "      <th>P26</th>\n",
              "      <td>0.205300</td>\n",
              "      <td>-0.228140</td>\n",
              "      <td>0.603779</td>\n",
              "      <td>0.505437</td>\n",
              "      <td>0.409526</td>\n",
              "      <td>0.393404</td>\n",
              "      <td>0.288684</td>\n",
              "      <td>0.052430</td>\n",
              "      <td>0.463749</td>\n",
              "      <td>0.451249</td>\n",
              "      <td>...</td>\n",
              "      <td>0.308637</td>\n",
              "      <td>0.790324</td>\n",
              "      <td>0.864259</td>\n",
              "      <td>0.859348</td>\n",
              "      <td>0.764947</td>\n",
              "      <td>0.834661</td>\n",
              "      <td>0.817260</td>\n",
              "      <td>0.888330</td>\n",
              "      <td>0.778074</td>\n",
              "      <td>-0.007650</td>\n",
              "    </tr>\n",
              "    <tr>\n",
              "      <th>P27</th>\n",
              "      <td>0.194251</td>\n",
              "      <td>-0.179750</td>\n",
              "      <td>0.579840</td>\n",
              "      <td>0.280761</td>\n",
              "      <td>0.195660</td>\n",
              "      <td>0.257228</td>\n",
              "      <td>0.109555</td>\n",
              "      <td>0.008393</td>\n",
              "      <td>0.329039</td>\n",
              "      <td>0.293175</td>\n",
              "      <td>...</td>\n",
              "      <td>0.270460</td>\n",
              "      <td>0.654312</td>\n",
              "      <td>0.675237</td>\n",
              "      <td>0.649870</td>\n",
              "      <td>0.748135</td>\n",
              "      <td>0.661309</td>\n",
              "      <td>0.723519</td>\n",
              "      <td>0.689364</td>\n",
              "      <td>0.805824</td>\n",
              "      <td>-0.013680</td>\n",
              "    </tr>\n",
              "    <tr>\n",
              "      <th>P28</th>\n",
              "      <td>0.180487</td>\n",
              "      <td>-0.298842</td>\n",
              "      <td>0.111218</td>\n",
              "      <td>0.843738</td>\n",
              "      <td>0.732712</td>\n",
              "      <td>0.643420</td>\n",
              "      <td>0.641971</td>\n",
              "      <td>0.323253</td>\n",
              "      <td>0.708100</td>\n",
              "      <td>0.720915</td>\n",
              "      <td>...</td>\n",
              "      <td>0.331344</td>\n",
              "      <td>0.438447</td>\n",
              "      <td>0.369772</td>\n",
              "      <td>0.457892</td>\n",
              "      <td>0.264879</td>\n",
              "      <td>0.448928</td>\n",
              "      <td>0.341164</td>\n",
              "      <td>0.454263</td>\n",
              "      <td>0.215078</td>\n",
              "      <td>0.155534</td>\n",
              "    </tr>\n",
              "    <tr>\n",
              "      <th>P29</th>\n",
              "      <td>0.022719</td>\n",
              "      <td>0.035497</td>\n",
              "      <td>0.094343</td>\n",
              "      <td>0.586532</td>\n",
              "      <td>0.322511</td>\n",
              "      <td>0.571525</td>\n",
              "      <td>0.452364</td>\n",
              "      <td>0.306904</td>\n",
              "      <td>0.525457</td>\n",
              "      <td>0.576145</td>\n",
              "      <td>...</td>\n",
              "      <td>1.000000</td>\n",
              "      <td>0.356722</td>\n",
              "      <td>0.371893</td>\n",
              "      <td>0.425120</td>\n",
              "      <td>0.249646</td>\n",
              "      <td>0.490329</td>\n",
              "      <td>0.384401</td>\n",
              "      <td>0.457660</td>\n",
              "      <td>0.296405</td>\n",
              "      <td>-0.114846</td>\n",
              "    </tr>\n",
              "    <tr>\n",
              "      <th>P30</th>\n",
              "      <td>0.096654</td>\n",
              "      <td>-0.123097</td>\n",
              "      <td>0.539807</td>\n",
              "      <td>0.487589</td>\n",
              "      <td>0.342005</td>\n",
              "      <td>0.473089</td>\n",
              "      <td>0.387747</td>\n",
              "      <td>0.244032</td>\n",
              "      <td>0.466423</td>\n",
              "      <td>0.523672</td>\n",
              "      <td>...</td>\n",
              "      <td>0.356722</td>\n",
              "      <td>1.000000</td>\n",
              "      <td>0.840158</td>\n",
              "      <td>0.881481</td>\n",
              "      <td>0.790581</td>\n",
              "      <td>0.918200</td>\n",
              "      <td>0.874635</td>\n",
              "      <td>0.904491</td>\n",
              "      <td>0.736656</td>\n",
              "      <td>-0.066203</td>\n",
              "    </tr>\n",
              "    <tr>\n",
              "      <th>P31</th>\n",
              "      <td>0.099550</td>\n",
              "      <td>-0.204542</td>\n",
              "      <td>0.599333</td>\n",
              "      <td>0.479175</td>\n",
              "      <td>0.353477</td>\n",
              "      <td>0.406701</td>\n",
              "      <td>0.333626</td>\n",
              "      <td>0.112603</td>\n",
              "      <td>0.404426</td>\n",
              "      <td>0.465918</td>\n",
              "      <td>...</td>\n",
              "      <td>0.371893</td>\n",
              "      <td>0.840158</td>\n",
              "      <td>1.000000</td>\n",
              "      <td>0.934778</td>\n",
              "      <td>0.803785</td>\n",
              "      <td>0.864144</td>\n",
              "      <td>0.823262</td>\n",
              "      <td>0.901940</td>\n",
              "      <td>0.787904</td>\n",
              "      <td>-0.040418</td>\n",
              "    </tr>\n",
              "    <tr>\n",
              "      <th>P32</th>\n",
              "      <td>0.061590</td>\n",
              "      <td>-0.169750</td>\n",
              "      <td>0.524885</td>\n",
              "      <td>0.552593</td>\n",
              "      <td>0.389376</td>\n",
              "      <td>0.463217</td>\n",
              "      <td>0.440795</td>\n",
              "      <td>0.215568</td>\n",
              "      <td>0.457331</td>\n",
              "      <td>0.545018</td>\n",
              "      <td>...</td>\n",
              "      <td>0.425120</td>\n",
              "      <td>0.881481</td>\n",
              "      <td>0.934778</td>\n",
              "      <td>1.000000</td>\n",
              "      <td>0.760670</td>\n",
              "      <td>0.930014</td>\n",
              "      <td>0.837858</td>\n",
              "      <td>0.958152</td>\n",
              "      <td>0.758060</td>\n",
              "      <td>-0.065857</td>\n",
              "    </tr>\n",
              "    <tr>\n",
              "      <th>P33</th>\n",
              "      <td>0.053133</td>\n",
              "      <td>-0.106115</td>\n",
              "      <td>0.700818</td>\n",
              "      <td>0.329795</td>\n",
              "      <td>0.234991</td>\n",
              "      <td>0.312269</td>\n",
              "      <td>0.182820</td>\n",
              "      <td>0.071079</td>\n",
              "      <td>0.296197</td>\n",
              "      <td>0.353341</td>\n",
              "      <td>...</td>\n",
              "      <td>0.249646</td>\n",
              "      <td>0.790581</td>\n",
              "      <td>0.803785</td>\n",
              "      <td>0.760670</td>\n",
              "      <td>1.000000</td>\n",
              "      <td>0.797647</td>\n",
              "      <td>0.867296</td>\n",
              "      <td>0.816293</td>\n",
              "      <td>0.879400</td>\n",
              "      <td>-0.032426</td>\n",
              "    </tr>\n",
              "    <tr>\n",
              "      <th>P34</th>\n",
              "      <td>0.078641</td>\n",
              "      <td>-0.117024</td>\n",
              "      <td>0.520788</td>\n",
              "      <td>0.570835</td>\n",
              "      <td>0.394319</td>\n",
              "      <td>0.501575</td>\n",
              "      <td>0.434245</td>\n",
              "      <td>0.243040</td>\n",
              "      <td>0.493676</td>\n",
              "      <td>0.577550</td>\n",
              "      <td>...</td>\n",
              "      <td>0.490329</td>\n",
              "      <td>0.918200</td>\n",
              "      <td>0.864144</td>\n",
              "      <td>0.930014</td>\n",
              "      <td>0.797647</td>\n",
              "      <td>1.000000</td>\n",
              "      <td>0.917651</td>\n",
              "      <td>0.970234</td>\n",
              "      <td>0.741039</td>\n",
              "      <td>-0.072343</td>\n",
              "    </tr>\n",
              "    <tr>\n",
              "      <th>P35</th>\n",
              "      <td>0.052951</td>\n",
              "      <td>-0.127973</td>\n",
              "      <td>0.641135</td>\n",
              "      <td>0.449182</td>\n",
              "      <td>0.314798</td>\n",
              "      <td>0.428504</td>\n",
              "      <td>0.277902</td>\n",
              "      <td>0.173309</td>\n",
              "      <td>0.419867</td>\n",
              "      <td>0.473183</td>\n",
              "      <td>...</td>\n",
              "      <td>0.384401</td>\n",
              "      <td>0.874635</td>\n",
              "      <td>0.823262</td>\n",
              "      <td>0.837858</td>\n",
              "      <td>0.867296</td>\n",
              "      <td>0.917651</td>\n",
              "      <td>1.000000</td>\n",
              "      <td>0.904110</td>\n",
              "      <td>0.797640</td>\n",
              "      <td>-0.050156</td>\n",
              "    </tr>\n",
              "    <tr>\n",
              "      <th>P36</th>\n",
              "      <td>0.098472</td>\n",
              "      <td>-0.136617</td>\n",
              "      <td>0.574185</td>\n",
              "      <td>0.554951</td>\n",
              "      <td>0.387938</td>\n",
              "      <td>0.484942</td>\n",
              "      <td>0.411664</td>\n",
              "      <td>0.193652</td>\n",
              "      <td>0.463317</td>\n",
              "      <td>0.559349</td>\n",
              "      <td>...</td>\n",
              "      <td>0.457660</td>\n",
              "      <td>0.904491</td>\n",
              "      <td>0.901940</td>\n",
              "      <td>0.958152</td>\n",
              "      <td>0.816293</td>\n",
              "      <td>0.970234</td>\n",
              "      <td>0.904110</td>\n",
              "      <td>1.000000</td>\n",
              "      <td>0.805416</td>\n",
              "      <td>-0.050534</td>\n",
              "    </tr>\n",
              "    <tr>\n",
              "      <th>P37</th>\n",
              "      <td>0.091000</td>\n",
              "      <td>-0.089976</td>\n",
              "      <td>0.634963</td>\n",
              "      <td>0.277601</td>\n",
              "      <td>0.161162</td>\n",
              "      <td>0.284065</td>\n",
              "      <td>0.177916</td>\n",
              "      <td>0.033548</td>\n",
              "      <td>0.298207</td>\n",
              "      <td>0.324238</td>\n",
              "      <td>...</td>\n",
              "      <td>0.296405</td>\n",
              "      <td>0.736656</td>\n",
              "      <td>0.787904</td>\n",
              "      <td>0.758060</td>\n",
              "      <td>0.879400</td>\n",
              "      <td>0.741039</td>\n",
              "      <td>0.797640</td>\n",
              "      <td>0.805416</td>\n",
              "      <td>1.000000</td>\n",
              "      <td>-0.019051</td>\n",
              "    </tr>\n",
              "    <tr>\n",
              "      <th>revenue</th>\n",
              "      <td>0.266076</td>\n",
              "      <td>-0.237403</td>\n",
              "      <td>-0.090532</td>\n",
              "      <td>0.070217</td>\n",
              "      <td>0.191518</td>\n",
              "      <td>-0.024613</td>\n",
              "      <td>0.035685</td>\n",
              "      <td>-0.028191</td>\n",
              "      <td>0.153246</td>\n",
              "      <td>0.048716</td>\n",
              "      <td>...</td>\n",
              "      <td>-0.114846</td>\n",
              "      <td>-0.066203</td>\n",
              "      <td>-0.040418</td>\n",
              "      <td>-0.065857</td>\n",
              "      <td>-0.032426</td>\n",
              "      <td>-0.072343</td>\n",
              "      <td>-0.050156</td>\n",
              "      <td>-0.050534</td>\n",
              "      <td>-0.019051</td>\n",
              "      <td>1.000000</td>\n",
              "    </tr>\n",
              "  </tbody>\n",
              "</table>\n",
              "<p>41 rows × 41 columns</p>\n",
              "</div>"
            ],
            "text/plain": [
              "                City  City Group      Type        P1        P2        P3  \\\n",
              "City        1.000000   -0.358040  0.061974  0.211984  0.267885  0.092918   \n",
              "City Group -0.358040    1.000000 -0.098585 -0.258556 -0.421095 -0.082172   \n",
              "Type        0.061974   -0.098585  1.000000  0.198231  0.150700  0.247365   \n",
              "P1          0.211984   -0.258556  0.198231  1.000000  0.836671  0.695928   \n",
              "P2          0.267885   -0.421095  0.150700  0.836671  1.000000  0.473551   \n",
              "P3          0.092918   -0.082172  0.247365  0.695928  0.473551  1.000000   \n",
              "P4          0.020494   -0.174134  0.057078  0.677941  0.540322  0.443606   \n",
              "P5         -0.171066    0.019195  0.006765  0.302820  0.203003  0.168891   \n",
              "P6          0.128383   -0.405075  0.099938  0.710941  0.648711  0.548339   \n",
              "P7          0.129683   -0.178663  0.198796  0.824041  0.747544  0.635934   \n",
              "P8          0.046464   -0.071993  0.123399  0.760820  0.505116  0.689173   \n",
              "P9          0.007021   -0.018305  0.162394  0.765743  0.481635  0.741967   \n",
              "P10         0.006378    0.001169  0.164508  0.795885  0.498135  0.764191   \n",
              "P11         0.006642   -0.120045  0.101524  0.542735  0.442719  0.417752   \n",
              "P12         0.001045    0.025473  0.106176  0.708360  0.428065  0.684071   \n",
              "P13        -0.026951    0.039435  0.149246  0.708896  0.410924  0.697519   \n",
              "P14         0.168017   -0.133054  0.544758  0.491638  0.365777  0.393765   \n",
              "P15         0.163319   -0.128448  0.630232  0.473155  0.358841  0.379107   \n",
              "P16         0.117828   -0.141607  0.596308  0.544892  0.396337  0.471427   \n",
              "P17         0.177945   -0.183261  0.551008  0.412963  0.332134  0.327644   \n",
              "P18         0.061072   -0.132483  0.629037  0.478503  0.348191  0.425214   \n",
              "P19         0.078272   -0.053857  0.201576  0.802494  0.595681  0.648948   \n",
              "P20         0.076153   -0.164784  0.258550  0.820953  0.668683  0.682262   \n",
              "P21         0.052059   -0.049982  0.224538  0.654138  0.522294  0.559543   \n",
              "P22         0.080139   -0.256669  0.147737  0.389116  0.476538  0.243983   \n",
              "P23         0.029278   -0.006419  0.214427  0.702120  0.513936  0.602325   \n",
              "P24         0.236239   -0.237349  0.617804  0.425720  0.354225  0.337895   \n",
              "P25         0.177832   -0.211463  0.609864  0.472057  0.378042  0.358244   \n",
              "P26         0.205300   -0.228140  0.603779  0.505437  0.409526  0.393404   \n",
              "P27         0.194251   -0.179750  0.579840  0.280761  0.195660  0.257228   \n",
              "P28         0.180487   -0.298842  0.111218  0.843738  0.732712  0.643420   \n",
              "P29         0.022719    0.035497  0.094343  0.586532  0.322511  0.571525   \n",
              "P30         0.096654   -0.123097  0.539807  0.487589  0.342005  0.473089   \n",
              "P31         0.099550   -0.204542  0.599333  0.479175  0.353477  0.406701   \n",
              "P32         0.061590   -0.169750  0.524885  0.552593  0.389376  0.463217   \n",
              "P33         0.053133   -0.106115  0.700818  0.329795  0.234991  0.312269   \n",
              "P34         0.078641   -0.117024  0.520788  0.570835  0.394319  0.501575   \n",
              "P35         0.052951   -0.127973  0.641135  0.449182  0.314798  0.428504   \n",
              "P36         0.098472   -0.136617  0.574185  0.554951  0.387938  0.484942   \n",
              "P37         0.091000   -0.089976  0.634963  0.277601  0.161162  0.284065   \n",
              "revenue     0.266076   -0.237403 -0.090532  0.070217  0.191518 -0.024613   \n",
              "\n",
              "                  P4        P5        P6        P7  ...       P29       P30  \\\n",
              "City        0.020494 -0.171066  0.128383  0.129683  ...  0.022719  0.096654   \n",
              "City Group -0.174134  0.019195 -0.405075 -0.178663  ...  0.035497 -0.123097   \n",
              "Type        0.057078  0.006765  0.099938  0.198796  ...  0.094343  0.539807   \n",
              "P1          0.677941  0.302820  0.710941  0.824041  ...  0.586532  0.487589   \n",
              "P2          0.540322  0.203003  0.648711  0.747544  ...  0.322511  0.342005   \n",
              "P3          0.443606  0.168891  0.548339  0.635934  ...  0.571525  0.473089   \n",
              "P4          1.000000  0.715406  0.581879  0.684603  ...  0.452364  0.387747   \n",
              "P5          0.715406  1.000000  0.346107  0.428350  ...  0.306904  0.244032   \n",
              "P6          0.581879  0.346107  1.000000  0.723812  ...  0.525457  0.466423   \n",
              "P7          0.684603  0.428350  0.723812  1.000000  ...  0.576145  0.523672   \n",
              "P8          0.654594  0.447577  0.681858  0.737426  ...  0.754736  0.454937   \n",
              "P9          0.675336  0.465662  0.640611  0.748846  ...  0.789784  0.502670   \n",
              "P10         0.685416  0.462299  0.618821  0.750020  ...  0.789510  0.514738   \n",
              "P11         0.585285  0.435002  0.441979  0.491046  ...  0.292211  0.410573   \n",
              "P12         0.595115  0.409181  0.602515  0.707577  ...  0.797455  0.433005   \n",
              "P13         0.571611  0.380722  0.520745  0.677740  ...  0.740722  0.466337   \n",
              "P14         0.347917  0.079245  0.422299  0.471453  ...  0.304980  0.812712   \n",
              "P15         0.287313  0.044635  0.354237  0.444871  ...  0.299711  0.743738   \n",
              "P16         0.379619  0.164822  0.449162  0.546116  ...  0.425590  0.869697   \n",
              "P17         0.235605  0.038805  0.369407  0.379389  ...  0.224734  0.739895   \n",
              "P18         0.359393  0.193489  0.395592  0.512715  ...  0.420248  0.836870   \n",
              "P19         0.725829  0.509874  0.530680  0.715927  ...  0.417782  0.466695   \n",
              "P20         0.579561  0.343363  0.660997  0.763806  ...  0.505358  0.593911   \n",
              "P21         0.545285  0.342726  0.432463  0.584442  ...  0.267466  0.482010   \n",
              "P22         0.076177 -0.198689  0.220576  0.252093  ... -0.148172  0.170901   \n",
              "P23         0.559099  0.354058  0.495211  0.607160  ...  0.393031  0.475536   \n",
              "P24         0.213535  0.020124  0.407708  0.389206  ...  0.247974  0.732452   \n",
              "P25         0.285547  0.042141  0.425429  0.419729  ...  0.269835  0.760051   \n",
              "P26         0.288684  0.052430  0.463749  0.451249  ...  0.308637  0.790324   \n",
              "P27         0.109555  0.008393  0.329039  0.293175  ...  0.270460  0.654312   \n",
              "P28         0.641971  0.323253  0.708100  0.720915  ...  0.331344  0.438447   \n",
              "P29         0.452364  0.306904  0.525457  0.576145  ...  1.000000  0.356722   \n",
              "P30         0.387747  0.244032  0.466423  0.523672  ...  0.356722  1.000000   \n",
              "P31         0.333626  0.112603  0.404426  0.465918  ...  0.371893  0.840158   \n",
              "P32         0.440795  0.215568  0.457331  0.545018  ...  0.425120  0.881481   \n",
              "P33         0.182820  0.071079  0.296197  0.353341  ...  0.249646  0.790581   \n",
              "P34         0.434245  0.243040  0.493676  0.577550  ...  0.490329  0.918200   \n",
              "P35         0.277902  0.173309  0.419867  0.473183  ...  0.384401  0.874635   \n",
              "P36         0.411664  0.193652  0.463317  0.559349  ...  0.457660  0.904491   \n",
              "P37         0.177916  0.033548  0.298207  0.324238  ...  0.296405  0.736656   \n",
              "revenue     0.035685 -0.028191  0.153246  0.048716  ... -0.114846 -0.066203   \n",
              "\n",
              "                 P31       P32       P33       P34       P35       P36  \\\n",
              "City        0.099550  0.061590  0.053133  0.078641  0.052951  0.098472   \n",
              "City Group -0.204542 -0.169750 -0.106115 -0.117024 -0.127973 -0.136617   \n",
              "Type        0.599333  0.524885  0.700818  0.520788  0.641135  0.574185   \n",
              "P1          0.479175  0.552593  0.329795  0.570835  0.449182  0.554951   \n",
              "P2          0.353477  0.389376  0.234991  0.394319  0.314798  0.387938   \n",
              "P3          0.406701  0.463217  0.312269  0.501575  0.428504  0.484942   \n",
              "P4          0.333626  0.440795  0.182820  0.434245  0.277902  0.411664   \n",
              "P5          0.112603  0.215568  0.071079  0.243040  0.173309  0.193652   \n",
              "P6          0.404426  0.457331  0.296197  0.493676  0.419867  0.463317   \n",
              "P7          0.465918  0.545018  0.353341  0.577550  0.473183  0.559349   \n",
              "P8          0.420425  0.516617  0.256416  0.524474  0.405709  0.499777   \n",
              "P9          0.467334  0.544749  0.326869  0.582042  0.467916  0.551953   \n",
              "P10         0.462235  0.549238  0.320317  0.601956  0.483010  0.565068   \n",
              "P11         0.300331  0.358379  0.244698  0.401866  0.291108  0.383485   \n",
              "P12         0.403691  0.471691  0.281619  0.519051  0.426274  0.491803   \n",
              "P13         0.425461  0.499431  0.302684  0.555712  0.457633  0.520219   \n",
              "P14         0.795637  0.840592  0.801055  0.853824  0.815550  0.892459   \n",
              "P15         0.798711  0.797193  0.806085  0.813125  0.819329  0.890441   \n",
              "P16         0.899675  0.928434  0.823748  0.941628  0.899202  0.981550   \n",
              "P17         0.770449  0.772197  0.716934  0.735778  0.781719  0.812184   \n",
              "P18         0.900439  0.915038  0.861861  0.926000  0.916872  0.952266   \n",
              "P19         0.369915  0.437442  0.298000  0.453496  0.346822  0.425475   \n",
              "P20         0.505542  0.567801  0.420983  0.610553  0.529064  0.587118   \n",
              "P21         0.429568  0.481878  0.373014  0.525638  0.437753  0.501181   \n",
              "P22         0.181702  0.169877  0.178341  0.143249  0.156648  0.165467   \n",
              "P23         0.367508  0.433061  0.316115  0.470396  0.399514  0.448681   \n",
              "P24         0.823207  0.787841  0.770173  0.763692  0.813077  0.830078   \n",
              "P25         0.850616  0.849365  0.765023  0.792694  0.781572  0.870674   \n",
              "P26         0.864259  0.859348  0.764947  0.834661  0.817260  0.888330   \n",
              "P27         0.675237  0.649870  0.748135  0.661309  0.723519  0.689364   \n",
              "P28         0.369772  0.457892  0.264879  0.448928  0.341164  0.454263   \n",
              "P29         0.371893  0.425120  0.249646  0.490329  0.384401  0.457660   \n",
              "P30         0.840158  0.881481  0.790581  0.918200  0.874635  0.904491   \n",
              "P31         1.000000  0.934778  0.803785  0.864144  0.823262  0.901940   \n",
              "P32         0.934778  1.000000  0.760670  0.930014  0.837858  0.958152   \n",
              "P33         0.803785  0.760670  1.000000  0.797647  0.867296  0.816293   \n",
              "P34         0.864144  0.930014  0.797647  1.000000  0.917651  0.970234   \n",
              "P35         0.823262  0.837858  0.867296  0.917651  1.000000  0.904110   \n",
              "P36         0.901940  0.958152  0.816293  0.970234  0.904110  1.000000   \n",
              "P37         0.787904  0.758060  0.879400  0.741039  0.797640  0.805416   \n",
              "revenue    -0.040418 -0.065857 -0.032426 -0.072343 -0.050156 -0.050534   \n",
              "\n",
              "                 P37   revenue  \n",
              "City        0.091000  0.266076  \n",
              "City Group -0.089976 -0.237403  \n",
              "Type        0.634963 -0.090532  \n",
              "P1          0.277601  0.070217  \n",
              "P2          0.161162  0.191518  \n",
              "P3          0.284065 -0.024613  \n",
              "P4          0.177916  0.035685  \n",
              "P5          0.033548 -0.028191  \n",
              "P6          0.298207  0.153246  \n",
              "P7          0.324238  0.048716  \n",
              "P8          0.308294 -0.084215  \n",
              "P9          0.330927 -0.050352  \n",
              "P10         0.313748 -0.073220  \n",
              "P11         0.158579  0.084247  \n",
              "P12         0.304963 -0.062193  \n",
              "P13         0.295972 -0.105085  \n",
              "P14         0.776719  0.006441  \n",
              "P15         0.768268  0.000742  \n",
              "P16         0.801029 -0.037997  \n",
              "P17         0.726738  0.067137  \n",
              "P18         0.833428 -0.034537  \n",
              "P19         0.226764  0.027984  \n",
              "P20         0.326929  0.014147  \n",
              "P21         0.273409  0.097411  \n",
              "P22         0.108030  0.083562  \n",
              "P23         0.216329  0.045507  \n",
              "P24         0.787741  0.014222  \n",
              "P25         0.809613  0.036365  \n",
              "P26         0.778074 -0.007650  \n",
              "P27         0.805824 -0.013680  \n",
              "P28         0.215078  0.155534  \n",
              "P29         0.296405 -0.114846  \n",
              "P30         0.736656 -0.066203  \n",
              "P31         0.787904 -0.040418  \n",
              "P32         0.758060 -0.065857  \n",
              "P33         0.879400 -0.032426  \n",
              "P34         0.741039 -0.072343  \n",
              "P35         0.797640 -0.050156  \n",
              "P36         0.805416 -0.050534  \n",
              "P37         1.000000 -0.019051  \n",
              "revenue    -0.019051  1.000000  \n",
              "\n",
              "[41 rows x 41 columns]"
            ]
          },
          "execution_count": 19,
          "metadata": {},
          "output_type": "execute_result"
        }
      ],
      "source": [
        "rawdata.corr()"
      ]
    },
    {
      "cell_type": "code",
      "execution_count": null,
      "id": "89003a45",
      "metadata": {
        "id": "89003a45",
        "outputId": "cd3b4c54-416f-41f9-c499-a8ce173d092b"
      },
      "outputs": [
        {
          "data": {
            "text/plain": [
              "<AxesSubplot:>"
            ]
          },
          "execution_count": 20,
          "metadata": {},
          "output_type": "execute_result"
        },
        {
          "data": {
            "image/png": "[encoded data removed]",
            "text/plain": [
              "<Figure size 432x288 with 2 Axes>"
            ]
          },
          "metadata": {
            "needs_background": "light"
          },
          "output_type": "display_data"
        }
      ],
      "source": [
        "sns.heatmap(data=rawdata.corr())"
      ]
    },
    {
      "cell_type": "code",
      "execution_count": null,
      "id": "dd6c3f1b",
      "metadata": {
        "id": "dd6c3f1b",
        "outputId": "46a73bf6-d1fa-4848-906e-ac0fe2aaefeb"
      },
      "outputs": [
        {
          "name": "stdout",
          "output_type": "stream",
          "text": [
            "City 0.26607606370175685\n"
          ]
        }
      ],
      "source": [
        "max = -2\n",
        "colname = ''\n",
        "for col in rawdata.columns:\n",
        "    if col != 'revenue':\n",
        "        if abs(rawdata.corr()[col]['revenue'])  > max:\n",
        "            colname = col\n",
        "            max = abs(rawdata.corr()[col]['revenue'])\n",
        "            print(colname,max)\n"
      ]
    },
    {
      "cell_type": "code",
      "execution_count": null,
      "id": "d62e635c",
      "metadata": {
        "id": "d62e635c"
      },
      "outputs": [],
      "source": [
        "meanCityRevenue = rawdata[['City','revenue']].groupby(by='City').mean()\n",
        "meanCityRevenue.reset_index(inplace=True)"
      ]
    },
    {
      "cell_type": "code",
      "execution_count": null,
      "id": "22667de5",
      "metadata": {
        "id": "22667de5",
        "outputId": "2e9488a0-3d8a-4df0-ccec-3db8a65fdd48"
      },
      "outputs": [
        {
          "data": {
            "text/plain": [
              "<AxesSubplot:xlabel='City', ylabel='revenue'>"
            ]
          },
          "execution_count": 23,
          "metadata": {},
          "output_type": "execute_result"
        },
        {
          "data": {
            "image/png": "[encoded data removed]",
            "text/plain": [
              "<Figure size 432x288 with 1 Axes>"
            ]
          },
          "metadata": {
            "needs_background": "light"
          },
          "output_type": "display_data"
        }
      ],
      "source": [
        "sns.barplot(x=meanCityRevenue['City'],y=meanCityRevenue['revenue'])"
      ]
    },
    {
      "cell_type": "code",
      "execution_count": null,
      "id": "b8fb0f49",
      "metadata": {
        "id": "b8fb0f49",
        "outputId": "1d564b33-33ab-4c5b-b309-f15fbd084c25"
      },
      "outputs": [
        {
          "data": {
            "text/plain": [
              "<seaborn.axisgrid.JointGrid at 0x228ec09ea70>"
            ]
          },
          "execution_count": 24,
          "metadata": {},
          "output_type": "execute_result"
        },
        {
          "data": {
            "image/png": "[encoded data removed]",
            "text/plain": [
              "<Figure size 432x432 with 3 Axes>"
            ]
          },
          "metadata": {
            "needs_background": "light"
          },
          "output_type": "display_data"
        }
      ],
      "source": [
        "sns.jointplot(x='City',y='revenue',data=rawdata,color='c')"
      ]
    },
    {
      "cell_type": "code",
      "execution_count": null,
      "id": "a39fd9b3",
      "metadata": {
        "id": "a39fd9b3"
      },
      "outputs": [],
      "source": [
        "X_data = rawdata.loc[:, rawdata.columns != 'revenue']\n",
        "Y_data = rawdata['revenue']\n",
        "ss = StandardScaler()\n",
        "X_data = ss.fit_transform(X_data)"
      ]
    },
    {
      "cell_type": "code",
      "execution_count": null,
      "id": "7fec62b9",
      "metadata": {
        "id": "7fec62b9",
        "outputId": "04d05f89-34c1-45fd-b396-1556ec3f4530"
      },
      "outputs": [
        {
          "data": {
            "text/plain": [
              "array([ 0.88075847, -0.86971849,  1.11702464, -0.00503441,  0.39171594,\n",
              "       -0.30870091, -0.36757771, -0.00605649, -0.64813592, -0.17681432,\n",
              "       -0.62280067, -0.24356392, -0.26567228, -0.13802731, -0.15469606,\n",
              "       -0.07774677, -0.15298499,  0.25655344,  0.01671754,  0.47621477,\n",
              "        0.62594069,  0.01699336, -0.1481791 , -0.62102472,  0.6309971 ,\n",
              "       -0.09319028, -0.16215745, -0.09959581, -0.18090592,  1.38579312,\n",
              "       -0.531493  , -0.08063127,  0.41151321,  0.30246296,  0.28295035,\n",
              "        2.28165658,  0.48792216,  0.57563408,  0.18982104,  1.61595083])"
            ]
          },
          "execution_count": 26,
          "metadata": {},
          "output_type": "execute_result"
        }
      ],
      "source": [
        "X_data[0]"
      ]
    },
    {
      "cell_type": "code",
      "execution_count": null,
      "id": "a601e147",
      "metadata": {
        "id": "a601e147",
        "outputId": "9867a62a-378b-4b38-aafa-cebfd9f0578d"
      },
      "outputs": [
        {
          "data": {
            "text/plain": [
              "array([[ 1.01777173, -2.3144245 , -0.33017787, ..., -0.82815008,\n",
              "         0.63474681,  0.02223304],\n",
              "       [-2.61872391,  0.64997435, -0.24130217, ...,  0.18744873,\n",
              "         0.49981798,  0.25042879],\n",
              "       [-2.99286711, -0.07701735,  1.51676142, ...,  0.46867847,\n",
              "        -0.09270349, -0.48773719],\n",
              "       ...,\n",
              "       [-2.77785113,  0.605821  ,  0.88452239, ...,  0.19210435,\n",
              "        -0.1724345 , -0.05944597],\n",
              "       [-2.52680709,  0.80838363, -0.00551137, ...,  0.01088759,\n",
              "         0.28837375,  0.52034441],\n",
              "       [-2.77268732,  0.52268715, -0.56013195, ...,  0.1291708 ,\n",
              "         0.32413406,  0.13775659]])"
            ]
          },
          "execution_count": 27,
          "metadata": {},
          "output_type": "execute_result"
        }
      ],
      "source": [
        "pca = PCA(n_components=0.95)\n",
        "pca.fit(X_data)\n",
        "X_data = pca.transform(X_data)\n",
        "X_data"
      ]
    },
    {
      "cell_type": "code",
      "execution_count": null,
      "id": "ab75697e",
      "metadata": {
        "id": "ab75697e",
        "outputId": "f1d782db-3a10-4106-90d1-0132eca68ca2"
      },
      "outputs": [
        {
          "data": {
            "text/plain": [
              "16"
            ]
          },
          "execution_count": 43,
          "metadata": {},
          "output_type": "execute_result"
        }
      ],
      "source": [
        "len(X_data[0])"
      ]
    },
    {
      "cell_type": "code",
      "execution_count": null,
      "id": "972d1ce5",
      "metadata": {
        "id": "972d1ce5",
        "outputId": "2e3edcb9-6605-4ed2-fd57-09eeea43ebc4"
      },
      "outputs": [
        {
          "data": {
            "text/plain": [
              "<AxesSubplot:>"
            ]
          },
          "execution_count": 66,
          "metadata": {},
          "output_type": "execute_result"
        },
        {
          "data": {
            "image/png": "[encoded data removed]",
            "text/plain": [
              "<Figure size 432x288 with 1 Axes>"
            ]
          },
          "metadata": {
            "needs_background": "light"
          },
          "output_type": "display_data"
        }
      ],
      "source": [
        "sns.scatterplot(x=X_data[:,0], y=X_data[:,1])"
      ]
    },
    {
      "cell_type": "code",
      "execution_count": null,
      "id": "6595c4ea",
      "metadata": {
        "id": "6595c4ea",
        "outputId": "469d253a-86ce-472b-a855-d63bc38d9723"
      },
      "outputs": [
        {
          "data": {
            "text/plain": [
              "<AxesSubplot:>"
            ]
          },
          "execution_count": 68,
          "metadata": {},
          "output_type": "execute_result"
        },
        {
          "data": {
            "image/png": "[encoded data removed]",
            "text/plain": [
              "<Figure size 432x288 with 1 Axes>"
            ]
          },
          "metadata": {
            "needs_background": "light"
          },
          "output_type": "display_data"
        }
      ],
      "source": [
        "sns.scatterplot(x=X_data[:,1], y=X_data[:,2])"
      ]
    },
    {
      "cell_type": "code",
      "execution_count": null,
      "id": "b2587c6a",
      "metadata": {
        "id": "b2587c6a",
        "outputId": "bfa24fe7-67ce-43b2-830f-d40831620474"
      },
      "outputs": [
        {
          "data": {
            "text/plain": [
              "<AxesSubplot:>"
            ]
          },
          "execution_count": 69,
          "metadata": {},
          "output_type": "execute_result"
        },
        {
          "data": {
            "image/png": "[encoded data removed]",
            "text/plain": [
              "<Figure size 432x288 with 1 Axes>"
            ]
          },
          "metadata": {
            "needs_background": "light"
          },
          "output_type": "display_data"
        }
      ],
      "source": [
        "sns.scatterplot(x=X_data[:,2], y=X_data[:,3])"
      ]
    },
    {
      "cell_type": "code",
      "execution_count": null,
      "id": "d6adc7d8",
      "metadata": {
        "id": "d6adc7d8",
        "outputId": "108fa317-00f7-43f8-856d-9febff072b21"
      },
      "outputs": [
        {
          "data": {
            "text/plain": [
              "(5525735    1\n",
              " 4888774    1\n",
              " 1904842    1\n",
              " 4015749    1\n",
              " 5286212    1\n",
              "           ..\n",
              " 6923131    1\n",
              " 3347767    1\n",
              " 2021934    1\n",
              " 2371202    1\n",
              " 2732645    1\n",
              " Name: revenue, Length: 102, dtype: int64,\n",
              " 4052733     1\n",
              " 4758476     1\n",
              " 5017319     1\n",
              " 2390534     1\n",
              " 2097022     1\n",
              " 8894598     1\n",
              " 19696939    1\n",
              " 4250758     1\n",
              " 8630682     1\n",
              " 1149870     1\n",
              " 2954086     1\n",
              " 3199619     1\n",
              " 4705945     1\n",
              " 5435276     1\n",
              " 2544857     1\n",
              " 2055379     1\n",
              " 1882131     1\n",
              " 3218918     1\n",
              " 1270499     1\n",
              " 2740687     1\n",
              " 1847826     1\n",
              " 1619683     1\n",
              " 4467728     1\n",
              " 7217634     1\n",
              " 2267425     1\n",
              " 2018785     1\n",
              " 4807746     1\n",
              " 7495092     1\n",
              " 3871344     1\n",
              " 3351383     1\n",
              " 6941173     1\n",
              " 3818055     1\n",
              " 3956086     1\n",
              " 2999068     1\n",
              " 2738052     1\n",
              " Name: revenue, dtype: int64)"
            ]
          },
          "execution_count": 28,
          "metadata": {},
          "output_type": "execute_result"
        }
      ],
      "source": [
        "X_train,X_test,Y_train,Y_test = train_test_split(X_data,Y_data,random_state=32,test_size=0.25)\n",
        "Y_train.value_counts(),Y_test.value_counts()"
      ]
    },
    {
      "cell_type": "code",
      "execution_count": null,
      "id": "aab32653",
      "metadata": {
        "id": "aab32653",
        "outputId": "e49d65d3-3bc2-4d12-cfd2-5bc88818a811"
      },
      "outputs": [
        {
          "data": {
            "text/plain": [
              "3144364.253180729"
            ]
          },
          "execution_count": 38,
          "metadata": {},
          "output_type": "execute_result"
        }
      ],
      "source": [
        "from math import sqrt\n",
        "lr = LinearRegression()\n",
        "lr.fit(X_train, Y_train) \n",
        "lr_predicted=lr.predict(X_test)\n",
        "sqrt(mean_squared_error(Y_test,lr_predicted))"
      ]
    },
    {
      "cell_type": "code",
      "execution_count": null,
      "id": "bdcb19fb",
      "metadata": {
        "id": "bdcb19fb",
        "outputId": "028d27db-351b-432f-f31d-1add6cf2fb4a"
      },
      "outputs": [
        {
          "data": {
            "text/plain": [
              "3144363.0744801583"
            ]
          },
          "execution_count": 40,
          "metadata": {},
          "output_type": "execute_result"
        }
      ],
      "source": [
        "lrl = Lasso()\n",
        "lrl.fit(X_train, Y_train) \n",
        "lrl_predicted=lrl.predict(X_test)\n",
        "sqrt(mean_squared_error(Y_test,lrl_predicted))"
      ]
    },
    {
      "cell_type": "code",
      "execution_count": null,
      "id": "30882e0c",
      "metadata": {
        "id": "30882e0c",
        "outputId": "65237c0f-c067-47f4-d9dc-a190c9e8e140"
      },
      "outputs": [
        {
          "data": {
            "text/plain": [
              "3144433.6658397294"
            ]
          },
          "execution_count": 41,
          "metadata": {},
          "output_type": "execute_result"
        }
      ],
      "source": [
        "lrr = Ridge()\n",
        "lrr.fit(X_train, Y_train) \n",
        "lrr_predicted=lrr.predict(X_test)\n",
        "sqrt(mean_squared_error(Y_test,lrr_predicted))"
      ]
    },
    {
      "cell_type": "code",
      "execution_count": null,
      "id": "0e1ad049",
      "metadata": {
        "id": "0e1ad049",
        "outputId": "855860c9-e3f6-478a-cbf2-87d7f78e4837"
      },
      "outputs": [
        {
          "name": "stdout",
          "output_type": "stream",
          "text": [
            "RMSE value for k=  1 is: 3205112.465759206\n",
            "RMSE value for k=  2 is: 3515589.847637983\n",
            "RMSE value for k=  3 is: 3098845.0375344157\n",
            "RMSE value for k=  4 is: 2886439.926502628\n",
            "RMSE value for k=  5 is: 2983842.0109631796\n",
            "RMSE value for k=  6 is: 2887940.587430329\n",
            "RMSE value for k=  7 is: 2896556.354973933\n",
            "RMSE value for k=  8 is: 2898482.869367768\n",
            "RMSE value for k=  9 is: 2933655.30270667\n",
            "RMSE value for k=  10 is: 3031969.6759827333\n"
          ]
        }
      ],
      "source": [
        "rmse_val  = []\n",
        "for i in range(1,11):\n",
        "    knnr = KNeighborsRegressor(n_neighbors=i)\n",
        "    knnr.fit(X_train,Y_train)\n",
        "    pred=knnr.predict(X_test)\n",
        "    error = sqrt(mean_squared_error(Y_test,pred))\n",
        "    rmse_val.append(error) \n",
        "    print('RMSE value for k= ' , i , 'is:', error)"
      ]
    },
    {
      "cell_type": "code",
      "execution_count": null,
      "id": "da3afef0",
      "metadata": {
        "id": "da3afef0",
        "outputId": "bf6b0a2c-7ded-4356-87d0-3c3f62603e88"
      },
      "outputs": [
        {
          "data": {
            "text/plain": [
              "<AxesSubplot:>"
            ]
          },
          "execution_count": 47,
          "metadata": {},
          "output_type": "execute_result"
        },
        {
          "data": {
            "image/png": "[encoded data removed]",
            "text/plain": [
              "<Figure size 432x288 with 1 Axes>"
            ]
          },
          "metadata": {
            "needs_background": "light"
          },
          "output_type": "display_data"
        }
      ],
      "source": [
        "#using elbow method to find K value\n",
        "sns.lineplot(x=range(1,11),y=rmse_val)"
      ]
    },
    {
      "cell_type": "code",
      "execution_count": null,
      "id": "255a5ab4",
      "metadata": {
        "id": "255a5ab4",
        "outputId": "eee831c0-f42f-4ac7-eb24-28e00d1eb07f"
      },
      "outputs": [
        {
          "data": {
            "text/plain": [
              "2886439.926502628"
            ]
          },
          "execution_count": 49,
          "metadata": {},
          "output_type": "execute_result"
        }
      ],
      "source": [
        "knnr = KNeighborsRegressor(n_neighbors=4)\n",
        "knnr.fit(X_train,Y_train)\n",
        "pred=knnr.predict(X_test)\n",
        "error = sqrt(mean_squared_error(Y_test,pred))\n",
        "error"
      ]
    },
    {
      "cell_type": "code",
      "execution_count": null,
      "id": "df0ae81f",
      "metadata": {
        "id": "df0ae81f",
        "outputId": "845d50df-77cc-4447-88a6-74aa1dcedfad"
      },
      "outputs": [
        {
          "data": {
            "text/plain": [
              "3311090.400409534"
            ]
          },
          "execution_count": 55,
          "metadata": {},
          "output_type": "execute_result"
        }
      ],
      "source": [
        "svr = SVR(epsilon=0.1)\n",
        "svr.fit(X_train,Y_train)\n",
        "pred=svr.predict(X_test)\n",
        "sqrt(mean_squared_error(Y_test,pred))"
      ]
    },
    {
      "cell_type": "code",
      "execution_count": null,
      "id": "32853262",
      "metadata": {
        "id": "32853262",
        "outputId": "5df11315-6aa3-4eb3-9651-9dba181f8f39"
      },
      "outputs": [
        {
          "data": {
            "text/plain": [
              "4180103.671676126"
            ]
          },
          "execution_count": 57,
          "metadata": {},
          "output_type": "execute_result"
        }
      ],
      "source": [
        "dtr = DecisionTreeRegressor()\n",
        "dtr.fit(X_train,Y_train)\n",
        "pred=dtr.predict(X_test)\n",
        "sqrt(mean_squared_error(Y_test,pred))"
      ]
    },
    {
      "cell_type": "code",
      "execution_count": null,
      "id": "a8bc8174",
      "metadata": {
        "id": "a8bc8174",
        "outputId": "9e13d4f6-4dc9-4a09-bf14-9ba84cbdd7b0"
      },
      "outputs": [
        {
          "data": {
            "text/plain": [
              "3170213.7856842712"
            ]
          },
          "execution_count": 58,
          "metadata": {},
          "output_type": "execute_result"
        }
      ],
      "source": [
        "rfr =RandomForestRegressor()\n",
        "rfr.fit(X_train,Y_train)\n",
        "pred=rfr.predict(X_test)\n",
        "sqrt(mean_squared_error(Y_test,pred))"
      ]
    },
    {
      "cell_type": "markdown",
      "id": "7cf8b36c",
      "metadata": {
        "id": "7cf8b36c"
      },
      "source": [
        "# we got our best result using KNN with least Mean square error of 2886439.926502628"
      ]
    },
    {
      "cell_type": "code",
      "execution_count": null,
      "id": "2ca46d5c",
      "metadata": {
        "id": "2ca46d5c",
        "outputId": "68cf1b60-8623-436f-c310-f340d812a889"
      },
      "outputs": [
        {
          "data": {
            "text/plain": [
              "array([5256567.5])"
            ]
          },
          "execution_count": 60,
          "metadata": {},
          "output_type": "execute_result"
        }
      ],
      "source": [
        "knnr.predict([X_test[5]])"
      ]
    },
    {
      "cell_type": "code",
      "execution_count": null,
      "id": "48edae1b",
      "metadata": {
        "id": "48edae1b",
        "outputId": "1653dfd2-df02-484e-eb29-6d336da66ab7"
      },
      "outputs": [
        {
          "data": {
            "text/plain": [
              "5017319"
            ]
          },
          "execution_count": 61,
          "metadata": {},
          "output_type": "execute_result"
        }
      ],
      "source": [
        "Y_test[5]"
      ]
    },
    {
      "cell_type": "code",
      "execution_count": null,
      "id": "27646c2c",
      "metadata": {
        "id": "27646c2c"
      },
      "outputs": [],
      "source": []
    }
  ],
  "metadata": {
    "kernelspec": {
      "display_name": "Python 3 (ipykernel)",
      "language": "python",
      "name": "python3"
    },
    "language_info": {
      "codemirror_mode": {
        "name": "ipython",
        "version": 3
      },
      "file_extension": ".py",
      "mimetype": "text/x-python",
      "name": "python",
      "nbconvert_exporter": "python",
      "pygments_lexer": "ipython3",
      "version": "3.10.0"
    },
    "colab": {
      "provenance": [],
      "include_colab_link": true
    }
  },
  "nbformat": 4,
  "nbformat_minor": 5
}
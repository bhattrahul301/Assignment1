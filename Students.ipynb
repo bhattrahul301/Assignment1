{
  "nbformat": 4,
  "nbformat_minor": 0,
  "metadata": {
    "colab": {
      "provenance": [],
      "authorship_tag": "ABX9TyPhCJkVhp5PKJMiVTtYFvyU",
      "include_colab_link": true
    },
    "kernelspec": {
      "name": "python3",
      "display_name": "Python 3"
    },
    "language_info": {
      "name": "python"
    },
    "widgets": {
      "application/vnd.jupyter.widget-state+json": {
        "7371e29b6e8b4bcc8f3c324ed368c3a0": {
          "model_module": "@jupyter-widgets/controls",
          "model_name": "VBoxModel",
          "model_module_version": "1.5.0",
          "state": {
            "_dom_classes": [
              "widget-interact"
            ],
            "_model_module": "@jupyter-widgets/controls",
            "_model_module_version": "1.5.0",
            "_model_name": "VBoxModel",
            "_view_count": null,
            "_view_module": "@jupyter-widgets/controls",
            "_view_module_version": "1.5.0",
            "_view_name": "VBoxView",
            "box_style": "",
            "children": [
              "IPY_MODEL_a609ad6feeff4ab2bc54b61a9231a07a",
              "IPY_MODEL_c8e8b9a0d9874ef4bdf29c99a15ca9d5"
            ],
            "layout": "IPY_MODEL_71f553744c6c409db4b9b5f4bb4c7fe8"
          }
        },
        "a609ad6feeff4ab2bc54b61a9231a07a": {
          "model_module": "@jupyter-widgets/controls",
          "model_name": "DropdownModel",
          "model_module_version": "1.5.0",
          "state": {
            "_dom_classes": [],
            "_model_module": "@jupyter-widgets/controls",
            "_model_module_version": "1.5.0",
            "_model_name": "DropdownModel",
            "_options_labels": [
              "Class 1",
              "Class 2"
            ],
            "_view_count": null,
            "_view_module": "@jupyter-widgets/controls",
            "_view_module_version": "1.5.0",
            "_view_name": "DropdownView",
            "description": "Class",
            "description_tooltip": null,
            "disabled": false,
            "index": 1,
            "layout": "IPY_MODEL_e45d2ca130b84cd69ffc680217e90286",
            "style": "IPY_MODEL_998621286ca74a29993710ebd80886fb"
          }
        },
        "c8e8b9a0d9874ef4bdf29c99a15ca9d5": {
          "model_module": "@jupyter-widgets/output",
          "model_name": "OutputModel",
          "model_module_version": "1.0.0",
          "state": {
            "_dom_classes": [],
            "_model_module": "@jupyter-widgets/output",
            "_model_module_version": "1.0.0",
            "_model_name": "OutputModel",
            "_view_count": null,
            "_view_module": "@jupyter-widgets/output",
            "_view_module_version": "1.0.0",
            "_view_name": "OutputView",
            "layout": "IPY_MODEL_0425616716c5483295e48cda22251bd1",
            "msg_id": "",
            "outputs": [
              {
                "output_type": "stream",
                "name": "stdout",
                "text": [
                  "least attendence in the class is  0\n",
                  "student roll numbers having least attendence [3, 7, 21, 22, 39, 43, 47, 60, 67]\n"
                ]
              },
              {
                "output_type": "error",
                "ename": "TypeError",
                "evalue": "ignored",
                "traceback": [
                  "\u001b[0;31m---------------------------------------------------------------------------\u001b[0m",
                  "\u001b[0;31mTypeError\u001b[0m                                 Traceback (most recent call last)",
                  "\u001b[0;32m/usr/local/lib/python3.7/dist-packages/ipywidgets/widgets/interaction.py\u001b[0m in \u001b[0;36mupdate\u001b[0;34m(self, *args)\u001b[0m\n\u001b[1;32m    255\u001b[0m                     \u001b[0mvalue\u001b[0m \u001b[0;34m=\u001b[0m \u001b[0mwidget\u001b[0m\u001b[0;34m.\u001b[0m\u001b[0mget_interact_value\u001b[0m\u001b[0;34m(\u001b[0m\u001b[0;34m)\u001b[0m\u001b[0;34m\u001b[0m\u001b[0;34m\u001b[0m\u001b[0m\n\u001b[1;32m    256\u001b[0m                     \u001b[0mself\u001b[0m\u001b[0;34m.\u001b[0m\u001b[0mkwargs\u001b[0m\u001b[0;34m[\u001b[0m\u001b[0mwidget\u001b[0m\u001b[0;34m.\u001b[0m\u001b[0m_kwarg\u001b[0m\u001b[0;34m]\u001b[0m \u001b[0;34m=\u001b[0m \u001b[0mvalue\u001b[0m\u001b[0;34m\u001b[0m\u001b[0;34m\u001b[0m\u001b[0m\n\u001b[0;32m--> 257\u001b[0;31m                 \u001b[0mself\u001b[0m\u001b[0;34m.\u001b[0m\u001b[0mresult\u001b[0m \u001b[0;34m=\u001b[0m \u001b[0mself\u001b[0m\u001b[0;34m.\u001b[0m\u001b[0mf\u001b[0m\u001b[0;34m(\u001b[0m\u001b[0;34m**\u001b[0m\u001b[0mself\u001b[0m\u001b[0;34m.\u001b[0m\u001b[0mkwargs\u001b[0m\u001b[0;34m)\u001b[0m\u001b[0;34m\u001b[0m\u001b[0;34m\u001b[0m\u001b[0m\n\u001b[0m\u001b[1;32m    258\u001b[0m                 \u001b[0mshow_inline_matplotlib_plots\u001b[0m\u001b[0;34m(\u001b[0m\u001b[0;34m)\u001b[0m\u001b[0;34m\u001b[0m\u001b[0;34m\u001b[0m\u001b[0m\n\u001b[1;32m    259\u001b[0m                 \u001b[0;32mif\u001b[0m \u001b[0mself\u001b[0m\u001b[0;34m.\u001b[0m\u001b[0mauto_display\u001b[0m \u001b[0;32mand\u001b[0m \u001b[0mself\u001b[0m\u001b[0;34m.\u001b[0m\u001b[0mresult\u001b[0m \u001b[0;32mis\u001b[0m \u001b[0;32mnot\u001b[0m \u001b[0;32mNone\u001b[0m\u001b[0;34m:\u001b[0m\u001b[0;34m\u001b[0m\u001b[0;34m\u001b[0m\u001b[0m\n",
                  "\u001b[0;32m<ipython-input-14-3842cca2ec49>\u001b[0m in \u001b[0;36mchooseClass\u001b[0;34m(Class)\u001b[0m\n\u001b[1;32m     14\u001b[0m \u001b[0;34m\u001b[0m\u001b[0m\n\u001b[1;32m     15\u001b[0m     \u001b[0mplt\u001b[0m\u001b[0;34m.\u001b[0m\u001b[0msubplot\u001b[0m\u001b[0;34m(\u001b[0m\u001b[0;36m1\u001b[0m\u001b[0;34m,\u001b[0m \u001b[0;36m2\u001b[0m\u001b[0;34m,\u001b[0m \u001b[0;36m1\u001b[0m\u001b[0;34m)\u001b[0m\u001b[0;34m\u001b[0m\u001b[0;34m\u001b[0m\u001b[0m\n\u001b[0;32m---> 16\u001b[0;31m     \u001b[0mplt\u001b[0m\u001b[0;34m.\u001b[0m\u001b[0mplot\u001b[0m\u001b[0;34m(\u001b[0m\u001b[0mattendence\u001b[0m\u001b[0;34m[\u001b[0m\u001b[0mClass\u001b[0m\u001b[0;34m]\u001b[0m\u001b[0;34m[\u001b[0m\u001b[0;34m'STUDENT'\u001b[0m\u001b[0;34m]\u001b[0m\u001b[0;34m.\u001b[0m\u001b[0mkeys\u001b[0m\u001b[0;34m(\u001b[0m\u001b[0;34m)\u001b[0m\u001b[0;34m,\u001b[0m \u001b[0mattendence\u001b[0m\u001b[0;34m[\u001b[0m\u001b[0mClass\u001b[0m\u001b[0;34m]\u001b[0m\u001b[0;34m[\u001b[0m\u001b[0;34m'STUDENT'\u001b[0m\u001b[0;34m]\u001b[0m\u001b[0;34m.\u001b[0m\u001b[0mvalues\u001b[0m\u001b[0;34m(\u001b[0m\u001b[0;34m)\u001b[0m\u001b[0;34m)\u001b[0m\u001b[0;34m\u001b[0m\u001b[0;34m\u001b[0m\u001b[0m\n\u001b[0m\u001b[1;32m     17\u001b[0m     \u001b[0mplt\u001b[0m\u001b[0;34m.\u001b[0m\u001b[0mtitle\u001b[0m\u001b[0;34m(\u001b[0m\u001b[0;34m'attendence of the all students for '\u001b[0m\u001b[0;34m+\u001b[0m \u001b[0mstr\u001b[0m\u001b[0;34m(\u001b[0m\u001b[0mattendence\u001b[0m\u001b[0;34m[\u001b[0m\u001b[0mClass\u001b[0m\u001b[0;34m]\u001b[0m\u001b[0;34m[\u001b[0m\u001b[0;34m'Total'\u001b[0m\u001b[0;34m]\u001b[0m\u001b[0;34m)\u001b[0m \u001b[0;34m+\u001b[0m\u001b[0;34m' session'\u001b[0m \u001b[0;34m)\u001b[0m\u001b[0;34m\u001b[0m\u001b[0;34m\u001b[0m\u001b[0m\n\u001b[1;32m     18\u001b[0m     \u001b[0mplt\u001b[0m\u001b[0;34m.\u001b[0m\u001b[0mxlabel\u001b[0m\u001b[0;34m(\u001b[0m\u001b[0;34m'Student Roll Numbers'\u001b[0m\u001b[0;34m)\u001b[0m\u001b[0;34m\u001b[0m\u001b[0;34m\u001b[0m\u001b[0m\n",
                  "\u001b[0;32m/usr/local/lib/python3.7/dist-packages/matplotlib/pyplot.py\u001b[0m in \u001b[0;36mplot\u001b[0;34m(scalex, scaley, data, *args, **kwargs)\u001b[0m\n\u001b[1;32m   2761\u001b[0m     return gca().plot(\n\u001b[1;32m   2762\u001b[0m         *args, scalex=scalex, scaley=scaley, **({\"data\": data} if data\n\u001b[0;32m-> 2763\u001b[0;31m         is not None else {}), **kwargs)\n\u001b[0m\u001b[1;32m   2764\u001b[0m \u001b[0;34m\u001b[0m\u001b[0m\n\u001b[1;32m   2765\u001b[0m \u001b[0;34m\u001b[0m\u001b[0m\n",
                  "\u001b[0;32m/usr/local/lib/python3.7/dist-packages/matplotlib/axes/_axes.py\u001b[0m in \u001b[0;36mplot\u001b[0;34m(self, scalex, scaley, data, *args, **kwargs)\u001b[0m\n\u001b[1;32m   1647\u001b[0m         \u001b[0mlines\u001b[0m \u001b[0;34m=\u001b[0m \u001b[0;34m[\u001b[0m\u001b[0;34m*\u001b[0m\u001b[0mself\u001b[0m\u001b[0;34m.\u001b[0m\u001b[0m_get_lines\u001b[0m\u001b[0;34m(\u001b[0m\u001b[0;34m*\u001b[0m\u001b[0margs\u001b[0m\u001b[0;34m,\u001b[0m \u001b[0mdata\u001b[0m\u001b[0;34m=\u001b[0m\u001b[0mdata\u001b[0m\u001b[0;34m,\u001b[0m \u001b[0;34m**\u001b[0m\u001b[0mkwargs\u001b[0m\u001b[0;34m)\u001b[0m\u001b[0;34m]\u001b[0m\u001b[0;34m\u001b[0m\u001b[0;34m\u001b[0m\u001b[0m\n\u001b[1;32m   1648\u001b[0m         \u001b[0;32mfor\u001b[0m \u001b[0mline\u001b[0m \u001b[0;32min\u001b[0m \u001b[0mlines\u001b[0m\u001b[0;34m:\u001b[0m\u001b[0;34m\u001b[0m\u001b[0;34m\u001b[0m\u001b[0m\n\u001b[0;32m-> 1649\u001b[0;31m             \u001b[0mself\u001b[0m\u001b[0;34m.\u001b[0m\u001b[0madd_line\u001b[0m\u001b[0;34m(\u001b[0m\u001b[0mline\u001b[0m\u001b[0;34m)\u001b[0m\u001b[0;34m\u001b[0m\u001b[0;34m\u001b[0m\u001b[0m\n\u001b[0m\u001b[1;32m   1650\u001b[0m         \u001b[0mself\u001b[0m\u001b[0;34m.\u001b[0m\u001b[0m_request_autoscale_view\u001b[0m\u001b[0;34m(\u001b[0m\u001b[0mscalex\u001b[0m\u001b[0;34m=\u001b[0m\u001b[0mscalex\u001b[0m\u001b[0;34m,\u001b[0m \u001b[0mscaley\u001b[0m\u001b[0;34m=\u001b[0m\u001b[0mscaley\u001b[0m\u001b[0;34m)\u001b[0m\u001b[0;34m\u001b[0m\u001b[0;34m\u001b[0m\u001b[0m\n\u001b[1;32m   1651\u001b[0m         \u001b[0;32mreturn\u001b[0m \u001b[0mlines\u001b[0m\u001b[0;34m\u001b[0m\u001b[0;34m\u001b[0m\u001b[0m\n",
                  "\u001b[0;32m/usr/local/lib/python3.7/dist-packages/matplotlib/axes/_base.py\u001b[0m in \u001b[0;36madd_line\u001b[0;34m(self, line)\u001b[0m\n\u001b[1;32m   1848\u001b[0m             \u001b[0mline\u001b[0m\u001b[0;34m.\u001b[0m\u001b[0mset_clip_path\u001b[0m\u001b[0;34m(\u001b[0m\u001b[0mself\u001b[0m\u001b[0;34m.\u001b[0m\u001b[0mpatch\u001b[0m\u001b[0;34m)\u001b[0m\u001b[0;34m\u001b[0m\u001b[0;34m\u001b[0m\u001b[0m\n\u001b[1;32m   1849\u001b[0m \u001b[0;34m\u001b[0m\u001b[0m\n\u001b[0;32m-> 1850\u001b[0;31m         \u001b[0mself\u001b[0m\u001b[0;34m.\u001b[0m\u001b[0m_update_line_limits\u001b[0m\u001b[0;34m(\u001b[0m\u001b[0mline\u001b[0m\u001b[0;34m)\u001b[0m\u001b[0;34m\u001b[0m\u001b[0;34m\u001b[0m\u001b[0m\n\u001b[0m\u001b[1;32m   1851\u001b[0m         \u001b[0;32mif\u001b[0m \u001b[0;32mnot\u001b[0m \u001b[0mline\u001b[0m\u001b[0;34m.\u001b[0m\u001b[0mget_label\u001b[0m\u001b[0;34m(\u001b[0m\u001b[0;34m)\u001b[0m\u001b[0;34m:\u001b[0m\u001b[0;34m\u001b[0m\u001b[0;34m\u001b[0m\u001b[0m\n\u001b[1;32m   1852\u001b[0m             \u001b[0mline\u001b[0m\u001b[0;34m.\u001b[0m\u001b[0mset_label\u001b[0m\u001b[0;34m(\u001b[0m\u001b[0;34m'_line%d'\u001b[0m \u001b[0;34m%\u001b[0m \u001b[0mlen\u001b[0m\u001b[0;34m(\u001b[0m\u001b[0mself\u001b[0m\u001b[0;34m.\u001b[0m\u001b[0mlines\u001b[0m\u001b[0;34m)\u001b[0m\u001b[0;34m)\u001b[0m\u001b[0;34m\u001b[0m\u001b[0;34m\u001b[0m\u001b[0m\n",
                  "\u001b[0;32m/usr/local/lib/python3.7/dist-packages/matplotlib/axes/_base.py\u001b[0m in \u001b[0;36m_update_line_limits\u001b[0;34m(self, line)\u001b[0m\n\u001b[1;32m   1870\u001b[0m         \u001b[0mFigures\u001b[0m \u001b[0mout\u001b[0m \u001b[0mthe\u001b[0m \u001b[0mdata\u001b[0m \u001b[0mlimit\u001b[0m \u001b[0mof\u001b[0m \u001b[0mthe\u001b[0m \u001b[0mgiven\u001b[0m \u001b[0mline\u001b[0m\u001b[0;34m,\u001b[0m \u001b[0mupdating\u001b[0m \u001b[0mself\u001b[0m\u001b[0;34m.\u001b[0m\u001b[0mdataLim\u001b[0m\u001b[0;34m.\u001b[0m\u001b[0;34m\u001b[0m\u001b[0;34m\u001b[0m\u001b[0m\n\u001b[1;32m   1871\u001b[0m         \"\"\"\n\u001b[0;32m-> 1872\u001b[0;31m         \u001b[0mpath\u001b[0m \u001b[0;34m=\u001b[0m \u001b[0mline\u001b[0m\u001b[0;34m.\u001b[0m\u001b[0mget_path\u001b[0m\u001b[0;34m(\u001b[0m\u001b[0;34m)\u001b[0m\u001b[0;34m\u001b[0m\u001b[0;34m\u001b[0m\u001b[0m\n\u001b[0m\u001b[1;32m   1873\u001b[0m         \u001b[0;32mif\u001b[0m \u001b[0mpath\u001b[0m\u001b[0;34m.\u001b[0m\u001b[0mvertices\u001b[0m\u001b[0;34m.\u001b[0m\u001b[0msize\u001b[0m \u001b[0;34m==\u001b[0m \u001b[0;36m0\u001b[0m\u001b[0;34m:\u001b[0m\u001b[0;34m\u001b[0m\u001b[0;34m\u001b[0m\u001b[0m\n\u001b[1;32m   1874\u001b[0m             \u001b[0;32mreturn\u001b[0m\u001b[0;34m\u001b[0m\u001b[0;34m\u001b[0m\u001b[0m\n",
                  "\u001b[0;32m/usr/local/lib/python3.7/dist-packages/matplotlib/lines.py\u001b[0m in \u001b[0;36mget_path\u001b[0;34m(self)\u001b[0m\n\u001b[1;32m   1025\u001b[0m         \"\"\"\n\u001b[1;32m   1026\u001b[0m         \u001b[0;32mif\u001b[0m \u001b[0mself\u001b[0m\u001b[0;34m.\u001b[0m\u001b[0m_invalidy\u001b[0m \u001b[0;32mor\u001b[0m \u001b[0mself\u001b[0m\u001b[0;34m.\u001b[0m\u001b[0m_invalidx\u001b[0m\u001b[0;34m:\u001b[0m\u001b[0;34m\u001b[0m\u001b[0;34m\u001b[0m\u001b[0m\n\u001b[0;32m-> 1027\u001b[0;31m             \u001b[0mself\u001b[0m\u001b[0;34m.\u001b[0m\u001b[0mrecache\u001b[0m\u001b[0;34m(\u001b[0m\u001b[0;34m)\u001b[0m\u001b[0;34m\u001b[0m\u001b[0;34m\u001b[0m\u001b[0m\n\u001b[0m\u001b[1;32m   1028\u001b[0m         \u001b[0;32mreturn\u001b[0m \u001b[0mself\u001b[0m\u001b[0;34m.\u001b[0m\u001b[0m_path\u001b[0m\u001b[0;34m\u001b[0m\u001b[0;34m\u001b[0m\u001b[0m\n\u001b[1;32m   1029\u001b[0m \u001b[0;34m\u001b[0m\u001b[0m\n",
                  "\u001b[0;32m/usr/local/lib/python3.7/dist-packages/matplotlib/lines.py\u001b[0m in \u001b[0;36mrecache\u001b[0;34m(self, always)\u001b[0m\n\u001b[1;32m    668\u001b[0m         \u001b[0;32mif\u001b[0m \u001b[0malways\u001b[0m \u001b[0;32mor\u001b[0m \u001b[0mself\u001b[0m\u001b[0;34m.\u001b[0m\u001b[0m_invalidx\u001b[0m\u001b[0;34m:\u001b[0m\u001b[0;34m\u001b[0m\u001b[0;34m\u001b[0m\u001b[0m\n\u001b[1;32m    669\u001b[0m             \u001b[0mxconv\u001b[0m \u001b[0;34m=\u001b[0m \u001b[0mself\u001b[0m\u001b[0;34m.\u001b[0m\u001b[0mconvert_xunits\u001b[0m\u001b[0;34m(\u001b[0m\u001b[0mself\u001b[0m\u001b[0;34m.\u001b[0m\u001b[0m_xorig\u001b[0m\u001b[0;34m)\u001b[0m\u001b[0;34m\u001b[0m\u001b[0;34m\u001b[0m\u001b[0m\n\u001b[0;32m--> 670\u001b[0;31m             \u001b[0mx\u001b[0m \u001b[0;34m=\u001b[0m \u001b[0m_to_unmasked_float_array\u001b[0m\u001b[0;34m(\u001b[0m\u001b[0mxconv\u001b[0m\u001b[0;34m)\u001b[0m\u001b[0;34m.\u001b[0m\u001b[0mravel\u001b[0m\u001b[0;34m(\u001b[0m\u001b[0;34m)\u001b[0m\u001b[0;34m\u001b[0m\u001b[0;34m\u001b[0m\u001b[0m\n\u001b[0m\u001b[1;32m    671\u001b[0m         \u001b[0;32melse\u001b[0m\u001b[0;34m:\u001b[0m\u001b[0;34m\u001b[0m\u001b[0;34m\u001b[0m\u001b[0m\n\u001b[1;32m    672\u001b[0m             \u001b[0mx\u001b[0m \u001b[0;34m=\u001b[0m \u001b[0mself\u001b[0m\u001b[0;34m.\u001b[0m\u001b[0m_x\u001b[0m\u001b[0;34m\u001b[0m\u001b[0;34m\u001b[0m\u001b[0m\n",
                  "\u001b[0;32m/usr/local/lib/python3.7/dist-packages/matplotlib/cbook/__init__.py\u001b[0m in \u001b[0;36m_to_unmasked_float_array\u001b[0;34m(x)\u001b[0m\n\u001b[1;32m   1315\u001b[0m         \u001b[0;32mreturn\u001b[0m \u001b[0mnp\u001b[0m\u001b[0;34m.\u001b[0m\u001b[0mma\u001b[0m\u001b[0;34m.\u001b[0m\u001b[0masarray\u001b[0m\u001b[0;34m(\u001b[0m\u001b[0mx\u001b[0m\u001b[0;34m,\u001b[0m \u001b[0mfloat\u001b[0m\u001b[0;34m)\u001b[0m\u001b[0;34m.\u001b[0m\u001b[0mfilled\u001b[0m\u001b[0;34m(\u001b[0m\u001b[0mnp\u001b[0m\u001b[0;34m.\u001b[0m\u001b[0mnan\u001b[0m\u001b[0;34m)\u001b[0m\u001b[0;34m\u001b[0m\u001b[0;34m\u001b[0m\u001b[0m\n\u001b[1;32m   1316\u001b[0m     \u001b[0;32melse\u001b[0m\u001b[0;34m:\u001b[0m\u001b[0;34m\u001b[0m\u001b[0;34m\u001b[0m\u001b[0m\n\u001b[0;32m-> 1317\u001b[0;31m         \u001b[0;32mreturn\u001b[0m \u001b[0mnp\u001b[0m\u001b[0;34m.\u001b[0m\u001b[0masarray\u001b[0m\u001b[0;34m(\u001b[0m\u001b[0mx\u001b[0m\u001b[0;34m,\u001b[0m \u001b[0mfloat\u001b[0m\u001b[0;34m)\u001b[0m\u001b[0;34m\u001b[0m\u001b[0;34m\u001b[0m\u001b[0m\n\u001b[0m\u001b[1;32m   1318\u001b[0m \u001b[0;34m\u001b[0m\u001b[0m\n\u001b[1;32m   1319\u001b[0m \u001b[0;34m\u001b[0m\u001b[0m\n",
                  "\u001b[0;31mTypeError\u001b[0m: float() argument must be a string or a number, not 'dict_keys'"
                ]
              }
            ]
          }
        },
        "71f553744c6c409db4b9b5f4bb4c7fe8": {
          "model_module": "@jupyter-widgets/base",
          "model_name": "LayoutModel",
          "model_module_version": "1.2.0",
          "state": {
            "_model_module": "@jupyter-widgets/base",
            "_model_module_version": "1.2.0",
            "_model_name": "LayoutModel",
            "_view_count": null,
            "_view_module": "@jupyter-widgets/base",
            "_view_module_version": "1.2.0",
            "_view_name": "LayoutView",
            "align_content": null,
            "align_items": null,
            "align_self": null,
            "border": null,
            "bottom": null,
            "display": null,
            "flex": null,
            "flex_flow": null,
            "grid_area": null,
            "grid_auto_columns": null,
            "grid_auto_flow": null,
            "grid_auto_rows": null,
            "grid_column": null,
            "grid_gap": null,
            "grid_row": null,
            "grid_template_areas": null,
            "grid_template_columns": null,
            "grid_template_rows": null,
            "height": null,
            "justify_content": null,
            "justify_items": null,
            "left": null,
            "margin": null,
            "max_height": null,
            "max_width": null,
            "min_height": null,
            "min_width": null,
            "object_fit": null,
            "object_position": null,
            "order": null,
            "overflow": null,
            "overflow_x": null,
            "overflow_y": null,
            "padding": null,
            "right": null,
            "top": null,
            "visibility": null,
            "width": null
          }
        },
        "e45d2ca130b84cd69ffc680217e90286": {
          "model_module": "@jupyter-widgets/base",
          "model_name": "LayoutModel",
          "model_module_version": "1.2.0",
          "state": {
            "_model_module": "@jupyter-widgets/base",
            "_model_module_version": "1.2.0",
            "_model_name": "LayoutModel",
            "_view_count": null,
            "_view_module": "@jupyter-widgets/base",
            "_view_module_version": "1.2.0",
            "_view_name": "LayoutView",
            "align_content": null,
            "align_items": null,
            "align_self": null,
            "border": null,
            "bottom": null,
            "display": null,
            "flex": null,
            "flex_flow": null,
            "grid_area": null,
            "grid_auto_columns": null,
            "grid_auto_flow": null,
            "grid_auto_rows": null,
            "grid_column": null,
            "grid_gap": null,
            "grid_row": null,
            "grid_template_areas": null,
            "grid_template_columns": null,
            "grid_template_rows": null,
            "height": null,
            "justify_content": null,
            "justify_items": null,
            "left": null,
            "margin": null,
            "max_height": null,
            "max_width": null,
            "min_height": null,
            "min_width": null,
            "object_fit": null,
            "object_position": null,
            "order": null,
            "overflow": null,
            "overflow_x": null,
            "overflow_y": null,
            "padding": null,
            "right": null,
            "top": null,
            "visibility": null,
            "width": null
          }
        },
        "998621286ca74a29993710ebd80886fb": {
          "model_module": "@jupyter-widgets/controls",
          "model_name": "DescriptionStyleModel",
          "model_module_version": "1.5.0",
          "state": {
            "_model_module": "@jupyter-widgets/controls",
            "_model_module_version": "1.5.0",
            "_model_name": "DescriptionStyleModel",
            "_view_count": null,
            "_view_module": "@jupyter-widgets/base",
            "_view_module_version": "1.2.0",
            "_view_name": "StyleView",
            "description_width": ""
          }
        },
        "0425616716c5483295e48cda22251bd1": {
          "model_module": "@jupyter-widgets/base",
          "model_name": "LayoutModel",
          "model_module_version": "1.2.0",
          "state": {
            "_model_module": "@jupyter-widgets/base",
            "_model_module_version": "1.2.0",
            "_model_name": "LayoutModel",
            "_view_count": null,
            "_view_module": "@jupyter-widgets/base",
            "_view_module_version": "1.2.0",
            "_view_name": "LayoutView",
            "align_content": null,
            "align_items": null,
            "align_self": null,
            "border": null,
            "bottom": null,
            "display": null,
            "flex": null,
            "flex_flow": null,
            "grid_area": null,
            "grid_auto_columns": null,
            "grid_auto_flow": null,
            "grid_auto_rows": null,
            "grid_column": null,
            "grid_gap": null,
            "grid_row": null,
            "grid_template_areas": null,
            "grid_template_columns": null,
            "grid_template_rows": null,
            "height": null,
            "justify_content": null,
            "justify_items": null,
            "left": null,
            "margin": null,
            "max_height": null,
            "max_width": null,
            "min_height": null,
            "min_width": null,
            "object_fit": null,
            "object_position": null,
            "order": null,
            "overflow": null,
            "overflow_x": null,
            "overflow_y": null,
            "padding": null,
            "right": null,
            "top": null,
            "visibility": null,
            "width": null
          }
        },
        "1a99970fd4664bc68ca07e41f722a668": {
          "model_module": "@jupyter-widgets/controls",
          "model_name": "VBoxModel",
          "model_module_version": "1.5.0",
          "state": {
            "_dom_classes": [
              "widget-interact"
            ],
            "_model_module": "@jupyter-widgets/controls",
            "_model_module_version": "1.5.0",
            "_model_name": "VBoxModel",
            "_view_count": null,
            "_view_module": "@jupyter-widgets/controls",
            "_view_module_version": "1.5.0",
            "_view_name": "VBoxView",
            "box_style": "",
            "children": [
              "IPY_MODEL_5ee8a3e8732d415994d4a3f4a8de8c0c",
              "IPY_MODEL_29c1e9a50c2a450581ad05ecfa3dcc51"
            ],
            "layout": "IPY_MODEL_bf395f85800b418994392f5a890e1349"
          }
        },
        "5ee8a3e8732d415994d4a3f4a8de8c0c": {
          "model_module": "@jupyter-widgets/controls",
          "model_name": "DropdownModel",
          "model_module_version": "1.5.0",
          "state": {
            "_dom_classes": [],
            "_model_module": "@jupyter-widgets/controls",
            "_model_module_version": "1.5.0",
            "_model_name": "DropdownModel",
            "_options_labels": [
              "Class 1",
              "Class 2"
            ],
            "_view_count": null,
            "_view_module": "@jupyter-widgets/controls",
            "_view_module_version": "1.5.0",
            "_view_name": "DropdownView",
            "description": "Class",
            "description_tooltip": null,
            "disabled": false,
            "index": 0,
            "layout": "IPY_MODEL_3686cff22dc849dcac9274995b9c0f62",
            "style": "IPY_MODEL_8b6e29344d234b31bc0750d420837135"
          }
        },
        "29c1e9a50c2a450581ad05ecfa3dcc51": {
          "model_module": "@jupyter-widgets/output",
          "model_name": "OutputModel",
          "model_module_version": "1.0.0",
          "state": {
            "_dom_classes": [],
            "_model_module": "@jupyter-widgets/output",
            "_model_module_version": "1.0.0",
            "_model_name": "OutputModel",
            "_view_count": null,
            "_view_module": "@jupyter-widgets/output",
            "_view_module_version": "1.0.0",
            "_view_name": "OutputView",
            "layout": "IPY_MODEL_171c03601f6f4fe486fde1d48232c79c",
            "msg_id": "",
            "outputs": [
              {
                "output_type": "stream",
                "name": "stdout",
                "text": [
                  "least rating in the class is  6\n",
                  "student roll numbers who rated [6, 26, 33, 39, 40, 46, 47, 49, 57]\n"
                ]
              },
              {
                "output_type": "error",
                "ename": "TypeError",
                "evalue": "ignored",
                "traceback": [
                  "\u001b[0;31m---------------------------------------------------------------------------\u001b[0m",
                  "\u001b[0;31mTypeError\u001b[0m                                 Traceback (most recent call last)",
                  "\u001b[0;32m/usr/local/lib/python3.7/dist-packages/ipywidgets/widgets/interaction.py\u001b[0m in \u001b[0;36mupdate\u001b[0;34m(self, *args)\u001b[0m\n\u001b[1;32m    255\u001b[0m                     \u001b[0mvalue\u001b[0m \u001b[0;34m=\u001b[0m \u001b[0mwidget\u001b[0m\u001b[0;34m.\u001b[0m\u001b[0mget_interact_value\u001b[0m\u001b[0;34m(\u001b[0m\u001b[0;34m)\u001b[0m\u001b[0;34m\u001b[0m\u001b[0;34m\u001b[0m\u001b[0m\n\u001b[1;32m    256\u001b[0m                     \u001b[0mself\u001b[0m\u001b[0;34m.\u001b[0m\u001b[0mkwargs\u001b[0m\u001b[0;34m[\u001b[0m\u001b[0mwidget\u001b[0m\u001b[0;34m.\u001b[0m\u001b[0m_kwarg\u001b[0m\u001b[0;34m]\u001b[0m \u001b[0;34m=\u001b[0m \u001b[0mvalue\u001b[0m\u001b[0;34m\u001b[0m\u001b[0;34m\u001b[0m\u001b[0m\n\u001b[0;32m--> 257\u001b[0;31m                 \u001b[0mself\u001b[0m\u001b[0;34m.\u001b[0m\u001b[0mresult\u001b[0m \u001b[0;34m=\u001b[0m \u001b[0mself\u001b[0m\u001b[0;34m.\u001b[0m\u001b[0mf\u001b[0m\u001b[0;34m(\u001b[0m\u001b[0;34m**\u001b[0m\u001b[0mself\u001b[0m\u001b[0;34m.\u001b[0m\u001b[0mkwargs\u001b[0m\u001b[0;34m)\u001b[0m\u001b[0;34m\u001b[0m\u001b[0;34m\u001b[0m\u001b[0m\n\u001b[0m\u001b[1;32m    258\u001b[0m                 \u001b[0mshow_inline_matplotlib_plots\u001b[0m\u001b[0;34m(\u001b[0m\u001b[0;34m)\u001b[0m\u001b[0;34m\u001b[0m\u001b[0;34m\u001b[0m\u001b[0m\n\u001b[1;32m    259\u001b[0m                 \u001b[0;32mif\u001b[0m \u001b[0mself\u001b[0m\u001b[0;34m.\u001b[0m\u001b[0mauto_display\u001b[0m \u001b[0;32mand\u001b[0m \u001b[0mself\u001b[0m\u001b[0;34m.\u001b[0m\u001b[0mresult\u001b[0m \u001b[0;32mis\u001b[0m \u001b[0;32mnot\u001b[0m \u001b[0;32mNone\u001b[0m\u001b[0;34m:\u001b[0m\u001b[0;34m\u001b[0m\u001b[0;34m\u001b[0m\u001b[0m\n",
                  "\u001b[0;32m<ipython-input-15-8cce56ed1221>\u001b[0m in \u001b[0;36mchooseClass\u001b[0;34m(Class)\u001b[0m\n\u001b[1;32m     14\u001b[0m \u001b[0;34m\u001b[0m\u001b[0m\n\u001b[1;32m     15\u001b[0m     \u001b[0mplt\u001b[0m\u001b[0;34m.\u001b[0m\u001b[0msubplot\u001b[0m\u001b[0;34m(\u001b[0m\u001b[0;36m1\u001b[0m\u001b[0;34m,\u001b[0m \u001b[0;36m2\u001b[0m\u001b[0;34m,\u001b[0m \u001b[0;36m1\u001b[0m\u001b[0;34m)\u001b[0m\u001b[0;34m\u001b[0m\u001b[0;34m\u001b[0m\u001b[0m\n\u001b[0;32m---> 16\u001b[0;31m     \u001b[0mplt\u001b[0m\u001b[0;34m.\u001b[0m\u001b[0mplot\u001b[0m\u001b[0;34m(\u001b[0m\u001b[0mavg_rating\u001b[0m\u001b[0;34m[\u001b[0m\u001b[0mClass\u001b[0m\u001b[0;34m]\u001b[0m\u001b[0;34m[\u001b[0m\u001b[0;34m'STUDENT'\u001b[0m\u001b[0;34m]\u001b[0m\u001b[0;34m.\u001b[0m\u001b[0mkeys\u001b[0m\u001b[0;34m(\u001b[0m\u001b[0;34m)\u001b[0m\u001b[0;34m,\u001b[0m \u001b[0mavg_rating\u001b[0m\u001b[0;34m[\u001b[0m\u001b[0mClass\u001b[0m\u001b[0;34m]\u001b[0m\u001b[0;34m[\u001b[0m\u001b[0;34m'STUDENT'\u001b[0m\u001b[0;34m]\u001b[0m\u001b[0;34m.\u001b[0m\u001b[0mvalues\u001b[0m\u001b[0;34m(\u001b[0m\u001b[0;34m)\u001b[0m\u001b[0;34m)\u001b[0m\u001b[0;34m\u001b[0m\u001b[0;34m\u001b[0m\u001b[0m\n\u001b[0m\u001b[1;32m     17\u001b[0m     \u001b[0mplt\u001b[0m\u001b[0;34m.\u001b[0m\u001b[0mtitle\u001b[0m\u001b[0;34m(\u001b[0m\u001b[0;34m'Average rating of each student for '\u001b[0m\u001b[0;34m+\u001b[0m \u001b[0mClass\u001b[0m \u001b[0;34m)\u001b[0m\u001b[0;34m\u001b[0m\u001b[0;34m\u001b[0m\u001b[0m\n\u001b[1;32m     18\u001b[0m     \u001b[0mplt\u001b[0m\u001b[0;34m.\u001b[0m\u001b[0mxlabel\u001b[0m\u001b[0;34m(\u001b[0m\u001b[0;34m'Student Roll Numbers'\u001b[0m\u001b[0;34m)\u001b[0m\u001b[0;34m\u001b[0m\u001b[0;34m\u001b[0m\u001b[0m\n",
                  "\u001b[0;32m/usr/local/lib/python3.7/dist-packages/matplotlib/pyplot.py\u001b[0m in \u001b[0;36mplot\u001b[0;34m(scalex, scaley, data, *args, **kwargs)\u001b[0m\n\u001b[1;32m   2761\u001b[0m     return gca().plot(\n\u001b[1;32m   2762\u001b[0m         *args, scalex=scalex, scaley=scaley, **({\"data\": data} if data\n\u001b[0;32m-> 2763\u001b[0;31m         is not None else {}), **kwargs)\n\u001b[0m\u001b[1;32m   2764\u001b[0m \u001b[0;34m\u001b[0m\u001b[0m\n\u001b[1;32m   2765\u001b[0m \u001b[0;34m\u001b[0m\u001b[0m\n",
                  "\u001b[0;32m/usr/local/lib/python3.7/dist-packages/matplotlib/axes/_axes.py\u001b[0m in \u001b[0;36mplot\u001b[0;34m(self, scalex, scaley, data, *args, **kwargs)\u001b[0m\n\u001b[1;32m   1647\u001b[0m         \u001b[0mlines\u001b[0m \u001b[0;34m=\u001b[0m \u001b[0;34m[\u001b[0m\u001b[0;34m*\u001b[0m\u001b[0mself\u001b[0m\u001b[0;34m.\u001b[0m\u001b[0m_get_lines\u001b[0m\u001b[0;34m(\u001b[0m\u001b[0;34m*\u001b[0m\u001b[0margs\u001b[0m\u001b[0;34m,\u001b[0m \u001b[0mdata\u001b[0m\u001b[0;34m=\u001b[0m\u001b[0mdata\u001b[0m\u001b[0;34m,\u001b[0m \u001b[0;34m**\u001b[0m\u001b[0mkwargs\u001b[0m\u001b[0;34m)\u001b[0m\u001b[0;34m]\u001b[0m\u001b[0;34m\u001b[0m\u001b[0;34m\u001b[0m\u001b[0m\n\u001b[1;32m   1648\u001b[0m         \u001b[0;32mfor\u001b[0m \u001b[0mline\u001b[0m \u001b[0;32min\u001b[0m \u001b[0mlines\u001b[0m\u001b[0;34m:\u001b[0m\u001b[0;34m\u001b[0m\u001b[0;34m\u001b[0m\u001b[0m\n\u001b[0;32m-> 1649\u001b[0;31m             \u001b[0mself\u001b[0m\u001b[0;34m.\u001b[0m\u001b[0madd_line\u001b[0m\u001b[0;34m(\u001b[0m\u001b[0mline\u001b[0m\u001b[0;34m)\u001b[0m\u001b[0;34m\u001b[0m\u001b[0;34m\u001b[0m\u001b[0m\n\u001b[0m\u001b[1;32m   1650\u001b[0m         \u001b[0mself\u001b[0m\u001b[0;34m.\u001b[0m\u001b[0m_request_autoscale_view\u001b[0m\u001b[0;34m(\u001b[0m\u001b[0mscalex\u001b[0m\u001b[0;34m=\u001b[0m\u001b[0mscalex\u001b[0m\u001b[0;34m,\u001b[0m \u001b[0mscaley\u001b[0m\u001b[0;34m=\u001b[0m\u001b[0mscaley\u001b[0m\u001b[0;34m)\u001b[0m\u001b[0;34m\u001b[0m\u001b[0;34m\u001b[0m\u001b[0m\n\u001b[1;32m   1651\u001b[0m         \u001b[0;32mreturn\u001b[0m \u001b[0mlines\u001b[0m\u001b[0;34m\u001b[0m\u001b[0;34m\u001b[0m\u001b[0m\n",
                  "\u001b[0;32m/usr/local/lib/python3.7/dist-packages/matplotlib/axes/_base.py\u001b[0m in \u001b[0;36madd_line\u001b[0;34m(self, line)\u001b[0m\n\u001b[1;32m   1848\u001b[0m             \u001b[0mline\u001b[0m\u001b[0;34m.\u001b[0m\u001b[0mset_clip_path\u001b[0m\u001b[0;34m(\u001b[0m\u001b[0mself\u001b[0m\u001b[0;34m.\u001b[0m\u001b[0mpatch\u001b[0m\u001b[0;34m)\u001b[0m\u001b[0;34m\u001b[0m\u001b[0;34m\u001b[0m\u001b[0m\n\u001b[1;32m   1849\u001b[0m \u001b[0;34m\u001b[0m\u001b[0m\n\u001b[0;32m-> 1850\u001b[0;31m         \u001b[0mself\u001b[0m\u001b[0;34m.\u001b[0m\u001b[0m_update_line_limits\u001b[0m\u001b[0;34m(\u001b[0m\u001b[0mline\u001b[0m\u001b[0;34m)\u001b[0m\u001b[0;34m\u001b[0m\u001b[0;34m\u001b[0m\u001b[0m\n\u001b[0m\u001b[1;32m   1851\u001b[0m         \u001b[0;32mif\u001b[0m \u001b[0;32mnot\u001b[0m \u001b[0mline\u001b[0m\u001b[0;34m.\u001b[0m\u001b[0mget_label\u001b[0m\u001b[0;34m(\u001b[0m\u001b[0;34m)\u001b[0m\u001b[0;34m:\u001b[0m\u001b[0;34m\u001b[0m\u001b[0;34m\u001b[0m\u001b[0m\n\u001b[1;32m   1852\u001b[0m             \u001b[0mline\u001b[0m\u001b[0;34m.\u001b[0m\u001b[0mset_label\u001b[0m\u001b[0;34m(\u001b[0m\u001b[0;34m'_line%d'\u001b[0m \u001b[0;34m%\u001b[0m \u001b[0mlen\u001b[0m\u001b[0;34m(\u001b[0m\u001b[0mself\u001b[0m\u001b[0;34m.\u001b[0m\u001b[0mlines\u001b[0m\u001b[0;34m)\u001b[0m\u001b[0;34m)\u001b[0m\u001b[0;34m\u001b[0m\u001b[0;34m\u001b[0m\u001b[0m\n",
                  "\u001b[0;32m/usr/local/lib/python3.7/dist-packages/matplotlib/axes/_base.py\u001b[0m in \u001b[0;36m_update_line_limits\u001b[0;34m(self, line)\u001b[0m\n\u001b[1;32m   1870\u001b[0m         \u001b[0mFigures\u001b[0m \u001b[0mout\u001b[0m \u001b[0mthe\u001b[0m \u001b[0mdata\u001b[0m \u001b[0mlimit\u001b[0m \u001b[0mof\u001b[0m \u001b[0mthe\u001b[0m \u001b[0mgiven\u001b[0m \u001b[0mline\u001b[0m\u001b[0;34m,\u001b[0m \u001b[0mupdating\u001b[0m \u001b[0mself\u001b[0m\u001b[0;34m.\u001b[0m\u001b[0mdataLim\u001b[0m\u001b[0;34m.\u001b[0m\u001b[0;34m\u001b[0m\u001b[0;34m\u001b[0m\u001b[0m\n\u001b[1;32m   1871\u001b[0m         \"\"\"\n\u001b[0;32m-> 1872\u001b[0;31m         \u001b[0mpath\u001b[0m \u001b[0;34m=\u001b[0m \u001b[0mline\u001b[0m\u001b[0;34m.\u001b[0m\u001b[0mget_path\u001b[0m\u001b[0;34m(\u001b[0m\u001b[0;34m)\u001b[0m\u001b[0;34m\u001b[0m\u001b[0;34m\u001b[0m\u001b[0m\n\u001b[0m\u001b[1;32m   1873\u001b[0m         \u001b[0;32mif\u001b[0m \u001b[0mpath\u001b[0m\u001b[0;34m.\u001b[0m\u001b[0mvertices\u001b[0m\u001b[0;34m.\u001b[0m\u001b[0msize\u001b[0m \u001b[0;34m==\u001b[0m \u001b[0;36m0\u001b[0m\u001b[0;34m:\u001b[0m\u001b[0;34m\u001b[0m\u001b[0;34m\u001b[0m\u001b[0m\n\u001b[1;32m   1874\u001b[0m             \u001b[0;32mreturn\u001b[0m\u001b[0;34m\u001b[0m\u001b[0;34m\u001b[0m\u001b[0m\n",
                  "\u001b[0;32m/usr/local/lib/python3.7/dist-packages/matplotlib/lines.py\u001b[0m in \u001b[0;36mget_path\u001b[0;34m(self)\u001b[0m\n\u001b[1;32m   1025\u001b[0m         \"\"\"\n\u001b[1;32m   1026\u001b[0m         \u001b[0;32mif\u001b[0m \u001b[0mself\u001b[0m\u001b[0;34m.\u001b[0m\u001b[0m_invalidy\u001b[0m \u001b[0;32mor\u001b[0m \u001b[0mself\u001b[0m\u001b[0;34m.\u001b[0m\u001b[0m_invalidx\u001b[0m\u001b[0;34m:\u001b[0m\u001b[0;34m\u001b[0m\u001b[0;34m\u001b[0m\u001b[0m\n\u001b[0;32m-> 1027\u001b[0;31m             \u001b[0mself\u001b[0m\u001b[0;34m.\u001b[0m\u001b[0mrecache\u001b[0m\u001b[0;34m(\u001b[0m\u001b[0;34m)\u001b[0m\u001b[0;34m\u001b[0m\u001b[0;34m\u001b[0m\u001b[0m\n\u001b[0m\u001b[1;32m   1028\u001b[0m         \u001b[0;32mreturn\u001b[0m \u001b[0mself\u001b[0m\u001b[0;34m.\u001b[0m\u001b[0m_path\u001b[0m\u001b[0;34m\u001b[0m\u001b[0;34m\u001b[0m\u001b[0m\n\u001b[1;32m   1029\u001b[0m \u001b[0;34m\u001b[0m\u001b[0m\n",
                  "\u001b[0;32m/usr/local/lib/python3.7/dist-packages/matplotlib/lines.py\u001b[0m in \u001b[0;36mrecache\u001b[0;34m(self, always)\u001b[0m\n\u001b[1;32m    668\u001b[0m         \u001b[0;32mif\u001b[0m \u001b[0malways\u001b[0m \u001b[0;32mor\u001b[0m \u001b[0mself\u001b[0m\u001b[0;34m.\u001b[0m\u001b[0m_invalidx\u001b[0m\u001b[0;34m:\u001b[0m\u001b[0;34m\u001b[0m\u001b[0;34m\u001b[0m\u001b[0m\n\u001b[1;32m    669\u001b[0m             \u001b[0mxconv\u001b[0m \u001b[0;34m=\u001b[0m \u001b[0mself\u001b[0m\u001b[0;34m.\u001b[0m\u001b[0mconvert_xunits\u001b[0m\u001b[0;34m(\u001b[0m\u001b[0mself\u001b[0m\u001b[0;34m.\u001b[0m\u001b[0m_xorig\u001b[0m\u001b[0;34m)\u001b[0m\u001b[0;34m\u001b[0m\u001b[0;34m\u001b[0m\u001b[0m\n\u001b[0;32m--> 670\u001b[0;31m             \u001b[0mx\u001b[0m \u001b[0;34m=\u001b[0m \u001b[0m_to_unmasked_float_array\u001b[0m\u001b[0;34m(\u001b[0m\u001b[0mxconv\u001b[0m\u001b[0;34m)\u001b[0m\u001b[0;34m.\u001b[0m\u001b[0mravel\u001b[0m\u001b[0;34m(\u001b[0m\u001b[0;34m)\u001b[0m\u001b[0;34m\u001b[0m\u001b[0;34m\u001b[0m\u001b[0m\n\u001b[0m\u001b[1;32m    671\u001b[0m         \u001b[0;32melse\u001b[0m\u001b[0;34m:\u001b[0m\u001b[0;34m\u001b[0m\u001b[0;34m\u001b[0m\u001b[0m\n\u001b[1;32m    672\u001b[0m             \u001b[0mx\u001b[0m \u001b[0;34m=\u001b[0m \u001b[0mself\u001b[0m\u001b[0;34m.\u001b[0m\u001b[0m_x\u001b[0m\u001b[0;34m\u001b[0m\u001b[0;34m\u001b[0m\u001b[0m\n",
                  "\u001b[0;32m/usr/local/lib/python3.7/dist-packages/matplotlib/cbook/__init__.py\u001b[0m in \u001b[0;36m_to_unmasked_float_array\u001b[0;34m(x)\u001b[0m\n\u001b[1;32m   1315\u001b[0m         \u001b[0;32mreturn\u001b[0m \u001b[0mnp\u001b[0m\u001b[0;34m.\u001b[0m\u001b[0mma\u001b[0m\u001b[0;34m.\u001b[0m\u001b[0masarray\u001b[0m\u001b[0;34m(\u001b[0m\u001b[0mx\u001b[0m\u001b[0;34m,\u001b[0m \u001b[0mfloat\u001b[0m\u001b[0;34m)\u001b[0m\u001b[0;34m.\u001b[0m\u001b[0mfilled\u001b[0m\u001b[0;34m(\u001b[0m\u001b[0mnp\u001b[0m\u001b[0;34m.\u001b[0m\u001b[0mnan\u001b[0m\u001b[0;34m)\u001b[0m\u001b[0;34m\u001b[0m\u001b[0;34m\u001b[0m\u001b[0m\n\u001b[1;32m   1316\u001b[0m     \u001b[0;32melse\u001b[0m\u001b[0;34m:\u001b[0m\u001b[0;34m\u001b[0m\u001b[0;34m\u001b[0m\u001b[0m\n\u001b[0;32m-> 1317\u001b[0;31m         \u001b[0;32mreturn\u001b[0m \u001b[0mnp\u001b[0m\u001b[0;34m.\u001b[0m\u001b[0masarray\u001b[0m\u001b[0;34m(\u001b[0m\u001b[0mx\u001b[0m\u001b[0;34m,\u001b[0m \u001b[0mfloat\u001b[0m\u001b[0;34m)\u001b[0m\u001b[0;34m\u001b[0m\u001b[0;34m\u001b[0m\u001b[0m\n\u001b[0m\u001b[1;32m   1318\u001b[0m \u001b[0;34m\u001b[0m\u001b[0m\n\u001b[1;32m   1319\u001b[0m \u001b[0;34m\u001b[0m\u001b[0m\n",
                  "\u001b[0;31mTypeError\u001b[0m: float() argument must be a string or a number, not 'dict_keys'"
                ]
              }
            ]
          }
        },
        "bf395f85800b418994392f5a890e1349": {
          "model_module": "@jupyter-widgets/base",
          "model_name": "LayoutModel",
          "model_module_version": "1.2.0",
          "state": {
            "_model_module": "@jupyter-widgets/base",
            "_model_module_version": "1.2.0",
            "_model_name": "LayoutModel",
            "_view_count": null,
            "_view_module": "@jupyter-widgets/base",
            "_view_module_version": "1.2.0",
            "_view_name": "LayoutView",
            "align_content": null,
            "align_items": null,
            "align_self": null,
            "border": null,
            "bottom": null,
            "display": null,
            "flex": null,
            "flex_flow": null,
            "grid_area": null,
            "grid_auto_columns": null,
            "grid_auto_flow": null,
            "grid_auto_rows": null,
            "grid_column": null,
            "grid_gap": null,
            "grid_row": null,
            "grid_template_areas": null,
            "grid_template_columns": null,
            "grid_template_rows": null,
            "height": null,
            "justify_content": null,
            "justify_items": null,
            "left": null,
            "margin": null,
            "max_height": null,
            "max_width": null,
            "min_height": null,
            "min_width": null,
            "object_fit": null,
            "object_position": null,
            "order": null,
            "overflow": null,
            "overflow_x": null,
            "overflow_y": null,
            "padding": null,
            "right": null,
            "top": null,
            "visibility": null,
            "width": null
          }
        },
        "3686cff22dc849dcac9274995b9c0f62": {
          "model_module": "@jupyter-widgets/base",
          "model_name": "LayoutModel",
          "model_module_version": "1.2.0",
          "state": {
            "_model_module": "@jupyter-widgets/base",
            "_model_module_version": "1.2.0",
            "_model_name": "LayoutModel",
            "_view_count": null,
            "_view_module": "@jupyter-widgets/base",
            "_view_module_version": "1.2.0",
            "_view_name": "LayoutView",
            "align_content": null,
            "align_items": null,
            "align_self": null,
            "border": null,
            "bottom": null,
            "display": null,
            "flex": null,
            "flex_flow": null,
            "grid_area": null,
            "grid_auto_columns": null,
            "grid_auto_flow": null,
            "grid_auto_rows": null,
            "grid_column": null,
            "grid_gap": null,
            "grid_row": null,
            "grid_template_areas": null,
            "grid_template_columns": null,
            "grid_template_rows": null,
            "height": null,
            "justify_content": null,
            "justify_items": null,
            "left": null,
            "margin": null,
            "max_height": null,
            "max_width": null,
            "min_height": null,
            "min_width": null,
            "object_fit": null,
            "object_position": null,
            "order": null,
            "overflow": null,
            "overflow_x": null,
            "overflow_y": null,
            "padding": null,
            "right": null,
            "top": null,
            "visibility": null,
            "width": null
          }
        },
        "8b6e29344d234b31bc0750d420837135": {
          "model_module": "@jupyter-widgets/controls",
          "model_name": "DescriptionStyleModel",
          "model_module_version": "1.5.0",
          "state": {
            "_model_module": "@jupyter-widgets/controls",
            "_model_module_version": "1.5.0",
            "_model_name": "DescriptionStyleModel",
            "_view_count": null,
            "_view_module": "@jupyter-widgets/base",
            "_view_module_version": "1.2.0",
            "_view_name": "StyleView",
            "description_width": ""
          }
        },
        "171c03601f6f4fe486fde1d48232c79c": {
          "model_module": "@jupyter-widgets/base",
          "model_name": "LayoutModel",
          "model_module_version": "1.2.0",
          "state": {
            "_model_module": "@jupyter-widgets/base",
            "_model_module_version": "1.2.0",
            "_model_name": "LayoutModel",
            "_view_count": null,
            "_view_module": "@jupyter-widgets/base",
            "_view_module_version": "1.2.0",
            "_view_name": "LayoutView",
            "align_content": null,
            "align_items": null,
            "align_self": null,
            "border": null,
            "bottom": null,
            "display": null,
            "flex": null,
            "flex_flow": null,
            "grid_area": null,
            "grid_auto_columns": null,
            "grid_auto_flow": null,
            "grid_auto_rows": null,
            "grid_column": null,
            "grid_gap": null,
            "grid_row": null,
            "grid_template_areas": null,
            "grid_template_columns": null,
            "grid_template_rows": null,
            "height": null,
            "justify_content": null,
            "justify_items": null,
            "left": null,
            "margin": null,
            "max_height": null,
            "max_width": null,
            "min_height": null,
            "min_width": null,
            "object_fit": null,
            "object_position": null,
            "order": null,
            "overflow": null,
            "overflow_x": null,
            "overflow_y": null,
            "padding": null,
            "right": null,
            "top": null,
            "visibility": null,
            "width": null
          }
        },
        "2295a73cc95c45f6aba0c408ac9521de": {
          "model_module": "@jupyter-widgets/controls",
          "model_name": "VBoxModel",
          "model_module_version": "1.5.0",
          "state": {
            "_dom_classes": [
              "widget-interact"
            ],
            "_model_module": "@jupyter-widgets/controls",
            "_model_module_version": "1.5.0",
            "_model_name": "VBoxModel",
            "_view_count": null,
            "_view_module": "@jupyter-widgets/controls",
            "_view_module_version": "1.5.0",
            "_view_name": "VBoxView",
            "box_style": "",
            "children": [
              "IPY_MODEL_cb033f5b5b1d44f4944fa44f7c477d8d",
              "IPY_MODEL_3d0e3cb49d2047afad0b9d90bb59fa6a"
            ],
            "layout": "IPY_MODEL_f02fb25130f94f009afaaa8b46743bcf"
          }
        },
        "cb033f5b5b1d44f4944fa44f7c477d8d": {
          "model_module": "@jupyter-widgets/controls",
          "model_name": "DropdownModel",
          "model_module_version": "1.5.0",
          "state": {
            "_dom_classes": [],
            "_model_module": "@jupyter-widgets/controls",
            "_model_module_version": "1.5.0",
            "_model_name": "DropdownModel",
            "_options_labels": [
              "Class 1",
              "Class 2"
            ],
            "_view_count": null,
            "_view_module": "@jupyter-widgets/controls",
            "_view_module_version": "1.5.0",
            "_view_name": "DropdownView",
            "description": "Class",
            "description_tooltip": null,
            "disabled": false,
            "index": 0,
            "layout": "IPY_MODEL_6347c9ea9a3c4cc9a93920a6cd2e3226",
            "style": "IPY_MODEL_9e8c907ae4c84118a2e1eedb51d39c2e"
          }
        },
        "3d0e3cb49d2047afad0b9d90bb59fa6a": {
          "model_module": "@jupyter-widgets/output",
          "model_name": "OutputModel",
          "model_module_version": "1.0.0",
          "state": {
            "_dom_classes": [],
            "_model_module": "@jupyter-widgets/output",
            "_model_module_version": "1.0.0",
            "_model_name": "OutputModel",
            "_view_count": null,
            "_view_module": "@jupyter-widgets/output",
            "_view_module_version": "1.0.0",
            "_view_name": "OutputView",
            "layout": "IPY_MODEL_515fdff0752a41d39bb39f56e30913bc",
            "msg_id": "",
            "outputs": [
              {
                "output_type": "stream",
                "name": "stdout",
                "text": [
                  "highest rating in the class is  8\n",
                  "student roll numbers who rated [7, 13, 25, 29, 32, 34, 41, 43, 45, 48, 53, 54]\n"
                ]
              },
              {
                "output_type": "error",
                "ename": "TypeError",
                "evalue": "ignored",
                "traceback": [
                  "\u001b[0;31m---------------------------------------------------------------------------\u001b[0m",
                  "\u001b[0;31mTypeError\u001b[0m                                 Traceback (most recent call last)",
                  "\u001b[0;32m/usr/local/lib/python3.7/dist-packages/ipywidgets/widgets/interaction.py\u001b[0m in \u001b[0;36mupdate\u001b[0;34m(self, *args)\u001b[0m\n\u001b[1;32m    255\u001b[0m                     \u001b[0mvalue\u001b[0m \u001b[0;34m=\u001b[0m \u001b[0mwidget\u001b[0m\u001b[0;34m.\u001b[0m\u001b[0mget_interact_value\u001b[0m\u001b[0;34m(\u001b[0m\u001b[0;34m)\u001b[0m\u001b[0;34m\u001b[0m\u001b[0;34m\u001b[0m\u001b[0m\n\u001b[1;32m    256\u001b[0m                     \u001b[0mself\u001b[0m\u001b[0;34m.\u001b[0m\u001b[0mkwargs\u001b[0m\u001b[0;34m[\u001b[0m\u001b[0mwidget\u001b[0m\u001b[0;34m.\u001b[0m\u001b[0m_kwarg\u001b[0m\u001b[0;34m]\u001b[0m \u001b[0;34m=\u001b[0m \u001b[0mvalue\u001b[0m\u001b[0;34m\u001b[0m\u001b[0;34m\u001b[0m\u001b[0m\n\u001b[0;32m--> 257\u001b[0;31m                 \u001b[0mself\u001b[0m\u001b[0;34m.\u001b[0m\u001b[0mresult\u001b[0m \u001b[0;34m=\u001b[0m \u001b[0mself\u001b[0m\u001b[0;34m.\u001b[0m\u001b[0mf\u001b[0m\u001b[0;34m(\u001b[0m\u001b[0;34m**\u001b[0m\u001b[0mself\u001b[0m\u001b[0;34m.\u001b[0m\u001b[0mkwargs\u001b[0m\u001b[0;34m)\u001b[0m\u001b[0;34m\u001b[0m\u001b[0;34m\u001b[0m\u001b[0m\n\u001b[0m\u001b[1;32m    258\u001b[0m                 \u001b[0mshow_inline_matplotlib_plots\u001b[0m\u001b[0;34m(\u001b[0m\u001b[0;34m)\u001b[0m\u001b[0;34m\u001b[0m\u001b[0;34m\u001b[0m\u001b[0m\n\u001b[1;32m    259\u001b[0m                 \u001b[0;32mif\u001b[0m \u001b[0mself\u001b[0m\u001b[0;34m.\u001b[0m\u001b[0mauto_display\u001b[0m \u001b[0;32mand\u001b[0m \u001b[0mself\u001b[0m\u001b[0;34m.\u001b[0m\u001b[0mresult\u001b[0m \u001b[0;32mis\u001b[0m \u001b[0;32mnot\u001b[0m \u001b[0;32mNone\u001b[0m\u001b[0;34m:\u001b[0m\u001b[0;34m\u001b[0m\u001b[0;34m\u001b[0m\u001b[0m\n",
                  "\u001b[0;32m<ipython-input-16-a882f6999a65>\u001b[0m in \u001b[0;36mchooseClass\u001b[0;34m(Class)\u001b[0m\n\u001b[1;32m     14\u001b[0m \u001b[0;34m\u001b[0m\u001b[0m\n\u001b[1;32m     15\u001b[0m     \u001b[0mplt\u001b[0m\u001b[0;34m.\u001b[0m\u001b[0msubplot\u001b[0m\u001b[0;34m(\u001b[0m\u001b[0;36m1\u001b[0m\u001b[0;34m,\u001b[0m \u001b[0;36m2\u001b[0m\u001b[0;34m,\u001b[0m \u001b[0;36m1\u001b[0m\u001b[0;34m)\u001b[0m\u001b[0;34m\u001b[0m\u001b[0;34m\u001b[0m\u001b[0m\n\u001b[0;32m---> 16\u001b[0;31m     \u001b[0mplt\u001b[0m\u001b[0;34m.\u001b[0m\u001b[0mplot\u001b[0m\u001b[0;34m(\u001b[0m\u001b[0mavg_rating\u001b[0m\u001b[0;34m[\u001b[0m\u001b[0mClass\u001b[0m\u001b[0;34m]\u001b[0m\u001b[0;34m[\u001b[0m\u001b[0;34m'STUDENT'\u001b[0m\u001b[0;34m]\u001b[0m\u001b[0;34m.\u001b[0m\u001b[0mkeys\u001b[0m\u001b[0;34m(\u001b[0m\u001b[0;34m)\u001b[0m\u001b[0;34m,\u001b[0m \u001b[0mavg_rating\u001b[0m\u001b[0;34m[\u001b[0m\u001b[0mClass\u001b[0m\u001b[0;34m]\u001b[0m\u001b[0;34m[\u001b[0m\u001b[0;34m'STUDENT'\u001b[0m\u001b[0;34m]\u001b[0m\u001b[0;34m.\u001b[0m\u001b[0mvalues\u001b[0m\u001b[0;34m(\u001b[0m\u001b[0;34m)\u001b[0m\u001b[0;34m)\u001b[0m\u001b[0;34m\u001b[0m\u001b[0;34m\u001b[0m\u001b[0m\n\u001b[0m\u001b[1;32m     17\u001b[0m     \u001b[0mplt\u001b[0m\u001b[0;34m.\u001b[0m\u001b[0mtitle\u001b[0m\u001b[0;34m(\u001b[0m\u001b[0;34m'Average rating of each student for '\u001b[0m\u001b[0;34m+\u001b[0m \u001b[0mClass\u001b[0m \u001b[0;34m)\u001b[0m\u001b[0;34m\u001b[0m\u001b[0;34m\u001b[0m\u001b[0m\n\u001b[1;32m     18\u001b[0m     \u001b[0mplt\u001b[0m\u001b[0;34m.\u001b[0m\u001b[0mxlabel\u001b[0m\u001b[0;34m(\u001b[0m\u001b[0;34m'Student Roll Numbers'\u001b[0m\u001b[0;34m)\u001b[0m\u001b[0;34m\u001b[0m\u001b[0;34m\u001b[0m\u001b[0m\n",
                  "\u001b[0;32m/usr/local/lib/python3.7/dist-packages/matplotlib/pyplot.py\u001b[0m in \u001b[0;36mplot\u001b[0;34m(scalex, scaley, data, *args, **kwargs)\u001b[0m\n\u001b[1;32m   2761\u001b[0m     return gca().plot(\n\u001b[1;32m   2762\u001b[0m         *args, scalex=scalex, scaley=scaley, **({\"data\": data} if data\n\u001b[0;32m-> 2763\u001b[0;31m         is not None else {}), **kwargs)\n\u001b[0m\u001b[1;32m   2764\u001b[0m \u001b[0;34m\u001b[0m\u001b[0m\n\u001b[1;32m   2765\u001b[0m \u001b[0;34m\u001b[0m\u001b[0m\n",
                  "\u001b[0;32m/usr/local/lib/python3.7/dist-packages/matplotlib/axes/_axes.py\u001b[0m in \u001b[0;36mplot\u001b[0;34m(self, scalex, scaley, data, *args, **kwargs)\u001b[0m\n\u001b[1;32m   1647\u001b[0m         \u001b[0mlines\u001b[0m \u001b[0;34m=\u001b[0m \u001b[0;34m[\u001b[0m\u001b[0;34m*\u001b[0m\u001b[0mself\u001b[0m\u001b[0;34m.\u001b[0m\u001b[0m_get_lines\u001b[0m\u001b[0;34m(\u001b[0m\u001b[0;34m*\u001b[0m\u001b[0margs\u001b[0m\u001b[0;34m,\u001b[0m \u001b[0mdata\u001b[0m\u001b[0;34m=\u001b[0m\u001b[0mdata\u001b[0m\u001b[0;34m,\u001b[0m \u001b[0;34m**\u001b[0m\u001b[0mkwargs\u001b[0m\u001b[0;34m)\u001b[0m\u001b[0;34m]\u001b[0m\u001b[0;34m\u001b[0m\u001b[0;34m\u001b[0m\u001b[0m\n\u001b[1;32m   1648\u001b[0m         \u001b[0;32mfor\u001b[0m \u001b[0mline\u001b[0m \u001b[0;32min\u001b[0m \u001b[0mlines\u001b[0m\u001b[0;34m:\u001b[0m\u001b[0;34m\u001b[0m\u001b[0;34m\u001b[0m\u001b[0m\n\u001b[0;32m-> 1649\u001b[0;31m             \u001b[0mself\u001b[0m\u001b[0;34m.\u001b[0m\u001b[0madd_line\u001b[0m\u001b[0;34m(\u001b[0m\u001b[0mline\u001b[0m\u001b[0;34m)\u001b[0m\u001b[0;34m\u001b[0m\u001b[0;34m\u001b[0m\u001b[0m\n\u001b[0m\u001b[1;32m   1650\u001b[0m         \u001b[0mself\u001b[0m\u001b[0;34m.\u001b[0m\u001b[0m_request_autoscale_view\u001b[0m\u001b[0;34m(\u001b[0m\u001b[0mscalex\u001b[0m\u001b[0;34m=\u001b[0m\u001b[0mscalex\u001b[0m\u001b[0;34m,\u001b[0m \u001b[0mscaley\u001b[0m\u001b[0;34m=\u001b[0m\u001b[0mscaley\u001b[0m\u001b[0;34m)\u001b[0m\u001b[0;34m\u001b[0m\u001b[0;34m\u001b[0m\u001b[0m\n\u001b[1;32m   1651\u001b[0m         \u001b[0;32mreturn\u001b[0m \u001b[0mlines\u001b[0m\u001b[0;34m\u001b[0m\u001b[0;34m\u001b[0m\u001b[0m\n",
                  "\u001b[0;32m/usr/local/lib/python3.7/dist-packages/matplotlib/axes/_base.py\u001b[0m in \u001b[0;36madd_line\u001b[0;34m(self, line)\u001b[0m\n\u001b[1;32m   1848\u001b[0m             \u001b[0mline\u001b[0m\u001b[0;34m.\u001b[0m\u001b[0mset_clip_path\u001b[0m\u001b[0;34m(\u001b[0m\u001b[0mself\u001b[0m\u001b[0;34m.\u001b[0m\u001b[0mpatch\u001b[0m\u001b[0;34m)\u001b[0m\u001b[0;34m\u001b[0m\u001b[0;34m\u001b[0m\u001b[0m\n\u001b[1;32m   1849\u001b[0m \u001b[0;34m\u001b[0m\u001b[0m\n\u001b[0;32m-> 1850\u001b[0;31m         \u001b[0mself\u001b[0m\u001b[0;34m.\u001b[0m\u001b[0m_update_line_limits\u001b[0m\u001b[0;34m(\u001b[0m\u001b[0mline\u001b[0m\u001b[0;34m)\u001b[0m\u001b[0;34m\u001b[0m\u001b[0;34m\u001b[0m\u001b[0m\n\u001b[0m\u001b[1;32m   1851\u001b[0m         \u001b[0;32mif\u001b[0m \u001b[0;32mnot\u001b[0m \u001b[0mline\u001b[0m\u001b[0;34m.\u001b[0m\u001b[0mget_label\u001b[0m\u001b[0;34m(\u001b[0m\u001b[0;34m)\u001b[0m\u001b[0;34m:\u001b[0m\u001b[0;34m\u001b[0m\u001b[0;34m\u001b[0m\u001b[0m\n\u001b[1;32m   1852\u001b[0m             \u001b[0mline\u001b[0m\u001b[0;34m.\u001b[0m\u001b[0mset_label\u001b[0m\u001b[0;34m(\u001b[0m\u001b[0;34m'_line%d'\u001b[0m \u001b[0;34m%\u001b[0m \u001b[0mlen\u001b[0m\u001b[0;34m(\u001b[0m\u001b[0mself\u001b[0m\u001b[0;34m.\u001b[0m\u001b[0mlines\u001b[0m\u001b[0;34m)\u001b[0m\u001b[0;34m)\u001b[0m\u001b[0;34m\u001b[0m\u001b[0;34m\u001b[0m\u001b[0m\n",
                  "\u001b[0;32m/usr/local/lib/python3.7/dist-packages/matplotlib/axes/_base.py\u001b[0m in \u001b[0;36m_update_line_limits\u001b[0;34m(self, line)\u001b[0m\n\u001b[1;32m   1870\u001b[0m         \u001b[0mFigures\u001b[0m \u001b[0mout\u001b[0m \u001b[0mthe\u001b[0m \u001b[0mdata\u001b[0m \u001b[0mlimit\u001b[0m \u001b[0mof\u001b[0m \u001b[0mthe\u001b[0m \u001b[0mgiven\u001b[0m \u001b[0mline\u001b[0m\u001b[0;34m,\u001b[0m \u001b[0mupdating\u001b[0m \u001b[0mself\u001b[0m\u001b[0;34m.\u001b[0m\u001b[0mdataLim\u001b[0m\u001b[0;34m.\u001b[0m\u001b[0;34m\u001b[0m\u001b[0;34m\u001b[0m\u001b[0m\n\u001b[1;32m   1871\u001b[0m         \"\"\"\n\u001b[0;32m-> 1872\u001b[0;31m         \u001b[0mpath\u001b[0m \u001b[0;34m=\u001b[0m \u001b[0mline\u001b[0m\u001b[0;34m.\u001b[0m\u001b[0mget_path\u001b[0m\u001b[0;34m(\u001b[0m\u001b[0;34m)\u001b[0m\u001b[0;34m\u001b[0m\u001b[0;34m\u001b[0m\u001b[0m\n\u001b[0m\u001b[1;32m   1873\u001b[0m         \u001b[0;32mif\u001b[0m \u001b[0mpath\u001b[0m\u001b[0;34m.\u001b[0m\u001b[0mvertices\u001b[0m\u001b[0;34m.\u001b[0m\u001b[0msize\u001b[0m \u001b[0;34m==\u001b[0m \u001b[0;36m0\u001b[0m\u001b[0;34m:\u001b[0m\u001b[0;34m\u001b[0m\u001b[0;34m\u001b[0m\u001b[0m\n\u001b[1;32m   1874\u001b[0m             \u001b[0;32mreturn\u001b[0m\u001b[0;34m\u001b[0m\u001b[0;34m\u001b[0m\u001b[0m\n",
                  "\u001b[0;32m/usr/local/lib/python3.7/dist-packages/matplotlib/lines.py\u001b[0m in \u001b[0;36mget_path\u001b[0;34m(self)\u001b[0m\n\u001b[1;32m   1025\u001b[0m         \"\"\"\n\u001b[1;32m   1026\u001b[0m         \u001b[0;32mif\u001b[0m \u001b[0mself\u001b[0m\u001b[0;34m.\u001b[0m\u001b[0m_invalidy\u001b[0m \u001b[0;32mor\u001b[0m \u001b[0mself\u001b[0m\u001b[0;34m.\u001b[0m\u001b[0m_invalidx\u001b[0m\u001b[0;34m:\u001b[0m\u001b[0;34m\u001b[0m\u001b[0;34m\u001b[0m\u001b[0m\n\u001b[0;32m-> 1027\u001b[0;31m             \u001b[0mself\u001b[0m\u001b[0;34m.\u001b[0m\u001b[0mrecache\u001b[0m\u001b[0;34m(\u001b[0m\u001b[0;34m)\u001b[0m\u001b[0;34m\u001b[0m\u001b[0;34m\u001b[0m\u001b[0m\n\u001b[0m\u001b[1;32m   1028\u001b[0m         \u001b[0;32mreturn\u001b[0m \u001b[0mself\u001b[0m\u001b[0;34m.\u001b[0m\u001b[0m_path\u001b[0m\u001b[0;34m\u001b[0m\u001b[0;34m\u001b[0m\u001b[0m\n\u001b[1;32m   1029\u001b[0m \u001b[0;34m\u001b[0m\u001b[0m\n",
                  "\u001b[0;32m/usr/local/lib/python3.7/dist-packages/matplotlib/lines.py\u001b[0m in \u001b[0;36mrecache\u001b[0;34m(self, always)\u001b[0m\n\u001b[1;32m    668\u001b[0m         \u001b[0;32mif\u001b[0m \u001b[0malways\u001b[0m \u001b[0;32mor\u001b[0m \u001b[0mself\u001b[0m\u001b[0;34m.\u001b[0m\u001b[0m_invalidx\u001b[0m\u001b[0;34m:\u001b[0m\u001b[0;34m\u001b[0m\u001b[0;34m\u001b[0m\u001b[0m\n\u001b[1;32m    669\u001b[0m             \u001b[0mxconv\u001b[0m \u001b[0;34m=\u001b[0m \u001b[0mself\u001b[0m\u001b[0;34m.\u001b[0m\u001b[0mconvert_xunits\u001b[0m\u001b[0;34m(\u001b[0m\u001b[0mself\u001b[0m\u001b[0;34m.\u001b[0m\u001b[0m_xorig\u001b[0m\u001b[0;34m)\u001b[0m\u001b[0;34m\u001b[0m\u001b[0;34m\u001b[0m\u001b[0m\n\u001b[0;32m--> 670\u001b[0;31m             \u001b[0mx\u001b[0m \u001b[0;34m=\u001b[0m \u001b[0m_to_unmasked_float_array\u001b[0m\u001b[0;34m(\u001b[0m\u001b[0mxconv\u001b[0m\u001b[0;34m)\u001b[0m\u001b[0;34m.\u001b[0m\u001b[0mravel\u001b[0m\u001b[0;34m(\u001b[0m\u001b[0;34m)\u001b[0m\u001b[0;34m\u001b[0m\u001b[0;34m\u001b[0m\u001b[0m\n\u001b[0m\u001b[1;32m    671\u001b[0m         \u001b[0;32melse\u001b[0m\u001b[0;34m:\u001b[0m\u001b[0;34m\u001b[0m\u001b[0;34m\u001b[0m\u001b[0m\n\u001b[1;32m    672\u001b[0m             \u001b[0mx\u001b[0m \u001b[0;34m=\u001b[0m \u001b[0mself\u001b[0m\u001b[0;34m.\u001b[0m\u001b[0m_x\u001b[0m\u001b[0;34m\u001b[0m\u001b[0;34m\u001b[0m\u001b[0m\n",
                  "\u001b[0;32m/usr/local/lib/python3.7/dist-packages/matplotlib/cbook/__init__.py\u001b[0m in \u001b[0;36m_to_unmasked_float_array\u001b[0;34m(x)\u001b[0m\n\u001b[1;32m   1315\u001b[0m         \u001b[0;32mreturn\u001b[0m \u001b[0mnp\u001b[0m\u001b[0;34m.\u001b[0m\u001b[0mma\u001b[0m\u001b[0;34m.\u001b[0m\u001b[0masarray\u001b[0m\u001b[0;34m(\u001b[0m\u001b[0mx\u001b[0m\u001b[0;34m,\u001b[0m \u001b[0mfloat\u001b[0m\u001b[0;34m)\u001b[0m\u001b[0;34m.\u001b[0m\u001b[0mfilled\u001b[0m\u001b[0;34m(\u001b[0m\u001b[0mnp\u001b[0m\u001b[0;34m.\u001b[0m\u001b[0mnan\u001b[0m\u001b[0;34m)\u001b[0m\u001b[0;34m\u001b[0m\u001b[0;34m\u001b[0m\u001b[0m\n\u001b[1;32m   1316\u001b[0m     \u001b[0;32melse\u001b[0m\u001b[0;34m:\u001b[0m\u001b[0;34m\u001b[0m\u001b[0;34m\u001b[0m\u001b[0m\n\u001b[0;32m-> 1317\u001b[0;31m         \u001b[0;32mreturn\u001b[0m \u001b[0mnp\u001b[0m\u001b[0;34m.\u001b[0m\u001b[0masarray\u001b[0m\u001b[0;34m(\u001b[0m\u001b[0mx\u001b[0m\u001b[0;34m,\u001b[0m \u001b[0mfloat\u001b[0m\u001b[0;34m)\u001b[0m\u001b[0;34m\u001b[0m\u001b[0;34m\u001b[0m\u001b[0m\n\u001b[0m\u001b[1;32m   1318\u001b[0m \u001b[0;34m\u001b[0m\u001b[0m\n\u001b[1;32m   1319\u001b[0m \u001b[0;34m\u001b[0m\u001b[0m\n",
                  "\u001b[0;31mTypeError\u001b[0m: float() argument must be a string or a number, not 'dict_keys'"
                ]
              }
            ]
          }
        },
        "f02fb25130f94f009afaaa8b46743bcf": {
          "model_module": "@jupyter-widgets/base",
          "model_name": "LayoutModel",
          "model_module_version": "1.2.0",
          "state": {
            "_model_module": "@jupyter-widgets/base",
            "_model_module_version": "1.2.0",
            "_model_name": "LayoutModel",
            "_view_count": null,
            "_view_module": "@jupyter-widgets/base",
            "_view_module_version": "1.2.0",
            "_view_name": "LayoutView",
            "align_content": null,
            "align_items": null,
            "align_self": null,
            "border": null,
            "bottom": null,
            "display": null,
            "flex": null,
            "flex_flow": null,
            "grid_area": null,
            "grid_auto_columns": null,
            "grid_auto_flow": null,
            "grid_auto_rows": null,
            "grid_column": null,
            "grid_gap": null,
            "grid_row": null,
            "grid_template_areas": null,
            "grid_template_columns": null,
            "grid_template_rows": null,
            "height": null,
            "justify_content": null,
            "justify_items": null,
            "left": null,
            "margin": null,
            "max_height": null,
            "max_width": null,
            "min_height": null,
            "min_width": null,
            "object_fit": null,
            "object_position": null,
            "order": null,
            "overflow": null,
            "overflow_x": null,
            "overflow_y": null,
            "padding": null,
            "right": null,
            "top": null,
            "visibility": null,
            "width": null
          }
        },
        "6347c9ea9a3c4cc9a93920a6cd2e3226": {
          "model_module": "@jupyter-widgets/base",
          "model_name": "LayoutModel",
          "model_module_version": "1.2.0",
          "state": {
            "_model_module": "@jupyter-widgets/base",
            "_model_module_version": "1.2.0",
            "_model_name": "LayoutModel",
            "_view_count": null,
            "_view_module": "@jupyter-widgets/base",
            "_view_module_version": "1.2.0",
            "_view_name": "LayoutView",
            "align_content": null,
            "align_items": null,
            "align_self": null,
            "border": null,
            "bottom": null,
            "display": null,
            "flex": null,
            "flex_flow": null,
            "grid_area": null,
            "grid_auto_columns": null,
            "grid_auto_flow": null,
            "grid_auto_rows": null,
            "grid_column": null,
            "grid_gap": null,
            "grid_row": null,
            "grid_template_areas": null,
            "grid_template_columns": null,
            "grid_template_rows": null,
            "height": null,
            "justify_content": null,
            "justify_items": null,
            "left": null,
            "margin": null,
            "max_height": null,
            "max_width": null,
            "min_height": null,
            "min_width": null,
            "object_fit": null,
            "object_position": null,
            "order": null,
            "overflow": null,
            "overflow_x": null,
            "overflow_y": null,
            "padding": null,
            "right": null,
            "top": null,
            "visibility": null,
            "width": null
          }
        },
        "9e8c907ae4c84118a2e1eedb51d39c2e": {
          "model_module": "@jupyter-widgets/controls",
          "model_name": "DescriptionStyleModel",
          "model_module_version": "1.5.0",
          "state": {
            "_model_module": "@jupyter-widgets/controls",
            "_model_module_version": "1.5.0",
            "_model_name": "DescriptionStyleModel",
            "_view_count": null,
            "_view_module": "@jupyter-widgets/base",
            "_view_module_version": "1.2.0",
            "_view_name": "StyleView",
            "description_width": ""
          }
        },
        "515fdff0752a41d39bb39f56e30913bc": {
          "model_module": "@jupyter-widgets/base",
          "model_name": "LayoutModel",
          "model_module_version": "1.2.0",
          "state": {
            "_model_module": "@jupyter-widgets/base",
            "_model_module_version": "1.2.0",
            "_model_name": "LayoutModel",
            "_view_count": null,
            "_view_module": "@jupyter-widgets/base",
            "_view_module_version": "1.2.0",
            "_view_name": "LayoutView",
            "align_content": null,
            "align_items": null,
            "align_self": null,
            "border": null,
            "bottom": null,
            "display": null,
            "flex": null,
            "flex_flow": null,
            "grid_area": null,
            "grid_auto_columns": null,
            "grid_auto_flow": null,
            "grid_auto_rows": null,
            "grid_column": null,
            "grid_gap": null,
            "grid_row": null,
            "grid_template_areas": null,
            "grid_template_columns": null,
            "grid_template_rows": null,
            "height": null,
            "justify_content": null,
            "justify_items": null,
            "left": null,
            "margin": null,
            "max_height": null,
            "max_width": null,
            "min_height": null,
            "min_width": null,
            "object_fit": null,
            "object_position": null,
            "order": null,
            "overflow": null,
            "overflow_x": null,
            "overflow_y": null,
            "padding": null,
            "right": null,
            "top": null,
            "visibility": null,
            "width": null
          }
        },
        "eb70422311d1412897bcfa810f819793": {
          "model_module": "@jupyter-widgets/controls",
          "model_name": "VBoxModel",
          "model_module_version": "1.5.0",
          "state": {
            "_dom_classes": [
              "widget-interact"
            ],
            "_model_module": "@jupyter-widgets/controls",
            "_model_module_version": "1.5.0",
            "_model_name": "VBoxModel",
            "_view_count": null,
            "_view_module": "@jupyter-widgets/controls",
            "_view_module_version": "1.5.0",
            "_view_name": "VBoxView",
            "box_style": "",
            "children": [
              "IPY_MODEL_8237776be4b443aba8a44e5fdbbf7b5b",
              "IPY_MODEL_26c12fcb74584c0dafb323c835985a33",
              "IPY_MODEL_fc7e8aea80c24249a347737399d4393d"
            ],
            "layout": "IPY_MODEL_4f315a62eb7a4cceb628a6150ab3e78e"
          }
        },
        "8237776be4b443aba8a44e5fdbbf7b5b": {
          "model_module": "@jupyter-widgets/controls",
          "model_name": "DropdownModel",
          "model_module_version": "1.5.0",
          "state": {
            "_dom_classes": [],
            "_model_module": "@jupyter-widgets/controls",
            "_model_module_version": "1.5.0",
            "_model_name": "DropdownModel",
            "_options_labels": [
              "Class 1",
              "Class 2"
            ],
            "_view_count": null,
            "_view_module": "@jupyter-widgets/controls",
            "_view_module_version": "1.5.0",
            "_view_name": "DropdownView",
            "description": "Class",
            "description_tooltip": null,
            "disabled": false,
            "index": 1,
            "layout": "IPY_MODEL_b16428ab62954c0db8aa8f7f261125ff",
            "style": "IPY_MODEL_30dbd23284bc4e6aa4c00e2b16c94cb0"
          }
        },
        "26c12fcb74584c0dafb323c835985a33": {
          "model_module": "@jupyter-widgets/controls",
          "model_name": "DropdownModel",
          "model_module_version": "1.5.0",
          "state": {
            "_dom_classes": [],
            "_model_module": "@jupyter-widgets/controls",
            "_model_module_version": "1.5.0",
            "_model_name": "DropdownModel",
            "_options_labels": [
              "WORKING",
              "STUDENT",
              "IGNORE",
              "DROPOUT"
            ],
            "_view_count": null,
            "_view_module": "@jupyter-widgets/controls",
            "_view_module_version": "1.5.0",
            "_view_name": "DropdownView",
            "description": "Type",
            "description_tooltip": null,
            "disabled": false,
            "index": 1,
            "layout": "IPY_MODEL_884c7aece10d42bf8ea0715808d77f9b",
            "style": "IPY_MODEL_c9bf9fec5e184ce8a3e7992aef883bc6"
          }
        },
        "fc7e8aea80c24249a347737399d4393d": {
          "model_module": "@jupyter-widgets/output",
          "model_name": "OutputModel",
          "model_module_version": "1.0.0",
          "state": {
            "_dom_classes": [],
            "_model_module": "@jupyter-widgets/output",
            "_model_module_version": "1.0.0",
            "_model_name": "OutputModel",
            "_view_count": null,
            "_view_module": "@jupyter-widgets/output",
            "_view_module_version": "1.0.0",
            "_view_name": "OutputView",
            "layout": "IPY_MODEL_6ce7262d4e504d46b3314ae71432d09b",
            "msg_id": "",
            "outputs": [
              {
                "output_type": "display_data",
                "data": {
                  "text/plain": "<Figure size 432x288 with 2 Axes>",
                  "image/png": "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\n"
                },
                "metadata": {
                  "needs_background": "light"
                }
              }
            ]
          }
        },
        "4f315a62eb7a4cceb628a6150ab3e78e": {
          "model_module": "@jupyter-widgets/base",
          "model_name": "LayoutModel",
          "model_module_version": "1.2.0",
          "state": {
            "_model_module": "@jupyter-widgets/base",
            "_model_module_version": "1.2.0",
            "_model_name": "LayoutModel",
            "_view_count": null,
            "_view_module": "@jupyter-widgets/base",
            "_view_module_version": "1.2.0",
            "_view_name": "LayoutView",
            "align_content": null,
            "align_items": null,
            "align_self": null,
            "border": null,
            "bottom": null,
            "display": null,
            "flex": null,
            "flex_flow": null,
            "grid_area": null,
            "grid_auto_columns": null,
            "grid_auto_flow": null,
            "grid_auto_rows": null,
            "grid_column": null,
            "grid_gap": null,
            "grid_row": null,
            "grid_template_areas": null,
            "grid_template_columns": null,
            "grid_template_rows": null,
            "height": null,
            "justify_content": null,
            "justify_items": null,
            "left": null,
            "margin": null,
            "max_height": null,
            "max_width": null,
            "min_height": null,
            "min_width": null,
            "object_fit": null,
            "object_position": null,
            "order": null,
            "overflow": null,
            "overflow_x": null,
            "overflow_y": null,
            "padding": null,
            "right": null,
            "top": null,
            "visibility": null,
            "width": null
          }
        },
        "b16428ab62954c0db8aa8f7f261125ff": {
          "model_module": "@jupyter-widgets/base",
          "model_name": "LayoutModel",
          "model_module_version": "1.2.0",
          "state": {
            "_model_module": "@jupyter-widgets/base",
            "_model_module_version": "1.2.0",
            "_model_name": "LayoutModel",
            "_view_count": null,
            "_view_module": "@jupyter-widgets/base",
            "_view_module_version": "1.2.0",
            "_view_name": "LayoutView",
            "align_content": null,
            "align_items": null,
            "align_self": null,
            "border": null,
            "bottom": null,
            "display": null,
            "flex": null,
            "flex_flow": null,
            "grid_area": null,
            "grid_auto_columns": null,
            "grid_auto_flow": null,
            "grid_auto_rows": null,
            "grid_column": null,
            "grid_gap": null,
            "grid_row": null,
            "grid_template_areas": null,
            "grid_template_columns": null,
            "grid_template_rows": null,
            "height": null,
            "justify_content": null,
            "justify_items": null,
            "left": null,
            "margin": null,
            "max_height": null,
            "max_width": null,
            "min_height": null,
            "min_width": null,
            "object_fit": null,
            "object_position": null,
            "order": null,
            "overflow": null,
            "overflow_x": null,
            "overflow_y": null,
            "padding": null,
            "right": null,
            "top": null,
            "visibility": null,
            "width": null
          }
        },
        "30dbd23284bc4e6aa4c00e2b16c94cb0": {
          "model_module": "@jupyter-widgets/controls",
          "model_name": "DescriptionStyleModel",
          "model_module_version": "1.5.0",
          "state": {
            "_model_module": "@jupyter-widgets/controls",
            "_model_module_version": "1.5.0",
            "_model_name": "DescriptionStyleModel",
            "_view_count": null,
            "_view_module": "@jupyter-widgets/base",
            "_view_module_version": "1.2.0",
            "_view_name": "StyleView",
            "description_width": ""
          }
        },
        "884c7aece10d42bf8ea0715808d77f9b": {
          "model_module": "@jupyter-widgets/base",
          "model_name": "LayoutModel",
          "model_module_version": "1.2.0",
          "state": {
            "_model_module": "@jupyter-widgets/base",
            "_model_module_version": "1.2.0",
            "_model_name": "LayoutModel",
            "_view_count": null,
            "_view_module": "@jupyter-widgets/base",
            "_view_module_version": "1.2.0",
            "_view_name": "LayoutView",
            "align_content": null,
            "align_items": null,
            "align_self": null,
            "border": null,
            "bottom": null,
            "display": null,
            "flex": null,
            "flex_flow": null,
            "grid_area": null,
            "grid_auto_columns": null,
            "grid_auto_flow": null,
            "grid_auto_rows": null,
            "grid_column": null,
            "grid_gap": null,
            "grid_row": null,
            "grid_template_areas": null,
            "grid_template_columns": null,
            "grid_template_rows": null,
            "height": null,
            "justify_content": null,
            "justify_items": null,
            "left": null,
            "margin": null,
            "max_height": null,
            "max_width": null,
            "min_height": null,
            "min_width": null,
            "object_fit": null,
            "object_position": null,
            "order": null,
            "overflow": null,
            "overflow_x": null,
            "overflow_y": null,
            "padding": null,
            "right": null,
            "top": null,
            "visibility": null,
            "width": null
          }
        },
        "c9bf9fec5e184ce8a3e7992aef883bc6": {
          "model_module": "@jupyter-widgets/controls",
          "model_name": "DescriptionStyleModel",
          "model_module_version": "1.5.0",
          "state": {
            "_model_module": "@jupyter-widgets/controls",
            "_model_module_version": "1.5.0",
            "_model_name": "DescriptionStyleModel",
            "_view_count": null,
            "_view_module": "@jupyter-widgets/base",
            "_view_module_version": "1.2.0",
            "_view_name": "StyleView",
            "description_width": ""
          }
        },
        "6ce7262d4e504d46b3314ae71432d09b": {
          "model_module": "@jupyter-widgets/base",
          "model_name": "LayoutModel",
          "model_module_version": "1.2.0",
          "state": {
            "_model_module": "@jupyter-widgets/base",
            "_model_module_version": "1.2.0",
            "_model_name": "LayoutModel",
            "_view_count": null,
            "_view_module": "@jupyter-widgets/base",
            "_view_module_version": "1.2.0",
            "_view_name": "LayoutView",
            "align_content": null,
            "align_items": null,
            "align_self": null,
            "border": null,
            "bottom": null,
            "display": null,
            "flex": null,
            "flex_flow": null,
            "grid_area": null,
            "grid_auto_columns": null,
            "grid_auto_flow": null,
            "grid_auto_rows": null,
            "grid_column": null,
            "grid_gap": null,
            "grid_row": null,
            "grid_template_areas": null,
            "grid_template_columns": null,
            "grid_template_rows": null,
            "height": null,
            "justify_content": null,
            "justify_items": null,
            "left": null,
            "margin": null,
            "max_height": null,
            "max_width": null,
            "min_height": null,
            "min_width": null,
            "object_fit": null,
            "object_position": null,
            "order": null,
            "overflow": null,
            "overflow_x": null,
            "overflow_y": null,
            "padding": null,
            "right": null,
            "top": null,
            "visibility": null,
            "width": null
          }
        },
        "e626a3c53829464aa5982a089dc3cd21": {
          "model_module": "@jupyter-widgets/controls",
          "model_name": "VBoxModel",
          "model_module_version": "1.5.0",
          "state": {
            "_dom_classes": [
              "widget-interact"
            ],
            "_model_module": "@jupyter-widgets/controls",
            "_model_module_version": "1.5.0",
            "_model_name": "VBoxModel",
            "_view_count": null,
            "_view_module": "@jupyter-widgets/controls",
            "_view_module_version": "1.5.0",
            "_view_name": "VBoxView",
            "box_style": "",
            "children": [
              "IPY_MODEL_4159ab5771454e84a45d3fa3ed4c91f6",
              "IPY_MODEL_0de1dd4e792a4618bee239223c3d1774"
            ],
            "layout": "IPY_MODEL_0bad4880e5144b2b82c8a766230ba552"
          }
        },
        "4159ab5771454e84a45d3fa3ed4c91f6": {
          "model_module": "@jupyter-widgets/controls",
          "model_name": "DropdownModel",
          "model_module_version": "1.5.0",
          "state": {
            "_dom_classes": [],
            "_model_module": "@jupyter-widgets/controls",
            "_model_module_version": "1.5.0",
            "_model_name": "DropdownModel",
            "_options_labels": [
              "Class 1",
              "Class 2"
            ],
            "_view_count": null,
            "_view_module": "@jupyter-widgets/controls",
            "_view_module_version": "1.5.0",
            "_view_name": "DropdownView",
            "description": "Class",
            "description_tooltip": null,
            "disabled": false,
            "index": 0,
            "layout": "IPY_MODEL_0f6d7188e6c9466eb7558f1c80e1dd17",
            "style": "IPY_MODEL_12ad02d9aeda44a58957fa64b598a768"
          }
        },
        "0de1dd4e792a4618bee239223c3d1774": {
          "model_module": "@jupyter-widgets/output",
          "model_name": "OutputModel",
          "model_module_version": "1.0.0",
          "state": {
            "_dom_classes": [],
            "_model_module": "@jupyter-widgets/output",
            "_model_module_version": "1.0.0",
            "_model_name": "OutputModel",
            "_view_count": null,
            "_view_module": "@jupyter-widgets/output",
            "_view_module_version": "1.0.0",
            "_view_name": "OutputView",
            "layout": "IPY_MODEL_9d719457c55b4b5fb0c38032e4d9925b",
            "msg_id": "",
            "outputs": [
              {
                "output_type": "display_data",
                "data": {
                  "text/plain": "<Figure size 432x288 with 4 Axes>",
                  "image/png": "iVBORw0KGgoAAAANSUhEUgAAA4IAAAJ9CAYAAABguswZAAAABHNCSVQICAgIfAhkiAAAAAlwSFlzAAALEgAACxIB0t1+/AAAADh0RVh0U29mdHdhcmUAbWF0cGxvdGxpYiB2ZXJzaW9uMy4yLjIsIGh0dHA6Ly9tYXRwbG90bGliLm9yZy+WH4yJAAAgAElEQVR4nOzdd3wldb3/8dfnnJz0ZJNstrC72V1677CAgO4iSBEWBBTvtWG9evVe+Sn2FvWqKAiKHfVebCCIoisKIrIUpawgvbeFhe1JNr2dcz6/P2bCzoac9GROkvfz8TiP5Ez5zmfO1M/Md75j7o6IiIiIiIjMHIm4AxAREREREZHJpURQRERERERkhlEiKCIiIiIiMsMoERQREREREZlhlAiKiIiIiIjMMEoERUREREREZhglgmNkZj80s89NQLl7mtn9ZtZqZv89yjI+bWY/iXx/g5mtM7M2Mzt4PKYhE8fMSszsj2bWbGa/iTuePmZ2uZn9zyjHbTOzXcY7prDsW8zsPRNRtojIeDOz5Wb2Ytxx9DGzpWbmZlYQdyxTQf9zrHEuO6/WjXxhgf8zsyYzWxN3POPFzB4xs+VxTHvGJYJmttbMOsMT0o3hSW35MMc918z+Hu3m7u939y9PQKgfB1a7e4W7XzpALLeYWVeYxLWY2b1m9kkzK4rE9lV3j54YXwR8yN3L3f2+oaYxkcys3sx+OUFlrzWz4yei7El2NjAPmO3ub4w7mPEQrnvPjmZcMysM15unzKw9XM7/a2ZLxzfKYcdyTRiDx7UDF5HxE27Lu0W+62R8kk3kucF4G+Aca0TMbJmZ/dnMtplZo5mtMbN3jmeMI4jlTWZ2h5l1mNktEzidV5xHj9AxwAnAIndfNkD5O5nZKjNbH27PS/v1LwrPG1rCHOAjY4hl3Lj7vu5+SxzTnnGJYOg0dy8HDgIOBj4VczwDWQI8MsQwH3L3CmAn4KPAm4E/m5kNs8zhTGNAumL4ShPwmywBnnT39DiXO1VdA6wE/h2YBRwI3Au8NqZ4/g68FdgY0/RFpjQdRySfTOb6aGZHATcDtwK7AbOBDwAnT1YM/TQC3wIuiGn6w7UEWOvu7Tn6Z4EbgLNy9K8Hdg/LWQF83MxOGu8gpxR3n1EfYC1wfOT7N4A/Rb5/EngGaAUeBd4Qdt8b6AIyQBuwLex+OfA/kfHfCzxNsFGtAhYMEstKgkRsG3ALsHfY/eZwOl3htPYYYNxbgPf067YY6ABODb/XA78EisJyHGgP5+8V0wiHuwh4AdgE/BAoCctaDrwIfILgxPcXBBcS+n6vBuBqoCYcfmk4vXeE5W0FPhP2OwnoAXrDaT+Q4/epA34HbAnL/27Yfdcw/oaw3F8BVWG/XxDsCDrDsj8edj8SuCP8rR8AlkemszNwW7jMbwK+B/xyqOUUWZ8+ATwIdAMfA37bbz4uBb6dYx73DsvcFk5jZdj9i/1+o3cPMG49QXJ0VRj7v4ADI/0XAL8Nf7/ngP+O9Csi2OmvDz/fAor6LetPh7/vWuAtkXEvZ8d1/lTg/nAe7gAOGGSdd2C3SDnfA/4Uxn83sGuO8Y4Pl2ndIGXfQrhNDLaOhP0/AbwUTvcJ4LVh92XAPUALwTZw8TD2KS9G1yd99JkOH3IfC4vCbX2/yLBzwu1zbvg95z5hgH1mQa5phcMngW+G2/FzwIfC/UhB2H8W8FNgQ7hN/w+QzDFPy4A7w7g2AN8FCsN+t7H9GNlGcOzqJDietIWfBYzyuBf2Lwn3e03hfH4MeDHSf7B9dn04rZ+Hv9MjwGGR/gMeL8N+7wIeC6f7F2BJjt+nL/73ERwXNgDnh/3mE5xfzI4Mf0g4vdQAZSUJjiF9y/Vewv038G1gHcF+9l7g2LD7gOcGgy3jYawfCwjOxRoJzs3e2+83vYbgPKkF+OwI57Ge8FxhqGU/wLh/B743SP/l/daNwbaR3QgSyuZwuleF3Q24BNgczt9DRLbbHNN9D3DLMPYPA57rRn6Hgsiwt4TlDngePUDZAy4z4N39xv/iIPEVhHEs7dd9PfC6yPcvA7/OUcaAv2vYby/gr2GMTwBvivQ7JVxGrQTra982VAtcR7D/aQRuBxKR/eLxkX3sUOdnHw2X6wbgnUNNe9BlOdQA0+3T78deFG4Y3470fyPbd/bnEBwUdgr7nQv8vV95lxOeFAPHhSvLIeGC/A5wW4449gjLPgFIEVTTfJrtB6Vb6Jfo9Rt/wP4EB7Ovh//Xs2NC8/JJ+EBlEOwwVgE1QAXwR+BrkZUvDXw9nLcS4MPAXeHvWAT8CLgyHH5pOL0fh8MeSHDQ33ug2AaYjyRBwnYJUAYUA8dENs4TwmnOCef5WwMt4/D7QoID4ynhcj0h/D4n7H8nQQJcSFDtoIXtO/ehltNaghOeunA+dwqH70tMCwg21kMHmMdUWNanw2kfR7Dx7jnM36ie4IB5dljW+QQHwlQ4n/cCnw/L3gV4FjgxHPdL4bKbG/6GdwBf7resLw5/49eE89QX1+VsX+cPDufviHCZvSP8TYpyxNw/EWwgODkrIEjWcu2QLwBuHWLbvoXtiWDOdQTYk+AkJHrg2jWyLrwt/L8cOHIY+xQlgvpMuw+DHwv/F/hKZNgPAjeE/w+6T6DfPnMY03o/wYnNIqCa4GJd9ET/WoJjT1m4P1sD/EeOeTqU4KJgQbjdPwacF+nf/xi5nMjJeNhtLMe9CwhO/mrC+X+4r3yG3mfXE5wEnxL+rl8D7gr7DXa8PJ3gOLN3ON+fBe7I8fv0xX9lWM7+BElQ3znTn4EPRIa/BPhOjrI+RnB+tSdBQnIgYYJFUJNidhjPRwkuLhdH5vOX/crKuYyHsX7cBnw//E0OCufnuMi0eoEzwt+/ZITz+HKsQy37fuOVEiQzKwbZ/pazYyI42DZyJfCZsF902Z9IsE5Vhctg775xBpnukIkgg5zrMkgiGP5/Lv3Oowcof7BlNuT44XCvSATD9cOBeZFuZwMP5Sgj1+9aRnAO8c5wOgeHv8c+Yf8NbL+4UQ0cEv7/NYIbLKnwcyxgkf1i33Y2nPOzL4VlnEJw8aJ6sGkP+lsNNcB0+4Q/dhvBCbcDfyNyp2CA4e8HTs+1ArLjSfFPgW9E+pUT7GSWDlDu54CrI98TBNn78v4bTo64BuwP/Br4cfh/PcNMBAl2Eu1E7sgARwHPRVa+HsKdddjtMcI7KeH3ncL57TvIOkE97r7+a4A3DxTbAPNxFMHGX5BrmMiwZwD39VvG0UTwE8Av+o3zF4ITlMXhRlUa6fdLtu/ch1pOa4F39Sv7erZfwToVeDRH3McSHAATkW5XAvXD/I3qCU8EIrFtCMs9Anih3/CfAv4v/P8Z4JRIvxMJqlv0Les0UBbpfzXwuQHW+R8Q7qAiwz4BvCZHzP0TwZ9E+p0CPJ5jvB+TI0kcapvov44QJImbCe4ypvoNdxvB3djaoda7yDhKBPWZ9h92PBYeDzwT6fcP4O3h/4PuEwbaZw4xrZuJJHbhtJ3gODOP4GS7JNL/3wiefR/OPJ0HXBv5PpxEcCzHvWeBkyL93sf2RHCofXY9cFOk3z5AZ/h/zuMlwfHo3ZHvCYITxyUDDNsX/16Rbt8Afhr+fw7wj/D/JMHxa1mO3/aJvmU4jOXQRFibhVeetwy6jIdYP+oIEq6KSP+vAZdHpnVbv1hGMo8vxzrUsu833sL+v/MAw7xi3RtkG/k5cFl02mH344AnCS5+JHKV1W+c4SSCOc91GWMiOIxlNuj4kXEGSgTrwm7R89gTCM99Bigj1+96DnB7v24/Ar4Q/v8C8B9AZb9hvgT8gcg+JtJvLdsTwaHOzzr7/b6bCS9a55r2YJ+Z+ozgGR48W7ec4PZubV8PM3t72JLmNjPbBuwX7T+EBcDzfV/cvY3gjsfCYQybJbjCMNCwI7GQ4JbzSM0huEp1b2Tebwi799ni7l2R70uAayPDP0awAc+LDBN9fqqDYIcxHHXA8z7A83FmNs/Mfm1mL5lZC0HiNtgyWgK8sS/OMNZjCA7gC4BGd++IDL8u8v9wllN0eICfEVzxJPz7ixxxLQDWhWX2eZ6RrQMvTzss58Ww3CXAgn7z/Gm2L5sd5iv8f0Hke5PvWAe/f/8+S4CP9ptOXY5hBzLc9aOBYHkNy2DriLs/TXACWA9sDofri/fdBHeBHzezf5rZqcOdpsh0MsSxcDVQamZHhI0xHERw1waGt0/YYZ85xLQW9Bs++v8SgqviGyLj/ojgSvpA87SHmV0XNhLRAnyV4R/fo9Mc7XGv/7xE98FD7bMHKrc4fK4t5/EyLPfbkTIbCS78Dnac6R9j37L7A7CPme1McALd7O65Wm6sIzihfQUzO9/MHrOgRextBFU/cy2HoZbxYOtH3/G9td/8DHb8Hsk8DmQ4x7QmgirHIzmmDbaNfJxgma6xoPXJdwG4+80E1Z+/R3Csu8zMKkcwL7mM5Fx3NGUPtcxGqy38G/0NKgluDA1kwN+VYJ08ot+2+haC6tMQPJ94CvC8md0aPg8KcCHB3fkbzexZM/tkjukOdX7W0G9bj65nuaad00xNBAFw91sJ7kpcBGBmSwjuPHyIoApDFUHVjb7GV3yIItcTrCCE5ZURVH94aRjDGsGOc6Bhh8XM6giqvtw+itG3Elxl2Nfdq8LPLA8a1enTf/7XASdHhq9y92J3H848DPVbrgMW53h4+6vh+Pu7eyVBshVtIGegOH/RL84yd7+A4A5ajZmVRoavi/w/nOXUf3q/Bw4ws/0I7gj+Ksc8rgfqzCy6HS5mZOvAy7GG5SwKy11HcDc3Os8V7n7KQPMVTnd95Ht1uP7m6t9nHUEVseh0St39yhHMw3DcBCwzs0XDHH7QdcTdr3D3Ywh+Ayeo8oy7P+Xu/0ZwkvF14Jp+v4PItDfUsdDdMwS1BP4t/FwXOXEbzj7Bhzstgn10dLuP7p/XEdwtqo1Mq9Ld980xaz8AHgd2D/cLn2bHY0d/Ax2nxnLc29Av/sX9yh1snz2YwY6X6wjumEXLLXH3OwYpr3+M6wHCC8FXE+xP30bui5x90921f0czO5bgBPtNBNXZqgiewcp1njXUMh5s/VhPcHyv6Dc/OY/fI5zHUQkvPN9J7gZNdjCM7XGju7/X3RcQ3A36voWt37r7pe5+KMEd5D0IquyO1WDnun0XkKPnVPMj/w/nPHqoZTYq7t5EsL4cGOl8IDkaTRzkd11H8KhKdJsqd/cPhOP9091PJziP+D3B+oS7t7r7R919F4K2Jz5iZgM1djfU+dlg8zjgtAczoxPB0LeAE8zsQIJ6v05QxQILmvHdLzLsJmCRmRXmKOtK4J1mdpAFr3H4KnC3u68dYNirgdeb2WvNLEVQT76boC7wiJhZqZm9huBK1hqCOu4jEt5N+jFwiZnNDctdaGYnDjLaD4GvhDspzGyOmZ0+zEluApb2S4Ki1hBssBeYWZmZFZvZ0WG/CoIrO81mtpBX7tg2ETxf0eeXwGlmdqKZJcOylpvZInd/nqBxkHoLXglwFHBaZNwRL6fwQHINcAWwxt1fyDHo3QRXcj5uZikLXkFwGkH13uE61MzODE8Azgtju4vg92s1s09Y8D7CpJntZ2aHh+NdCXw2XGa1BM+l9G+y+4vhb3IsQUI70LsMfwy8P7wzYOGyen2/nfiYuftNBA9mX2tmh5pZgZlVmNn7I1fponKuIxa8P/O4cBvtYnuDEJjZW81sTrg9bAtHyTIAC5qhLg6/Fobr1WAnlSJTxVDHQgj2b+cQXAm/ItJ9pPuEoaZ1NfDh8HhURVDVHwB33wDcCHzTzCrNLGFmu4bHw4FUEDwD3mZmexG00hjV/9ixCZhtZrMi3cZy3Lsa+JSZVYcXtf4r0m+offZgBjte/jCc5r5hvLPMbKjXEX0uPK/Yl+A5qKsi/X5OUD1vJYMnST8Bvmxmu4frwQFmNptgGaQJq7Ka2efZ8Q7NDucGw1jGg60f6wiO1V8Lf5MDCGp9DPV6iuHO41h8HDjXzD4W/i6Y2YFmNtDxf9BtxMzeaNsvkjaFw2bN7PBwO0wRJGhd5D6eJcPjWQGQCH+vVI7Yc57ruvsWgqTtrWGZ72LHCwKDnkePYZlF56WY4NlFgOhxGoJl+9lwG9yLoNGby3OUM+DvStDgyx5m9rbw3C0V/tZ7h+dMbzGzWe7eS7C/6Tu/ONXMdgvPE5oJahIMtDyGc342ULw5pz2YGZ8Ihivtz4HPu/ujBK1P3Umwsu5P8OxDn5sJrhxsNLOtA5R1E8EzZb8l2CnvSvBKh4Gm+wTBFafvENyNO43gtRY9Iwj/u2bWGsb6rXC6J/WrajgSnyC4bX2XBdVmbiJ40DuXbxM0LnNjGMddBM85DEdfUtFgZv/q3zO84nwawfNcLxBUeTwn7P1FgoeUmwlanPxdv9G/RrARbTOz88Mdy+kEV3+3EFzN+Rjb1/+3EDxj0UDQGtlVBAnVWJbTzwjWn5wHkbCM0wiai95K8HD029398SHKjvoDwe/SRHD18kx37w1/v1MJqmw9F5b/E4IqOITzeQ9By30PEbQ4Gn1J/MawzPUEdzTfP1Bc7n4PwY70u+HwTxMcQCfC2QQXOa4iWPYPA4cRrKf9DbaOFBE02rCVYD7nsv0VMicBj5hZG8H6/WZ378wRzxMESeRCgmdOO9nxKp7IlDSMYyHufjfByeUCgufQ+rqPaJ8wjGn9mCAReBC4j2AfkCY4iQJ4O0HjKo+G07uG3FXuzid4/UxrWO5V/frXAz8Ljx1vCvd5VwLPht0WMLbj3hcJqnk9F87Ty8eHYeyzcxrseOnu1xLUbvh1eFx/mKFfUXArwXL7G3CRu98YmdY/CE4u/xVeSM3lYoIk7UaCE9KfEjSi8heCx06eJPgtutixeuZA5waDLeOh1o9/I3hubT1B9eUvhOdqOY1gHkctvCN7XPh51swaCZ5He8WF/GFsI4cDd4fHrVXAhz14X28lwe/TRPBbNxBUTxzI2wiOYT8gaGegMxx3oNiHOtd9L8E5VgOwLzteOB/0PDo04mXWT1+r8RDUAIgew79AUGX5eYL1/EJ3vyFHOQP+rmHth9cRzPN6gvOIvoYUIfgt14bb2/sJzjEheG3FTWFsdwLfd/fVA0x3qPOzweSadk59rdWISMjMriJotOQLYyhjMcEOaL67t4xbcDtOo57goeO3DjXsCMtdTvAA/HCrYYqITAozOxn4obvroktMzOxm4Ap3/0ncsfQ3XutHPs+jyHia8XcERcJb+ruGVU5OIrh7+PsxlJcAPkLQyuWEJIEiIjNBWE3yFAuqgy8kuKJ/7VDjycQIq6oewivvpsZiItaPfJtHkYmkRFAkeJD5FoLb9ZcSvEPovtEUZMFD0y0ErY2N+o6iiIgAQYMYXySo3nYfQSudn481ohnKzH5GULXtPN+xVcc4jev6kafzKDJhVDVURERERERkhtEdQRERERERkRlGiaCIiIiIiMgMM9DLR0VEREReoba21pcuXRp3GCIi0s+999671d3njGQcJYIiIiIyLEuXLuWee+6JOwwREenHzEb83ktVDRUREREREZlhlAiKiIiIiIjMMEoERUREREREZhglgiIiIiIiIjOMEkEREREREZEZRomgiIiIiIjIDKNEUEREREREZIZRIigiIiIiIjLDKBEUERERERGZYQriDkBERERERm/pJ/8Udwh5Z+0Fr487BJG8pzuCIiIiIiIiM4wSQRERERERkRlGiaCIiIiIiMgMo0RQRERERERkhlEiKCIiIiIiMsMoERQREREREZlhlAiKiIiIiIjMMEoERUREREREZhglgiIiIiIiIjOMEkEREREREZEZRomgiIiIiIjIDFMQdwAi+WDVisoEUBF+SoCi8JMEuoDO8NMR/u1aubrF44lWRERERGRslAjKtLdqRWUJsARYPMDfxcAcoAywERTrq1ZUdgGbgBeAdZFP3/dnVq5uaRun2RARERERGTdKBGVaWbWishw4GDg08tmT8a8GbQR3DpeGn4H4qhWVTwH3hZ9/AfetXN2ydZxjEREZFTNbC7QCGSDt7ofFG5GIiEwWJYIypa1aUbkQOBFYARzm7nuYWb48+2rAHuHnnL6Oq1ZUrgPuAVYDf1u5uuXReMITEQFghbvrApWIyAyjRFCmlFUrKguBY4GT3P0kM9sv2t9sJLU7Y1MXft4AsGpF5Xrgr8D1wF9Wrm7ZFmNsIiIiIjIDKBGUvLdqReUs4EzgDe5+nJmVwZRJ+oZjAfCO8JNetaLyDuDXwFUrV7c0xhqZiEx3DtxoZg78yN0vizsgERGZHEoEJS+tWlGZAk5197cBp5hZEUyr5C+XAuDV4edbq1ZUXg/8EvjjytUt3bFGJiLT0THu/pKZzQX+amaPu/tt0QHM7H3A+wAWL14cR4wiIjIBlAhKXlm1ovIAd3+Xw9sSZjUzIPEbTCFwevjZtmpF5TXAz1eubrk93rBEZLpw95fCv5vN7FpgGXBbv2EuAy4DOOyww/TaHBGRaUKJoMRu1YpKA07NZP1TyYQdZWYjeo/DDFEFvAd4z6oVlfcB3ySoOpqONywRmarCavYJd28N/38d8KWYwxIRkUmiRFBis2pFZWHG/W1Z59OphO2STCj9G6aDCaqLfm3VispLgctWrm5piTkmEZl65gHXhjUvCoAr3P2GeEMSEZHJokRQJt2qFZVV6ax/EDivIGG1SeV/o1UHXAh8btWKyp8A31q5umVdzDGJyBTh7s8CB8Ydh4iIxEOJoEyaVSsqS3oy/slkgvMLElYadzzTSCXwEeCDq1ZUfhf4ysrVLU0xxyQiIiIieSxfXrwt09iqFZV2xTEVH+jJ+rrCpH0+aUoCJ0gR8FHg6VUrKj+6akVlUdwBiYiIiEh+UiIoE+rKYytO7Mr4U+Up+35hwmbHHc8MUQNcBDy+akXlW8LGeEREREREXqZEUCbE1a+u2OvKYyv+UVZgNxQnbde445mhlhI0KvPPVSsqj4g5FhERERHJI3pGUMbVdw4vS5al7ILqQjuv2EzrV344FLhj1YrK7wGfXrm6pS3ugERkZlr6yT/FHULeWXvB6+MOQURmKN0RlHFz6eFlR9YUJZ6pLUqcn1QSmG8SwH9l3O5K1n3+dXEHIyIiIiLx0sm6jNmPjiwvAL5TV5Z4b9IsGXc8kttvmo5ozJL4i9XVXwZ81NfV6+6giIiIyAykO4IyJt8+vOzo8gJ7dqeSxPuVBOa3p9pLt13Z+Kpjw6/vAx6wuvpjBxtHRERERKYnJYIyKstqU4lvH172tcVliVsrUlYXdzwyuO4M2W9sOjPVr/MuwC1WV3+R1dUXxhGXiIiIiMRDiaCM2Af3LN7pXbsW3b1zefKTugs4NVy1dd+Gzdm5ZQP0ShC8e/Amq6vX6z1EREREZgglgjIiH9+35Lij5qQeWlCaOCzuWGR4nuso6vhtywlzhhjsWOBuq6vfczJiEhEREZF4KRGUYVlWm0p8/oDSzyybXXB9ZUovhp8qerP4hZve0IsNa1PfFbjL6upfO8FhiYiIiEjMlAjKkJbVpkrOrEtddWhN8suFSdOzZFPItVv32PpSZsGsEYxSBdxgdfXvnaiYRERERCR+SgRlUEfPSc1705LCv+1TVXC2mVnc8cjwvdiZ6ryy+eTaUYxaAFwWNiKjfYSIiIjINKSTPMnptfNTu52ztPCWPSqTR8Udi4xMxvGLNq3sylpyLMn7R4HfWV39QI3MiIiIiMgUpkRQBnTqosKD37ik6G9Ly5N7xR2LjNx1DUsbnksvqR6Hok4Hbre6+oXjUJaIiIiI5AklgvIKb1xSdNyZdYU3LChNLI47Fhm5jV0F3T9rOq1mHIs8GFhjdfX7jGOZIiIiIhIjJYLysmW1KTtrcdEZpy1KXVNbnJgbdzwyclmHized0p6x1Hhv2wuAG62ufsk4lysiIiIiMVAiKECQBM4usjeftij1k6rCxHhUKZQY3NS4sOGJ3t3G825g1ELgr1ZXr4sEIiIiIlOcEkFhWW3Kygt481mLCy+pKUroHYFT1NbuRM+Pm84YyasiRmN34Hqrq6+c4OmIiIiIyARSIjjDLatNWVGCU9+0pOjCucWJeXHHI6PjDt/e9LrWHooKJmFyhwB/sLr6okmYloiIiIhMACWCM1zSWP6mJYXfWVCaUKuQU9ht2+Y1Pdizz2TezV0O/Nrq6pOTOE0RERERGSdKBGewZbWpI89eXPijJeVJNQAyhW3rSfR+v+HMON71dwbw4ximKyIiIiJjpERwhlpWmzrgxJ1S39m9Mrl73LHI2Hx30/JtXZQUxjT5d1pd/TdimraIiIiIjJISwRloWW1q9wOqk984dHby0LhjkbG5a1vNtn92HzQn5jA+ZnX1H485BhEREREZASWCM8yy2tTsBSX22ZMWpJYnzCzueGT0Wnst/Z2Gs4vjjiP0daurPyvuIERERERkeJQIziDLalNFpUnOO3tx4amFCVOLj1PcjzYf3dTm5fmSCAL82OrqF8UdhIiIiIgMTYngDLGsNmXAW85eUvjWysLERL1wXCbJfS2zmm/vXBZ3ldD+qoFfWF299isiIiIieU4nbDPHcScuSH1wcVlyadyByNh0pMlcsvXsVNxx5LAc0POCIiIiInlOieAMsKw2tdduFYnzDq1JHhR3LDJ2/7f58Mbm7KzSuOMYxJesrv6wuIMQERERkdyUCE5zy2pT1cUJzjt1YeHRCTMt7ynukdby1hs7js23KqH9pYBfWV19HO82FBEREZFhUGIwjS2rTSWAd5xeV3hsecqq445HxqYrQ/abW86eKi297gF8e7Qjm9klZnZe5PtfzOwnke/fNLOPmNm+ZnazmT1hZk+Z2ecsbA3XzM41sy1mdr+ZPW5m/y8yfr2ZnR/+X2xmfzWz+vB7W/h3qZm5mf1XZLzvmtm5ke8fCct+yMweMLOLzSxfq+2KiIiIvEyJ4PT26v2qkifvXpncJ+5AZOx+teXAhoZsTXnccYzAu8fwSol/AK8CsOBOdi2wb6T/q4A7gVXABe6+J3Bg2P0/I8Nd5e4HAUcDnzGzuuhEzKwQ+C1wr7vXDxDHZuDD4XA7MLP3A68DjnT3/YHDw+FLRjy3IiIiIg4OIuQAACAASURBVJNMieA0taw2tVNJknNP3Cl1RNyxyNg91V7SvqrttfleJXQgo32lxB3AUeH/+wIPA61mVm1mRcDewAHAP9z9RgB37wA+BHyyf2Hu3gA8DewU6VwAXAU85e6vGCe0Bfgb8I4B+n0G+IC7bwun0ePuF7h7y4jmVERERCQGSgSnoWW1qSTwrpWLCg8rKbBZcccjY9OTxS/afGY27jhGqRr4+UhfKeHu64G0mS1m+92/uwmSw8OAh4A9gXv7jfcMUG5mldHuYTnFwIORzh8Hetz9PAb3deB8M0tGyqsEyt39uZHMl0g+MrOkmd1nZtfFHYuIiEweJYLT0/JdyhNH7laRUJXQaeA3W/bZsjEzryLuOMZgBXDuKMa7gyAJ7EsE74x8/8cwyzjHzB4kuBv4fXfvivT7O/AqM9tjsALc/VmCJPTfcw1jZieGzyKuNbNXDTM2kXzxYeCxuIMQEZHJpURwmllWm5oLvPmkBamD+hrNkKlrbUdRx29aXjcVq4T29xWrqx/p8419zwnuT1A19C6CO4KvIkgSHwUOjY5gZrsAbZHqmVe5+wHhOBeY2fzI4LcB5wHXm1m0yuhAvgp8AjCAsPw2M9s5/P6X8FnEh4FXPE8okq/MbBHweuAnQw0rIiLTixLBaWRZbcqANx5ZW7C0pigxmueyJI+ks/hFm8/ocUtMh4R+PvCpEY5zB3Aq0OjuGXdvBKoIksE7gF8Bx5jZ8QBmVgJcCnyjf0Hufg/wC4I7H9HuvwUuAm4ws6pcgbj74wSJ52mRzl8DftA3XnjhpXiE8ygSt28RVJPOWf3czN5nZveY2T1btmyZvMhERGRCKRGcXvYoTHDk0XMKDo87EBm7PzTs1rAuvTBncjIFfcTq6peMYPiHCFoLvatft2Z33+runcDpwGfN7Imw3z+B7+Yo7+vAO81sh2q27v4D4FpglZkNlsh9BYheYPkBQUMyd4fVT/8B3Bd+RPKemZ0KbHb3ewcbzt0vc/fD3P2wOXOmQwUFERGBoNU8mQaW1aYKgLeduCC1mxqImfrWd6a6frnt9TVMh3uB2xUTJGNvHs7A7p4BKvt1O7ff94eA5TnGvxy4PPJ9PcGdSYD6fsPWR7qVh93WAvtFhnmAyMUzd3fgwvAjMhUdDaw0s1MIts9KM/ulu7815rhERGQS6I7g9HHU7CLbY79ZyUOHHlTyWcbhok2ndmYtOR23z3Osrv6wuIMQEXD3T7n7IndfSnCB5mYlgSIiM8d0PNGccZbVpsoJGojZM5mwVNzxyNjc0LB46zPpnavjjmMC/U/cAYiIiIjMdEoEp4eTZxdZzZKyxL5xByJjs7kr2f2/21ZO5yQQ4ESrqz867iBEZDt3v8XdT407DhERmTxKBKe4ZbWpauDEE+andklEXngtU0/W4ZLNJ7enKZwJy1F3BUVERERipERw6jtuVsqKdy5PHBx3IDI2NzcuaHi0Z4+auOOYJMutrv61cQchIiIiMlMpEZzCltWmKoATX7tTaomeDZzaGnoSPZc1nVE59JDTyufjDkBERERkplIiOLW9uiRJ8e4VCbXCOIW5O5duPKGlm+KZlsy/2urq94o7CBEREZGZSIngFLWsNlUKnPra+alFqcSgL8GWPPf3bXOb7u/ZtzbuOGLynrgDEBEREZmJlAhOXUcZFO81K3lI3IHI6DX3Wvp7jWeVxh1HjN5udfUz7U6oiIiISOyUCE5By2pThcAZB9ckS4uTNivueGT0frDpNU2dXloUdxwxmgOcHncQIiIiIjONEsGpaR+g/MDqgn3iDkRGb01z9bY7uw6ZE3cceUDVQ0VEREQmmRLBqem4igLSO5XY3nEHIqPTlrbMt7eePZPvBEadYHX1i+MOQkRERGQmUSI4xSyrTc0G9j9mbmqhXiA/df1401ENbV5REncceSIBvDPuIERERERmEiWCU8/hQHb3yqReID9F3d9S2XJL55Fz444jz7zT6uq1PxIRERGZJAVxByDDt6w2lQBO2L0ikaxM2fy445GR60iTuWTL2eO73TX+AbqehEQZzP/P7d3b7oa2fwIJKN4dqk6A7hdg25+AJNScBanZkO2Cht9A7VvBbFxDG4ElwAnAX+IKQERERGQmUSI4tewG1BxUU7Br3IHI6Pxsy2EN27xqfO8Glh0E5cug8drt3bqeg84nYN77wQog0x50b70TZr8FMtug/R6oOhFaboOKY+NMAvu8ByWCIiIiIpNCVbGmlmOAnkWlib3iDkRG7rG2stYb2l89/lVCi5ZAot/jhu33QMUxQRIIkCwL/loSvDf4WBLSjZBpgeKl4x7WKKy0uvqquIMQERERmQl0R3CKWFabSgFHLC1LZMoKrDbueGRkujNkv7n5rMm75ZZugO7nofnmIBmsOgEKFwbJYdO1YCmofgM03wiVKyYtrCEUAq8B/hB3ICIiIiLTne4ITh27Aqn9q5O7xR2IjNwVWw5o2JKtLZ+0CXoWsp0w991BEthwDbhD4XyY+x6Y8w7INEEyDKnhGmj8HWTaJi3EHPImKxURERGZzpQITh0HAelFpYnd4w5ERuaZ9uL237ceN7kvjk9WQsnewXN/hQsBg2zH9v7uwbOBla+Bllth1vFQdkjQwEy8lAiKiIiITAIlglPAstqUAa8qK6CtutD04u0ppDeLX7T5zAw2yZtayV7QvTYMogHIQKJ0e/+OB4KWRBMlwfOCWPDx3smN85X2t7p6VX0WERERmWB6RnBqWACUH1hdUJKwyc4oZCx+u3XPresz8yf2bmDDb4OkL9sBGy6GyuVQdjA0/QE2fj9oFKb6jO2tgmZ7g0Sw9q3B94ojYesVwXA1Z05oqMNgBM8J/jbuQERERESmMyWCU8MeAIvLEktjjkNG4IWOws5fN59cy0Q3ETP7rIG750rqEqngGcE+RUtg/gfGP67RW44SQREREZEJpbtLU8MyoLW2yBbFHYgMTzqLX7j59B63ROwv55uC9JygiIiIyARTIpjnwtdG7F5gtFakbH7c8cjw/LFhl4YX0nWz4o5jitrX6urH/32LIiIiIvIyJYL5bz7A7pXJuUkzVeWdAjZ0FXT9Ytvra+KOY4pbHncAIiIiItOZEsH8twhILC1LqFroFJBx+OamUzszltK2NTaqHioiIiIygXSymv/2BLrnlSQWxh2IDO3GxrqGp3p3qY47jmlgedwBiIiIiExnSgTz395Aa02hGorJd1u6kz0/bTpdzwWOj72srr4k7iBEREREpislgnlsWW2qDJhTVkC6tMD0zFkeyzp8a9OJrb0U6jnO8bM07gBEREREpislgvltEeALSxKqapjnbmma3/hwz16z445jmlkadwAiIiIi05USwfw2D0jMLU7obmAea+xJ9P6w8cyKuOOYhpbGHYCIiIjIdKVEML8tAnqqi0x3BPPYdzcd19xNcSruOKahpXEHICIiIjJdKRHMbwuAzlkpJYL56o5ttU33dh9QG3cc09SSuAMQERERma6UCOa3nYCu8gIlgvmopdfS32k4qzTuOKaxpXEHICIiIjJdKRHMU8tqUymgGuhWi6H56Yebj23q8LKiuOOYxpbGHYCIiIjIdKVEMH9VAW5AcRK9my7P3NNc1fyPzsPmxB3HNDdP7xIUmThmVmxma8zsATN7xMy+GHdMIiIyeZQI5q9qwCtSVpQw03LKI+1pMt9uOFuNw0wOPScoMnG6gePc/UDgIOAkMzsy5phERGSSKMHIX1WAlRegqod55qebj2xsyVbq2cDJsTTuAESmKw+0hV9T4cdjDElERCaREsH8VQIkygpMiWAeeai1ouVvHa9SldDJozuCIhPIzJJmdj+wGfiru989wDDvM7N7zOyeLVu2TH6QIiIyIZQI5q8yIFuSVCKYLzozZC/efFYy7jhmGD0fKzKB3D3j7gcRvLd2mZntN8Awl7n7Ye5+2Jw5ug4mIjJdKBHMX+VApqTAiuMORAK/2HxIQ6PXlMUdxwyjZzFFJoG7bwNWAyfFHYuIiEwOJYL5qxxIFyf1jGA+eKKttO1P7ct1KXzyFcYdgMh0ZWZzzKwq/L8EOAF4PN6oRERkshTEHYDkVAakixOqGhq37gzZizafpQYU4qE7giITZyfgZ2aWJLgwfLW7XxdzTCIiMkmUCOavMiCTTGgZxe2qrfs2bM5Ogwdj0s3Q9HvItAEGZYdAxZGw7a/Q/TSk5kPNG4Jh2x+EbEfQP15KBEUmiLs/CBwcdxwiIhIPJRn5qxRI42rKO04vdSe6bm7fwxd1P7MlgVvc8YxFOtORyJTsmShK1aaz2R7b2HR9Va0lWpq6nymfV3VCc0PLHeUV7Ws6C5KVmS1t/5g1d9Zrm6376VhidbwgaalNWUt2xhKAiIiIyDSnRDB/FQDueqdTrBYWZYu/uNsfev5UXtzwQtIKCrszhbO2ZXqrmtPpqta0VXZkkuXdmaKydLa02LOlBvmfLHYFf/4PWNZ+ffWtafhAy69qr+iFE9qfK34gCzsZ7Nd2ZW2scQbv0pwFP405DBEREZHpR4lg/nKArBLB2C3JZiv/s6WjEuBREj3X16S679q7rDBdmdzh+U1LZ72iId1T1ZBJVzb1ZitbMj6rNUNFZyZR0ZNNlKezBSXuqUQepIqNWXgpC7umYHMSLumB3RJQbPBCFk7InyZassMd0MwywEME1UnTwM+BS9w9a2bLgT8AzwHFwHXufn5k3DOAL0XG/Zy7/z7sdznwGqA5jOeD7n6nmRnwGeAdBNvpS8CH3P2RcLw2dy+PTONc4DBgA/DGsPP+YcwA/+vulw53fkVERETGQolg/nKATNYzcQci2+1DtnCftu5C2rq536z3xvKCnqfmF6bS5QWFXpCwlnmFhS3zKISSAce3dNYrm9KdVY3prqqm3t6q5nR2VmuGyo5Msqw7mypNe1GxU2I2cXcWux1+1gunp4LEb0VB8AG4uhdOLIC70/BEFhYk4Ph49xLpEQzbGb4PDTObC1wBVAJfCPvf7u6nhq0j3mdm17r7P8zsQOAi4AR3f87Mdgb+ambPhs9QAXzM3a8xs9cBPwIOAD4IvAo40N07wn6rzGxfd+/KFaS7fwX4ShhnW1/MIiIiIpNJiWD+ygLW6/TGHYgM7CD31EGtvSlae7k7Ze1/rUyln5tTWJotSeZs4MQLEtY8p7C0eU5h6fM5hrFM1iu2Zdqqm3o7qht7e6qa05mqlgwVHZlkeXe2sCTtJUVZykeTLGbCJPCQJOyf3LHfS+G9tzkGf87C+wrh172wJQtz4nvRTPtoRnL3zWb2PuCfZlbfr1+nmd0PLAw7nQ981d2fC/s/Z2ZfAz4GvK1f0bcBu4X/fwJ4jbt3hOPdaGZ3AG9B9VlFREQkzykRzF+9QFk6O6I7IhKTI3q97IiGHrJbu7mjtGDTjTWprnXVqbmkEgPfGhyEJxPWMjtR3jI7VT5osticaatq7O2sburtrtqWyVS1pr2yPVMQSRbLzLa/K9Q9uOM3z+A1A2z5N6Th7FRwBaKvPnIC4r4S0TbaEd392bBZ/LnR7mZWDexOkNQB7EtwRzDqHoI7fv2dBjxkZpVAmbs/O8B4+442ZhEREZHJokQwf/UAie6s98QdiAxfwoxjOjPzjnkpQ/rFTr+trGDjTbMLezZUp+aStOLxmo4nE9ZSkyhvqUmVv5BroGzWK5oz7VUNve01Tb09vS/1FNz7XPf8miS9j/dgCSdxShL2LSDxcAYWGcwK7zEuMLioO2g0ZkF8dwMBWsaxrGPN7AGCJPBb7r5xBONeaGafBbYA7x5DDHrmV0RERPKCEsH81Q0kmnt8VFXjJH4FZnZcR2b+cR2ddL/Qkb25IrV+9ezCzJZZBfNI2sQ3x5JIWGt1oqy1OlW2DuBwqAn6pDJABvhDNus3N2faqxp7O6qb0j1/35ZOV7Wm/cD2TPLormxhadpLslnKE5E7i5Ns22hHNLNdCGZzM7A3258R3Bm4y8yudvf7gUeBQ4EHIqMfCjwS+f4xd7+mX/ntZrZLv7uChwK3hv93mlmh+8sXc2qAraOdHxEREZHxpEQwf3UCyYZub407EBm7IrPEyW3pBSe3penA03+pTL14e00hjbMK5lvC4tsO+yeLA8lmKW/JdFQ19rZXN6W7q7elM7Na0j6rPXxmsTeohpowkrmKGIOm0YxkZnOAHwLfdXcPGvgMhM8AXkDwjN+/EVQL/Y2Z3ezua81sKfBp4OwhJnMhcKmZvTF87vB44BjgP8L+twJvBf43bKDmTcDHRzM/IiIiIuNNiWD+agQKG3t8a9Y9mzCLt4KejJtSrOANLelFb2hJ02re8+fK1Lo7ZhclmiuS8y1hE5FMAeBZp+WKzSTKk1ScUUvb9Q1ktqZJ7VxM6TGzAOi8u4Xk7BSFu0UebUwkaKtKlLZVpUpfzFV4X7LY1NtR3ZjurgrvLFa2Z5LlXdnC0l4vLgruLI50/jaNYNiSsBGYvldA/AK4OMewPwTON7Ol7n6/mX0C+KOZpQgei/x4eLdwMN8BqgmeGcwAG4HT3b0z7P9h4Edm9t8E75f8ubvfNnBRIiIiIpNLiWD+2kJwQktPlrbiJJUxxyMToMKt8JzmdN05zWkaja7rqlIvrZldmGorT8636G2scdB1XxvJmgK8x0lv6cEKjFlvm0fLb7eQ7c5Cr5Pe0EPJEaNY1aLJ4s45hslmKWvLdFQ19HaEdxbTs1qCZLGiL1l0yhI77pfWDzcEd8+ZZLr7LcAtke+dbG81FHf/HfC7HOOem6O7A18MPwP1fwk4dYiYywfrLyIiIjJRlAjmrzbCl2l3Z7ytOGlKBKe5Gqf47U29i9/e1MumBB1/rCrccu/sVHFnWXLeWHPCbGua3ue6KFlWQde/2rCE4WnH3SHrmEHHnS2UHDWBq1kiQXtlorS9MlX6Uq5kEShr7u2s2pZuq23PPHHzDU16pk5ERERkAigRzF+thC0MdmVonRVzMDK55mUpfU9jz5L3NPawLknrH6sLGx+YXVjaU5qcM5ry2m9ppvTYWXhP8LLA5OwUVpKk5VebKdy7lMy2NO5OwbyJb8NmKO2zUiXts1IlL0FD3LGIiIiITFdKBPPXy+9P68yowZiZrC5DxX9u7algaw/PFljzqprCbY/UpCrSJcma4Yzf82wnidIEBfMK6V3X9XL3suVVL//f+vutlB1fTefdLWS29FKwpIji/WOvtfhc3AGIiIiITFdKBPNXK8H7vNnW440xxyJ5Ype0zzpvc/csNnfzaKE1/qm6sOXx2YVV2aJEVa5x0ut76Hm2i961G4LqoD1O2/WNlJ8c5JE9z3SSnJfCe7NkmtOUnzqblt9toWivUiwVaxtFSgRFREREJogSwfzV9/5A29iVHUnLiePqxY4sFz3S+fL3jV1Z/n1pEftXJ/nBk110ZWBusfGRvUsoLTAea07zgye7KTA4f58SFpQmaOt1Lny0ky8cUEJifNs/mdH26fGafTZ117Cpm/uKEluvrylse7omVeOFiR0e9Cs9ZtbLrYL2ruui6962l5NAzzhd/2qj4ozZZLalt4+UBc+ApSZvfgagRFBERERkgigRzFNrtvZmltWmNgEla9viSwQXlSb41uFlAGTcedcd7Rw5p4CvP9LJO3ctYr+qAm7a0Mu163p4y85F/H5dL5/fv4TNXVluWN/Du3Yr5jfPd3P24kIlgRPo4O5s7cEbumrZ0MVdxYnNf5ld2Lm2OlVLKlE22HjdD7RRtE9w5y9Zm4K00/zzjaR2LiZRHPsbS56JOwARERGR6UqJYH5bCxywtdu39GS8vTBpg57UT7QHmzLMLzHmFidY35Fl31lBa/0HViepfzBIBJMG3dngkzRjQ2eWLd3O/tVa1SbLkV3ZuUe+1EX6xU7/e1nBxptqCrtfqk7NpcBKUnXFpOqKXx62+JCKl/83M8pPmR1HyLkM9R4/ERERERklnZ3nt6eBIwBa0755dtIGaXR/4t2+uZdXzw3qCtaVJbh7a5oj56S4Y0uard1Ba5RnLy7kW491Upg0/t9exfzfM928deeiOMOesQrMbHlHZv7yjk5613VkV5enNtw8O5XeVJWaS9LyfaFsbbh4naqGioiIiEyQ2Ot+yaA2EL5CoqnHY6seCtCbddZszXD03ODawX/vWcz163v5yD3tdGacVFjrc5eKJBceWsZXDiplU1eW6iLDgW880snFj3ayLXx9gUyulFnide3pnS54obPuBw82F5z5dPtLs5t6X/Ss98YdWw73DndAM2uL/L+7mV1nZs+Y2b1mttrMXh32O9fMsmZ2QGT4h81safj/LDP7uZk9HY7/czObFfZbamadZna/mT0a9kuF/ZabWXPYr+9z/Pj8DCIiIiITQ4lgftvc98/WGBuMAfhXY5pdKxJUFQarzKKyJF88sJSLDyvj2Lkp5pfsuCq5O1c/38M5S4r49dpuzt21iNctSPHHF/M175g5irHkaa3phRet7Vj03Qebef0z7S/O2tb7kmc9E3dsEf8c6QhmVgz8CbjM3Xd190OB/wJ2iQz2IvCZHEX8FHjW3Xdz910JGqv5SaT/M+5+ELA/sAh4U6Tf7e5+UORz00jjFxEREZlMqhqa3xqBDJB8vj274chRvUp8fNy2Kc2xc7c3IbmtJ0tVYYKsO1c/381JC3Z8EfnqTWkOrSmgImV0Z8EIPt1Zn9zAZVDlbqmzW9KLzm5Jsy3h3X+qLHzprtmFBa0VyflmFueFohEngsBbgDvdfVVfB3d/GHg4Msx1wKvNbE93f6Kvo5ntBhwKnBMZ9kvA02a2K8F22FdmxszWAAtHEaOIiIhIXtAdwTy2ZmtvFngBKHuqNbupJ+MdccTRlXEeaEpz1Jzt1w1u35zmA3e38cE17dQUJnjt/O39ujPO3zb2csrCIHE8fVGKLz/UyU+ffmXCKPmjKmtFb9nWu/g7z7Qv+OYDLd2vfr7j+ZK29EZ3n9TsPZzeHaMYdV/gX0MMkwW+AXy6X/d9gPvdfYeEj6DBmn2jA4Z3Ho8Aboh0PrZf1dBdRxG/iIiIyKTRHcH89zhwItCytdvXLii1fSY7gOKk8ctjKnbodtqiQk5bNHBSV5Q0vnJQ6cvf960q4NLDtapNJbOdknc29i55Z2Mv65O0/7GqcOt9swtLukoTc22CXwNiZo81XLxu6ziUcy2wO/Cku58Z6XUF8BmzETe+tKuZ3Q/sDPzJ3R+M9Lvd3U8dW8QiIiIik0d3BPPf40AS4KXOrFpRlEm3IEPZfzT0LPnhk21zv/hwa8shL3Y+n+rMjDlRG8RtoxzvEeCQvi/u/gbgXKAmOpC7p4FvAp+IdH4UOChaHTb8/6CwH2x/RnBX4FAzWznKOEVERERip0Qw/60N/9rjzZln4wxEZEnaK/9rS8+Syx5vq/3Uwy1N+63vej7ZlW0a58mMNhG8Aji6X4JWmmPYy4HjgTkA7v40cB/w2cgwnwX+FfZ7mbtvBT4JfGqUcYqIiIjETolgnluztbeN4DnB8ufbs41dGW+JOyYRgD16vfqjm7qX/OSx1uqPPNrauOeG7rWJ7mzzOBQ9qkTQ3TuBU4H3m9mzZnYnQTL3PwMM2wNcCsyNdH43sEf46ohngD3CbgP5PVBqZseG3/s/I3j2aOZBREREZLLowa2p4V/ASqB1S1f2ubqy5IFxByQStX93tmb/jV01bOzinqLElutnF3Y8V5Oa7alE+UjKcfcHGi958aURjlMe+f9x4JQcw11OcCew7/ulBMlg3/cm4K05xl0L7Bf57kB0O5w1kphFRERE4qZEcGp4kuDtC7zQnn1GiaDks8O6s3MOW99F9qVO7igt2HTj7FTXuurUHAoSuappvszMfjcZMYqIiIjMdEoEp4a14d/EPQ3pJ4+aU5BJmCXjDEhkKAkzjunMzDvmxQzpdZ1+a3nBhptqCns3VqfmkrTiHKP9dlKDFBEREZmhpvUzgmb2GTN7xMweDJ/bWR3+fdrMmiPP87zKzNaaWW1k3OVmdl34/7lmtsXM7jOzp8zsL2b2qsiwl5vZc5Hy7oiMlzWzAyLDPmxmS83s7nDYF8Ky+8Zd2n8+1mzt7QKeAma1pune2u1qNEamlAIze217Zqevretc/MMHmwvf9FT7+jmNvevIeE/fMO7+ZMPF6x6JM04RERGRmWLa3hE0s6MIGo44xN27wySv0N3Xm9ly4Pzoe7+G8W60q9z9Q+GwK4DfmdkKd38s7P8xd79mgPFeBD4DnBPt6O5HhGWdCxzWV/Yg/g68C2h6pjXz6NzixO5DBSySj4qwxMlt6QUnt6XpwNM3VKQ2/n1OYXdrRcFVcccmIiIiMlNM5zuCOwFb3b0bgibf3X39eBTs7quBy4D3DWPw64B9zWzPMU62706J/bMh83jWPTPG8kRiV4oVnNmann/xsx1LfvxAi6qFioiIiEyS6ZwI3gjUmdmTZvZ9M3vNOJf/L2CvyPcLI9U7fxXpngW+AXx6LBNbs7W3CXgGmNXS612bu/zJsZQnkk8y7o+sXN3yQNxxiMwkZlYXPjLxaPgYxYfjjklERCbPtE0E3b0NOJTgrt0W4KqwGmbOUYbZrU//uqQfc/eDws9b+vW7AjjSzHYeIuyh3ApUAjzenHlojGWJ5I2k2S/ijkFkBkoDH3X3fYAjgQ+a2T4xxyQiIpNk2iaCAO6ecfdb3P0LwIeAswYZvAGojnyvAbYOMvzBwGOD9I/GkQa+CXxiOMMP4sHwb2JNQ/rJnqx3jrE8kdh5UM35V0MOKCLjyt03uPu/wv9bCY5pC+ONSkREJsu0TQTNbE8zizaochDw/CCj3AK8LRw3SfBi6dU5yn4NwZ3GH48gpMuB44E5IxhnB2u29rYADwA1PVkyz7Vl7x1tWSL5Igt/XLm65cW44xCZycIWqw8G7h6g3/vM7B4zu2fLli2THZqIiEyQaZsIAuXAz8JnHx4E9gHqBxn+8arZfAAAIABJREFUy8BuZvYAcB/wNPDLSP9zwuf/niR43u+sSIuhsOMzgvebWWG0cHfvAS4F5o5xvm4DygD+vrn3n1n37BjLE4lV0uySuGMQmcnMrJzgHZ7nuXtL//7ufpm7H+buh82ZM+prmSIikmem7esj3P1e4FU5+t1CcAcw2q0Z+Pccw19OcEcv17TOzdFrh/Hc/VKCZHDYZQ/gYaAVKNnQ6S0bO/3xBaV6pkOmpnTWHz3z1tbb4o5DZKYysxRBEvgrd/9d3PGIiMjkmc53BKelNVt7e4E/E1YxvachfVe8EYmMXtK4MO4YRGYqC16g+1PgMXe/OO54RERkcikRnJruJHgtRfLBbZl1zT3ZDXEHJDJSGfdGM7sy7jhEZrCjCZ6NPy7yWMMpcQclIiKTQ4ngFLRma28zcDvh84aPNGde8XC/yBTww5WrW7rjDkJkpnL3v7u7ufsBkdcf/TnuuEREZHIoEZy6VgOFALdvTj/clXnlA/4i+Srr3p00+07ccYiIiIjMVEoEp651wJPA7N4smQeaMrfEHI/IsPVm+cHK1S0b445DREREZKZSIjhFrdna68B1QAXA3zb23t+e9oZ4oxIZWjrrHUVJ+1LccYiIiIjMZEoEp7ZHgGeA2VnH72lI3xx3QCJD6clyycrVLU1xxyEiIiIykykRnMLWbO3NAlcT3hW8fXP6UbUgKvms9/+zd99hmpXl4ce/9xZ6Z1ekryJiFxRXRY1ERbGb+IvR2FATNJZgorEnYqyJ3WhEFAQLCIJYQEUUEBFkaAssvS2wtN1hd2H7tPv3x/MMvDtM292ZeWfnfD/XNde876n3Oe8pz33Oc57Tl8u2mhGfb3cckiRJTWciuOm7AbgK2AXgL509f2hvONLQuvv4zKvOeWBlu+OQJElqOhPBTVx9VvBUYEsgLr6v9+b71vbd2uawpIfp6st7t5oR32h3HJIkSTIRnBI6OrsXABcBjwQ46+7u3/Zl9rU1KGmArl7e86pzHuhudxySJEkyEZxKfk55r+D0m5b3Lbrhgb4/tzsgqd/9XX3n/cP5y09tdxySJEkqTASniI7O7ruB3wK7A/xqYdd5q3pySXujkqC7L9eu6eXN7Y5DkiRJDzERnFp+BdwPbLu2j54/3tt9ersDkpaszc/9019W3N7uOCRJkvQQE8EppKOzexXwfWA2EJcu6b31jpW9V7Q5LDXY8u68cZctp3263XFIkiRpXSaCU89VwIXArgC/XNj9u66+XNXekNREfZl9K3vyH151zgPZ7lgkSZK0LhPBKaa+TuInQB+w5dKuXHXh4p4z2hyWGqhzbR51+F9WXNLuOCRJkvRwJoJTUEdn91Lgx9TXSfxpUc81t6/svby9UalJlnb13dS5Nt/X7jgkSZI0OBPBqesC4GpqMnjKbV2/WdmTne0NSU3Q1Ztrbl3R9zcfuWyl77KUJEmapEwEp6iOzu5e4BhKFdGtV/XSffrCrlN6M3vaHJqmsMzk5hV9Hz3yilXz2x2LJEmShmYiOIV1dHbfB3wHeAQw/cblffde3Onzgho/t6/sO/3U27u+3u44JEmSNDwTwSmuo7P7CsqL5vcE+P09PfN8XlDj4b61fbeft6jn9bXBIkmSJE1iJoLNcCpwE7ALwEkLun69tKvvjvaGpKlkZU8uv3Jp7yt+etvale2ORZIkSSMzEWyAjs7uLuAoIIFt1vbRc8KtXT9Z1ZNL2hyapoCu3uz6y+Ket3/12tVXtTsWSZIkjY6JYEN0dHZ3At8EZgGbL+3KVT+9retHvmxeG6M3s+/8xT2fu7Cz59R2xyJJkqTRMxFskI7O7msoLYnuDsy4Y1Xf0l/f2X2iLYlqQ2QmF3f2HHfB4p7P+FygJEnSpsVEsHnOB34G7AXE/GW9C/90b8/PMtOCvNbL/GW9Z/7+np731FeVSJIkaRNiItgw9c7NL4E/UpJBzl/cc+28pb1ntjUwbVJuXt57+S8Wdv99R2f3mnbHIkmSpPVnIthAHZ3dfcAPgauBPQDOuLP7oiuW9pzV1sC0Sbhpee/VP72t6+Udnd33tzsWSZIkbRgTwYZqaUn0HuCRAL9a2H3B5Ut6ftvWwDSpXX9/7zU/va3rNRcs7r673bFIkiRpw5kINlhHZ/cK4MvAEmBXKHcGL7mv59c+MqiBrr2/d/5Pb+963YWLu29qdyySJEnaOCaCDdfR2b0U+B9gMTUZ/O1d3RdffF/vr0wG1W/+sp4rT72963Udnd1XtzsWSZIkbTwTQdHR2b0M+CJwL7AbwO/u7r7sos6eX9iaqK5c2nP5z+/ofl1HZ/e17Y5FkiRJY8NEUADUhj++CNxJec8gv7+nZ97Z9/T8pKcvu9oanNqiL7PvwsXd5/+ytA56fbvjkSRJ0tgxEdSDOjq7l1OeGbwd2BPgws6eG069vevYNb1pC5EN0t2Xa8+4s/s3f7in57COzu4b2x2PJEmSxpaJoNZRG5D5CjAfeBQw7cblffced/Pa7y7r6lvY3ug0EVZ05/0nLug66Yqlve/p6Oy+ud3xSJIkaeyZCOphOjq7VwL/C5wJzAE261ybK4++ce1xC1f1XdXW4DSuFq3pu+e4m9d++/aVff/a0dl9W7vjkTR+IuLYiFgUEfPbHYskaeKZCGpQHZ3dPcCJwLGUBmS27eqj97ib1/5s/rKes21EZuq58YHeG79/89rPLOvOT3V0di9pdzySxt1xwKHtDkKS1B4z2h2AJq+Ozu4Ezp07a+a9wBHA5kDnz+/o/tPtK/vueOEjZ7528+mxTXuj1Mbq6cuuP97b03FhZ8+XgF91dHb3tTsmSeMvM8+LiDntjkOS1B7eEdSI6msDPgWsBPYA4rIlvQuOuWnttxet6bMhkU3Ysq6+RT+4Ze0vLuzs+UBHZ/cvTAIlSZKawURQo9LR2X038GngUkojMpsv6cpVR9+49oRL7+v5TW9mT3sj1PrIzLxqac8VR92w9vi7Vue/d3R2d7Q7JkmTU0QcHhGXRMQlixcvbnc4kqQxYiKoUastih4FHAPMrn/85q7ujhNv7Trq/q6+u9oZn0ZnVU8uO+X2rjN/sbD7Gz3JJ20URtJwMvPozDwwMw+cPXt2u8ORJI0RnxHUeqnPDf5x7qyZNwPvpLQqunDByr77/u+GtcccutvMuU/eYfpfz5gWm7U1UD1MX2bftff3Xvmbu7ovXdPL0cDF9feUJElSw5gIaoN0dHYvnDtr5qeBV9a/+3uTpWfc2f2Xi+/rmf/y3Td7ye5bTXtSm8NU1bmm77bT7+y+fOGqvguA73d0dne2OyZJ7RURJwIHA7MiYiHwycw8pr1RSZImiomgNlhHZ3cXcOrcWTOvBN5GuTt496I1ueL7N6899Wk7Tb/0rx4x82XbzAzrErXJmt5cfv6inov/0tlzE/AT4LyOzu7edsclqf0y8w3tjkGS1D4mgtpoHZ3dN86dNfOTwPOB1wEB3HXZkt4FVy7tPeqlu8981hO3n/58q4tOnL7Mvusf6Jt3xp1d163p5Wzg1I7O7mXtjkuSJEmTg4mgxkRHZ3c38Pu5s2ZeBvwdcBCwtCdZ9quF3Recv6hn3iG7zjxon22mzZ0+LWa2N9qpqy+z7/aVfVeddXf3TfeuyeuB4zs6u29od1ySJEmaXEwENaY6OruXzJ0182jgj8BhlOqii5Z25aqTb+v6/U6bxQUv2nXmc/bZZtozTAjHTl9m3x0lAbzunjV5P3Ay8MeOzm5f6yFJkqSHMRHUmKstUV43d9bM/wCeA/wt5VUTi5eUhPCsnTaLPx+y68znPHrbac+YHiaEG6ovs++OVX1XnXV39/X3rM4VwFnAmR2d3UvbHZskSZImLxNBjZtaXfTcubNmXgg8m4cSwkVLunLVSbd1nbXz5nHB8x4x4+mP2Xb607eYHtu1NeBNSFdfrr5tRd8V5y3qvu3u1bkS+D3wu47O7vvaHZskSZImPxNBjbuOzu61PJQQHsRDCeF9963NlT+/o/u8adH9p2fuPGPfp+w4/RmzNo99IiLaGvQktbSr746rl/VefsHinvu6+kjgD5Q7gCaAkiRJGjUTQU2YmhCe03KH8BXA3sDqvqTzws6eGy7s7Llhj62m7fDs2TOe/qitpx2w2fTYuq1BTwI9fdl1x6q+K/+yuOfam1f09QA9wNnA730foCRJkjaEiaAmXEdn9xpKQngesB/wQuAAIIHFC1f1LfvpbV1/mBGc8/SdZ+zzuO2mPeGRW0573MxpsUU7455IvZk9i9bkjTc80HvNxff13L+ml2nAncBvgMs7OrtXtTlESZIkbcJMBNU29cXm1wDXzJ01c2fgWcBLgF2A1T3JfRd19tx4USc3zpzG6U/bcfqj9t1u+n67bjltv82nx7btjH08dPfl6nvX5I03L++94ZL7eu5Z3cs2QC/wZ0orrLfWhngkSZKkjWIiqEmhPuN2xtxZM88EngA8F3gaMA1Y093Hkovu673povt6bwLOePz203fbd9tpj3rkltP22nGz2GtTvFvY25fdy7pz4b1r8vZblvcuuGpZ7/29SX+DOYuAU4DLOjq7l7cxTEmSJE1BJoKaVOp7764Erpw7a+aWwOModwoPoGyvPcDSa+/vveva+3vvotwtY99tpz1in22n77XrltP23nnz2GsytkDa1ZerlqzN2+9Z3Xf7rSv6br/ugd7Fvcn2wFZ1kMXAacBVNv4iSZKk8WQiqEmro7N7NXA5cPncWTM3A/YB9qfcKdyrDtYH3H/j8r7FNy7vWwRcAjBr89h6j62mzdpli2mzdtw8Zm0/M2ZtMyNmbTGd7ce7RdK1vbl8RU92PtCdnUvXZueitX2dd67q67x7dXYB2wObA9OBHYD5wMXA9R2d3Q+MZ1ySJElSPxNBbRI6Oru7gGvr34lzZ83cntLi6L7AU4A9KY3NBLCmc22u6lzbuxB6b2udzhbTmbHHVtN22m5mbL31jNhy6xmx1ZbT2WqL6bHVFtNjq82msdX0YGYEETAtyvQyIfuSvr6kp6uP1Wt6c9WaPlat7slVq3pz1cqeXLW8O1ctXNW3ZGUP3cAWlDt9/Xf7dgDuBzooz0XeDtzb0dndN97rTpIkSRrIRFCbpI7O7vupVUiBU+fOmrkVJRncg5Ig7gXsRrnzlpRnDXvX9NJ10/K+LmAl0F3/1rcBlplD/M2gNHQTlGqe1wG3AQspid9SG3uRJEnSZGAiqCmhvk7h+voHwNxZM6dRqmLOqn+7ATtS7s5tV/+2pd71Y+SEcFoddiXwALCEcpfvfsqrHTrr35KOzu7uMVo0SZIkacyZCGrKqtUul9a/GwcbZu6smUF5Zm8ryl29/mRvGiUx7Kv/e4FVwGqrc0qSJGlTZyKoRqtVNdfUP0mSJKkRprU7AEmSJEnSxDIRlCRJkqSGMRGUJEmSpIYxEZQkSZKkhjERlCRJkqSGMRGUJEmSpIYxEZQkSZKkhjERlCRJkqSGMRGUJEmSpIYxEZQkSZKkhjERlCRJkqSGMRGUJEmSpIYxEZQkSZKkhjERlCRJkqSGMRGUJEmSpIYxEZQkSZKkhjERlCSpoSLi0Ii4PiJuioiPtDseSdLEMRGUJKmBImI68C3gpcATgDdExBPaG5UkaaKYCEqS1ExzgZsy85bM7AJ+Ary6zTFJkiaIiaAkSc20O3BHy/eFtZskqQFmtDsASZI0eUXE4cDh9euKiLi+nfGMkVlAZ7uDAIj/bncEY25SrFvXq0ZpKq3Xvdd3BBNBSZKa6U5gz5bve9Ru68jMo4GjJyqoiRARl2Tmge2OYypy3Y4P1+v4aPp6tWqoJEnNdDGwb0Q8KiI2A14P/LLNMUmSJoh3BCVJaqDM7ImI9wJnAtOBYzPz6jaHJUmaICaCkiQ1VGb+Gvh1u+NogylV1XWScd2OD9fr+Gj0eo3MbHcMkiRJkqQJ5DOCkiRJktQwJoKSJGlSiYivRsT7W76fGRHfa/n+5Yj4t4h4YkScHRHXR8SNEfEfERF1mMMiYnFEzIuI6yLiX1vGPzIiPlg/bxERZ0XEkfX7ivp/TkRkRLyvZbxvRsRhLd//rU77qoi4IiK+EhEzx2/NjJ2I+HhEXB0RV9Z1dE79f1NE3F8/z4uIgyJiQUTMahn34Ig4vX7uX8+X19/gzIg4qGXY4yLi1pbpXdAyXl9EPKVl2Pl1vV9Uh7295TecFxFzJm4Nbbz+bal+3jciTo+ImyPi0rq+/6r2G3Jd1M/bR8QP6m9zc/28fe03JyJW1/VzTe03s/Y7eMBvOS8iXjSR62BjRURvjfvquo99ICKm1X6ty3ddRHxpwLivqdv3tXUffU1Lv9bt8rKIeHbtHhHxibot31B/pye2jLdiwDwOq8eFj7es496Wz/8yvmto45gISpKkyebPwEEAtdA3C3hiS/+DgAsprZx+ITP3A55au7+7ZbiTMnN/4DnAxyOi9XUZRGkt9VTg0sw8cpA4FgFH1OHWERHvAl4MPCsznww8ow6/5Xov7QSrhd5XAE/LzKcALwLeWNfVPwJ/ysz9698Fo5jkSZl5QGbuC3wB+FlEPL6l/7+3TO+glu4LgY8PnFhmPrPG8p912v3jLtigBW6ziNgCOAM4OjP3ycynA+8DHt0y2KDrojoGuCUzH5OZ+wC3At9r6X9zXV9PprwG5nUt/Vp/y/0z8/djtFgTZXWN+4nAIcBLgU+29P9TXfYDgFdExHMAIuKpwJeAV2fm44FXAV9qTbap2yXwEeA7tdt7KMeRp2bmY4HPA7+sv+GQMvOz/eu4Jeb9M/MbG7n848pEUJIkTTYXAM+un58IzAeWR8SOEbE58HjgKcCfM/N3AJm5CngvpVC3jsy8D7gJ2LWl8wzgJODGzHzYONVi4A/AWwfp93HgnzNzWZ1HV2Z+ITMfWK8lbY9dgc7MXAuQmZ2ZeddYTDgzz6E0wHH4KAY/HXhiROw3FvOexN4IXJiZD76eJTPnZ+ZxLcMMui4i4jHA04FPt3T+L+DAiNinddjM7AU6gN3HNvzJITMXUbar90aUO/8t/VYD83ho2T8IfC4zb639b6Ukdf8+yKTPAx5TP38YeG89nlCPLxdQfsMpx0RQkiRNKjUp6YmIvXjo7t9FlOTwQOAqYD/g0gHj3QxsExHbtXav09kCuLKl84eArsx8P8P7b+CDETG9ZXrbAdv0FzI3Qb8D9qxV3/4vIp4/xtO/DHhcy/cvtlSV+3FL9z7gf4CPjfH8J5snUtbJcIZaF08A5tUkD3gw4ZvHunfJ++88PhP4bUvn5w2oGrpO8ripycxbKK+7eURr94jYEdiXktRBWTeXrjs2lzBgnVWvBK6q+/XWdR6jGW+TZyIoSZImowsoSWB/Inhhy/c/j3Iafx8RV1LuBv5fZq5p6Xc+cFBEPHa4CdRC4UXAPww1TES8pBayF0TL83GTVWauoNxlOpxy1/OkaHn2cbBRRtmtXwz43lo1dOCdlROAZ0XEo0YIe8qIiNPqM4A/G9BrQ9fFPhExD7gXuDszWy94DKwaevPGxD4JPS8irgDuBM7MzHvWY9wv1vV2OPCOjYhhk30Fg4mgJEmajPqfE3wypWroXyh3BA+iJInXUJKZB0XEo4EVLdUzT6rPwB0EfCEiHtky+HnA+4HfRERrldHBfI5SZSwA6vRX9BfYM/PM+mzQfOBhzxNORpnZm5nnZuYnKVVqXzvM4PcBO7Z83wnoHGb4A4BrRxlHD/Blyvqdqq4Gntb/JTP/BjiMsh5p6T7YurgG2L+/gRR48LnZ/Ws/eOgZwX2Ap0fEq8ZhGSaFuo/3Up7HhZLoPpVyx+4dEbF/7f6w40P9fnXL9/4LFIfUqroPACvrPIYab/WAZ4ZH2hcmNRNBSZI0GV1AadBkSU1algA7UJLBC4AfA8/tbwUxIrYEvkGpXreOzLwE+CFwxIDup1IalPhtROwwVCCZeR2lYPnKls6fB77dP159ZmnYBiUmi4jYLyL2bem0P3DbMKOcC7y5jjsdeBNwzhDTfj7lDst31yOk4ygN1sxej3E2JScAzxmQoG01xLDH0bIuMvMm4HLgEy3DfAK4rPZ7UGZ2Up6R/ejYhD25RMRs4CjgmzngRei1mvYXeCiJ/hLw0Xio5dU5lGq3Xx5hNl8EvlGPJ9Tjy3MpvyHAHynbf/8x53UMsS9sCma0OwBJkqRBXEVpLfSEAd22qQVeIuLVwP9GxLcozw39EPjmENP7b+CyiPhca8fM/HZE7EJpGfDFw8TzWUqBvN+3ga2BiyJiLbCCchfz8kHGnWy2oay3HYAeStXZ4Rp3+TQl6b2Cclf0t8CPWvr/fUQ8l5Lc3Aq8NjNb7wh+MSJaE5m5rRPPzK6I+Abw9Q1doMksM1dHxCuAr0TE1yhVOJcDnxlk2MHWxTsov1d/tc4LGboq48+BIyPiefX782r1x36fycxTNmJxJtqWNf6ZlG31h8BXhhj2KMrzvHMyc15EfBj4VZTXaXQDH8rMeUOM2+9/KXe/r4qIXuAeSsujq2v/I4Dv1NdCBPCDzDxv8ElNfjEgoZYkSZIkTXFWDZUkSZKkhjERlCRJkqSGMRGUJEmSpIYxEZQkSZKkhjERlCRJkqSG8fURkiRJ2uRFxM7AH+rXR1JePL64fp+bmV1tCUyapHx9hCRJkqaUiDgSWJGZX2p3LNJkZdVQSZIkTUVbRsSt9YXiRMR2/d8j4tyI+HpEzIuI+RExtw6zdUQcGxEdEXF5RLy6vYsgjR8TQUmSJE1Fq4FzgZfX768HfpaZ3fX7Vpm5P/Bu4Nja7ePA2Zk5F/hr4IsRsfXEhSxNHBNBSZIkTVXfA95WP78N+H5LvxMBMvM8YLuI2AF4MfCRiJhHSSK3APaasGilCWRjMZIkSZqSMvPPETEnIg4Gpmfm/NbeAwcHAnhtZl4/UTFK7eIdQUmSJE1lPwBOYN27gQB/DxARzwXuz8z7gTOB90VE1H4HTGSg0kQyEZQkSdJU9mNgR2pV0BZrIuJy4CjgHbXbp4GZwJURcXX9Lk1Jvj5CkiRJU1ZE/D/g1Zn55pZu5wIfzMxL2haY1GY+IyhJkqQpKSL+F3gp8LJ2xyJNNt4RlCRJkqSG8RlBSZIkSWoYE0FJkiRJahgTQUmSJElqGBNBSZIkSWoYE0FJkiRJahgTQUmSJElqGBNBSZIkSWoYE0FJkiRJahgTQUmSJElqGBNBSZIkSWoYE0FJkiRJahgTQUmSJElqGBNBSZIkSWoYE0FJkiRJahgTQUmSJElqGBNBSZIkSWoYE0FJkiRJahgTQUmSJElqGBNBSZIkSWoYE0FJkiRJahgTQUmSJElqGBNBSZIkSWoYE0FJkiRJahgTQUmSJElqGBNBSZIkSWoYE0FJkiRJahgTQUmSJElqGBNBSZIkSWoYE0FJkiRJahgTQUmSJElqGBNBSZIkSWoYE0FJkiRJahgTQUmSJElqGBNBSZIkSWoYE0FJkiRJahgTQUmSJElqGBNBSZIkSWoYE0FJkiRJahgTQUmSJElqGBNBSZIkSWoYE0FJkiRJahgTQUmSJElqGBNBSZIkSWoYE0FJkiRJahgTQUmSJElqGBNBSZIkSWoYE0FJkiRJahgTQUmSJElqGBPBTVhEPC8irh+naZ8bEf84HtOeaiJir4hYERHTx2n6CyLiReMx7Y0VEftFxLyIWB4R/9LueNql/v6Pbncc0lTTzmOM58GHi4g5EZERMWOsxx3Pc12d72PGY9rrEcOCiFgdET9sZxwavYg4OCIWtjuOwUTEO2rZY6O2bRPBTcjAHzsz/5SZ+7UzpvGyMSebiZaZt2fmNpnZuyHjR8R2EfG1iLi97tQ31++zxjrWUcSya0T8MiLuqut/zgijfAg4JzO3zcxvjMH8nxQRZ0ZEZ0TkIP13iojTImJlRNwWEf+wsfMcC/X3v6XdcUhT0AYdYyLisIg4fxzjGrXxjGVg8rQpnTsnowlYf6/MzDeP07THTERsHhHH1PPs8nox5qUDhnlhRFwXEasi4pyI2Lul35ci4sY67nUR8ZYB4x4dEddHRF9EHDZBizWiibhgEBH/GhH3RMQDEXFsRGze0u/TEXFVRPRExJHDTSczj8nMbTY2HhPBqt0HzXbPXw+ZyN8iIjYD/gA8ETgU2A54NnAfMHei4mjRB/wWeO0oh98buHpDZjTEeu4GTgbeMcRo3wK6gF2ANwLfjognbsj8JW0SNvgYI2mDyzQzgDuA5wPbA58ATu6/OFwvVP8M+A9gJ+AS4KSW8VcCr6zjvhX4ekQc1NL/CuDdwGUbENsmKyJeAnwEeCHl2PZo4FMtg9xEufh1xoQFlZmT/q+utJuB5cA1wN/U7psDy4AntQw7G1gNPKJ+fwUwrw53AfCUlmEXAB8GrgTWUjb8QedVh58OfBnoBG4F3gskMKP23x44BrgbuBP4DDB9iGU6EjgF+BHwAPCPlIL/hTXWu4FvApvV4c+r81oJrAD+HjgYWDhgeT5Yl+d+yk65RUv/D9Xp3lXnl8BjhojvXODzQEeN7xfATrXfGcD7Bgx/Zeu6GtDvuXXdL6McWA6r3V8OXF6nfwdwZMs4t9f4VtS/Z9fubweuBZYCZwJ7t4zzYuD6uuz/B/wR+MfabxrlQHYbsAj4AbB97Tenzusddb7nrc8ytow/o2XdfRr4M2U7+h0wa4h184/AvcA2w2z/C4AX1c/DbSMBfLUu3wPAVdR9A3gZZXteTtk2PzjCPjejLtOcYYY5G+gF1tTf6LGUfeAHwOK6rj8BTKvDH1bXyVcpie5nhpn2Y4Ac0G1rShL42JZuPwS+MMQ05lJOTg/UdfyVln7P4qFt8grg4JZ+hwG31HV1K/DGlpj+WLevTuCklnEe3JdGsQ7OB75E2YZvBV460rz982+y/THy+eafKIWaJcAvgd2GmdarKMneMsrx8/G1+8OOMYOM+7B9Bnh8Hae3jresDnsu9ZzQMu75Ld9AqItVAAAgAElEQVQPAa6ry/NNWs4htf9w558E3gXcWJfjW5Rj8lCxjOqYDOxT18N99bjzY2CH2u+HlIt3q+u0P8SGnTsHjb32m16PV511Pb+HUZZ7Rhp3iG3qo3W9LAW+T92mgPmUu2n9w86s0z1giGn9Ow+Vd97OusfoMSt7MMx5d4jle1HL928BXx4wzC+Bf62fdwNOpZxLbgX+pWW4IcsCLb/pe+pveusY7fNXAq+tnw8HLmjpt3XdDh83xLi/BD4wSPfzqWXCYeZ7HKVM95v6m/wZeCTwtfp7XNe6HVD2uXPrurkaeNWAaX2LUsZbDlwE7FP7DVnOBj5Qf+O7gbdtxDo8Afhcy/cXAvcMMtyPWrfLEaY5ZFl+VOOPxcYx3n/A39UdYlr9YVYCu9Z+xwKfbRn2PcBv6+cD6g/3TMoB6a11R9y89l9ASRL3BLYcxbzeRTlA7QHsCPyedQ+IpwHfqTvEIyhJ1DuHWKYjKXc/XlPntSXwdEoBdQYlubgWeP9QPzaDJ4IdNf6d6vjvqv0OBe6h3Hnaqm5kIyWCdwJPqstzKvCj2u91wEUtwz6VcpLabJDp7E3Z2d5AOXDvDOzfEv+T6/I/hVJYf03tN4cBJwzg1ZSCxePrOvoE9UAEzKIchP+29juirt/+RPDtddxHA9tQrmT9cMC8flCXdcv1XMZ1Yq3r7mZKYrRl/T5UsvIT4PgRtv8FPJQIDrmNAC8BLgV24KECSP+2ezfwvPp5R+BpI8xzxESwZVlbC0o/oFw02LbGdwPwjtrvMKAHeF+d/pbDTHewRPAAYNWAbh8EfjXENC4E3lw/bwM8q37evf6WL6vb3iH1++z6+z8A7FeH3RV4Yv18IvDxOs4WwHMH2zdHsQ66KYXk6cA/UwoqMdy8/fNvsv0x/PnmBZRC+tMoF2z/FzhviOk8lnKePYRyjvgQ5Vjdf4FrnWPMgHGH218PoyXJG2xarcNQziHLgf9X4/jXerzqP4cMef6p/RM4nXL83YtSeD90mFhGdUymHAsPqetxNqWw+rUBv0NrcjGH9Th3jiL2d1EK2nvW3/kcRlnuGWncIbap+S3D/5l6wbBuFycNWKarhpjOoZTyRH/55QTWPUYfzNiVPYY87w6xfK2/1VzK8b//QuEsYBWlxsu0Ot3/BDajlF1uAV5Shx1NefGsuh6HPNeux/6+C+WCxuPq968D3x4wzHxqojig+5aU7f3QQfqNNhHsrMu8BeXCyK3AWyjn0c9Qqo9D2XdvAj5W19sLKPv1fi3T6q9xNYNyYeUnA9bbwHJ2D/Bfddovq7/Rjhu4Hq8A/r7l+6w6z50HDGciOMJCzwNeXT+/CLi5pd+fgbfUz98GPj1g3OuB59fPC4C3r8e8zqYlsavzzrox7UK5q7hlS/839G+cg0z3SIY4MbYM837gtBE20IGJ4Jtavv8PcFT9fCzw+ZZ+jxlu42FA8gI8gXI3ZnrdEZcC+9Z+XwL+b4jpfLR1GUZY3q8BX62f5/Dwg/FvqAXq+n1a3SH3phwQLmzpF5Qrff0n8T8A727pvx+lQD6jZV6Pbum/Psu4Tqx13X2ipf+7qRcnBhn3LIZIEgf8ri8aot+D2wjlgHcD5eQwbcBwtwPvBLYb5W+x3olg3Ta6gCe09H8ncG79fBhw+yjnP1gi+DwGXDmjJFTnDjGN8yhVLmYN6P5h6kWAlm5nUi4UbU25ivhaBpw8KQne0cAeg8wra8yjWQc3tfTbqo77yOHm7Z9/k+2P4c83xwD/09Jvm3q8nTPIdP4DOLnl+zTKRciD6/cHjzGDjDvc/noY65cIvgX4S0u/oNwJ6D++DXn+qd+TdS8OnQx8ZJhY1uuY3DLea4DLB/wOIyWCGxP72dQEv35/MaMs9ww37jDbVOvwL6OW7ygXHJb3ry9KjaoPDTGdY1m3/PJYhi/vbEzZY8jz7hDL96IB3a4FDqmf3wv8un5+JgPOl5Ty1PeHmPZg5cUXrM+2NUzcMyk3Pr7T0u0YBpRdKOXvwwYZ/3jKIycxSL/RJoLfbfn+PuDalu9P5qE77c+j3PSY1tL/RGpSVaf1vQHb2HUD1tvAcvbqAdvDIuqF5Q1YlzfTkhDXdfuwshYTmAhuEs8IRsRb6oOqyyJiGeUqT39DGucAW0XEM2vd5f0pV6ig7KQf6B+vjrsn5YDS7471mNduA4Zv/bw35Qe9u2Xc71CukA1l4LwfGxGn9z9ECnyuZd6jdU/L51WUE/BIsY8mvtsoyzcrM9dQqgG9KSKmUQ78Q7WCtSdlw3+Y+pudExGLI+J+ytXD4ZZ3b0o98/71u4Ryst6dAcuXZe9obelpt7oMrcvTfyJ72PKu5zIOZqjfYaD7KFexR2W4bSQzz6ZUD/kWsKg+jL1dHfW1lAPebRHxx4h49nosy2jNomwjA9fz7i3fR7PdDWUF5RnKVttRCgeDeQelAHBdRFwcEa+o3fcG/m7AceG5lKu4Kyk1Ad5F2ZfPiIjH1fE+RNneOiLi6oh4+yDzHM06eHDbyMxV9eM2I8xbmoyGO988uA9k5grKsa51P2CIYfsox4nBhl3HGO8zg51DBp7jhzr/9BvtcR9GeUyOiF0i4icRcWc95v+I9S8XbEzsA8sOrce2kco9w407lIHD7waQmXdREo3XRsQOwEspd3MGM+x8x7LsMcJ5dzSOB95UP7+Jh8oZewO7DThPfYxaZhlleXHI821EHBWlcboVEfGxYYabVmPqoiSq/UZ1Po6IL1LK0a+r+9SGurfl8+pBvq+zvdbjSL8hz8GMvJ8C3JeZPSONE6Ul//51OtRzzQPXW//nocox427SJ4K1FaLvUjbAnTNzB8rt5wDI0lLjyZSC+huA0zOzf4XeQak2ukPL31aZeWLLLHK086Lc2t6jZdw9Wz7fQbkyNqtlXttl5nANWQzcKb5NqUaxb2ZuR9np42FjbZjhYh9K6zB7Ua7odtbvx1OexXghpbrehUNM4w7KMw6DOYFSb3zPzNweOIqHlnewA8YdlDuyrb/nlpl5AQOWLyKCdZf3LsqBtXV5elj3YDJwnqNdxo3xe+AlEbH1KIcfdhvJzG9k5tMpd3AfS3lOgsy8ODNfTTlB/5yyz4y1Tso2MnA939nyfWNOBDcAMyJi35ZuT2WIhiQy88bMfANlmf8bOKWu5zsodwRbt6OtM/MLdbwzM/MQSoJ+HeWYQGbek5n/lJm7Ua7k/98grYuNZh0Maah5S5uYdY63db/bmcH3g4HDBuXcs7H7zGDHmpWUu/D9Htny+W5aznktcfQb7vwzYpiDxD3aY/Ln6vhPrsf8N7FuuWDgtNf33DmSddYL5XjWOt3hyj3DjTuUgcPf1fK9P2n6O0oNoKG2kZHmO5ZljyHPu6P0I+DVEfFUSrXSn7fM89YB89w2M19W+4+mvDjk+TYz35WltettMvNzgw1T94FjKMnnazOzu6X31ZTzb/+wW1PKele3dPsUJWF/cWY+MPxqGDN3AXvWBLbfqM/BGyNLS/7963Sosv86661+vjcz7xvv+IYy6RNBStWPpNRZJyLeRrm60OoEylXBN9bP/b4LvKte/YmI2DoiXh4R227gvE4GjoiI3esVqQ/398jMuymNgnw5yusApkXEPhHx/PVY1m0pzzusqFc1/3lA/3sp9cQ3xMnA2yLi8RGxFaU6zkjeFBFPqMP/F3BKTbypSVEfpfGc4e6U/Rh4UUS8LiJmRMTOEbF/7bctsCQz10TEXKD1VQCL6/Rbl/co4KNRW4mMiO0j4u9qvzOAJ0fEa6K0kPUe1j3Jnwj8a0Q8KiK2oZxcTxpwlWcd67GMG+OHlAP+qRHxuLrd7BwRH4uIlw0y/JDbSEQ8o27rMykFnjVAX0RsFhFvjIjt64H8gbpcg4qILSjPowBsXr+PqOWizGcjYtt6YeXfKCe6Uan76RaUuv1ExBZRm1auV/9/BvxX3ZefQ3l2Y9DfJiLeFBGz65XBZbVzX43nlRHxkoiYXudxcETsUa++v7qe1NZSrt711en9XUT0X1xYSjlWrLMeN2YdDDdvaRNzIuV8s3/dfz9HeeZ6wSDDngy8PEpT9DMpjTKspTTmNKwR9pl7gT2itMzcbx7wtxGxVb2I09o68RnAEyPib+s55F9Y9xwy3PlnJOvEsp7H5G3rct0fEbvz8CRjYLlgfc+dIzkZ+Jd6fNyR0qAeMKpyz5DjDuM9dfidKM9kt7ZE+XPKc6dHUKrqDxfzYS3ll08O6D9mZY+hzrujWE4AMnMhcDHlPHZqZq6uvTqA5RHx4YjYsp6rnhQRz2hZhuHKi2Ph25Tk9JUtcfU7DXhSRLy2nrP/E7gyM68DiIiPUtbriwZLcuo+sAUleZ1Zz8NjkZNcRLlj96GImBkRB1NaL/3JKMffmHL2aPwAeEfdNnegPG96XH/PGvMWlPxsRl0v4/KO6n6TPhHMzGsoBfELKT/QkynVA1qHuYiyA+5Gqcvd3/0SyjNE36QU3G6i1NXf0Hl9l3LQu5LS4tSvKXeV+t8f9xZKAba/xatTWI9qf5SGL/6Bcov4u6x7AITyXOHxUaoJvG49pktm/gb4BqUq7U3AX2qvtcOM9kPKBnoP5Zm5gS/z/QFlHQ1ZyM3M2ynVXz5AqU4xj4euhrybUqhfTjmInNwy3irgs8Cf6/I+KzNPo9zZ+UmUqhDzKVebyMxOylXC/6FUQXoCpcXI/uU7ti7PeZSHjNdQ6pmPZMRl3BiZuZbyrOl1lOcFH6CcAGZRDmgDDbeNbFe7LaVUhbgP+GLt92ZgQV1v76JcNBlKfwt01LgGngCG8z7KvngLpe7/CZR1P1p71/n1X1VcTXmut9+7KQ+eL6IUNv85M4eqgnEocHVErKA82P76zFydmXdQEsiPUU76d1AKV9Pq379RriouoTSd3X+CfQZwUZ3eL4EjcvB3B27oOhhu3tImIzN/T7nYeCrl7sw+wOuHGPZ6yl2e/6XcUX8lpeDZNYpZDbfPnE05jtwTEf01Wb5KqeJ2L+Xu0oNVC1vOIV+gHDv3peX8P9z5ZxQGi2W0x+RPUZKf+ynJ6s8G9P888Il6nvzg+p47R+G7lGeor6A09T9w/sOVe0YadzAnUMpZt1AeK/lMf4+ajJwKPGq4adXyztco6/2m+r/VmJU9GP68O1rHU8oZD17UrBcVX0F53OlWyr7xPUorrTByeXGj1IuY76zzvyceqvL4xhrfYkr15s9Slv2ZrLuPf45yJ+6mGLwK6u8o5/eDKM/erwb+amPjrseNV1J+n05Ka6Nv6U9QR+FINrCcPcr4fkspp55DeU74Nta9UPFdyrp4A+VCyGrKsWLc9DcPrA0Q5eWaR2Xm3iMOPMlExOMpB7PNh7srNsI03gIcnpnPHdPgxkC9srSQ0vz+ORsxnUm7jJIkNUlE/CflNSJvGnHgSSYirqckyadl5ltbuv8V5WLz3mmhXKMUpdbiVyk3ap4wxIXpEU36O4KTSb09/7IoVRx3p2Txp4003mQREX8TEZvXKhr/TWl2f0OTwK0oV9WOHssYN0aUqn471KpI/fXl/zLCaMNNb9ItoyRJTVSri76DTfScnJn71WcoW5PAmZSqrt8zCdT6yMzv12dHt9jQJBBMBNdXUKppLKVUDb2WUq1gU/FOSpW6mynVWTeo2llEvIRSpe5e1n0ms92eTVm2/upFrxmkXvuoTOJllCSpUSLinyjV+H+Tmee1O56xUGtmLaPcJfxam8NRQ1k1VJIkSZIaxjuCkiRJktQwJoKSJEmS1DAzxmOis2bNyjlz5ozHpCVJG+HSSy/tzMzZ7Y5DmybP75I0OW3I+X1cEsE5c+ZwySWXjMekJUkbISJua3cMmlj1BcXnAZtTzvunZOYnI+I4yrv37q+DHpaZ84ablud3SZqcNuT8Pi6JoCRJmjTWAi/IzBW1ufrzI+I3td+/Z+YpbYxNktQmJoKSJE1h9f1kK+rXmfXPJsMlqeFsLEaSpCkuIqZHxDzKu2TPysyLaq/PRsSVEfHViNi8jSFKkiaYiaAkSVNcZvZm5v7AHsDciHgS8FHgccAzgJ2ADw82bkQcHhGXRMQlixcvnrCYJUnjy0RQkqSGyMxlwDnAoZl5dxZrge8Dc4cY5+jMPDAzD5w92wZnJWmqMBGUJGkKi4jZEbFD/bwlcAhwXUTsWrsF8BpgfvuilCRNtBEbi4mI/YCTWjo9GvjPzPzauEUlSZLGyq7A8RExnXIB+OTMPD0izo6I2UAA84B3tTNISdLEGjERzMzrgf2hPGwO3AmcNs5xSZKkMZCZVwIHDNL9BW0IR5I0Saxv1dAXAjdnpi8kliRJkqRN1Pq+R/D1wImD9YiIw4HDAfbaa6+NDEvjYc5Hzmh3CJPOgi+8vN0haAhurw/n9ipJaoKJLAM0+dw66juCEbEZ8Crgp4P1t1UxSZIkSdo0rE/V0JcCl2XmveMVjCRJkiRp/K1PIvgGhqgWKkmSJEnadIwqEYyIrSnvHfrZ+IYjSZIkSRpvo2osJjNXAjuPcyySJEmSpAmwvq+PkCRJkiRt4kwEJUmSJKlhTAQlSZIkqWFMBCVJkiSpYUwEJUmSJKlhTAQlSZIkqWFMBCVJkiSpYUwEJUmSJKlhRvVCeUmSJEnjZ85HzpiweS34wssnbF6avLwjKEmSJEkNYyIoSZIkSQ1jIihJkiRJDWMiKEmSJEkNYyIoSZIkSQ1jIihJkiRJDWMiKEmSJEkNYyIoSZIkSQ1jIihJkiRJDWMiKEnSFBYRW0RER0RcERFXR8SnavdHRcRFEXFTRJwUEZu1O1ZJ0sQxEZQkaWpbC7wgM58K7A8cGhHPAv4b+GpmPgZYCryjjTFKkiaYiaAkSVNYFivq15n1L4EXAKfU7scDr2lDeJKkNpnR7gAkSdL4iojpwKXAY4BvATcDyzKzpw6yENh9iHEPBw4H2GuvvcY/WE2YOR85Y8LmteALL5+weUljoQn7h3cEJUma4jKzNzP3B/YA5gKPW49xj87MAzPzwNmzZ49bjJKkiTWqRDAidoiIUyLiuoi4NiKePd6BSZKksZWZy4BzgGcDO0REf82gPYA72xaYJGnCjfaO4NeB32bm44CnAteOX0iSJGmsRMTsiNihft4SOIRyHj8H+H91sLcCv2hPhJKkdhjxGcGI2B74K+AwgMzsArrGNyxJkjRGdgWOr88JTgNOzszTI+Ia4CcR8RngcuCYdgYpSZpYo2ks5lHAYuD7EfFUysPmR2TmynGNTJIkbbTMvBI4YJDut1CeF5QkNdBoEsEZwNOA92XmRRHxdeAjwH+0DjSWrYpNZCs9mwpb25q83F4fzu1VkiRpchvNM4ILgYWZeVH9fgolMVyHrYpJkiRJ0qZhxEQwM+8B7oiI/WqnFwLXjGtUkiRJkqRxM9oXyr8P+HFEbAbcArxt/EKSJEmSJI2nUSWCmTkPOHCcY5EkSZIkTYDRvkdQkiRJkjRFmAhKkiRJUsOYCEqSJElSw4y2sRhJkiRpzE3U+3iHe8ftRL4T2HftarLwjqAkSZIkNYyJoCRJkiQ1jImgJEmSJDWMiaAkSZIkNYyJoCRJkiQ1jK2GSpIkTbDJ0FKmNBi3zebwjqAkSZIkNYyJoCRJkiQ1jImgJEmSJDWMiaAkSZIkNYyJoCRJkiQ1jImgJEmSJDWMr4+QJEkTYqKapQebppekkXhHUJIkSZIaxkRQkiRJkhrGRFCSpCksIvaMiHMi4pqIuDoijqjdj4yIOyNiXv17WbtjlSRNHJ8RlCRpausBPpCZl0XEtsClEXFW7ffVzPxSG2OTJLWJiaAkSVNYZt4N3F0/L4+Ia4Hd2xuVJKndrBoqSVJDRMQc4ADgotrpvRFxZUQcGxE7ti0wSdKE846gJEkNEBHbAKcC78/MByLi28Cngaz/vwy8fZDxDgcOB9hrr70mLuBx4issJKkY1R3BiFgQEVfVh8kvGe+gJEnS2ImImZQk8MeZ+TOAzLw3M3szsw/4LjB3sHEz8+jMPDAzD5w9e/bEBS1JGlfrc0fwrzOzc9wikSRJYy4iAjgGuDYzv9LSfdf6/CDA3wDz2xGfJKk9rBoqSdLU9hzgzcBVETGvdvsY8IaI2J9SNXQB8M72hCdJaofRJoIJ/C4iEvhOZh49jjFJkqQxkpnnAzFIr19PdCySpMljtIngczPzzoh4BHBWRFyXmee1DjDVHiaXJEmSpKlqVI3FZOad9f8i4DQGeaDch8klSZIkadMwYiIYEVtHxLb9n4EX4wPlkiRJkrTJGk3V0F2A00qjY8wATsjM345rVJIkSZKkcTNiIpiZtwBPnYBYJEmSJEkTYFTPCEqSJEmSpg4TQUmSJElqGBNBSZIkSWoYE0FJkiRJahgTQUmSJElqGBNBSZIkSWoYE0FJkiRJahgTQUmSJElqGBNBSZIkSWoYE0FJkiRJahgTQUmSJElqGBNBSZIkSWoYE0FJkiRJahgTQUmSJElqGBNBSZIkSWoYE0FJkiRJahgTQUmSJElqGBNBSZIkSWoYE0FJkiRJahgTQUmSJElqGBNBSZKmsIjYMyLOiYhrIuLqiDiidt8pIs6KiBvr/x3bHaskaeKYCEqSNLX1AB/IzCcAzwLeExFPAD4C/CEz9wX+UL9LkhrCRFCSpCksM+/OzMvq5+XAtcDuwKuB4+tgxwOvaU+EkqR2MBGUJKkhImIOcABwEbBLZt5de90D7DLEOIdHxCURccnixYsnJE5J0vgbdSIYEdMj4vKIOH08A5IkSWMvIrYBTgXen5kPtPbLzARysPEy8+jMPDAzD5w9e/YERCpJmgjrc0fwCEp1EkmStAmJiJmUJPDHmfmz2vneiNi19t8VWNSu+CRJE29UiWBE7AG8HPje+IYjSZLGUkQEcAxwbWZ+paXXL4G31s9vBX4x0bFJktpntHcEvwZ8COgbagCfIZAkaVJ6DvBm4AURMa/+vQz4AnBIRNwIvKh+lyQ1xIyRBoiIVwCLMvPSiDh4qOEy82jgaIADDzxw0OcMJEnSxMrM84EYovcLJzIWSdLkMZo7gs8BXhURC4CfUK4o/mhco5IkSZIkjZsRE8HM/Ghm7pGZc4DXA2dn5pvGPTJJkiRJ0rjwPYKSJEmS1DAjPiPYKjPPBc4dl0gkSZIkSRPCO4KSJEmS1DAmgpIkSZLUMCaCkiRJktQwJoKSJEmS1DAmgpIkSZLUMCaCkiRJktQwJoKSJEmS1DAmgpIkSZLUMCaCkiRJktQwJoKSJEmS1DAmgpIkSZLUMCaCkiRJktQwJoKSJEmS1DAmgpIkSZLUMCaCkiRJktQwJoKSJEmS1DAmgpIkSZLUMCaCkiRJktQwJoKSJEmS1DAmgpIkSZLUMCaCkiRNYRFxbEQsioj5Ld2OjIg7I2Je/XtZO2OUJE08E0FJkqa244BDB+n+1czcv/79eoJjkiS1mYmgJElTWGaeByxpdxySpMllxEQwIraIiI6IuCIiro6IT01EYJIkaVy9NyKurFVHd2x3MJKkiTWaO4JrgRdk5lOB/YFDI+JZ4xuWJEkaR98G9qGc1+8GvjzUgBFxeERcEhGXLF68eKLikySNsxETwSxW1K8z61+Oa1SSJGncZOa9mdmbmX3Ad4G5wwx7dGYemJkHzp49e+KClCSNq1E9IxgR0yNiHrAIOCszLxrfsCRJ0niJiF1bvv4NMH+oYSVJU9OM0QyUmb3A/hGxA3BaRDwpM9c5aUTE4cDhAHvttdeYBypJktZfRJwIHAzMioiFwCeBgyNif0oNnwXAO9sWoCSpLUaVCPbLzGURcQ6lGer5A/odDRwNcOCBB1p1VJKkSSAz3zBI52MmPBBJ0qQymlZDZ9c7gUTElsAhwHXjHZgkSZIkaXyM5o7grsDxETGdkjienJmnj29YkiRJkqTxMmIimJlXAgdMQCySJEmSpAkwqlZDJUmSJElTh4mgJEmSJDWMiaAkSZIkNYyJoCRJkiQ1jImgJEmSJDWMiaAkSZIkNYyJoCRJkiQ1jImgJEmSJDWMiaAkSZIkNYyJoCRJkiQ1jImgJEmSJDWMiaAkSZIkNYyJoCRJkiQ1jImgJEmSJDWMiaAkSZIkNYyJoCRJkiQ1jImgJEmSJDWMiaAkSZIkNYyJoCRJkiQ1jImgJEmSJDWMiaAkSZIkNYyJoCRJkiQ1jImgJElTWEQcGxGLImJ+S7edIuKsiLix/t+xnTFKkiaeiaAkSVPbccChA7p9BPhDZu4L/KF+lyQ1yIiJYETsGRHnRMQ1EXF1RBwxEYFJkqSNl5nnAUsGdH41cHz9fDzwmgkNSpLUdjNGMUwP8IHMvCwitgUujYizMvOacY5NkiSNj10y8+76+R5gl3YGI0maeCPeEczMuzPzsvp5OXAtsPt4ByZJksZfZiaQQ/WPiMMj4pKIuGTx4sUTGJkkaTyt1zOCETHn/7d372GTlOWdx78/OchJRGTE844xBCOuDHEkUUHxrESFXdkA6xpgUS5N0BAXFVezEIwGg4cViBqiCLigZAUMQQRdAUFBFGUYxhNy2gRPgGYVVhSBO3/U0zPF63safLv7fae/n+vqq+vwVNfdT3fXU3fVU9XALsAV08yzoZAkaWn4UZJHALTnW2YqWFUnVtXKqlq5bNmykQUoSRqueSeCSbYCzgQOq6qfTZ1vQyFJ0pJxDnBAGz4A+McxxiJJGoN5JYJJNqFLAk+rqrOGG5IkSVooST4OXA7smOTmJAcDxwDPT/Jd4HltXJI0Qea8WUySAB8BvlVV7x1+SJIkaaFU1f4zzHruSAORJC0q8zkj+AzglcBzkqxqjz2HHJckSZIkaUjmPCNYVV8EMoJYJEmSJEkjsF53DZUkSZIkLX0mgpIkSZI0YUwEJUmSJGnCmAhKkiRJ0oQxEZQkSZKkCWMiKEmSJEkTxkRQkiRJkiaMiaAkSZIkTRgTQUmSJEmaMCaCkiRJkjRhTAQlSZIkacKYCEqSJD7WMmAAABOASURBVEnShDERlCRJkqQJYyIoSZIkSRPGRFCSJEmSJoyJoCRJkiRNGBNBSZIkSZowJoKSJEmSNGFMBCVJkiRpwpgISpIkSdKEMRGUJEmSpAljIihJkiRJE8ZEUJIkSZImzMbjDkCSJI1HkpuA24F7gLurauV4I5IkjcqciWCSk4CXALdU1ZOGH5IkSRqhZ1fVbeMOQpI0WvPpGnoy8KIhxyFJkiRJGpE5E8GqugT4yQhikSRJo1XAZ5N8Lckh0xVIckiSK5Nceeutt444PEnSsCzYzWJsKCRJWnJ2q6rfA14M/GmSZ04tUFUnVtXKqlq5bNmy0UcoSRqKBUsEbSgkSVpaqup77fkW4Gxg1/FGJEkaFf8+QpKkCZRkyyQPGgwDLwDWjDcqSdKo+PcRkiRNpu2Bs5NAtz9welWdP96QJEmjMp+/j/g4sAewXZKbgSOr6iPDDkySJA1PVd0A7DzuOCRJ4zFnIlhV+48iEEmSJEnSaHiNoCRJkiRNGBNBSZIkSZowJoKSJEmSNGFMBCVJkiRpwpgISpIkSdKEMRGUJEmSpAljIihJkiRJE8ZEUJIkSZImjImgJEmSJE0YE0FJkiRJmjAmgpIkSZI0YUwEJUmSJGnCmAhKkiRJ0oQxEZQkSZKkCWMiKEmSJEkTxkRQkiRJkiaMiaAkSZIkTRgTQUmSJEmaMCaCkiRJkjRhTAQlSZIkacKYCEqSJEnShDERlCRJkqQJYyIoSZIkSRNmXolgkhcl+U6S65IcMeygJEnS8Nm+S9LkmjMRTLIR8LfAi4EnAvsneeKwA5MkScNj+y5Jk20+ZwR3Ba6rqhuq6i7gE8Beww1LkiQNme27JE2w+SSCjwL+pTd+c5smSZKWLtt3SZpgqarZCyT7AC+qqle18VcCv19Vh04pdwhwSBvdEfjOwoc7ctsBt407iA2UdTsc1utwbEj1+u+qatm4g9D4LaH2fbH8/hZDHMawzmKIYzHEAIsjDmNYZ1xxrHf7vvE8ynwPeExv/NFt2n1U1YnAieuz8sUuyZVVtXLccWyIrNvhsF6Hw3rVBmpJtO+L5fe3GOIwhsUVx2KIYbHEYQyLL475mE/X0K8COyR5XJJNgf2Ac4YbliRJGjLbd0maYHOeEayqu5McClwAbAScVFXfGHpkkiRpaGzfJWmyzadrKFV1HnDekGNZjDaorq6LjHU7HNbrcFiv2iAtkfZ9sfz+FkMcxrDOYohjMcQAiyMOY1hnscQxpzlvFiNJkiRJ2rDM5xpBSZIkSdIGZEkngknel+Sw3vgFST7cG39Pkjck2SnJhUm+k+S7Sf4iSVqZA5PcmmRVkm8n+fPe8kclObwNb5bkc0mOauN3tOflSSrJ63rLnZDkwN74G9prX5Pk6iTvTbLJ8Gpm4SR5a5JvJFnd6uii9nxdkp+24VVJnp7kpiTb9ZbdI8m5bXhQz1e1z+CCJE/vlT05yY2917ust9y9SZ7cK7um1fsVrew/9z7DVUmWj66GfnOD71Ib3iHJuUmuT/K1Vt/PbPNmrIs2/OAkp7bP5vo2/OA2b3mSO1v9fLPN26TN22PKZ7kqyfNGWQe/qST3tLi/0X5j/y3JA9q8/vv7dpJ3T1l27/b9/lb7je7dm9f/Xn49ydPa9CR5W/suX9s+p516y90xZR0Htu3CW3t1fE9v+PXDrSFpcUtyUpJbkqyZMn3b1vZ+tz0/ZMhxvCjdvsJ1SY7oTX9O2wasSXJKknldWrPAMTy3xbAqyReT/PawYpgjjkt7267vJ/nUGGJIkne07e+3hrkNnSWGqfstK4YVw2xx9OYfN7XtGVUMST7S2t7VST6ZZKsxxXFam76mbVOGtq89SwyHtmmV3j7xolVVS/YB7AP8Qxt+APA14PLe/MuBpwHXAy9o07YAPgP8aRs/EDihDT+U7n8/HtPGjwIOBzYFPg0c03vtO9rzcuBHwHXApm3aCcCBbfg1wPnANm18U+AIYOtx19886vdprQ4f2Ma3Ax7ZhvcAzp1S/iZgu9742jL9em7jzwZ+CPxuGz8Z2GeaGA4E/hk4ozdtDbB8SpkT7s97XAyP3ndpM+Ba4GW9eU/qfZdmrQvgk8BRvXl/Cfzv3vd0TRveCLgQeMVMn+VSewzqsA0/DPg/wF9O8z3cHPg28Iw2vnP77T6ujT+ujT956vcSeAGwug0fSndd1Ra9edcDm02NZ6bv6NQyPnxM8gN4JvB7g+1Ub/rfAEe04SOAdw0xho3a7/i36Nrqq4En0u1f/AvwO63c0cDBo4yhzbuWdW3mnwAnj7oupil3JvDHY6iLg4BTgQe08YeNIYa17cOwH3N9HsBK4GPDbFfmqIute+XeO/jNjiGOPYG0x8eB144hhl3o9rluordPvFgfS/qMIHAZXbICsBPdTvHtSR6S5IHA7wJPBr5UVZ8FqKqf0+3E/drRlKr6Md1O4CN6kzcGzgC+W1W/tkxzK/B54IBp5r2V7ov4/9o67qqqY6rqZ+v1TsfjEcBtVfVLgKq6raq+vxAvXFUX0V1Me8hcZYFzgZ2S7LgQ617EXkF3IGPt7durak1VndwrM21dtCPDTwHe3pt8NLAyyeP7ZavqHuArwKMWNvzFoapuofteHZp0Z/578+4EVrHuvR8OvLOqbmzzbwT+GnjjNC99CTA4Av9m4NC2PaFtXy6j+wwlraequgT4yTSz9gJOacOnAHtPU2ah7ApcV1U3VNVdwCfa+h8K3FVV17ZynwNePuIYAArYug0/GFiQ9vh+xAFAkq2B5wDDOiM4WwyvBY6uqnth7XZ/1DGM0oxxJNkIOBZ407hiGOzTtjZ3c7rv6jjiOK8auv2cR48hhquq6qYhrXfBLelEsCUldyd5LPB0urNXV9AlhyuBa4Ad6c4U9pe7HtiqbcTWaq+zGbC6N/lNdA3AYczuXcDh7Qc5eL2tga0GO5lL0GeBx7SuFx9I8qwFfv2vA0/ojR/b62JxWm/6vXRHhf/7Aq9/sdmJrk5mM1NdPBFY1ZI8YG3Ct6q97lpJNgN+n+5M9cDuuW/X0Pskj0tNVd1Ad8TuYf3prVvZDnRJHXR187X7Ls2VTKmz5qXANe13vWVbx3yWk3T/bV9VP2jDPwS2H+K6HkV35m/g5jbtNmDjJIM/iN4HeMyIYwB4FXBekpuBVwLHDCmGueIY2Bv4/BAPbM8Ww+OBfZNcmeQzSXYYQwwA72jdId/XTkAMy2xxHAqc0/udjCMGknyU7jf6BOD4ccXRYtmE7jfS388ZaQxLxZJOBJvL6JLAQSJ4eW/8S/N8jX2TrKY7G/iBqvpFb94Xgacn+Z3ZXqDtFF4B/OeZyiR5YdvJvim96+MWq6q6g+4s0yF0Zz3PSO/ax+kWmee0gUwZf2NVrWiPqWdWTgf+IMnj5gh7g5Hk7NbP/awps+5vXTw+ySq6rsw/qKr+AY9Le3W/oh0s2ZDsnuRq4HvABVX1w/VY9thWb4cAB/8GMXiLZuk30I7yj/x31Na7H/C+JF8BbgfumX2pofhzYM+qejTwUboueOO0P133u3F4IPCLqloJ/D1w0hhieAtd0vNUYFu6niIjleSRwH9iuInXvFTVQcAjgW8B+445nA8Al1TVpWOOY9HbEBLBL9Elff+ermvol+nOCD6dLkn8Jl0ys1aS36LrRz04inVGVT25LXNMkof3il8CHAZ8Jkm/y+h03km3IQisPVV+x2CHvaouqKoVLc5N79/bHa2quqeqLq6qI+mOOs3WHebHQP9C/m3pjqTOZBe6DcZ84rgbeA9j2NCO0DforpEBoKr+A921Zdv2C81QF98EVqTdIAWgDa9o8wCub9+/xwNPSfKyIbyHRaH9xu8BBt2FLq2qnenO2B3cu6j/17YPbbz/p9qDAxTPb111fwb8/7aOmZa7M0n/Nz7Xb0HS9H40aHvb87C6AEJ3oKh/pu/RbRpVdXlV7V5Vu9LtF1w7zfJDiyHJMmDnqrqiTT+Dbp9lWGasC4B2E4xd6e6fMI4YbgYGB0nPprsMaKQxVNUPWi/EX9Il5rsOKYbZ4tiF7pKF65LcBGyR5LoRx7BW64n0CYbXdXrOOJIcCSwD3jCuGJaSDSERvAx4CfCTlrT8BNiGLhm8DDgN2C3tLohJNgeOo+tedx9VdSXdxbZ/NmX6mcC7gfOTbDNTIFX1bbody5f2Jv818MHBcq3/9Gb3762OVpIdp3S3WAH831kWuZjuVPygz/p/AS6a4bWfRXeG5e/XI6STgefR/cA3RKcDz5iSoG0xQ9mT6dVFVV0HXAW8rVfmbcDX27y1quo2umtk37IwYS8ubYfpQ3Q3Z7nP2YPWTfsY1iXR7wbeknV3Xl1O1+32PXOs5ljguLY9oW1fdqP7DAG+QPf9H2xz/ogZfguSZnUO666/PwD4xyGu66vADkke1w7k7NfWT5KHtecH0m0/PjTiGP4VeHCvd9LzmeeB1AWOY2Afuptw/WLapYcfw6fobjoH8CyGl5jP9p0YHKAIXTfZNTO+ypDiqKpPV9XDq2p5VS0Hfl5Vw7qb7LQxpPPbsLYuXkZ3U7Zhme0zeRXwQmD/wfWjo45hqRna7Y9H6Bq6u1mePmXaVm2HlyR7Accn+Vu664Y+Rndnz+m8C/h6knf2J1bVB5NsT/elf8Es8byDbod84IPAlsAVSX4J3EF3FvOqaZZdbLaiq7dtgLvpus7OdnOXt9MlvVfTnRU9H/hfvfn7JtmNLrm5EXh5VfUbsmOT9BOZ+xxdq6q7khwHvP/+vqHFrKruTPIS4L1J/iddF87bgb+apux0dXEw3ec16NZ5OTN3ZfwUcFSS3dv47q3748BfVdUnf4O3M2qbt/g3ofuufoyZu019iO563uVVtSrJm4F/atcU/Ap4U1WtmmHZgePpzn5fk+Qeuusi9mo3o4HuYNLfpbuleYBT280wJE0jycfp7vC7XbsG7siq+gjdgZt/SHIw3YHIPxpWDFV1d5JDgQvo9hVOqqrBWf43tu3zA4APVtWFo44hyauBM5PcS5cY/tdhxDBXHM1+DPcaxbliOAY4Ld1fft1Bd/3kqGM4rR14DN31+K8ZRgzziGMkZoqh9T46Jd3186G7g+ZrRx1Hm/0huu3E5V1OyllVdfQoY2jt/puAhwOrk5xXVUP5fi6ETDlgLkmSJEnawG0IXUMlSZIkSevBRFCSJEmSJoyJoCRJkiRNGBNBSZIkSZowJoKSJEmSNGFMBDVxkjw0yar2+GGS7/XGN537FSRJ0nwkOSrJ4UN8/WVJrkhyVe8vkQbzDkuyRW/8jmHFcX8lWZFkz974UOtL6jMR1MSpqh9X1YqqWkH3nzPvG4xX1V3jjk+SJM3bc4FrqmqXqrp0yrzD6P67eDFbAew5ZylpCEwEpe7PyG9sfyhOkq0H40kuTvL+drZwTZJdW5ktk5yU5CvtKORe430LkiQtDknemuTaJF8EduxNf3WSrya5OsmZSbZI8qCZ2uApr7k8yYVJVif5fJLHJlkB/A2wV2unN++Vfz3wSOCiJBf1pr+jrf/LSbZv05a1eL7aHs+Y5j0dmORTST6X5KYkhyZ5Q9sH+HKSbVu5FW18dZKzkzykTb84ybvafsO1SXZvvZCOBvZt8e/bVvfEVv6G9j6koTARlOBO4GLgD9v4fsBZVfWrNr5FO3v4J8BJbdpbgQuralfg2cCxSbYcXciSJC0+SZ5C144OznQ9tTf7rKp6alXtDHwLOLiqbmf2NnjgeOCUqnoycBpwXFWtAv4HcEbr1XPnoHBVHQd8H3h2VT27Td4S+HJb/yXAq9v099P1Dnoq8HLgwzO8vScB/7G9p3cAP6+qXYDLgT9uZU4F3tzivAY4srf8xm2/4TDgyNYLqR//Ga3cE4AXArsCR05NiqWFYiIodT4MHNSGDwI+2pv3cYCqugTYOsk2wAuAI5KsomvANgMeO7JoJUlanHYHzq6qn1fVz4BzevOelOTSJNcArwB2atNna4MHngac3oY/Bux2P2K7Czi3DX8NWN6Gnwec0Nr0c+ja+q2mWf6iqrq9qm4Ffgr8U5t+DbA8yYOBbarqC236KcAze8ufNc26p/PpqvplVd0G3AJsP8/3J62XjccdgLQYVNWXWreTPYCNqmpNf/bU4kCAl1fVd0YVoyRJS9zJwN5VdXWSA4E9YM42eCH9qqoGbfo9rNsPfgDwB1X1izmW/2Vv+N7e+L3Mb596UL6/7rnWM1dZ6X7zjKC0zql0RxunHoncFyDJbsBPq+qnwAXA65KkzdtllIFKkrRIXQLsnWTzJA8CXtqb9yDgB62r4yumLDdTGzxwGV23UdqyU28MM53b2zrn8lngdYORdu3hemv7B//au3vpK4EvzLLI+sQoLTgTQWmd04CH0LqC9vwiyVV0dxg9uE17O7AJsDrJN9q4JEkTraq+DpwBXA18Bvhqb/ZfAFcAXwK+PWXRmdrggdcBByVZTZdg/dk8wjkROL9/s5gZvB5Y2W7w8k3gNfN47ZkcQHffgNV010kePUf5i+huDtO/WYw0Ell3hlyabEn2Afaqqlf2pl0MHF5VV44tMEmSNnDTtcGShss+xxKQ5HjgxfhfPpIkjZRtsDQenhGUJEmSpAnjNYKSJEmSNGFMBCVJkiRpwpgISpIkSdKEMRGUJEmSpAljIihJkiRJE8ZEUJIkSZImzL8BgpNbUZWXr4kAAAAASUVORK5CYII=\n"
                },
                "metadata": {
                  "needs_background": "light"
                }
              }
            ]
          }
        },
        "0bad4880e5144b2b82c8a766230ba552": {
          "model_module": "@jupyter-widgets/base",
          "model_name": "LayoutModel",
          "model_module_version": "1.2.0",
          "state": {
            "_model_module": "@jupyter-widgets/base",
            "_model_module_version": "1.2.0",
            "_model_name": "LayoutModel",
            "_view_count": null,
            "_view_module": "@jupyter-widgets/base",
            "_view_module_version": "1.2.0",
            "_view_name": "LayoutView",
            "align_content": null,
            "align_items": null,
            "align_self": null,
            "border": null,
            "bottom": null,
            "display": null,
            "flex": null,
            "flex_flow": null,
            "grid_area": null,
            "grid_auto_columns": null,
            "grid_auto_flow": null,
            "grid_auto_rows": null,
            "grid_column": null,
            "grid_gap": null,
            "grid_row": null,
            "grid_template_areas": null,
            "grid_template_columns": null,
            "grid_template_rows": null,
            "height": null,
            "justify_content": null,
            "justify_items": null,
            "left": null,
            "margin": null,
            "max_height": null,
            "max_width": null,
            "min_height": null,
            "min_width": null,
            "object_fit": null,
            "object_position": null,
            "order": null,
            "overflow": null,
            "overflow_x": null,
            "overflow_y": null,
            "padding": null,
            "right": null,
            "top": null,
            "visibility": null,
            "width": null
          }
        },
        "0f6d7188e6c9466eb7558f1c80e1dd17": {
          "model_module": "@jupyter-widgets/base",
          "model_name": "LayoutModel",
          "model_module_version": "1.2.0",
          "state": {
            "_model_module": "@jupyter-widgets/base",
            "_model_module_version": "1.2.0",
            "_model_name": "LayoutModel",
            "_view_count": null,
            "_view_module": "@jupyter-widgets/base",
            "_view_module_version": "1.2.0",
            "_view_name": "LayoutView",
            "align_content": null,
            "align_items": null,
            "align_self": null,
            "border": null,
            "bottom": null,
            "display": null,
            "flex": null,
            "flex_flow": null,
            "grid_area": null,
            "grid_auto_columns": null,
            "grid_auto_flow": null,
            "grid_auto_rows": null,
            "grid_column": null,
            "grid_gap": null,
            "grid_row": null,
            "grid_template_areas": null,
            "grid_template_columns": null,
            "grid_template_rows": null,
            "height": null,
            "justify_content": null,
            "justify_items": null,
            "left": null,
            "margin": null,
            "max_height": null,
            "max_width": null,
            "min_height": null,
            "min_width": null,
            "object_fit": null,
            "object_position": null,
            "order": null,
            "overflow": null,
            "overflow_x": null,
            "overflow_y": null,
            "padding": null,
            "right": null,
            "top": null,
            "visibility": null,
            "width": null
          }
        },
        "12ad02d9aeda44a58957fa64b598a768": {
          "model_module": "@jupyter-widgets/controls",
          "model_name": "DescriptionStyleModel",
          "model_module_version": "1.5.0",
          "state": {
            "_model_module": "@jupyter-widgets/controls",
            "_model_module_version": "1.5.0",
            "_model_name": "DescriptionStyleModel",
            "_view_count": null,
            "_view_module": "@jupyter-widgets/base",
            "_view_module_version": "1.2.0",
            "_view_name": "StyleView",
            "description_width": ""
          }
        },
        "9d719457c55b4b5fb0c38032e4d9925b": {
          "model_module": "@jupyter-widgets/base",
          "model_name": "LayoutModel",
          "model_module_version": "1.2.0",
          "state": {
            "_model_module": "@jupyter-widgets/base",
            "_model_module_version": "1.2.0",
            "_model_name": "LayoutModel",
            "_view_count": null,
            "_view_module": "@jupyter-widgets/base",
            "_view_module_version": "1.2.0",
            "_view_name": "LayoutView",
            "align_content": null,
            "align_items": null,
            "align_self": null,
            "border": null,
            "bottom": null,
            "display": null,
            "flex": null,
            "flex_flow": null,
            "grid_area": null,
            "grid_auto_columns": null,
            "grid_auto_flow": null,
            "grid_auto_rows": null,
            "grid_column": null,
            "grid_gap": null,
            "grid_row": null,
            "grid_template_areas": null,
            "grid_template_columns": null,
            "grid_template_rows": null,
            "height": null,
            "justify_content": null,
            "justify_items": null,
            "left": null,
            "margin": null,
            "max_height": null,
            "max_width": null,
            "min_height": null,
            "min_width": null,
            "object_fit": null,
            "object_position": null,
            "order": null,
            "overflow": null,
            "overflow_x": null,
            "overflow_y": null,
            "padding": null,
            "right": null,
            "top": null,
            "visibility": null,
            "width": null
          }
        }
      }
    }
  },
  "cells": [
    {
      "cell_type": "markdown",
      "metadata": {
        "id": "view-in-github",
        "colab_type": "text"
      },
      "source": [
        "<a href=\"https://colab.research.google.com/github/bhattrahul301/Assignment1/blob/DS-certification/Students.ipynb\" target=\"_parent\"><img src=\"https://colab.research.google.com/assets/colab-badge.svg\" alt=\"Open In Colab\"/></a>"
      ]
    },
    {
      "cell_type": "code",
      "execution_count": 1,
      "metadata": {
        "id": "7s1ykbIaNVq1"
      },
      "outputs": [],
      "source": [
        "import pandas as pd\n",
        "import numpy as np\n",
        "import seaborn as sns\n",
        "import matplotlib.pyplot as plt\n",
        "from ipywidgets import interact, Dropdown\n",
        "import ipywidgets as widgets"
      ]
    },
    {
      "cell_type": "code",
      "source": [
        "student_data = pd.ExcelFile(r'/content/Batchwise Attendance Data.xlsx')"
      ],
      "metadata": {
        "id": "kMpGn8v2Nhjm"
      },
      "execution_count": 2,
      "outputs": []
    },
    {
      "cell_type": "code",
      "source": [
        "student_data.sheet_names"
      ],
      "metadata": {
        "colab": {
          "base_uri": "https://localhost:8080/"
        },
        "id": "Dnz8A2M3Nhmo",
        "outputId": "0193a281-2b59-472c-ffa4-816fc5efc760"
      },
      "execution_count": 3,
      "outputs": [
        {
          "output_type": "execute_result",
          "data": {
            "text/plain": [
              "['Class 1', 'Class 2']"
            ]
          },
          "metadata": {},
          "execution_count": 3
        }
      ]
    },
    {
      "cell_type": "code",
      "source": [
        "sheets = {}\n",
        "\n",
        "for sheet_name in student_data.sheet_names:\n",
        "    sheets[sheet_name] = student_data.parse(sheet_name)\n",
        "    sheets[sheet_name]['Type'].fillna('STUDENT',inplace=True)\n",
        "    sheets[sheet_name] = sheets[sheet_name].dropna(axis=1, how='all')\n"
      ],
      "metadata": {
        "id": "PR697h4CNhpS"
      },
      "execution_count": 5,
      "outputs": []
    },
    {
      "cell_type": "code",
      "source": [
        "total_students = {}\n",
        "avg_rating = {}\n",
        "attendence = {}\n",
        "attendenceByday = {}\n",
        "avgratingByday = {}"
      ],
      "metadata": {
        "id": "8_yDwInxNhrN"
      },
      "execution_count": 6,
      "outputs": []
    },
    {
      "cell_type": "code",
      "source": [
        "from statistics import mean\n",
        "for sheet_name in sheets:\n",
        "    df = sheets[sheet_name]\n",
        "    total_students[sheet_name] = {}\n",
        "    total_students[sheet_name]['Total'] = len(df)\n",
        "    \n",
        "    \n",
        "    attendence[sheet_name] = {}\n",
        "    attendence[sheet_name]['Total'] = (len(df.columns)-2)//2\n",
        "    attendenceByday[sheet_name] = {}\n",
        "    avg_rating[sheet_name] = {}\n",
        "    avgratingByday[sheet_name] = {}\n",
        "    \n",
        "    for col in df.columns[2::2]:\n",
        "        attendenceByday[sheet_name]['Total'] = len(df)\n",
        "        attendenceByday[sheet_name][str(col).replace('00:00:00','')] = list(df[col]).count('Attended')\n",
        "    \n",
        "    for col in df.columns[3::2]:\n",
        "        avgratingByday[sheet_name][col] = round(mean(df[col]))\n",
        "        \n",
        "    for types in df['Type'].unique():\n",
        "        total_students[sheet_name][types] = len(df[df['Type'] == types])\n",
        "        temp = df[df['Type'] == types]\n",
        "        attendence[sheet_name][types] = {}\n",
        "        avg_rating[sheet_name][types] = {}\n",
        "        for i in range(len(temp)):\n",
        "            l = list(temp.iloc[i,:])\n",
        "            attendence[sheet_name][types][int(l[0])] = l.count('Attended')\n",
        "            avg_rating[sheet_name][types][int(l[0])] = mean(l[3::2])"
      ],
      "metadata": {
        "id": "nxt0FTuCNhtt"
      },
      "execution_count": 7,
      "outputs": []
    },
    {
      "cell_type": "code",
      "source": [
        "avgratingByday"
      ],
      "metadata": {
        "colab": {
          "base_uri": "https://localhost:8080/"
        },
        "id": "yoHj3oMYNhwV",
        "outputId": "2669d3f2-1315-4001-a9d4-755af04e12b6"
      },
      "execution_count": 8,
      "outputs": [
        {
          "output_type": "execute_result",
          "data": {
            "text/plain": [
              "{'Class 1': {'R-10-01-21': 7,\n",
              "  'R-9-01-21': 8,\n",
              "  'R-8-01-21': 8,\n",
              "  'R-7-01-21': 8,\n",
              "  'R-6-01-21': 7,\n",
              "  'R-5-01-21': 8,\n",
              "  'R-4-01-21': 8,\n",
              "  'R-3-01-21': 7,\n",
              "  'R-02-01-21': 7,\n",
              "  'R-01-01-21': 8},\n",
              " 'Class 2': {'R-10-01-21': 7,\n",
              "  'R-9-01-21': 8,\n",
              "  'R-8-01-21': 7,\n",
              "  'R-7-01-21': 7,\n",
              "  'R-6-01-21': 7,\n",
              "  'R-5-01-21': 7,\n",
              "  'R-4-01-21': 8,\n",
              "  'R-3-01-21': 8}}"
            ]
          },
          "metadata": {},
          "execution_count": 8
        }
      ]
    },
    {
      "cell_type": "code",
      "source": [
        "attendenceByday"
      ],
      "metadata": {
        "colab": {
          "base_uri": "https://localhost:8080/"
        },
        "id": "gbJFFozSNhyp",
        "outputId": "25220652-0519-49e1-97b2-702076c41487"
      },
      "execution_count": 9,
      "outputs": [
        {
          "output_type": "execute_result",
          "data": {
            "text/plain": [
              "{'Class 1': {'Total': 57,\n",
              "  '2021-01-10 ': 26,\n",
              "  '2021-01-09 ': 25,\n",
              "  '2021-01-08 ': 27,\n",
              "  '2021-01-07 ': 30,\n",
              "  '2021-01-06 ': 28,\n",
              "  '2021-01-05 ': 28,\n",
              "  '2021-01-04 ': 32,\n",
              "  '2021-01-03 ': 27,\n",
              "  '2021-01-02 ': 34,\n",
              "  '2021-01-01 ': 30},\n",
              " 'Class 2': {'Total': 70,\n",
              "  '2021-01-10 ': 41,\n",
              "  '2021-01-09 ': 40,\n",
              "  '2021-01-08 ': 39,\n",
              "  '2021-01-07 ': 38,\n",
              "  '2021-01-06 ': 39,\n",
              "  '2021-01-05 ': 41,\n",
              "  '2021-01-04 ': 43,\n",
              "  '2021-01-03 ': 44}}"
            ]
          },
          "metadata": {},
          "execution_count": 9
        }
      ]
    },
    {
      "cell_type": "code",
      "source": [
        "avg_rating"
      ],
      "metadata": {
        "colab": {
          "base_uri": "https://localhost:8080/"
        },
        "id": "IKHrfVauNh1F",
        "outputId": "75198a75-d0ed-4a96-d562-826cc2fba33f"
      },
      "execution_count": 10,
      "outputs": [
        {
          "output_type": "execute_result",
          "data": {
            "text/plain": [
              "{'Class 1': {'WORKING': {1: 6,\n",
              "   5: 7,\n",
              "   15: 7,\n",
              "   16: 6,\n",
              "   22: 7,\n",
              "   24: 8,\n",
              "   30: 7,\n",
              "   36: 7,\n",
              "   55: 7},\n",
              "  'STUDENT': {2: 7,\n",
              "   3: 7,\n",
              "   4: 7,\n",
              "   6: 6,\n",
              "   7: 8,\n",
              "   8: 7,\n",
              "   10: 7,\n",
              "   11: 7,\n",
              "   12: 7,\n",
              "   13: 8,\n",
              "   14: 7,\n",
              "   17: 7,\n",
              "   18: 7,\n",
              "   19: 7,\n",
              "   20: 7,\n",
              "   21: 7,\n",
              "   23: 7,\n",
              "   25: 8,\n",
              "   26: 6,\n",
              "   27: 7,\n",
              "   28: 7,\n",
              "   29: 8,\n",
              "   31: 7,\n",
              "   32: 8,\n",
              "   33: 6,\n",
              "   34: 8,\n",
              "   35: 7,\n",
              "   37: 7,\n",
              "   38: 7,\n",
              "   39: 6,\n",
              "   40: 6,\n",
              "   41: 8,\n",
              "   42: 7,\n",
              "   43: 8,\n",
              "   44: 7,\n",
              "   45: 8,\n",
              "   46: 6,\n",
              "   47: 6,\n",
              "   48: 8,\n",
              "   49: 6,\n",
              "   51: 7,\n",
              "   53: 8,\n",
              "   54: 8,\n",
              "   56: 7,\n",
              "   57: 6},\n",
              "  'IGNORE': {9: 7, 50: 6},\n",
              "  'DROPOUT': {52: 7}},\n",
              " 'Class 2': {'STUDENT': {1: 7,\n",
              "   2: 6,\n",
              "   3: 7,\n",
              "   4: 7,\n",
              "   7: 7,\n",
              "   9: 6,\n",
              "   10: 8,\n",
              "   12: 7,\n",
              "   16: 7,\n",
              "   17: 7,\n",
              "   18: 8,\n",
              "   20: 7,\n",
              "   21: 7,\n",
              "   22: 7,\n",
              "   24: 8,\n",
              "   25: 6,\n",
              "   26: 6,\n",
              "   27: 7,\n",
              "   28: 8,\n",
              "   30: 7,\n",
              "   31: 6,\n",
              "   33: 8,\n",
              "   34: 6,\n",
              "   36: 7,\n",
              "   37: 6,\n",
              "   38: 7,\n",
              "   39: 7,\n",
              "   41: 8,\n",
              "   42: 7,\n",
              "   43: 6,\n",
              "   45: 7,\n",
              "   46: 7,\n",
              "   47: 7,\n",
              "   50: 7,\n",
              "   51: 7,\n",
              "   54: 7,\n",
              "   55: 7,\n",
              "   56: 6,\n",
              "   58: 7,\n",
              "   59: 6,\n",
              "   60: 7,\n",
              "   61: 8,\n",
              "   62: 8,\n",
              "   64: 7,\n",
              "   65: 7,\n",
              "   67: 6,\n",
              "   68: 6,\n",
              "   69: 7,\n",
              "   70: 8},\n",
              "  'WORKING': {5: 7,\n",
              "   6: 7,\n",
              "   8: 9,\n",
              "   11: 8,\n",
              "   13: 6,\n",
              "   15: 7,\n",
              "   23: 8,\n",
              "   29: 6,\n",
              "   32: 6,\n",
              "   40: 7,\n",
              "   48: 7,\n",
              "   49: 7,\n",
              "   52: 8,\n",
              "   53: 7,\n",
              "   57: 8,\n",
              "   63: 7},\n",
              "  'IGNORE': {14: 6, 66: 7},\n",
              "  'DROPOUT': {19: 7, 35: 7, 44: 6}}}"
            ]
          },
          "metadata": {},
          "execution_count": 10
        }
      ]
    },
    {
      "cell_type": "code",
      "source": [
        "attendence"
      ],
      "metadata": {
        "colab": {
          "base_uri": "https://localhost:8080/"
        },
        "id": "FM_2D3lKNh3s",
        "outputId": "50c037ca-d764-47b8-8743-72fc732526c9"
      },
      "execution_count": 11,
      "outputs": [
        {
          "output_type": "execute_result",
          "data": {
            "text/plain": [
              "{'Class 1': {'Total': 10,\n",
              "  'WORKING': {1: 0, 5: 0, 15: 10, 16: 6, 22: 10, 24: 8, 30: 6, 36: 0, 55: 3},\n",
              "  'STUDENT': {2: 4,\n",
              "   3: 4,\n",
              "   4: 5,\n",
              "   6: 4,\n",
              "   7: 10,\n",
              "   8: 0,\n",
              "   10: 0,\n",
              "   11: 10,\n",
              "   12: 10,\n",
              "   13: 10,\n",
              "   14: 9,\n",
              "   17: 5,\n",
              "   18: 0,\n",
              "   19: 0,\n",
              "   20: 6,\n",
              "   21: 0,\n",
              "   23: 0,\n",
              "   25: 10,\n",
              "   26: 9,\n",
              "   27: 4,\n",
              "   28: 10,\n",
              "   29: 9,\n",
              "   31: 10,\n",
              "   32: 0,\n",
              "   33: 0,\n",
              "   34: 10,\n",
              "   35: 0,\n",
              "   37: 2,\n",
              "   38: 9,\n",
              "   39: 0,\n",
              "   40: 8,\n",
              "   41: 10,\n",
              "   42: 7,\n",
              "   43: 0,\n",
              "   44: 10,\n",
              "   45: 10,\n",
              "   46: 3,\n",
              "   47: 9,\n",
              "   48: 6,\n",
              "   49: 0,\n",
              "   51: 0,\n",
              "   53: 5,\n",
              "   54: 9,\n",
              "   56: 8,\n",
              "   57: 9},\n",
              "  'IGNORE': {9: 0, 50: 0},\n",
              "  'DROPOUT': {52: 0}},\n",
              " 'Class 2': {'Total': 8,\n",
              "  'STUDENT': {1: 7,\n",
              "   2: 8,\n",
              "   3: 0,\n",
              "   4: 6,\n",
              "   7: 0,\n",
              "   9: 8,\n",
              "   10: 6,\n",
              "   12: 8,\n",
              "   16: 2,\n",
              "   17: 8,\n",
              "   18: 7,\n",
              "   20: 6,\n",
              "   21: 0,\n",
              "   22: 0,\n",
              "   24: 5,\n",
              "   25: 8,\n",
              "   26: 8,\n",
              "   27: 8,\n",
              "   28: 6,\n",
              "   30: 6,\n",
              "   31: 8,\n",
              "   33: 7,\n",
              "   34: 8,\n",
              "   36: 8,\n",
              "   37: 8,\n",
              "   38: 2,\n",
              "   39: 0,\n",
              "   41: 8,\n",
              "   42: 2,\n",
              "   43: 0,\n",
              "   45: 7,\n",
              "   46: 8,\n",
              "   47: 0,\n",
              "   50: 8,\n",
              "   51: 8,\n",
              "   54: 8,\n",
              "   55: 7,\n",
              "   56: 4,\n",
              "   58: 7,\n",
              "   59: 7,\n",
              "   60: 0,\n",
              "   61: 8,\n",
              "   62: 8,\n",
              "   64: 6,\n",
              "   65: 7,\n",
              "   67: 0,\n",
              "   68: 8,\n",
              "   69: 8,\n",
              "   70: 8},\n",
              "  'WORKING': {5: 3,\n",
              "   6: 0,\n",
              "   8: 6,\n",
              "   11: 7,\n",
              "   13: 4,\n",
              "   15: 7,\n",
              "   23: 0,\n",
              "   29: 5,\n",
              "   32: 0,\n",
              "   40: 6,\n",
              "   48: 0,\n",
              "   49: 2,\n",
              "   52: 0,\n",
              "   53: 0,\n",
              "   57: 4,\n",
              "   63: 5},\n",
              "  'IGNORE': {14: 1, 66: 0},\n",
              "  'DROPOUT': {19: 0, 35: 0, 44: 0}}}"
            ]
          },
          "metadata": {},
          "execution_count": 11
        }
      ]
    },
    {
      "cell_type": "code",
      "source": [
        "total_students"
      ],
      "metadata": {
        "colab": {
          "base_uri": "https://localhost:8080/"
        },
        "id": "Ww2nN39xNh6e",
        "outputId": "b3eae01c-ef73-4371-f154-52d3f9363dfe"
      },
      "execution_count": 12,
      "outputs": [
        {
          "output_type": "execute_result",
          "data": {
            "text/plain": [
              "{'Class 1': {'Total': 57,\n",
              "  'WORKING': 9,\n",
              "  'STUDENT': 45,\n",
              "  'IGNORE': 2,\n",
              "  'DROPOUT': 1},\n",
              " 'Class 2': {'Total': 70,\n",
              "  'STUDENT': 49,\n",
              "  'WORKING': 16,\n",
              "  'IGNORE': 2,\n",
              "  'DROPOUT': 3}}"
            ]
          },
          "metadata": {},
          "execution_count": 12
        }
      ]
    },
    {
      "cell_type": "markdown",
      "source": [
        "**Which student needs attention for missing sessions?**"
      ],
      "metadata": {
        "id": "Ul-gk2i4O1uD"
      }
    },
    {
      "cell_type": "code",
      "source": [
        "Class = Dropdown(options = student_data.sheet_names)\n",
        "\n",
        "@interact(Class = Class)\n",
        "def chooseClass(Class):\n",
        "    studs = []\n",
        "    leastat = min(attendence[Class]['STUDENT'].values())\n",
        "    for roll in attendence[Class]['STUDENT']:\n",
        "        if attendence[Class]['STUDENT'][roll] == leastat:\n",
        "            studs.append(roll)\n",
        "    \n",
        "    print('least attendence in the class is ',leastat)\n",
        "    print('student roll numbers having least attendence',studs)\n",
        "    fig, ax = plt.subplots(1, 2)\n",
        "    \n",
        "    plt.subplot(1, 2, 1)\n",
        "    plt.plot(attendence[Class]['STUDENT'].keys(), attendence[Class]['STUDENT'].values())\n",
        "    plt.title('attendence of the all students for '+ str(attendence[Class]['Total']) +' session' )\n",
        "    plt.xlabel('Student Roll Numbers')\n",
        "    \n",
        "    plt.subplot(1,2,2)\n",
        "    temp = [avg_rating[Class]['STUDENT'][key] for key in avg_rating[Class]['STUDENT'] if key in studs]\n",
        "    plt.title('students with least attendence average rating')\n",
        "    plt.xlabel('Student Roll Numbers')\n",
        "    plt.bar(height = temp, x=studs)\n",
        "    plt.subplots_adjust(left=1,\n",
        "                    bottom=1, \n",
        "                    right=3, \n",
        "                    top=2, \n",
        "                    wspace=0.2, \n",
        "                    hspace=0.2)\n",
        "    plt.show()\n",
        "    "
      ],
      "metadata": {
        "colab": {
          "base_uri": "https://localhost:8080/",
          "height": 1000,
          "referenced_widgets": [
            "7371e29b6e8b4bcc8f3c324ed368c3a0",
            "a609ad6feeff4ab2bc54b61a9231a07a",
            "c8e8b9a0d9874ef4bdf29c99a15ca9d5",
            "71f553744c6c409db4b9b5f4bb4c7fe8",
            "e45d2ca130b84cd69ffc680217e90286",
            "998621286ca74a29993710ebd80886fb",
            "0425616716c5483295e48cda22251bd1"
          ]
        },
        "id": "Vntw_fpgNh9J",
        "outputId": "41f8de9e-abbe-4fdd-9d04-fed772515130"
      },
      "execution_count": 14,
      "outputs": [
        {
          "output_type": "display_data",
          "data": {
            "text/plain": [
              "interactive(children=(Dropdown(description='Class', options=('Class 1', 'Class 2'), value='Class 1'), Output()…"
            ],
            "application/vnd.jupyter.widget-view+json": {
              "version_major": 2,
              "version_minor": 0,
              "model_id": "7371e29b6e8b4bcc8f3c324ed368c3a0"
            }
          },
          "metadata": {}
        },
        {
          "output_type": "display_data",
          "data": {
            "text/plain": [
              "<Figure size 432x288 with 2 Axes>"
            ],
            "image/png": "[encoded data removed]"
          },
          "metadata": {
            "needs_background": "light"
          }
        },
        {
          "output_type": "display_data",
          "data": {
            "text/plain": [
              "<Figure size 432x288 with 2 Axes>"
            ],
            "image/png": "[encoded data removed]"
          },
          "metadata": {
            "needs_background": "light"
          }
        },
        {
          "output_type": "display_data",
          "data": {
            "text/plain": [
              "<Figure size 432x288 with 2 Axes>"
            ],
            "image/png": "[encoded data removed]"
          },
          "metadata": {
            "needs_background": "light"
          }
        },
        {
          "output_type": "display_data",
          "data": {
            "text/plain": [
              "<Figure size 432x288 with 2 Axes>"
            ],
            "image/png": "[encoded data removed]"
          },
          "metadata": {
            "needs_background": "light"
          }
        },
        {
          "output_type": "display_data",
          "data": {
            "text/plain": [
              "<Figure size 432x288 with 2 Axes>"
            ],
            "image/png": "[encoded data removed]"
          },
          "metadata": {
            "needs_background": "light"
          }
        },
        {
          "output_type": "display_data",
          "data": {
            "text/plain": [
              "<Figure size 432x288 with 2 Axes>"
            ],
            "image/png": "[encoded data removed]"
          },
          "metadata": {
            "needs_background": "light"
          }
        }
      ]
    },
    {
      "cell_type": "markdown",
      "source": [
        "**Which students are unsatisfied?**"
      ],
      "metadata": {
        "id": "YuD7ewcmPUAe"
      }
    },
    {
      "cell_type": "code",
      "source": [
        "Class = Dropdown(options = student_data.sheet_names)\n",
        "\n",
        "@interact(Class = Class)\n",
        "def chooseClass(Class):\n",
        "    studs = []\n",
        "    leastat = min(avg_rating[Class]['STUDENT'].values())\n",
        "    for roll in avg_rating[Class]['STUDENT']:\n",
        "        if avg_rating[Class]['STUDENT'][roll] == leastat:\n",
        "            studs.append(roll)\n",
        "    print('least rating in the class is ',leastat)\n",
        "    print('student roll numbers who rated',studs)\n",
        "    \n",
        "    fig, ax = plt.subplots(1, 2)\n",
        "    \n",
        "    plt.subplot(1, 2, 1)\n",
        "    plt.plot(avg_rating[Class]['STUDENT'].keys(), avg_rating[Class]['STUDENT'].values())\n",
        "    plt.title('Average rating of each student for '+ Class )\n",
        "    plt.xlabel('Student Roll Numbers')\n",
        "    \n",
        "    \n",
        "    plt.subplot(1,2,2)\n",
        "    temp = [attendence[Class]['STUDENT'][key] for key in attendence[Class]['STUDENT'] if key in studs]\n",
        "    print('attendence of the students who rated least', temp)\n",
        "    plt.title('students attendence who rated least')\n",
        "    plt.xlabel('Student Roll Numbers')\n",
        "    plt.bar(height = temp, x=studs)\n",
        "    plt.subplots_adjust(left=1,\n",
        "                    bottom=1, \n",
        "                    right=3, \n",
        "                    top=2, \n",
        "                    wspace=0.2, \n",
        "                    hspace=0.2)\n",
        "    plt.show()"
      ],
      "metadata": {
        "colab": {
          "base_uri": "https://localhost:8080/",
          "height": 717,
          "referenced_widgets": [
            "1a99970fd4664bc68ca07e41f722a668",
            "5ee8a3e8732d415994d4a3f4a8de8c0c",
            "29c1e9a50c2a450581ad05ecfa3dcc51",
            "bf395f85800b418994392f5a890e1349",
            "3686cff22dc849dcac9274995b9c0f62",
            "8b6e29344d234b31bc0750d420837135",
            "171c03601f6f4fe486fde1d48232c79c"
          ]
        },
        "id": "0JTVIzhPNh_u",
        "outputId": "37a5a6d1-86cb-417d-b917-a6bb6e7f920b"
      },
      "execution_count": 15,
      "outputs": [
        {
          "output_type": "display_data",
          "data": {
            "text/plain": [
              "interactive(children=(Dropdown(description='Class', options=('Class 1', 'Class 2'), value='Class 1'), Output()…"
            ],
            "application/vnd.jupyter.widget-view+json": {
              "version_major": 2,
              "version_minor": 0,
              "model_id": "1a99970fd4664bc68ca07e41f722a668"
            }
          },
          "metadata": {}
        },
        {
          "output_type": "display_data",
          "data": {
            "text/plain": [
              "<Figure size 432x288 with 2 Axes>"
            ],
            "image/png": "[encoded data removed]"
          },
          "metadata": {
            "needs_background": "light"
          }
        }
      ]
    },
    {
      "cell_type": "code",
      "source": [],
      "metadata": {
        "id": "aCe5HHV9PY3w"
      },
      "execution_count": null,
      "outputs": []
    },
    {
      "cell_type": "markdown",
      "source": [
        "**Which students are very satisfied?**"
      ],
      "metadata": {
        "id": "AMUbuSldQEog"
      }
    },
    {
      "cell_type": "code",
      "source": [
        "Class = Dropdown(options = student_data.sheet_names)\n",
        "\n",
        "@interact(Class = Class)\n",
        "def chooseClass(Class):\n",
        "    studs = []\n",
        "    maxval = max(avg_rating[Class]['STUDENT'].values())\n",
        "    for roll in avg_rating[Class]['STUDENT']:\n",
        "        if avg_rating[Class]['STUDENT'][roll] == maxval:\n",
        "            studs.append(roll)\n",
        "    print('highest rating in the class is ',maxval)\n",
        "    print('student roll numbers who rated',studs)\n",
        "    \n",
        "    fig, ax = plt.subplots(1, 2)\n",
        "    \n",
        "    plt.subplot(1, 2, 1)\n",
        "    plt.plot(avg_rating[Class]['STUDENT'].keys(), avg_rating[Class]['STUDENT'].values())\n",
        "    plt.title('Average rating of each student for '+ Class )\n",
        "    plt.xlabel('Student Roll Numbers')\n",
        "    \n",
        "    plt.subplot(1,2,2)\n",
        "    temp = [attendence[Class]['STUDENT'][key] for key in attendence[Class]['STUDENT'] if key in studs]\n",
        "    print('attendence of the students who rated highest',temp)\n",
        "    plt.title('students attendence who rated highest')\n",
        "    plt.xlabel('Student Roll Numbers')\n",
        "    plt.bar(height = temp, x=studs)\n",
        "    plt.subplots_adjust(left=1,\n",
        "                    bottom=1, \n",
        "                    right=3, \n",
        "                    top=2, \n",
        "                    wspace=0.2, \n",
        "                    hspace=0.2)\n",
        "    plt.show()"
      ],
      "metadata": {
        "colab": {
          "base_uri": "https://localhost:8080/",
          "height": 717,
          "referenced_widgets": [
            "2295a73cc95c45f6aba0c408ac9521de",
            "cb033f5b5b1d44f4944fa44f7c477d8d",
            "3d0e3cb49d2047afad0b9d90bb59fa6a",
            "f02fb25130f94f009afaaa8b46743bcf",
            "6347c9ea9a3c4cc9a93920a6cd2e3226",
            "9e8c907ae4c84118a2e1eedb51d39c2e",
            "515fdff0752a41d39bb39f56e30913bc"
          ]
        },
        "id": "B5s88C1sNiCP",
        "outputId": "c8068964-a4c5-41d6-b2c1-01714281c7b4"
      },
      "execution_count": 16,
      "outputs": [
        {
          "output_type": "display_data",
          "data": {
            "text/plain": [
              "interactive(children=(Dropdown(description='Class', options=('Class 1', 'Class 2'), value='Class 1'), Output()…"
            ],
            "application/vnd.jupyter.widget-view+json": {
              "version_major": 2,
              "version_minor": 0,
              "model_id": "2295a73cc95c45f6aba0c408ac9521de"
            }
          },
          "metadata": {}
        },
        {
          "output_type": "display_data",
          "data": {
            "text/plain": [
              "<Figure size 432x288 with 2 Axes>"
            ],
            "image/png": "[encoded data removed]"
          },
          "metadata": {
            "needs_background": "light"
          }
        }
      ]
    },
    {
      "cell_type": "markdown",
      "source": [
        "**SOME EXTRA INSIGHTS**"
      ],
      "metadata": {
        "id": "SE5WJH_fQRF2"
      }
    },
    {
      "cell_type": "code",
      "source": [
        "Class = Dropdown(options = student_data.sheet_names)\n",
        "t = list(total_students[student_data.sheet_names[0]].keys())\n",
        "t.remove('Total')\n",
        "# CType.options = t\n",
        "CType = Dropdown(options=t)\n",
        "\n",
        "@interact(Class = Class,Type = CType)\n",
        "def chooseClassandType(Class,Type):\n",
        "    plt.subplot(1, 2, 1)\n",
        "    temp = avg_rating[Class][Type].copy()\n",
        "    if 'Total' in temp:\n",
        "        del temp['Total']\n",
        "    plt.bar(x = temp.keys() , height = temp.values())\n",
        "    plt.title('Average rating of each student in '+ Class +' and Type ' + Type  )\n",
        "    plt.xlabel('Student Roll Numbers')\n",
        "    \n",
        "    plt.subplot(1,2,2)\n",
        "    temp = attendence[Class][Type].copy()\n",
        "    if 'Total' in temp:\n",
        "        del temp['Total']\n",
        "    plt.bar(height = temp.values(), x=temp.keys())\n",
        "    plt.xlabel('Student Roll Numbers')\n",
        "    plt.title('Average attendence of students')\n",
        "    plt.subplots_adjust(left=1,\n",
        "                    bottom=1, \n",
        "                    right=3, \n",
        "                    top=2, \n",
        "                    wspace=0.2, \n",
        "                    hspace=0.2)\n",
        "    plt.show()"
      ],
      "metadata": {
        "colab": {
          "base_uri": "https://localhost:8080/",
          "height": 430,
          "referenced_widgets": [
            "eb70422311d1412897bcfa810f819793",
            "8237776be4b443aba8a44e5fdbbf7b5b",
            "26c12fcb74584c0dafb323c835985a33",
            "fc7e8aea80c24249a347737399d4393d",
            "4f315a62eb7a4cceb628a6150ab3e78e",
            "b16428ab62954c0db8aa8f7f261125ff",
            "30dbd23284bc4e6aa4c00e2b16c94cb0",
            "884c7aece10d42bf8ea0715808d77f9b",
            "c9bf9fec5e184ce8a3e7992aef883bc6",
            "6ce7262d4e504d46b3314ae71432d09b"
          ]
        },
        "id": "aiWQHnnENiHR",
        "outputId": "a714ced5-2f86-49e4-cf24-90a01fa6dd24"
      },
      "execution_count": 20,
      "outputs": [
        {
          "output_type": "display_data",
          "data": {
            "text/plain": [
              "interactive(children=(Dropdown(description='Class', options=('Class 1', 'Class 2'), value='Class 1'), Dropdown…"
            ],
            "application/vnd.jupyter.widget-view+json": {
              "version_major": 2,
              "version_minor": 0,
              "model_id": "eb70422311d1412897bcfa810f819793"
            }
          },
          "metadata": {}
        }
      ]
    },
    {
      "cell_type": "code",
      "source": [
        "Class = Dropdown(options = student_data.sheet_names)\n",
        "\n",
        "@interact(Class = Class)\n",
        "def chooseClass(Class):\n",
        "    #plt.figure(figsize=(10,10))\n",
        "    \n",
        "    fig, ax = plt.subplots(2, 2)\n",
        "    \n",
        "    plt.subplot(2, 2, 1)\n",
        "    palette_color = sns.color_palette('dark')\n",
        "    temp = total_students[Class].copy()\n",
        "    if 'Total' in temp:\n",
        "        del temp['Total']\n",
        "    #print(temp)\n",
        "    plt.pie(temp.values(), labels=temp.keys(), colors=palette_color, autopct='%.0f%%',shadow= True)\n",
        "    plt.title('Ratio of Different category of people in '+Class)\n",
        "    #plt.show()\n",
        "    \n",
        "    plt.subplot(2, 2, 2)\n",
        "    temp = {}\n",
        "    for key in attendence[Class]:\n",
        "        if key != 'Total':\n",
        "            temp[key] = mean(attendence[Class][key].values())\n",
        "    #print(temp)\n",
        "    plt.bar(height = temp.values(), x=temp.keys())\n",
        "    plt.title('average attendence by category in '+Class +' out of '+ str(attendence[Class]['Total']) +' sessions' )\n",
        "    plt.xlabel('Type')\n",
        "    \n",
        "    plt.subplot(2, 2, 3)\n",
        "    temp = {}\n",
        "    for key in avg_rating[Class]:\n",
        "        if key != 'Total':\n",
        "            temp[key] = mean(avg_rating[Class][key].values())\n",
        "    #print(temp)\n",
        "    plt.bar(height = temp.values(), x=temp.keys())\n",
        "    plt.title('average rating by category in '+Class +' for '+ str(attendence[Class]['Total']) +' sessions' )\n",
        "    plt.xlabel('Type')\n",
        "    \n",
        "    \n",
        "    plt.subplot(2, 2, 4)\n",
        "    temp = attendenceByday[Class].copy()\n",
        "    if 'Total' in temp:\n",
        "        del temp['Total']\n",
        "    #print(temp)\n",
        "    year, mon, d = list(temp.keys())[0].split('-')\n",
        "    vals = [k.split('-')[2] for k in temp.keys()]\n",
        "    plt.bar(height = temp.values(), x=vals)\n",
        "    plt.title('no of students attended by dates [year - '+year+ ' month - '+ mon +' ]')\n",
        "    plt.xlabel('day of the month')\n",
        "    \n",
        "    plt.subplots_adjust(left=1,\n",
        "                    bottom=1, \n",
        "                    right=3, \n",
        "                    top=3, \n",
        "                    wspace=0.4, \n",
        "                    hspace=0.4)\n",
        "    plt.show()\n",
        "    \n",
        "    "
      ],
      "metadata": {
        "colab": {
          "base_uri": "https://localhost:8080/",
          "height": 686,
          "referenced_widgets": [
            "e626a3c53829464aa5982a089dc3cd21",
            "4159ab5771454e84a45d3fa3ed4c91f6",
            "0de1dd4e792a4618bee239223c3d1774",
            "0bad4880e5144b2b82c8a766230ba552",
            "0f6d7188e6c9466eb7558f1c80e1dd17",
            "12ad02d9aeda44a58957fa64b598a768",
            "9d719457c55b4b5fb0c38032e4d9925b"
          ]
        },
        "id": "9s6AqkTANiJt",
        "outputId": "eee4f401-946a-4c88-f2bf-0a2aa825c812"
      },
      "execution_count": 21,
      "outputs": [
        {
          "output_type": "display_data",
          "data": {
            "text/plain": [
              "interactive(children=(Dropdown(description='Class', options=('Class 1', 'Class 2'), value='Class 1'), Output()…"
            ],
            "application/vnd.jupyter.widget-view+json": {
              "version_major": 2,
              "version_minor": 0,
              "model_id": "e626a3c53829464aa5982a089dc3cd21"
            }
          },
          "metadata": {}
        }
      ]
    },
    {
      "cell_type": "code",
      "source": [],
      "metadata": {
        "id": "SQrKNpVmNiMr"
      },
      "execution_count": null,
      "outputs": []
    },
    {
      "cell_type": "code",
      "source": [],
      "metadata": {
        "id": "zYMFocjKNiPV"
      },
      "execution_count": null,
      "outputs": []
    }
  ]
}
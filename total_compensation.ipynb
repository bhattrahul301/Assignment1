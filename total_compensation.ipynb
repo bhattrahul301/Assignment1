{
  "nbformat": 4,
  "nbformat_minor": 0,
  "metadata": {
    "colab": {
      "name": "total-compensation.ipynb",
      "provenance": [],
      "authorship_tag": "ABX9TyPIGus21RnY0dnktbAMUAqX",
      "include_colab_link": true
    },
    "kernelspec": {
      "name": "python3",
      "display_name": "Python 3"
    },
    "language_info": {
      "name": "python"
    }
  },
  "cells": [
    {
      "cell_type": "markdown",
      "metadata": {
        "id": "view-in-github",
        "colab_type": "text"
      },
      "source": [
        "<a href=\"https://colab.research.google.com/github/bhattrahul301/Assignment1/blob/main/total_compensation.ipynb\" target=\"_parent\"><img src=\"https://colab.research.google.com/assets/colab-badge.svg\" alt=\"Open In Colab\"/></a>"
      ]
    },
    {
      "cell_type": "code",
      "execution_count": 11,
      "metadata": {
        "id": "n6DO5TR0ZoFb"
      },
      "outputs": [],
      "source": [
        "import pandas as pd\n",
        "import numpy as np\n",
        "import matplotlib.pyplot as plt\n",
        "import seaborn as sns"
      ]
    },
    {
      "cell_type": "code",
      "source": [
        "df=pd.read_csv('/content/train_set.csv')"
      ],
      "metadata": {
        "id": "ofeuRhySbgej"
      },
      "execution_count": 2,
      "outputs": []
    },
    {
      "cell_type": "code",
      "source": [
        "df.head()"
      ],
      "metadata": {
        "colab": {
          "base_uri": "https://localhost:8080/",
          "height": 478
        },
        "id": "2BgJOypfdH2M",
        "outputId": "32446879-5562-4310-e9c8-93d5213c8612"
      },
      "execution_count": 3,
      "outputs": [
        {
          "output_type": "execute_result",
          "data": {
            "text/plain": [
              "   Year  OGC                                       OG   DC               Dept  \\\n",
              "0  2015    4                         Community Health  DPH      Public Health   \n",
              "1  2013    4                         Community Health  DPH      Public Health   \n",
              "2  2015    6         General Administration & Finance  ASR  Assessor/Recorder   \n",
              "3  2016    1                        Public Protection  POL             Police   \n",
              "4  2013    2  Public Works, Transportation & Commerce  HHP   PUC Hetch Hetchy   \n",
              "\n",
              "    UC                                            Union  \\\n",
              "0  250                SEIU - Health Workers, Local 1021   \n",
              "1   39                   Stationary Engineers, Local 39   \n",
              "2   21  Prof & Tech Engineers - Miscellaneous, Local 21   \n",
              "3  911                     Police Officers' Association   \n",
              "4   21  Prof & Tech Engineers - Miscellaneous, Local 21   \n",
              "\n",
              "                        JF                             Job     EI  Salaries  \\\n",
              "0  Med Therapy & Auxiliary                Morgue Attendant   6725     12196   \n",
              "1         Journeyman Trade             Stationary Engineer  25058     74639   \n",
              "2     Appraisal & Taxation  Senior Real Property Appraiser  46108    100554   \n",
              "3          Police Services                      Sergeant 3  33369    140164   \n",
              "4      Information Systems             IS Engineer-Journey  28684     58813   \n",
              "\n",
              "   Overtime       H/D        YT  Total_Compensation  \n",
              "0         0      0.00  Calendar               16158  \n",
              "1      2820  12703.31    Fiscal              115784  \n",
              "2         0  12424.50  Calendar              144708  \n",
              "3     52754  13043.87    Fiscal              242323  \n",
              "4         0   7655.28  Calendar               82106  "
            ],
            "text/html": [
              "\n",
              "  <div id=\"df-6abbd48c-6c68-4ed5-b61d-cc81abb1a587\">\n",
              "    <div class=\"colab-df-container\">\n",
              "      <div>\n",
              "<style scoped>\n",
              "    .dataframe tbody tr th:only-of-type {\n",
              "        vertical-align: middle;\n",
              "    }\n",
              "\n",
              "    .dataframe tbody tr th {\n",
              "        vertical-align: top;\n",
              "    }\n",
              "\n",
              "    .dataframe thead th {\n",
              "        text-align: right;\n",
              "    }\n",
              "</style>\n",
              "<table border=\"1\" class=\"dataframe\">\n",
              "  <thead>\n",
              "    <tr style=\"text-align: right;\">\n",
              "      <th></th>\n",
              "      <th>Year</th>\n",
              "      <th>OGC</th>\n",
              "      <th>OG</th>\n",
              "      <th>DC</th>\n",
              "      <th>Dept</th>\n",
              "      <th>UC</th>\n",
              "      <th>Union</th>\n",
              "      <th>JF</th>\n",
              "      <th>Job</th>\n",
              "      <th>EI</th>\n",
              "      <th>Salaries</th>\n",
              "      <th>Overtime</th>\n",
              "      <th>H/D</th>\n",
              "      <th>YT</th>\n",
              "      <th>Total_Compensation</th>\n",
              "    </tr>\n",
              "  </thead>\n",
              "  <tbody>\n",
              "    <tr>\n",
              "      <th>0</th>\n",
              "      <td>2015</td>\n",
              "      <td>4</td>\n",
              "      <td>Community Health</td>\n",
              "      <td>DPH</td>\n",
              "      <td>Public Health</td>\n",
              "      <td>250</td>\n",
              "      <td>SEIU - Health Workers, Local 1021</td>\n",
              "      <td>Med Therapy &amp; Auxiliary</td>\n",
              "      <td>Morgue Attendant</td>\n",
              "      <td>6725</td>\n",
              "      <td>12196</td>\n",
              "      <td>0</td>\n",
              "      <td>0.00</td>\n",
              "      <td>Calendar</td>\n",
              "      <td>16158</td>\n",
              "    </tr>\n",
              "    <tr>\n",
              "      <th>1</th>\n",
              "      <td>2013</td>\n",
              "      <td>4</td>\n",
              "      <td>Community Health</td>\n",
              "      <td>DPH</td>\n",
              "      <td>Public Health</td>\n",
              "      <td>39</td>\n",
              "      <td>Stationary Engineers, Local 39</td>\n",
              "      <td>Journeyman Trade</td>\n",
              "      <td>Stationary Engineer</td>\n",
              "      <td>25058</td>\n",
              "      <td>74639</td>\n",
              "      <td>2820</td>\n",
              "      <td>12703.31</td>\n",
              "      <td>Fiscal</td>\n",
              "      <td>115784</td>\n",
              "    </tr>\n",
              "    <tr>\n",
              "      <th>2</th>\n",
              "      <td>2015</td>\n",
              "      <td>6</td>\n",
              "      <td>General Administration &amp; Finance</td>\n",
              "      <td>ASR</td>\n",
              "      <td>Assessor/Recorder</td>\n",
              "      <td>21</td>\n",
              "      <td>Prof &amp; Tech Engineers - Miscellaneous, Local 21</td>\n",
              "      <td>Appraisal &amp; Taxation</td>\n",
              "      <td>Senior Real Property Appraiser</td>\n",
              "      <td>46108</td>\n",
              "      <td>100554</td>\n",
              "      <td>0</td>\n",
              "      <td>12424.50</td>\n",
              "      <td>Calendar</td>\n",
              "      <td>144708</td>\n",
              "    </tr>\n",
              "    <tr>\n",
              "      <th>3</th>\n",
              "      <td>2016</td>\n",
              "      <td>1</td>\n",
              "      <td>Public Protection</td>\n",
              "      <td>POL</td>\n",
              "      <td>Police</td>\n",
              "      <td>911</td>\n",
              "      <td>Police Officers' Association</td>\n",
              "      <td>Police Services</td>\n",
              "      <td>Sergeant 3</td>\n",
              "      <td>33369</td>\n",
              "      <td>140164</td>\n",
              "      <td>52754</td>\n",
              "      <td>13043.87</td>\n",
              "      <td>Fiscal</td>\n",
              "      <td>242323</td>\n",
              "    </tr>\n",
              "    <tr>\n",
              "      <th>4</th>\n",
              "      <td>2013</td>\n",
              "      <td>2</td>\n",
              "      <td>Public Works, Transportation &amp; Commerce</td>\n",
              "      <td>HHP</td>\n",
              "      <td>PUC Hetch Hetchy</td>\n",
              "      <td>21</td>\n",
              "      <td>Prof &amp; Tech Engineers - Miscellaneous, Local 21</td>\n",
              "      <td>Information Systems</td>\n",
              "      <td>IS Engineer-Journey</td>\n",
              "      <td>28684</td>\n",
              "      <td>58813</td>\n",
              "      <td>0</td>\n",
              "      <td>7655.28</td>\n",
              "      <td>Calendar</td>\n",
              "      <td>82106</td>\n",
              "    </tr>\n",
              "  </tbody>\n",
              "</table>\n",
              "</div>\n",
              "      <button class=\"colab-df-convert\" onclick=\"convertToInteractive('df-6abbd48c-6c68-4ed5-b61d-cc81abb1a587')\"\n",
              "              title=\"Convert this dataframe to an interactive table.\"\n",
              "              style=\"display:none;\">\n",
              "        \n",
              "  <svg xmlns=\"http://www.w3.org/2000/svg\" height=\"24px\"viewBox=\"0 0 24 24\"\n",
              "       width=\"24px\">\n",
              "    <path d=\"M0 0h24v24H0V0z\" fill=\"none\"/>\n",
              "    <path d=\"M18.56 5.44l.94 2.06.94-2.06 2.06-.94-2.06-.94-.94-2.06-.94 2.06-2.06.94zm-11 1L8.5 8.5l.94-2.06 2.06-.94-2.06-.94L8.5 2.5l-.94 2.06-2.06.94zm10 10l.94 2.06.94-2.06 2.06-.94-2.06-.94-.94-2.06-.94 2.06-2.06.94z\"/><path d=\"M17.41 7.96l-1.37-1.37c-.4-.4-.92-.59-1.43-.59-.52 0-1.04.2-1.43.59L10.3 9.45l-7.72 7.72c-.78.78-.78 2.05 0 2.83L4 21.41c.39.39.9.59 1.41.59.51 0 1.02-.2 1.41-.59l7.78-7.78 2.81-2.81c.8-.78.8-2.07 0-2.86zM5.41 20L4 18.59l7.72-7.72 1.47 1.35L5.41 20z\"/>\n",
              "  </svg>\n",
              "      </button>\n",
              "      \n",
              "  <style>\n",
              "    .colab-df-container {\n",
              "      display:flex;\n",
              "      flex-wrap:wrap;\n",
              "      gap: 12px;\n",
              "    }\n",
              "\n",
              "    .colab-df-convert {\n",
              "      background-color: #E8F0FE;\n",
              "      border: none;\n",
              "      border-radius: 50%;\n",
              "      cursor: pointer;\n",
              "      display: none;\n",
              "      fill: #1967D2;\n",
              "      height: 32px;\n",
              "      padding: 0 0 0 0;\n",
              "      width: 32px;\n",
              "    }\n",
              "\n",
              "    .colab-df-convert:hover {\n",
              "      background-color: #E2EBFA;\n",
              "      box-shadow: 0px 1px 2px rgba(60, 64, 67, 0.3), 0px 1px 3px 1px rgba(60, 64, 67, 0.15);\n",
              "      fill: #174EA6;\n",
              "    }\n",
              "\n",
              "    [theme=dark] .colab-df-convert {\n",
              "      background-color: #3B4455;\n",
              "      fill: #D2E3FC;\n",
              "    }\n",
              "\n",
              "    [theme=dark] .colab-df-convert:hover {\n",
              "      background-color: #434B5C;\n",
              "      box-shadow: 0px 1px 3px 1px rgba(0, 0, 0, 0.15);\n",
              "      filter: drop-shadow(0px 1px 2px rgba(0, 0, 0, 0.3));\n",
              "      fill: #FFFFFF;\n",
              "    }\n",
              "  </style>\n",
              "\n",
              "      <script>\n",
              "        const buttonEl =\n",
              "          document.querySelector('#df-6abbd48c-6c68-4ed5-b61d-cc81abb1a587 button.colab-df-convert');\n",
              "        buttonEl.style.display =\n",
              "          google.colab.kernel.accessAllowed ? 'block' : 'none';\n",
              "\n",
              "        async function convertToInteractive(key) {\n",
              "          const element = document.querySelector('#df-6abbd48c-6c68-4ed5-b61d-cc81abb1a587');\n",
              "          const dataTable =\n",
              "            await google.colab.kernel.invokeFunction('convertToInteractive',\n",
              "                                                     [key], {});\n",
              "          if (!dataTable) return;\n",
              "\n",
              "          const docLinkHtml = 'Like what you see? Visit the ' +\n",
              "            '<a target=\"_blank\" href=https://colab.research.google.com/notebooks/data_table.ipynb>data table notebook</a>'\n",
              "            + ' to learn more about interactive tables.';\n",
              "          element.innerHTML = '';\n",
              "          dataTable['output_type'] = 'display_data';\n",
              "          await google.colab.output.renderOutput(dataTable, element);\n",
              "          const docLink = document.createElement('div');\n",
              "          docLink.innerHTML = docLinkHtml;\n",
              "          element.appendChild(docLink);\n",
              "        }\n",
              "      </script>\n",
              "    </div>\n",
              "  </div>\n",
              "  "
            ]
          },
          "metadata": {},
          "execution_count": 3
        }
      ]
    },
    {
      "cell_type": "code",
      "source": [
        "df.describe()"
      ],
      "metadata": {
        "colab": {
          "base_uri": "https://localhost:8080/",
          "height": 364
        },
        "id": "gNeHCoJldJf4",
        "outputId": "ce48c6c0-ba43-4b3a-aecf-8bd7b7d1a16f"
      },
      "execution_count": 4,
      "outputs": [
        {
          "output_type": "execute_result",
          "data": {
            "text/plain": [
              "                Year           OGC             UC             EI  \\\n",
              "count  197386.000000  197386.00000  197386.000000  197386.000000   \n",
              "mean     2014.249916       2.97703     490.515918   26919.345060   \n",
              "std         1.015216       1.57563     333.389981   15542.215979   \n",
              "min      2013.000000       1.00000       1.000000       1.000000   \n",
              "25%      2013.000000       2.00000     236.000000   13429.250000   \n",
              "50%      2014.000000       2.00000     535.000000   27034.500000   \n",
              "75%      2015.000000       4.00000     790.000000   40424.750000   \n",
              "max      2016.000000       7.00000     990.000000   53794.000000   \n",
              "\n",
              "            Salaries       Overtime            H/D  Total_Compensation  \n",
              "count  197386.000000  197386.000000  197386.000000       197386.000000  \n",
              "mean    63133.280435    4396.537475    8922.416270        97811.702831  \n",
              "std     44573.599443   11051.769994    4899.286159        67670.296460  \n",
              "min    -68771.000000  -12308.000000   -2940.470000       -74082.000000  \n",
              "25%     23205.000000       0.000000    4314.670000        35662.000000  \n",
              "50%     62468.000000       0.000000   11968.820000        97935.000000  \n",
              "75%     92884.750000    2741.000000   12801.790000       141990.500000  \n",
              "max    507831.000000  208668.000000   21872.800000       648875.000000  "
            ],
            "text/html": [
              "\n",
              "  <div id=\"df-dc3758cf-aad1-4630-b7d8-8f374371a43c\">\n",
              "    <div class=\"colab-df-container\">\n",
              "      <div>\n",
              "<style scoped>\n",
              "    .dataframe tbody tr th:only-of-type {\n",
              "        vertical-align: middle;\n",
              "    }\n",
              "\n",
              "    .dataframe tbody tr th {\n",
              "        vertical-align: top;\n",
              "    }\n",
              "\n",
              "    .dataframe thead th {\n",
              "        text-align: right;\n",
              "    }\n",
              "</style>\n",
              "<table border=\"1\" class=\"dataframe\">\n",
              "  <thead>\n",
              "    <tr style=\"text-align: right;\">\n",
              "      <th></th>\n",
              "      <th>Year</th>\n",
              "      <th>OGC</th>\n",
              "      <th>UC</th>\n",
              "      <th>EI</th>\n",
              "      <th>Salaries</th>\n",
              "      <th>Overtime</th>\n",
              "      <th>H/D</th>\n",
              "      <th>Total_Compensation</th>\n",
              "    </tr>\n",
              "  </thead>\n",
              "  <tbody>\n",
              "    <tr>\n",
              "      <th>count</th>\n",
              "      <td>197386.000000</td>\n",
              "      <td>197386.00000</td>\n",
              "      <td>197386.000000</td>\n",
              "      <td>197386.000000</td>\n",
              "      <td>197386.000000</td>\n",
              "      <td>197386.000000</td>\n",
              "      <td>197386.000000</td>\n",
              "      <td>197386.000000</td>\n",
              "    </tr>\n",
              "    <tr>\n",
              "      <th>mean</th>\n",
              "      <td>2014.249916</td>\n",
              "      <td>2.97703</td>\n",
              "      <td>490.515918</td>\n",
              "      <td>26919.345060</td>\n",
              "      <td>63133.280435</td>\n",
              "      <td>4396.537475</td>\n",
              "      <td>8922.416270</td>\n",
              "      <td>97811.702831</td>\n",
              "    </tr>\n",
              "    <tr>\n",
              "      <th>std</th>\n",
              "      <td>1.015216</td>\n",
              "      <td>1.57563</td>\n",
              "      <td>333.389981</td>\n",
              "      <td>15542.215979</td>\n",
              "      <td>44573.599443</td>\n",
              "      <td>11051.769994</td>\n",
              "      <td>4899.286159</td>\n",
              "      <td>67670.296460</td>\n",
              "    </tr>\n",
              "    <tr>\n",
              "      <th>min</th>\n",
              "      <td>2013.000000</td>\n",
              "      <td>1.00000</td>\n",
              "      <td>1.000000</td>\n",
              "      <td>1.000000</td>\n",
              "      <td>-68771.000000</td>\n",
              "      <td>-12308.000000</td>\n",
              "      <td>-2940.470000</td>\n",
              "      <td>-74082.000000</td>\n",
              "    </tr>\n",
              "    <tr>\n",
              "      <th>25%</th>\n",
              "      <td>2013.000000</td>\n",
              "      <td>2.00000</td>\n",
              "      <td>236.000000</td>\n",
              "      <td>13429.250000</td>\n",
              "      <td>23205.000000</td>\n",
              "      <td>0.000000</td>\n",
              "      <td>4314.670000</td>\n",
              "      <td>35662.000000</td>\n",
              "    </tr>\n",
              "    <tr>\n",
              "      <th>50%</th>\n",
              "      <td>2014.000000</td>\n",
              "      <td>2.00000</td>\n",
              "      <td>535.000000</td>\n",
              "      <td>27034.500000</td>\n",
              "      <td>62468.000000</td>\n",
              "      <td>0.000000</td>\n",
              "      <td>11968.820000</td>\n",
              "      <td>97935.000000</td>\n",
              "    </tr>\n",
              "    <tr>\n",
              "      <th>75%</th>\n",
              "      <td>2015.000000</td>\n",
              "      <td>4.00000</td>\n",
              "      <td>790.000000</td>\n",
              "      <td>40424.750000</td>\n",
              "      <td>92884.750000</td>\n",
              "      <td>2741.000000</td>\n",
              "      <td>12801.790000</td>\n",
              "      <td>141990.500000</td>\n",
              "    </tr>\n",
              "    <tr>\n",
              "      <th>max</th>\n",
              "      <td>2016.000000</td>\n",
              "      <td>7.00000</td>\n",
              "      <td>990.000000</td>\n",
              "      <td>53794.000000</td>\n",
              "      <td>507831.000000</td>\n",
              "      <td>208668.000000</td>\n",
              "      <td>21872.800000</td>\n",
              "      <td>648875.000000</td>\n",
              "    </tr>\n",
              "  </tbody>\n",
              "</table>\n",
              "</div>\n",
              "      <button class=\"colab-df-convert\" onclick=\"convertToInteractive('df-dc3758cf-aad1-4630-b7d8-8f374371a43c')\"\n",
              "              title=\"Convert this dataframe to an interactive table.\"\n",
              "              style=\"display:none;\">\n",
              "        \n",
              "  <svg xmlns=\"http://www.w3.org/2000/svg\" height=\"24px\"viewBox=\"0 0 24 24\"\n",
              "       width=\"24px\">\n",
              "    <path d=\"M0 0h24v24H0V0z\" fill=\"none\"/>\n",
              "    <path d=\"M18.56 5.44l.94 2.06.94-2.06 2.06-.94-2.06-.94-.94-2.06-.94 2.06-2.06.94zm-11 1L8.5 8.5l.94-2.06 2.06-.94-2.06-.94L8.5 2.5l-.94 2.06-2.06.94zm10 10l.94 2.06.94-2.06 2.06-.94-2.06-.94-.94-2.06-.94 2.06-2.06.94z\"/><path d=\"M17.41 7.96l-1.37-1.37c-.4-.4-.92-.59-1.43-.59-.52 0-1.04.2-1.43.59L10.3 9.45l-7.72 7.72c-.78.78-.78 2.05 0 2.83L4 21.41c.39.39.9.59 1.41.59.51 0 1.02-.2 1.41-.59l7.78-7.78 2.81-2.81c.8-.78.8-2.07 0-2.86zM5.41 20L4 18.59l7.72-7.72 1.47 1.35L5.41 20z\"/>\n",
              "  </svg>\n",
              "      </button>\n",
              "      \n",
              "  <style>\n",
              "    .colab-df-container {\n",
              "      display:flex;\n",
              "      flex-wrap:wrap;\n",
              "      gap: 12px;\n",
              "    }\n",
              "\n",
              "    .colab-df-convert {\n",
              "      background-color: #E8F0FE;\n",
              "      border: none;\n",
              "      border-radius: 50%;\n",
              "      cursor: pointer;\n",
              "      display: none;\n",
              "      fill: #1967D2;\n",
              "      height: 32px;\n",
              "      padding: 0 0 0 0;\n",
              "      width: 32px;\n",
              "    }\n",
              "\n",
              "    .colab-df-convert:hover {\n",
              "      background-color: #E2EBFA;\n",
              "      box-shadow: 0px 1px 2px rgba(60, 64, 67, 0.3), 0px 1px 3px 1px rgba(60, 64, 67, 0.15);\n",
              "      fill: #174EA6;\n",
              "    }\n",
              "\n",
              "    [theme=dark] .colab-df-convert {\n",
              "      background-color: #3B4455;\n",
              "      fill: #D2E3FC;\n",
              "    }\n",
              "\n",
              "    [theme=dark] .colab-df-convert:hover {\n",
              "      background-color: #434B5C;\n",
              "      box-shadow: 0px 1px 3px 1px rgba(0, 0, 0, 0.15);\n",
              "      filter: drop-shadow(0px 1px 2px rgba(0, 0, 0, 0.3));\n",
              "      fill: #FFFFFF;\n",
              "    }\n",
              "  </style>\n",
              "\n",
              "      <script>\n",
              "        const buttonEl =\n",
              "          document.querySelector('#df-dc3758cf-aad1-4630-b7d8-8f374371a43c button.colab-df-convert');\n",
              "        buttonEl.style.display =\n",
              "          google.colab.kernel.accessAllowed ? 'block' : 'none';\n",
              "\n",
              "        async function convertToInteractive(key) {\n",
              "          const element = document.querySelector('#df-dc3758cf-aad1-4630-b7d8-8f374371a43c');\n",
              "          const dataTable =\n",
              "            await google.colab.kernel.invokeFunction('convertToInteractive',\n",
              "                                                     [key], {});\n",
              "          if (!dataTable) return;\n",
              "\n",
              "          const docLinkHtml = 'Like what you see? Visit the ' +\n",
              "            '<a target=\"_blank\" href=https://colab.research.google.com/notebooks/data_table.ipynb>data table notebook</a>'\n",
              "            + ' to learn more about interactive tables.';\n",
              "          element.innerHTML = '';\n",
              "          dataTable['output_type'] = 'display_data';\n",
              "          await google.colab.output.renderOutput(dataTable, element);\n",
              "          const docLink = document.createElement('div');\n",
              "          docLink.innerHTML = docLinkHtml;\n",
              "          element.appendChild(docLink);\n",
              "        }\n",
              "      </script>\n",
              "    </div>\n",
              "  </div>\n",
              "  "
            ]
          },
          "metadata": {},
          "execution_count": 4
        }
      ]
    },
    {
      "cell_type": "code",
      "source": [
        "df.info()"
      ],
      "metadata": {
        "colab": {
          "base_uri": "https://localhost:8080/"
        },
        "id": "KqeBLDVTdhDJ",
        "outputId": "2f0c2aa6-ebdc-4028-9d4c-d1e26a6dd279"
      },
      "execution_count": 5,
      "outputs": [
        {
          "output_type": "stream",
          "name": "stdout",
          "text": [
            "<class 'pandas.core.frame.DataFrame'>\n",
            "RangeIndex: 197386 entries, 0 to 197385\n",
            "Data columns (total 15 columns):\n",
            " #   Column              Non-Null Count   Dtype  \n",
            "---  ------              --------------   -----  \n",
            " 0   Year                197386 non-null  int64  \n",
            " 1   OGC                 197386 non-null  int64  \n",
            " 2   OG                  197386 non-null  object \n",
            " 3   DC                  197386 non-null  object \n",
            " 4   Dept                197386 non-null  object \n",
            " 5   UC                  197386 non-null  int64  \n",
            " 6   Union               197359 non-null  object \n",
            " 7   JF                  197358 non-null  object \n",
            " 8   Job                 197386 non-null  object \n",
            " 9   EI                  197386 non-null  int64  \n",
            " 10  Salaries            197386 non-null  int64  \n",
            " 11  Overtime            197386 non-null  int64  \n",
            " 12  H/D                 197386 non-null  float64\n",
            " 13  YT                  197386 non-null  object \n",
            " 14  Total_Compensation  197386 non-null  int64  \n",
            "dtypes: float64(1), int64(7), object(7)\n",
            "memory usage: 22.6+ MB\n"
          ]
        }
      ]
    },
    {
      "cell_type": "code",
      "source": [
        "df.columns"
      ],
      "metadata": {
        "colab": {
          "base_uri": "https://localhost:8080/"
        },
        "id": "Q_L3-hl1dkUU",
        "outputId": "47e3fa17-8a37-495b-eec4-1bb8247eadd0"
      },
      "execution_count": 6,
      "outputs": [
        {
          "output_type": "execute_result",
          "data": {
            "text/plain": [
              "Index(['Year', 'OGC', 'OG', 'DC', 'Dept', 'UC', 'Union', 'JF', 'Job', 'EI',\n",
              "       'Salaries', 'Overtime', 'H/D', 'YT', 'Total_Compensation'],\n",
              "      dtype='object')"
            ]
          },
          "metadata": {},
          "execution_count": 6
        }
      ]
    },
    {
      "cell_type": "code",
      "source": [
        "df1=df.drop(['Year', 'OGC', 'OG', 'DC', 'Dept', 'UC', 'Union', 'JF', 'Job', 'EI','H/D', 'YT'],axis=1)"
      ],
      "metadata": {
        "id": "hVUCGotldoUk"
      },
      "execution_count": 9,
      "outputs": []
    },
    {
      "cell_type": "code",
      "source": [
        "df1.isnull().sum()"
      ],
      "metadata": {
        "colab": {
          "base_uri": "https://localhost:8080/"
        },
        "id": "eSE-7zEVdz5h",
        "outputId": "419d6b70-9708-4f86-af5d-11f1c7596e4b"
      },
      "execution_count": 10,
      "outputs": [
        {
          "output_type": "execute_result",
          "data": {
            "text/plain": [
              "Salaries              0\n",
              "Overtime              0\n",
              "Total_Compensation    0\n",
              "dtype: int64"
            ]
          },
          "metadata": {},
          "execution_count": 10
        }
      ]
    },
    {
      "cell_type": "code",
      "source": [
        "plt.figure(figsize=(10,5))\n",
        "sns.pairplot(df1, x_vars = ['Salaries', 'Overtime'])"
      ],
      "metadata": {
        "colab": {
          "base_uri": "https://localhost:8080/",
          "height": 587
        },
        "id": "OhD3YxNGd6YC",
        "outputId": "dbde4223-30f8-4c55-c9e2-8337a34a05ba"
      },
      "execution_count": 12,
      "outputs": [
        {
          "output_type": "execute_result",
          "data": {
            "text/plain": [
              "<seaborn.axisgrid.PairGrid at 0x7f7127408d10>"
            ]
          },
          "metadata": {},
          "execution_count": 12
        },
        {
          "output_type": "display_data",
          "data": {
            "text/plain": [
              "<Figure size 720x360 with 0 Axes>"
            ]
          },
          "metadata": {}
        },
        {
          "output_type": "display_data",
          "data": {
            "text/plain": [
              "<Figure size 360x540 with 8 Axes>"
            ],
            "image/png": "[encoded data removed]"
          },
          "metadata": {
            "needs_background": "light"
          }
        }
      ]
    },
    {
      "cell_type": "code",
      "source": [
        "sns.heatmap(df1.corr(), annot = True)\n",
        "plt.show()"
      ],
      "metadata": {
        "colab": {
          "base_uri": "https://localhost:8080/",
          "height": 270
        },
        "id": "xr6nfUB4edQU",
        "outputId": "cc633d14-c430-4481-8b21-06a5e45d9fae"
      },
      "execution_count": 13,
      "outputs": [
        {
          "output_type": "display_data",
          "data": {
            "text/plain": [
              "<Figure size 432x288 with 2 Axes>"
            ],
            "image/png": "[encoded data removed]"
          },
          "metadata": {
            "needs_background": "light"
          }
        }
      ]
    },
    {
      "cell_type": "code",
      "source": [
        "from sklearn.linear_model import LinearRegression\n",
        "from sklearn.model_selection import train_test_split\n",
        "X = df1.drop('Total_Compensation', axis = 1)\n",
        "Y = df1['Total_Compensation']\n",
        "X_train, X_test, Y_train, Y_test = train_test_split(X, Y, test_size = 0.3, random_state =10)"
      ],
      "metadata": {
        "id": "IKe7FhFlejHi"
      },
      "execution_count": 14,
      "outputs": []
    },
    {
      "cell_type": "code",
      "source": [
        "lr=LinearRegression()"
      ],
      "metadata": {
        "id": "Zq1H_R5tepSK"
      },
      "execution_count": 15,
      "outputs": []
    },
    {
      "cell_type": "code",
      "source": [
        "import statsmodels.api as sm"
      ],
      "metadata": {
        "colab": {
          "base_uri": "https://localhost:8080/"
        },
        "id": "l2_7Ppqeert7",
        "outputId": "ece38fe9-af2e-409e-af7f-6da5dc18976f"
      },
      "execution_count": 16,
      "outputs": [
        {
          "output_type": "stream",
          "name": "stderr",
          "text": [
            "/usr/local/lib/python3.7/dist-packages/statsmodels/tools/_testing.py:19: FutureWarning: pandas.util.testing is deprecated. Use the functions in the public API at pandas.testing instead.\n",
            "  import pandas.util.testing as tm\n"
          ]
        }
      ]
    },
    {
      "cell_type": "code",
      "source": [
        "X_train_sm = sm.add_constant(X_train)\n",
        "lr = sm.OLS(Y_train, X_train_sm).fit()"
      ],
      "metadata": {
        "colab": {
          "base_uri": "https://localhost:8080/"
        },
        "id": "fsFOoCigevvk",
        "outputId": "70d5ab8d-a52d-4851-eb91-cb56cdbf761d"
      },
      "execution_count": 17,
      "outputs": [
        {
          "output_type": "stream",
          "name": "stderr",
          "text": [
            "/usr/local/lib/python3.7/dist-packages/statsmodels/tsa/tsatools.py:117: FutureWarning: In a future version of pandas all arguments of concat except for the argument 'objs' will be keyword-only\n",
            "  x = pd.concat(x[::order], 1)\n"
          ]
        }
      ]
    },
    {
      "cell_type": "code",
      "source": [
        "print(lr.summary())"
      ],
      "metadata": {
        "colab": {
          "base_uri": "https://localhost:8080/"
        },
        "id": "SYDlFuiEexXT",
        "outputId": "7410ce53-11a6-4c98-d7ce-31cb680abedd"
      },
      "execution_count": 18,
      "outputs": [
        {
          "output_type": "stream",
          "name": "stdout",
          "text": [
            "                            OLS Regression Results                            \n",
            "==============================================================================\n",
            "Dep. Variable:     Total_Compensation   R-squared:                       0.985\n",
            "Model:                            OLS   Adj. R-squared:                  0.985\n",
            "Method:                 Least Squares   F-statistic:                 4.400e+06\n",
            "Date:                Mon, 25 Jul 2022   Prob (F-statistic):               0.00\n",
            "Time:                        08:30:59   Log-Likelihood:            -1.4448e+06\n",
            "No. Observations:              138170   AIC:                         2.890e+06\n",
            "Df Residuals:                  138167   BIC:                         2.890e+06\n",
            "Df Model:                           2                                         \n",
            "Covariance Type:            nonrobust                                         \n",
            "==============================================================================\n",
            "                 coef    std err          t      P>|t|      [0.025      0.975]\n",
            "------------------------------------------------------------------------------\n",
            "const       4427.4735     39.223    112.880      0.000    4350.597    4504.350\n",
            "Salaries       1.3921      0.001   2637.558      0.000       1.391       1.393\n",
            "Overtime       1.2518      0.002    588.156      0.000       1.248       1.256\n",
            "==============================================================================\n",
            "Omnibus:                   134146.424   Durbin-Watson:                   2.000\n",
            "Prob(Omnibus):                  0.000   Jarque-Bera (JB):         29353543.732\n",
            "Skew:                           4.209   Prob(JB):                         0.00\n",
            "Kurtosis:                      73.907   Cond. No.                     1.34e+05\n",
            "==============================================================================\n",
            "\n",
            "Warnings:\n",
            "[1] Standard Errors assume that the covariance matrix of the errors is correctly specified.\n",
            "[2] The condition number is large, 1.34e+05. This might indicate that there are\n",
            "strong multicollinearity or other numerical problems.\n"
          ]
        }
      ]
    },
    {
      "cell_type": "code",
      "source": [
        "lr.params"
      ],
      "metadata": {
        "colab": {
          "base_uri": "https://localhost:8080/"
        },
        "id": "jgsRcx4Oe4qE",
        "outputId": "902264fe-9c9b-4f68-f873-9ee182bafcf5"
      },
      "execution_count": 19,
      "outputs": [
        {
          "output_type": "execute_result",
          "data": {
            "text/plain": [
              "const       4427.473515\n",
              "Salaries       1.392093\n",
              "Overtime       1.251844\n",
              "dtype: float64"
            ]
          },
          "metadata": {},
          "execution_count": 19
        }
      ]
    },
    {
      "cell_type": "code",
      "source": [
        "X_train_1=X_train.iloc[:,:1]\n",
        "plt.scatter(X_train_1, Y_train)\n",
        "plt.plot(X_train_1, 4418.218949 + 1.392334*X_train_1, 'r')\n",
        "plt.show()"
      ],
      "metadata": {
        "colab": {
          "base_uri": "https://localhost:8080/",
          "height": 265
        },
        "id": "0cCnGWXWe6es",
        "outputId": "dc808070-a917-4983-cf65-175330af541f"
      },
      "execution_count": 20,
      "outputs": [
        {
          "output_type": "display_data",
          "data": {
            "text/plain": [
              "<Figure size 432x288 with 1 Axes>"
            ],
            "image/png": "[encoded data removed]"
          },
          "metadata": {
            "needs_background": "light"
          }
        }
      ]
    },
    {
      "cell_type": "code",
      "source": [
        "X_train_2=X_train.iloc[:,-1:]\n",
        "plt.scatter(X_train_2, Y_train)\n",
        "plt.plot(X_train_2, 4418.218949 + 1.248357*X_train_2, 'r')\n",
        "plt.show()"
      ],
      "metadata": {
        "colab": {
          "base_uri": "https://localhost:8080/",
          "height": 265
        },
        "id": "B_gVQzqVfDd-",
        "outputId": "2732ec78-e256-4848-d74e-f42eba66b3c4"
      },
      "execution_count": 21,
      "outputs": [
        {
          "output_type": "display_data",
          "data": {
            "text/plain": [
              "<Figure size 432x288 with 1 Axes>"
            ],
            "image/png": "[encoded data removed]"
          },
          "metadata": {
            "needs_background": "light"
          }
        }
      ]
    }
  ]
}
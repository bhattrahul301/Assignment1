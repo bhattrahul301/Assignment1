{
  "nbformat": 4,
  "nbformat_minor": 0,
  "metadata": {
    "colab": {
      "name": "Assignment1numpy.ipynb",
      "provenance": [],
      "collapsed_sections": [],
      "authorship_tag": "ABX9TyMqK/KYkalW06o97AROVhVb",
      "include_colab_link": true
    },
    "kernelspec": {
      "name": "python3",
      "display_name": "Python 3"
    },
    "language_info": {
      "name": "python"
    }
  },
  "cells": [
    {
      "cell_type": "markdown",
      "metadata": {
        "id": "view-in-github",
        "colab_type": "text"
      },
      "source": [
        "<a href=\"https://colab.research.google.com/github/bhattrahul301/Assignment1/blob/main/Assignment1numpy.ipynb\" target=\"_parent\"><img src=\"https://colab.research.google.com/assets/colab-badge.svg\" alt=\"Open In Colab\"/></a>"
      ]
    },
    {
      "cell_type": "code",
      "execution_count": null,
      "metadata": {
        "colab": {
          "base_uri": "https://localhost:8080/"
        },
        "id": "xscWQAfxR7y4",
        "outputId": "6d82ab52-ef85-4faa-8254-3985bd65b31a"
      },
      "outputs": [
        {
          "output_type": "stream",
          "name": "stdout",
          "text": [
            "[0. 0. 0. 0. 1. 0. 0. 0. 0. 0.]\n",
            "The size of the vector is : \n",
            " 10\n"
          ]
        }
      ],
      "source": [
        "# Create a null vector of size 10 but the fifth value which is 1.\n",
        "\n",
        "import numpy as np\n",
        "\n",
        "vector=np.zeros(10)\n",
        "vector[4]=1\n",
        "print(vector)\n",
        "\n",
        "size=vector.size\n",
        "print(\"The size of the vector is :\",\"\\n\",size)"
      ]
    },
    {
      "cell_type": "code",
      "source": [
        "# Create a vector with values ranging from 10 to 49.\n",
        "import numpy as np\n",
        "vector = np.arange(10,50)\n",
        "vector"
      ],
      "metadata": {
        "colab": {
          "base_uri": "https://localhost:8080/"
        },
        "id": "QnHr4SS-T-sH",
        "outputId": "7a714666-8c86-425d-f8bb-e26a28f81555"
      },
      "execution_count": 7,
      "outputs": [
        {
          "output_type": "execute_result",
          "data": {
            "text/plain": [
              "array([10, 11, 12, 13, 14, 15, 16, 17, 18, 19, 20, 21, 22, 23, 24, 25, 26,\n",
              "       27, 28, 29, 30, 31, 32, 33, 34, 35, 36, 37, 38, 39, 40, 41, 42, 43,\n",
              "       44, 45, 46, 47, 48, 49])"
            ]
          },
          "metadata": {},
          "execution_count": 7
        }
      ]
    },
    {
      "cell_type": "code",
      "source": [
        "# Create a 3x3 matrix with values ranging from 0 to 8\n",
        "\n",
        "import numpy as np\n",
        "\n",
        "matrix=np.arange(0,9).reshape(3,3)\n",
        "print(\"The 3x3 matrix with values ranging from 0 to 8:\",\"\\n\",matrix)"
      ],
      "metadata": {
        "id": "piurPgNwTog9",
        "colab": {
          "base_uri": "https://localhost:8080/"
        },
        "outputId": "ddb00c5a-6372-43bc-f453-4232c9cc15a6"
      },
      "execution_count": 12,
      "outputs": [
        {
          "output_type": "stream",
          "name": "stdout",
          "text": [
            "The 3x3 matrix with values ranging from 0 to 8: \n",
            " [[0 1 2]\n",
            " [3 4 5]\n",
            " [6 7 8]]\n"
          ]
        }
      ]
    },
    {
      "cell_type": "code",
      "source": [
        "# Find indices of non-zero elements from [1,2,0,0,4,0]\n",
        "import numpy as np\n",
        "\n",
        "Indices=np.array([1,2,0,0,4,0])\n",
        "print(\"The original array is :\",\"\\n\", Indices)\n",
        "\n",
        "print(\"\\nIndices of Non=Zero elements:\")\n",
        "Indices1 = np.nonzero(Indices == 0)\n",
        "print(Indices1)"
      ],
      "metadata": {
        "colab": {
          "base_uri": "https://localhost:8080/"
        },
        "id": "Z0ubklPNVLrz",
        "outputId": "0458bcaf-76cc-4ed3-9243-5de434982615"
      },
      "execution_count": 17,
      "outputs": [
        {
          "output_type": "stream",
          "name": "stdout",
          "text": [
            "The original array is : \n",
            " [1 2 0 0 4 0]\n",
            "\n",
            "Indices of Non=Zero elements:\n",
            "(array([2, 3, 5]),)\n"
          ]
        }
      ]
    },
    {
      "cell_type": "code",
      "source": [
        "# Create a 10x10 array with random values and find the minimum and maximum values.\n",
        "\n",
        "import numpy as np\n",
        "\n",
        "array=np.random.rand(10,10)\n",
        "print(array)\n",
        "\n",
        "arraymin, arraymax = array.min(), array.max()\n",
        "print(\"\\nThe Minimum value in array is:\",\"\\n\",arraymin)\n",
        "print(\"The Maximum value in array is:\",\"\\n\",arraymax)\n",
        "\n"
      ],
      "metadata": {
        "colab": {
          "base_uri": "https://localhost:8080/"
        },
        "id": "ODP2AdldWuGS",
        "outputId": "ab2af51d-c083-4cac-af64-25ed6611794a"
      },
      "execution_count": 21,
      "outputs": [
        {
          "output_type": "stream",
          "name": "stdout",
          "text": [
            "[[0.4063157  0.55894821 0.17683269 0.048259   0.64186618 0.81581241\n",
            "  0.4512146  0.70946263 0.55719668 0.83863966]\n",
            " [0.31650943 0.48105237 0.57829529 0.45950131 0.88720127 0.60940068\n",
            "  0.69645809 0.36360105 0.39817251 0.32808808]\n",
            " [0.08478706 0.65916248 0.30465187 0.48283689 0.00920786 0.01852388\n",
            "  0.47238878 0.77707948 0.83568197 0.83255336]\n",
            " [0.11874199 0.03659582 0.88874283 0.58998186 0.3943061  0.22367911\n",
            "  0.73163578 0.30133475 0.01227272 0.99660751]\n",
            " [0.67053626 0.7644734  0.3501398  0.53887154 0.08981619 0.30986235\n",
            "  0.04932436 0.89013766 0.83432009 0.03815161]\n",
            " [0.65592078 0.47056916 0.16734201 0.97728271 0.2407775  0.17273449\n",
            "  0.2065506  0.66315904 0.8220683  0.36656565]\n",
            " [0.97925516 0.09862273 0.47958221 0.70291677 0.64462222 0.79655939\n",
            "  0.02793545 0.88170899 0.39432577 0.80498885]\n",
            " [0.04535062 0.68032787 0.0917065  0.6690394  0.20805194 0.09060362\n",
            "  0.6791114  0.63330441 0.60495966 0.92187158]\n",
            " [0.05974092 0.76532244 0.52799487 0.01743049 0.46611343 0.74671732\n",
            "  0.04526308 0.76452728 0.95568621 0.79128297]\n",
            " [0.41025    0.31530791 0.87855379 0.73072575 0.90668063 0.3245471\n",
            "  0.5804678  0.00169812 0.91008949 0.79909137]]\n",
            "\n",
            "The Minimum value in array is: \n",
            " 0.0016981202241325155\n",
            "The Maximum value in array is: \n",
            " 0.9966075068629832\n"
          ]
        }
      ]
    },
    {
      "cell_type": "code",
      "source": [
        "# Create a random vector of size 30 and find the mean value.\n",
        "\n",
        "import numpy as np\n",
        "\n",
        "vector=np.random.rand(30)\n",
        "print(\"\\n The random vector of size 30 is :\",\"\\n\", vector)\n",
        "\n",
        "vector1=vector.mean()\n",
        "print(\"\\nThe Mean value of the randon vector is:\",\"\\n\", vector1)"
      ],
      "metadata": {
        "colab": {
          "base_uri": "https://localhost:8080/"
        },
        "id": "T1yJu1u3Yg6V",
        "outputId": "29aad3bb-5eee-4e46-a98d-0119674a8bb4"
      },
      "execution_count": 25,
      "outputs": [
        {
          "output_type": "stream",
          "name": "stdout",
          "text": [
            "\n",
            " The random vector of size 30 is : \n",
            " [0.37515305 0.33572195 0.12108435 0.33868985 0.12747864 0.72273299\n",
            " 0.70280273 0.76622622 0.36215319 0.21960046 0.38200807 0.48118245\n",
            " 0.94516409 0.03418625 0.18596339 0.44468789 0.3513205  0.98825541\n",
            " 0.09901545 0.70960704 0.56186171 0.75694572 0.17528259 0.55078162\n",
            " 0.59513585 0.98251409 0.283743   0.26219394 0.90786198 0.35618564]\n",
            "\n",
            "The Mean value of the randon vector is: \n",
            " 0.4708513368012346\n"
          ]
        }
      ]
    }
  ]
}